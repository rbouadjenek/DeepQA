{
 "cells": [
  {
   "cell_type": "code",
   "execution_count": 6,
   "metadata": {},
   "outputs": [],
   "source": [
    "# ++++++++++++++++++++++++++++++++++++++++++++++++++++++++++++++++++++++++++++++\n",
    "#  Copyright (c) 2020. Reda Bouadjenek, Deakin University                      +\n",
    "#     Email:  reda.bouadjenek@deakin.edu.au                                    +\n",
    "#                                                                              +\n",
    "#  Licensed under the Apache License, Version 2.0 (the \"License\");             +\n",
    "#   you may not use this file except in compliance with the License.           +\n",
    "#    You may obtain a copy of the License at:                                  +\n",
    "#                                                                              +\n",
    "#                 http://www.apache.org/licenses/LICENSE-2.0                   +\n",
    "#                                                                              +\n",
    "#    Unless required by applicable law or agreed to in writing, software       +\n",
    "#    distributed under the License is distributed on an \"AS IS\" BASIS,         +\n",
    "#    WITHOUT WARRANTIES OR CONDITIONS OF ANY KIND, either express or implied.  +\n",
    "#    See the License for the specific language governing permissions and       +\n",
    "#    limitations under the License.                                            +\n",
    "#                                                                              +\n",
    "# ++++++++++++++++++++++++++++++++++++++++++++++++++++++++++++++++++++++++++++++\n",
    "from gurobipy import *\n",
    "import matplotlib.pyplot as plt\n",
    "import json\n",
    "from tqdm import tqdm\n",
    "import numpy as np\n",
    "import time\n",
    "from scipy import stats\n",
    "import pandas as pd\n",
    "import itertools,operator\n"
   ]
  },
  {
   "cell_type": "markdown",
   "metadata": {
    "collapsed": true
   },
   "source": [
    "# Optimizing <i>expected</i> F1-Score using Linear Programming"
   ]
  },
  {
   "cell_type": "markdown",
   "metadata": {},
   "source": [
    "## Motivation\n",
    "We will argue that (expected) F1-Score of a substring is the only standard criteria that balances all of substring desiderata and is hence objective we should optimize.\n",
    "\n",
    "To proceed with the formal derivation, we adopt the Boolean relevance framework in information retrieval and thus assume that a token $j$ has a ground truth relevance assessment $B(j)$ available at <i>evaluation time</i>.\n",
    "\n",
    "\n",
    "Because selecting a substring implies a Boolean selection model (a substring either contains or do not contain tokens) and we have a probabilistic estimate of relevance $P(j)$ for each token, we propose to evaluate\n",
    "<i>expected</i> variants of standard precision, recall, and F1-score of these substrings.\n",
    "\n",
    "\n",
    "However, as standard for both precision and recall, we note that precision and recall alone can be trivially optimized by undesired solutions.  That is, the substring that selects all tokens would trivially maximize (expected) recall.  Similarly, the substring that selects the highest probability singleton token would maximize expected precision.  <i>This leaves expected F1-score as the only of these three objectives commonly used in Boolean information retrieval that does not have an undesired solution</i>.\n"
   ]
  },
  {
   "cell_type": "markdown",
   "metadata": {},
   "source": [
    "## Deriving Expected F1-Score (EF1)\n",
    "\n",
    "\n",
    "To formally define expected F1-Score, we first begin with definitions of expected precision and recall.  Given a substring $S_{sub}$  of a string $S$ ($|S|=m$), the precision of $S_{sub}$ is defined as follows:\n",
    "\\begin{equation}\n",
    "   P(S_{sub}) = \\dfrac{\\sum_{j \\in S_{sub}} B(j)}{|S_{sub}|} = \\dfrac{\\sum_{j=1}^m B(j)I(j)}{\\sum_{j=1}^m I(j)} \n",
    "\\end{equation}\n",
    "\n",
    "where the two variables  $I(j) \\in \\{0,1\\}$ and $B(j) \\in \\{0,1\\}$ are associated with each token $j$ of $S$: \n",
    "\n",
    "- $I(j)$ is an indicator referring to whether a token $j$ is part of $S_{sub}$ ($\\textrm{true}\\!=\\!1$); \n",
    "- $B(j)$ is a Boolean random variable indicating the (ground truth) relevance of a tokan $j$ ($\\textrm{relevant}\\!=\\!1$).\n",
    "\n",
    "\n",
    "Given that $B(j)$ is a Boolean random variable, we can take the expectation of $P(S_{sub})$ leading to the following definition of <i>expected precision</i> $EP(S_{sub})$: \n",
    "\n",
    "\\begin{equation}\n",
    "EP(S_{sub})=\\mathbb{E_{P}}\\left[\\dfrac{{ \\sum_{j=1}^{m}}B(j)I(j)}{{ \\sum_{j=1}^{m}}I(j)}\\right]=\\dfrac{{ \\sum_{j=1}^{m}}\\mathbb{E_{S}}[B(j)]I(j)}{{ \\sum_{j=1}^{m}}I(j)}=\\dfrac{{ \\sum_{j=1}^{m}}P(j)I(j)}{{ \\sum_{j=1}^{m}}I(j)}\n",
    "\\end{equation}\n",
    "\n",
    "where the variable $P(j) \\in [0,1]$ is the <i>probability</i> relevance of a token $j$.\n",
    "\n",
    "\n",
    "Similarly the recall of a substring $R(S_{sub})$ is defined as:\n",
    "\n",
    "\\begin{equation}\n",
    "   R(S_{sub}) = \\dfrac{\\sum_{j \\in S_{sub}} B(j)}{\\sum_{j \\in S} B(j)} = \\dfrac{\\sum_{j=1}^m B(j)I(j)}{ \\sum_{j=1}^m B(j)} \n",
    "\\end{equation}\n",
    "\n",
    "\n",
    "Taking a 1st order Taylor expansion, we have the following expectation approximation \n",
    "$\\mathbb{E}(X/Y)\\approx \\mathbb{E}(X)/ \\mathbb{E}(Y)$ for two dependent random variables $X$ and $Y$. Hence, we can now define an <i>approximated expected recall</i> as follows: \n",
    "\n",
    "\\begin{equation}\n",
    "   ER(S_{sub})=\\mathbb{E_{P}}\\left[\\dfrac{{ \\sum_{j=1}^{m}}B(j)I(j)}{\\sum_{j=1}^m B(j)}\\right]\\approx\\dfrac{{ \\sum_{j=1}^{m}}\\mathbb{E_{P}}[B(j)]I(j)}{{ \\sum_{j=1}^{m}}\\mathbb{E_{P}}[B(j)]}=\\dfrac{{ \\sum_{j=1}^{m}}P(j)I(j)}{{ \\sum_{j=1}^{m}}P(j)}\n",
    "\\end{equation}\n",
    "\n",
    "\n",
    "Finally, we define the <i>approximated expected F1-Scor</i> (EF1) using the <i>expected precision</i> and the <i>approximated expected recall</i> as follows: \n",
    "\\begin{align}\n",
    "    EF1(E)  \\approx \\dfrac{2\\times EP\\times ER}{EP+ER} = \\dfrac{2\\times\\sum_{j=1}^m P(j)I(j)}{\\sum_{j=1}^m I(j) + \\sum_{j=1}^m P(j)}\n",
    "    \\label{eq:EF1}\n",
    "\\end{align}\n"
   ]
  },
  {
   "cell_type": "markdown",
   "metadata": {},
   "source": [
    "## Fractional MILP Formulation\n"
   ]
  },
  {
   "cell_type": "markdown",
   "metadata": {},
   "source": [
    "We begin by reformulating the <b><i>Expected</i> F1-score (EF1)</b> objective to prepare for further optimization steps by replacing the global sum of scores of all tokens with a constant $C = \\sum_{j=1}^m P(j)$:\n",
    "\\begin{equation}\n",
    "\\begin{aligned}\n",
    "    EF1 &= \\dfrac{2\\times \\sum_{j=1}^m P(j)I(j)}{\\sum_{j=1}^m I(j) + \\sum_{j=1}^m P(j)} = \\dfrac{2 \\times \\sum_{j=1}^m P(j)I(j)}{\\sum_{j=1}^m I(j) + C}\n",
    "\\end{aligned}\n",
    "\\end{equation}\n",
    "\n",
    "\n",
    "\n",
    "\n",
    "\n",
    "In order to obtain the substring with the obtimal <b><i>Expected</i> F1-score</b>, we define the following fractional MILP:\n",
    "\n",
    "\\begin{equation}\n",
    "\\begin{aligned}\n",
    "& \\underset{I(j)}{\\text{maximize}}\n",
    "& & \\dfrac{\\sum_{j=1}^m P(j)I(j)}{\\sum_{j=1}^m I(j) + C} \\\\\n",
    "& s.t\n",
    "& & \\text{# Interval selection contraints.} \\\\\n",
    "& & & 1 <=  s <= e <= m \\\\\n",
    "& & & I(j) =\n",
    "   \\begin{cases}\n",
    "     1, & \\text{if $(s \\leqslant j \\leqslant e)$}  \\\\\n",
    "     0, & \\text{otherwise}\n",
    "  \\end{cases}\n",
    "\\end{aligned} \n",
    "\\end{equation}"
   ]
  },
  {
   "cell_type": "markdown",
   "metadata": {},
   "source": [
    "## Transformation to a MILP"
   ]
  },
  {
   "cell_type": "markdown",
   "metadata": {},
   "source": [
    "While there are no direct solvers for fractional MILPs, we can transform the former equation into a pure MILP form for which we have efficient and optimal solvers.  To do this, we use the Charnes-Cooper method and Glover linearization method with big-M constraints, where auxiliary variables $w(j)$ and $u$ are  introduced*. Here, $w(j)$ is defined as $w(j)=I(j)\\times u$ with $u$ defined as follows:\n",
    "\\begin{equation}\n",
    "u = \\dfrac{1}{\\sum_{j=1}^m I(j) + C}\n",
    "\\end{equation}\n",
    "\n",
    "Then, the EF1 optimization problem is able to be transformed into the following MILP problem:\n",
    "\\begin{equation}\n",
    "\\begin{aligned}\n",
    "& \\underset{w,u,I,s,e}{\\text{maximize}}\n",
    "& & \\sum_{j=1}^m P(j)w(j) \\\\\n",
    "& s.t\n",
    "& & \\sum_{j=1}^m w(j) + uC = 1 \\\\\n",
    "& & & w(j) \\leqslant u, \\quad w(j) \\leqslant M\\times I(j)  \\\\\n",
    "& & & w(j) \\geqslant u - M\\times [1-I(j)] \\\\\n",
    "& & & u > 0,  \\quad I(j) \\in \\{0, 1\\}, \\quad w(j) \\geqslant 0 \\\\\n",
    "& & & \\text{# Interval selection contraints.} \\\\\n",
    "& & & 1 <=  s <= e <= m \\\\\n",
    "& & & I(j) =\n",
    "   \\begin{cases}\n",
    "     1, & \\text{if $(s \\leqslant j \\leqslant e)$}  \\\\\n",
    "     0, & \\text{otherwise}\n",
    "  \\end{cases} \\label{eq:cons1} \n",
    "\\end{aligned}\n",
    "\\end{equation}\n",
    "\n",
    "*https://optimization.mccormick.northwestern.edu/index.php/Mixed-integer_linear_fractional_programming_(MILFP)"
   ]
  },
  {
   "cell_type": "markdown",
   "metadata": {},
   "source": [
    "## Algorithm implementation"
   ]
  },
  {
   "cell_type": "code",
   "execution_count": 2,
   "metadata": {},
   "outputs": [],
   "source": [
    "def select_LP_optimal_subsequence(probabilities):\n",
    "    \"\"\"\n",
    "    This function optimizes the expected f1-score to choose the optimal subsequence \n",
    "    of probabilities.\n",
    "    :param probabilities: the sequence of probabilities.\n",
    "    :return: the start index and the end index of the optimal subsequence.\n",
    "    \"\"\"\n",
    "    C = sum(probabilities)\n",
    "    M = 1e4  # Value for Big M.\n",
    "    dict_probabilities = dict({j: probabilities[j] for j in range(len(probabilities))})\n",
    "    ###################\n",
    "    # Define the model.\n",
    "    ###################\n",
    "    model = Model('EF1-Score')\n",
    "    model.setParam( 'OutputFlag', False) # make Gurobi silent.\n",
    "    # element variable\n",
    "    w = model.addVars(dict_probabilities.keys(), lb=0.0, ub=1.0, vtype='C', name='w')\n",
    "    I = model.addVars(dict_probabilities.keys(), lb=0.0, ub=1.0, vtype='B', name='I')\n",
    "    u = model.addVar(lb=0, vtype='C', name='u')\n",
    "\n",
    "    # Index variables\n",
    "    Is = model.addVars(dict_probabilities.keys(), vtype='B', name='Is')\n",
    "    Ie = model.addVars(dict_probabilities.keys(), vtype='B', name='Ie')\n",
    "\n",
    "    s = model.addVar(lb=0, ub=len(dict_probabilities) - 1, vtype='I', name='s')\n",
    "    e = model.addVar(lb=0, ub=len(dict_probabilities) - 1, vtype='I', name='e')\n",
    "\n",
    "    # Objective function\n",
    "    model.setObjective(w.prod(dict_probabilities), GRB.MAXIMIZE)\n",
    "\n",
    "    # Constraints\n",
    "\n",
    "    model.addConstr(quicksum(w[j] for j in range(len(dict_probabilities))) + u * C == 1.0, 'sum(w)+uC=1')\n",
    "    model.addConstr(s <= e, 's<=e')\n",
    "    for j in dict_probabilities:\n",
    "        model.addConstr(w[j] <= u, f\"w[{j}]<=u\")\n",
    "        model.addConstr(w[j] <= M * I[j], f\"w[{j}]<=M*I({j})\")\n",
    "        model.addConstr(w[j] >= u - M * (1 - I[j]), f\"w[{j}]>=u-M*[1-I({j})]\")\n",
    "        model.addConstr(w[j] >= 0.0, f\"w[{j}]>=0.0\")\n",
    "\n",
    "        # Interval selection constraints\n",
    "        model.addGenConstrAnd(I[j], [Is[j], Ie[j]], f\"selection_constraint-{j}\")\n",
    "\n",
    "        model.addGenConstrIndicator(Is[j], True, s <= j)\n",
    "        model.addGenConstrIndicator(Ie[j], True, e >= j)\n",
    "\n",
    "        model.addGenConstrIndicator(Is[j], False, s >= j + 1)\n",
    "        model.addGenConstrIndicator(Ie[j], False, e <= j - 1)\n",
    "\n",
    "    model.optimize()\n",
    "    # model.write(\"out.lp\")\n",
    "    optimal_value = 2 * model.getObjective().getValue() # optimal ef1 score\n",
    "    return int(round(s.X)), int(round(e.X)), optimal_value\n"
   ]
  },
  {
   "cell_type": "markdown",
   "metadata": {},
   "source": [
    "## Example"
   ]
  },
  {
   "cell_type": "code",
   "execution_count": 3,
   "metadata": {},
   "outputs": [],
   "source": [
    "text = ['A', 'Research', 'Fellow', 'position', 'is', 'available', 'in', 'Machine', 'Learning',\n",
    "        'at', 'the', 'School', 'of', 'Computer', 'Science', 'of',\n",
    "        'the', 'University', 'of', 'Birmingham', 'UK', '.',\n",
    "        'The', 'appointment', 'is', 'in', 'connection', 'with', 'the', 'EPSRC', 'Fellowship', '.'\n",
    "        ]\n",
    "\n",
    "# question: in which university is the research position available?\n",
    "\n",
    "\n",
    "probabilities = [0.5, 0.001, 0.001, 0.8, 0.005, 0.01, 0.005, 0.01, 0.005,\n",
    "                 0.001, 0.91, 0.5, 0.01, 0.099, 0.099, 0.05,\n",
    "                 0.0001, 0.5, 0.9, 0.99, 0.8, 0.7,\n",
    "                 0.03, 0.1, 0.01, 0.001, 0.1, 0.01, 0.001, 0.1, 0.99, 0.0099]\n"
   ]
  },
  {
   "cell_type": "code",
   "execution_count": 4,
   "metadata": {},
   "outputs": [
    {
     "data": {
      "image/png": "[encoded data removed]",
      "text/plain": [
       "<Figure size 1440x216 with 1 Axes>"
      ]
     },
     "metadata": {
      "needs_background": "light"
     },
     "output_type": "display_data"
    }
   ],
   "source": [
    "x = list(j for j in range(len(probabilities)))\n",
    "plt.figure(figsize=(20, 3))\n",
    "plt.bar(x, probabilities)  # A bar chart\n",
    "plt.xlabel('tokens')\n",
    "plt.ylabel('Probability')\n",
    "plt.xticks(x, text, rotation='45')\n",
    "plt.show()\n"
   ]
  },
  {
   "cell_type": "code",
   "execution_count": 5,
   "metadata": {
    "scrolled": false
   },
   "outputs": [
    {
     "name": "stdout",
     "output_type": "stream",
     "text": [
      "Using license file /Users/rbouadjenek/gurobi.lic\n",
      "Academic license - for non-commercial use only\n"
     ]
    }
   ],
   "source": [
    "s,e,_ = select_LP_optimal_subsequence(probabilities)"
   ]
  },
  {
   "cell_type": "code",
   "execution_count": 6,
   "metadata": {},
   "outputs": [
    {
     "name": "stdout",
     "output_type": "stream",
     "text": [
      "University of Birmingham UK . "
     ]
    }
   ],
   "source": [
    "for i in range(s,e+1):\n",
    "    print(text[i], end =\" \")"
   ]
  },
  {
   "cell_type": "markdown",
   "metadata": {},
   "source": [
    "# Test"
   ]
  },
  {
   "cell_type": "code",
   "execution_count": 1,
   "metadata": {},
   "outputs": [],
   "source": [
    "import os\n",
    "import re\n",
    "import json\n",
    "import string\n",
    "import numpy as np\n",
    "import tensorflow as tf\n",
    "from tensorflow import keras\n",
    "from tensorflow.keras import layers\n",
    "from tokenizers import BertWordPieceTokenizer\n",
    "from transformers import BertTokenizer, TFBertModel, BertConfig\n",
    "import matplotlib.pyplot as plt\n",
    "from sklearn.metrics import balanced_accuracy_score\n",
    "from tensorflow.python.ops import math_ops\n",
    "from tensorflow.python.keras import backend as K\n",
    "from keras.utils.vis_utils import plot_model\n",
    "from keras.metrics import binary_accuracy\n",
    "from transformers import AlbertTokenizer, AlbertModel\n",
    "import seaborn as sns\n",
    "from tqdm import tqdm\n",
    "import random\n",
    "from transformers import TFAutoModel\n",
    "\n",
    "\n",
    "max_len = 300\n",
    "\n"
   ]
  },
  {
   "cell_type": "code",
   "execution_count": 2,
   "metadata": {},
   "outputs": [],
   "source": [
    "# Save the slow pretrained tokenizer\n",
    "slow_tokenizer = BertTokenizer.from_pretrained(\"bert-base-uncased\")\n",
    "save_path = \"bert_base_uncased/\"\n",
    "\n",
    "\n",
    "# slow_tokenizer = BertTokenizer.from_pretrained(\"bert-large-uncased\")\n",
    "# save_path = \"bert_large_uncased/\"\n",
    "\n",
    "if not os.path.exists(save_path):\n",
    "    os.makedirs(save_path)\n",
    "slow_tokenizer.save_pretrained(save_path)\n",
    "\n",
    "# Load the fast tokenizer from saved file\n",
    "tokenizer = BertWordPieceTokenizer(\"bert_base_uncased/vocab.txt\", lowercase=True)\n",
    "\n",
    "# tokenizer = BertWordPieceTokenizer(\"bert_large_uncased/vocab.txt\", lowercase=True)\n",
    "\n",
    "tokenized_context = tokenizer.encode('Hello, my dog is cute. Where is it?')\n",
    "\n",
    "\n",
    "\n",
    "# print(tokenized_context.ids)\n",
    "# print(tokenizer.decode(tokenized_context.ids, skip_special_tokens=False))"
   ]
  },
  {
   "cell_type": "code",
   "execution_count": 3,
   "metadata": {},
   "outputs": [
    {
     "name": "stdout",
     "output_type": "stream",
     "text": [
      "419\n",
      "23\n",
      "48\n"
     ]
    }
   ],
   "source": [
    "# train_data_url = \"https://rajpurkar.github.io/SQuAD-explorer/dataset/train-v2.0.json\"\n",
    "train_data_url = \"https://rajpurkar.github.io/SQuAD-explorer/dataset/train-v1.1.json\"\n",
    "train_path = keras.utils.get_file(\"train.json\", train_data_url)\n",
    "\n",
    "# test_data_url = \"https://rajpurkar.github.io/SQuAD-explorer/dataset/dev-v2.0.json\"\n",
    "test_data_url = \"https://rajpurkar.github.io/SQuAD-explorer/dataset/dev-v1.1.json\"\n",
    "test_path = keras.utils.get_file(\"eval.json\", test_data_url)\n",
    "\n",
    "\n",
    "\n",
    "with open(train_path) as f:\n",
    "    raw_train_data = json.load(f)\n",
    "topics = raw_train_data['data']\n",
    "random.Random(1).shuffle(topics)\n",
    "\n",
    "i = int(len(raw_train_data['data'])*0.95)\n",
    "raw_train_data = {'data':topics[:i]}\n",
    "# raw_train_data = {'data':topics[:1]}\n",
    "\n",
    "raw_eval_data = {'data':topics[i:]}\n",
    "# raw_eval_data = {'data':topics[441:]}\n",
    "\n",
    "\n",
    "\n",
    "with open(test_path) as json_file:\n",
    "    raw_test_data = json.load(json_file)\n",
    "\n",
    "print(len(raw_train_data['data']))\n",
    "print(len(raw_eval_data['data']))\n",
    "print(len(raw_test_data['data']))\n",
    "\n"
   ]
  },
  {
   "cell_type": "code",
   "execution_count": 4,
   "metadata": {},
   "outputs": [],
   "source": [
    "# check the code here... factorize it!\n",
    "train_context_size_dist = []\n",
    "train_all_answers_dist = []\n",
    "for item in raw_train_data[\"data\"]:\n",
    "  for para in item[\"paragraphs\"]:\n",
    "    context = para[\"context\"]\n",
    "    tokenized_context = tokenizer.encode(context)    \n",
    "    for qa in para[\"qas\"]:\n",
    "      question = qa[\"question\"]\n",
    "      tokenized_question = tokenizer.encode(question)          \n",
    "      all_answers = [_[\"text\"] for _ in qa[\"answers\"]]\n",
    "      train_context_size_dist.append(len(tokenized_question.ids) + len(tokenized_context.ids) - 1)\n",
    "      train_all_answers_dist.append(len(qa[\"answers\"]))\n",
    "\n",
    "\n",
    "eval_context_size_dist = []\n",
    "eval_all_answers_dist = []\n",
    "for item in raw_eval_data[\"data\"]:\n",
    "  for para in item[\"paragraphs\"]:\n",
    "    context = para[\"context\"]\n",
    "    tokenized_context = tokenizer.encode(context)    \n",
    "    for qa in para[\"qas\"]:\n",
    "      question = qa[\"question\"]\n",
    "      tokenized_question = tokenizer.encode(question)          \n",
    "      all_answers = [_[\"text\"] for _ in qa[\"answers\"]]\n",
    "      eval_context_size_dist.append(len(tokenized_question.ids) + len(tokenized_context.ids) - 1)\n",
    "      eval_all_answers_dist.append(len(qa[\"answers\"]))\n",
    "\n",
    "test_context_size_dist = []\n",
    "test_all_answers_dist = []\n",
    "for item in raw_test_data[\"data\"]:\n",
    "  for para in item[\"paragraphs\"]:\n",
    "    context = para[\"context\"]\n",
    "    tokenized_context = tokenizer.encode(context)    \n",
    "    for qa in para[\"qas\"]:\n",
    "      question = qa[\"question\"]\n",
    "      tokenized_question = tokenizer.encode(question)          \n",
    "      all_answers = [_[\"text\"] for _ in qa[\"answers\"]]\n",
    "      for answer in qa[\"answers\"]:\n",
    "        start = answer[\"answer_start\"]\n",
    "        end = start+len(answer[\"text\"])\n",
    "        range(start,end+1)\n",
    "      start_char_idx = qa[\"answers\"][0][\"answer_start\"]\n",
    "      test_context_size_dist.append(len(tokenized_question.ids) + len(tokenized_context.ids) - 1)\n",
    "      test_all_answers_dist.append(len(qa[\"answers\"]))\n",
    "\n"
   ]
  },
  {
   "cell_type": "code",
   "execution_count": 7,
   "metadata": {},
   "outputs": [
    {
     "data": {
      "text/html": [
       "<div>\n",
       "<style scoped>\n",
       "    .dataframe tbody tr th:only-of-type {\n",
       "        vertical-align: middle;\n",
       "    }\n",
       "\n",
       "    .dataframe tbody tr th {\n",
       "        vertical-align: top;\n",
       "    }\n",
       "\n",
       "    .dataframe thead th {\n",
       "        text-align: right;\n",
       "    }\n",
       "</style>\n",
       "<table border=\"1\" class=\"dataframe\">\n",
       "  <thead>\n",
       "    <tr style=\"text-align: right;\">\n",
       "      <th></th>\n",
       "      <th>x</th>\n",
       "      <th>y</th>\n",
       "    </tr>\n",
       "  </thead>\n",
       "  <tbody>\n",
       "    <tr>\n",
       "      <th>0</th>\n",
       "      <td>3</td>\n",
       "      <td>3</td>\n",
       "    </tr>\n",
       "    <tr>\n",
       "      <th>1</th>\n",
       "      <td>3</td>\n",
       "      <td>3</td>\n",
       "    </tr>\n",
       "    <tr>\n",
       "      <th>2</th>\n",
       "      <td>3</td>\n",
       "      <td>3</td>\n",
       "    </tr>\n",
       "    <tr>\n",
       "      <th>3</th>\n",
       "      <td>3</td>\n",
       "      <td>3</td>\n",
       "    </tr>\n",
       "    <tr>\n",
       "      <th>4</th>\n",
       "      <td>3</td>\n",
       "      <td>3</td>\n",
       "    </tr>\n",
       "    <tr>\n",
       "      <th>...</th>\n",
       "      <td>...</td>\n",
       "      <td>...</td>\n",
       "    </tr>\n",
       "    <tr>\n",
       "      <th>10565</th>\n",
       "      <td>5</td>\n",
       "      <td>5</td>\n",
       "    </tr>\n",
       "    <tr>\n",
       "      <th>10566</th>\n",
       "      <td>5</td>\n",
       "      <td>5</td>\n",
       "    </tr>\n",
       "    <tr>\n",
       "      <th>10567</th>\n",
       "      <td>5</td>\n",
       "      <td>5</td>\n",
       "    </tr>\n",
       "    <tr>\n",
       "      <th>10568</th>\n",
       "      <td>5</td>\n",
       "      <td>5</td>\n",
       "    </tr>\n",
       "    <tr>\n",
       "      <th>10569</th>\n",
       "      <td>5</td>\n",
       "      <td>5</td>\n",
       "    </tr>\n",
       "  </tbody>\n",
       "</table>\n",
       "<p>10570 rows × 2 columns</p>\n",
       "</div>"
      ],
      "text/plain": [
       "       x  y\n",
       "0      3  3\n",
       "1      3  3\n",
       "2      3  3\n",
       "3      3  3\n",
       "4      3  3\n",
       "...   .. ..\n",
       "10565  5  5\n",
       "10566  5  5\n",
       "10567  5  5\n",
       "10568  5  5\n",
       "10569  5  5\n",
       "\n",
       "[10570 rows x 2 columns]"
      ]
     },
     "execution_count": 7,
     "metadata": {},
     "output_type": "execute_result"
    }
   ],
   "source": [
    "\n",
    "df_test_all_answers_dist = pd.DataFrame(columns=['x','y'])\n",
    "list_test_all_answers_dist = list(zip(test_all_answers_dist,test_all_answers_dist))\n",
    "df_test_all_answers_dist = df_test_all_answers_dist.append(pd.DataFrame(list_test_all_answers_dist, columns=['x','y']),ignore_index=True)\n",
    "df_test_all_answers_dist\n"
   ]
  },
  {
   "cell_type": "code",
   "execution_count": 16,
   "metadata": {},
   "outputs": [
    {
     "data": {
      "image/png": "[encoded data removed]",
      "text/plain": [
       "<Figure size 216x216 with 1 Axes>"
      ]
     },
     "metadata": {
      "needs_background": "light"
     },
     "output_type": "display_data"
    }
   ],
   "source": [
    "# from numpy import count\n",
    "plt.figure(figsize=(3,3))\n",
    "\n",
    "tips = sns.load_dataset(\"tips\")\n",
    "ax = sns.barplot(x=\"x\", y=\"y\", data=df_test_all_answers_dist, estimator=len, ci=None)\n",
    "\n",
    "ax.grid(color='black', linestyle='--', linewidth=1)\n",
    "ax.set_axisbelow(True)\n",
    "plt.xlabel(\"# answers\")\n",
    "plt.ylabel(\"#of examples\")\n",
    "# plt.title(\"Box plot of #candidates per cycle and system\")\n",
    "params = {'legend.fontsize': 18,\n",
    "          'axes.labelsize': 20,\n",
    "          'axes.titlesize': 14,\n",
    "          'xtick.labelsize': 20,\n",
    "          'ytick.labelsize': 18,\n",
    "          'axes.titlepad': 25,\n",
    "          'font.size': 24}\n",
    "plt.rcParams.update(params)\n",
    "plt.ylim(0, 10000)\n",
    "plt.savefig('plots/dist_answers_in_examples_SQuAD1.1.eps', bbox_inches = 'tight')\n",
    "plt.show()\n",
    "\n"
   ]
  },
  {
   "cell_type": "code",
   "execution_count": null,
   "metadata": {},
   "outputs": [],
   "source": []
  },
  {
   "cell_type": "code",
   "execution_count": 13,
   "metadata": {},
   "outputs": [],
   "source": [
    "class SquadExample:\n",
    "    def __init__(self, question, context, start_char_idx, answer_text, all_answers):\n",
    "        self.question = question\n",
    "        self.context = context\n",
    "        self.start_char_idx = start_char_idx\n",
    "        self.answer_text = answer_text\n",
    "        self.all_answers = all_answers\n",
    "        self.skip = False\n",
    "\n",
    "    def preprocess(self):\n",
    "        context = self.context\n",
    "        question = self.question\n",
    "        answer_text = self.answer_text\n",
    "        start_char_idx = self.start_char_idx\n",
    "\n",
    "        # Clean context, answer and question\n",
    "        context = \" \".join(str(context).split())\n",
    "        question = \" \".join(str(question).split())\n",
    "        answer = \" \".join(str(answer_text).split())\n",
    "\n",
    "        # Find end character index of answer in context\n",
    "        end_char_idx = start_char_idx + len(answer)\n",
    "        if end_char_idx >= len(context):\n",
    "            self.skip = True\n",
    "            return\n",
    "\n",
    "        # Mark the character indexes in context that are in answer\n",
    "        is_char_in_ans = [0] * len(context)\n",
    "        for idx in range(start_char_idx, end_char_idx):\n",
    "            is_char_in_ans[idx] = 1\n",
    "\n",
    "        # Tokenize context (paragraph)\n",
    "        tokenized_context = tokenizer.encode(context)\n",
    "\n",
    "        # Find tokens that were created from answer characters\n",
    "        ans_token_idx = []\n",
    "        for idx, (start, end) in enumerate(tokenized_context.offsets):\n",
    "            if sum(is_char_in_ans[start:end]) > 0:\n",
    "                ans_token_idx.append(idx)\n",
    "\n",
    "        if len(ans_token_idx) == 0:\n",
    "            self.skip = True\n",
    "            return\n",
    "\n",
    "        \n",
    "        \n",
    "\n",
    "        # Tokenize question\n",
    "        tokenized_question = tokenizer.encode(question)\n",
    "        \n",
    "        # Extract labels\n",
    "        labels = np.zeros(len(tokenized_context.ids)).tolist()\n",
    "        for i in ans_token_idx:\n",
    "            labels[i] = 1\n",
    "        \n",
    "        labels = np.zeros(len(tokenized_question.ids)-1).tolist() + labels\n",
    "        \n",
    "        ## padding labels\n",
    "        if max_len - len(labels) > 0:\n",
    "            labels = labels + np.zeros(max_len - len(labels)).tolist()\n",
    "            \n",
    "        # for i in range(len(labels)):\n",
    "        #     v = labels[i]\n",
    "        #     labels[i] = np.array([v])\n",
    "            \n",
    "            \n",
    "        ## output mask\n",
    "        output_mask = np.ones(len(tokenized_context.ids)-1).tolist()\n",
    "        output_mask = np.zeros(len(tokenized_question.ids)).tolist() + output_mask\n",
    "        if max_len - len(output_mask) > 0:\n",
    "            output_mask = output_mask + np.zeros(max_len - len(output_mask)).tolist()\n",
    "        \n",
    "        # Find start and end token index for tokens from answer\n",
    "        #print(ans_token_idx)\n",
    "                \n",
    "        \n",
    "        ans_token_idx = [x+(len(tokenized_question.ids)-1) for x in ans_token_idx]\n",
    "        \n",
    "        start_token_idx = ans_token_idx[0]\n",
    "        end_token_idx = ans_token_idx[-1]\n",
    "        \n",
    "\n",
    "        # Create inputs\n",
    "        input_ids = tokenized_question.ids + tokenized_context.ids[1:]\n",
    "        token_type_ids = [0] * len(tokenized_question.ids[1:]) + [1] * len(tokenized_context.ids)\n",
    "        attention_mask = [1] * len(input_ids)\n",
    "        \n",
    "        # Pad and create attention masks.\n",
    "        # Skip if truncation is needed\n",
    "        padding_length = max_len - len(input_ids)\n",
    "        if padding_length > 0:  # pad\n",
    "            input_ids = input_ids + ([0] * padding_length)\n",
    "            attention_mask = attention_mask + ([0] * padding_length)\n",
    "            token_type_ids = token_type_ids + ([0] * padding_length)\n",
    "        elif padding_length < 0:  # skip\n",
    "            self.skip = True\n",
    "            return\n",
    "\n",
    "        self.input_ids = input_ids\n",
    "        self.token_type_ids = token_type_ids\n",
    "        self.attention_mask = attention_mask\n",
    "        self.start_token_idx = start_token_idx\n",
    "        self.end_token_idx = end_token_idx\n",
    "        self.context_token_to_char = tokenized_context.offsets\n",
    "        self.ans_token_idx = np.asarray(ans_token_idx)\n",
    "        self.labels = np.asarray(labels)\n",
    "        self.output_mask = np.asarray(output_mask)\n",
    "\n",
    "\n",
    "def create_squad_examples(raw_data):\n",
    "    squad_examples = []\n",
    "    with tqdm(total=len(raw_data[\"data\"])) as pbar:\n",
    "      for item in raw_data[\"data\"]:\n",
    "          for para in item[\"paragraphs\"]:\n",
    "              context = para[\"context\"]\n",
    "              for qa in para[\"qas\"]:\n",
    "                  question = qa[\"question\"]\n",
    "                  answer_text = qa[\"answers\"][0][\"text\"]\n",
    "                  all_answers = [_[\"text\"] for _ in qa[\"answers\"]]\n",
    "                  start_char_idx = qa[\"answers\"][0][\"answer_start\"]\n",
    "                  squad_eg = SquadExample(question, context, start_char_idx, answer_text, all_answers)\n",
    "                  squad_eg.preprocess()\n",
    "                  squad_examples.append(squad_eg)\n",
    "          pbar.update(1)\n",
    "    return squad_examples\n",
    "\n",
    "\n",
    "def create_inputs_targets(squad_examples):\n",
    "    dataset_dict = {\n",
    "        \"input_ids\": [],\n",
    "        \"token_type_ids\": [],\n",
    "        \"attention_mask\": [],\n",
    "        \"start_token_idx\": [],\n",
    "        \"end_token_idx\": [],\n",
    "        \"ans_token_idx\": [],\n",
    "        \"labels\": [],\n",
    "        \"output_mask\": [],\n",
    "    }\n",
    "    for item in squad_examples:\n",
    "        if item.skip == False:\n",
    "            for key in dataset_dict:\n",
    "                #print(key,type(getattr(item, key)))\n",
    "                dataset_dict[key].append(getattr(item, key))\n",
    "    for key in dataset_dict:\n",
    "        if key != 'labels' and key != 'ans_token_idx' :\n",
    "            dataset_dict[key] = np.array(dataset_dict[key])\n",
    "    x = [\n",
    "        dataset_dict[\"input_ids\"],\n",
    "        dataset_dict[\"token_type_ids\"],\n",
    "        dataset_dict[\"attention_mask\"],\n",
    "        # dataset_dict[\"output_mask\"],\n",
    "    ]\n",
    "    y1 = [dataset_dict[\"start_token_idx\"], dataset_dict[\"end_token_idx\"]]\n",
    "    # y1 = dataset_dict[\"start_token_idx\"]\n",
    "    y2 = np.asarray(dataset_dict[\"labels\"])\n",
    "    y3 = np.asarray(dataset_dict[\"ans_token_idx\"])\n",
    "    return x, y1, y2, y3\n",
    "\n"
   ]
  },
  {
   "cell_type": "code",
   "execution_count": 14,
   "metadata": {},
   "outputs": [
    {
     "name": "stderr",
     "output_type": "stream",
     "text": [
      "100%|██████████| 419/419 [01:11<00:00,  5.84it/s]\n",
      "100%|██████████| 23/23 [00:03<00:00,  6.15it/s]\n",
      "100%|██████████| 48/48 [00:09<00:00,  5.25it/s]\n"
     ]
    }
   ],
   "source": [
    "train_squad_examples = create_squad_examples(raw_train_data)\n",
    "x_train, y1_train, y2_train, y3_train = create_inputs_targets(train_squad_examples)\n",
    "\n",
    "eval_squad_examples = create_squad_examples(raw_eval_data)\n",
    "x_eval, y1_eval, y2_eval, y3_eval = create_inputs_targets(eval_squad_examples)\n",
    "\n",
    "test_squad_examples = create_squad_examples(raw_test_data)\n",
    "x_test, y1_test, y2_test, y3_test = create_inputs_targets(test_squad_examples)\n"
   ]
  },
  {
   "cell_type": "code",
   "execution_count": 15,
   "metadata": {},
   "outputs": [],
   "source": [
    "eval_pred = open(\"data2/eval_pred.txt\", \"r\")\n",
    "test_pred = open(\"data/test_pred.txt\", \"r\")\n",
    "train_pred = open(\"data/train_pred.txt\", \"r\")\n",
    "y2_eval = open(\"data2/y2_eval.txt\", \"r\")\n",
    "y2_test = open(\"data/y2_test.txt\", \"r\")\n",
    "y2_train = open(\"data/y2_train.txt\", \"r\")\n",
    "y3_eval = open(\"data2/y3_eval.txt\", \"r\")\n",
    "y3_test = open(\"data/y3_test.txt\", \"r\")\n",
    "y3_train = open(\"data/y3_train.txt\", \"r\")\n",
    "\n",
    "eval_pred  = json.loads(eval_pred.read())\n",
    "test_pred  = json.loads(test_pred.read())\n",
    "train_pred  = json.loads(train_pred.read())\n",
    "y2_eval  = json.loads(y2_eval.read())\n",
    "y2_test  = json.loads(y2_test.read())\n",
    "y2_train  = json.loads(y2_train.read())\n",
    "y3_eval  = json.loads(y3_eval.read())\n",
    "y3_test  = json.loads(y3_test.read())\n",
    "y3_train  = json.loads(y3_train.read())\n",
    "\n"
   ]
  },
  {
   "cell_type": "code",
   "execution_count": 16,
   "metadata": {},
   "outputs": [
    {
     "name": "stderr",
     "output_type": "stream",
     "text": [
      "[T=0.604s|EM=0.606|F1=0.789±0.010|P=0.794±0.011|R=0.828±0.010]: 100%|██████████| 4414/4414 [44:36<00:00,  1.65it/s]  \n"
     ]
    }
   ],
   "source": [
    "def normalize_text(text):\n",
    "    text = text.lower()\n",
    "\n",
    "    # Remove punctuations\n",
    "    exclude = set(string.punctuation)\n",
    "    text = \"\".join(ch for ch in text if ch not in exclude)\n",
    "\n",
    "    # Remove articles\n",
    "    regex = re.compile(r\"\\b(a|an|the)\\b\", re.UNICODE)\n",
    "    text = re.sub(regex, \" \", text)\n",
    "\n",
    "    # Remove extra white space\n",
    "    text = \" \".join(text.split())\n",
    "    return text\n",
    "\n",
    "count = 0\n",
    "p = []\n",
    "r = []\n",
    "f1 = []\n",
    "t = []\n",
    "\n",
    "count2 = 0\n",
    "p2 = []\n",
    "r2 = []\n",
    "f1_2 = []\n",
    "\n",
    "\n",
    "with tqdm(total=len(eval_pred)) as pbar:\n",
    "    for idx, probabilities in enumerate(eval_pred):\n",
    "        t_ = time.time()\n",
    "        s_pred,e_pred,_ = select_LP_optimal_subsequence(probabilities)\n",
    "        t_ = time.time() - t_\n",
    "        t.append(t_)\n",
    "        prediction = list(range(s_pred, e_pred+1))          \n",
    "        ans = list(y3_eval[idx]) \n",
    "        inter = list(set(prediction) & set(ans))            \n",
    "        p_ = len(inter) / len(prediction)\n",
    "        r_ = len(inter) / len(ans)\n",
    "        f1_ = 0\n",
    "        if (p_+r_) !=0:\n",
    "            f1_ = 2*p_*r_ / (p_+r_)\n",
    "        if f1_ ==1:\n",
    "            count += 1 \n",
    "        p.append(p_)\n",
    "        r.append(r_)\n",
    "        f1.append(f1_)\n",
    "        acc = count / len(f1)\n",
    "        \n",
    "        \n",
    "        normalized_pred_ans = normalize_text(tokenizer.decode(prediction))\n",
    "        normalized_true_ans = normalize_text(tokenizer.decode(ans))\n",
    "        if normalized_pred_ans == normalized_true_ans:\n",
    "            count2 += 1\n",
    "        prediction = set(normalized_pred_ans.split(' '))\n",
    "        true = set(normalized_true_ans.split(' '))\n",
    "        inter = set(prediction & true)\n",
    "        p_ = len(inter) / len(prediction)\n",
    "        r_ = len(inter) / len(true)  \n",
    "        f1_ = 0\n",
    "        if (p_+r_) !=0:\n",
    "            f1_ = 2*p_*r_ / (p_+r_)\n",
    "        p2.append(p_)\n",
    "        r2.append(r_)\n",
    "        f1_2.append(f1_)\n",
    "        acc2 = count2 / len(f1_2)\n",
    "        \n",
    "        pbar.set_description(f\"[T={np.mean(t):.3f}s|EM={acc2:.3f}|F1={np.mean(f1_2):.3f}±{(1.96 * np.std(f1_2))/np.sqrt(len(f1_2)):.3f}|P={np.mean(p2):.3f}±{(1.96 * np.std(p2))/np.sqrt(len(p2)):.3f}|R={np.mean(r2):.3f}±{(1.96 * np.std(r2))/np.sqrt(len(r2)):.3f}]\")    \n",
    "        pbar.update(1)\n",
    "\n",
    "\n",
    "\n"
   ]
  },
  {
   "cell_type": "code",
   "execution_count": 116,
   "metadata": {},
   "outputs": [
    {
     "data": {
      "text/plain": [
       "0.03903858391338869"
      ]
     },
     "execution_count": 116,
     "metadata": {},
     "output_type": "execute_result"
    }
   ],
   "source": [
    "# np.mean(t)\n",
    "1.96 * np.std(t)/np.sqrt(len(t))"
   ]
  },
  {
   "cell_type": "code",
   "execution_count": 81,
   "metadata": {},
   "outputs": [
    {
     "name": "stdout",
     "output_type": "stream",
     "text": [
      "Full results on validation set\n",
      "Size: 4414\n",
      "Exact match score=0.6017\n",
      "F1-score=0.7896±0.0102\n",
      "Precision=0.7941±0.0107\n",
      "Recall=25.0000±0.7082\n"
     ]
    }
   ],
   "source": [
    "print('Full results on validation set')\n",
    "print(\"Size: \" + str(len(f1)))\n",
    "print(f\"Exact match score={count / len(eval_pred):.4f}\")\n",
    "print(f\"F1-score={np.mean(f1):.4f}±{(1.96 * np.std(f1))/np.sqrt(len(eval_pred)):.4f}\")\n",
    "print(f\"Precision={np.mean(p):.4f}±{(1.96 * np.std(p))/np.sqrt(len(eval_pred)):.4f}\")\n",
    "print(f\"Recall={np.mean(r):.4f}±{(1.96 * np.std(r))/np.sqrt(len(eval_pred)):.4f}\")"
   ]
  },
  {
   "cell_type": "code",
   "execution_count": 82,
   "metadata": {},
   "outputs": [
    {
     "name": "stdout",
     "output_type": "stream",
     "text": [
      "Full results on validation set\n",
      "Size: 4414\n",
      "Exact match score=0.6063\n",
      "F1-score=0.7892±0.0103\n",
      "Precision=0.7938±0.0107\n",
      "Recall=0.8282±0.0102\n"
     ]
    }
   ],
   "source": [
    "print('Full results on validation set')\n",
    "print(\"Size: \" + str(len(f1_2)))\n",
    "print(f\"Exact match score={count2 / len(eval_pred):.4f}\")\n",
    "print(f\"F1-score={np.mean(f1_2):.4f}±{(1.96 * np.std(f1_2))/np.sqrt(len(eval_pred)):.4f}\")\n",
    "print(f\"Precision={np.mean(p2):.4f}±{(1.96 * np.std(p2))/np.sqrt(len(eval_pred)):.4f}\")\n",
    "print(f\"Recall={np.mean(r2):.4f}±{(1.96 * np.std(r2))/np.sqrt(len(eval_pred)):.4f}\")"
   ]
  },
  {
   "cell_type": "code",
   "execution_count": 80,
   "metadata": {},
   "outputs": [
    {
     "data": {
      "text/plain": [
       "4414"
      ]
     },
     "execution_count": 80,
     "metadata": {},
     "output_type": "execute_result"
    }
   ],
   "source": [
    "len(eval_pred)"
   ]
  },
  {
   "cell_type": "markdown",
   "metadata": {},
   "source": [
    "# Baseline 2"
   ]
  },
  {
   "cell_type": "code",
   "execution_count": 70,
   "metadata": {},
   "outputs": [],
   "source": [
    "def baseline2(A):\n",
    "    B = np.where(np.array(A) > 0.5, 1, 0)\n",
    "    if np.sum(B) == 0:\n",
    "        return -1, -1\n",
    "    else:\n",
    "        r = max((list(y) for (x,y) in itertools.groupby((enumerate(B)),operator.itemgetter(1)) if x == 1), key=len)\n",
    "        return r[0][0], r[-1][0]\n",
    "    \n",
    "    "
   ]
  },
  {
   "cell_type": "code",
   "execution_count": 86,
   "metadata": {},
   "outputs": [
    {
     "name": "stderr",
     "output_type": "stream",
     "text": [
      "[T=0.000s|EM=0.592|F1=0.767±0.011|P=0.795±0.011|R=0.777±0.011]: 100%|██████████| 4414/4414 [00:08<00:00, 513.49it/s]\n"
     ]
    }
   ],
   "source": [
    "acc2_baseline2 = []\n",
    "\n",
    "count_baseline2 = 0\n",
    "p_baseline2 = []\n",
    "r_baseline2 = []\n",
    "f1_baseline2 = []\n",
    "t_baseline2 = []\n",
    "\n",
    "count2_baseline2 = 0\n",
    "p2_baseline2 = []\n",
    "r2_baseline2 = []\n",
    "f1_2_baseline2 = []\n",
    "\n",
    "with tqdm(total=len(eval_pred)) as pbar:\n",
    "    for idx, probabilities in enumerate(eval_pred):\n",
    "        t_ = time.time()\n",
    "        s_pred, e_pred = baseline2(probabilities)\n",
    "        if s_pred == -1 or e_pred == 1:\n",
    "            acc2_baseline2.append(0)\n",
    "            p_baseline2.append(0)\n",
    "            r_baseline2.append(0)\n",
    "            f1_baseline2.append(0)\n",
    "            t_baseline2.append(0)\n",
    "            \n",
    "            p2_baseline2.append(0)\n",
    "            r2_baseline2.append(0)\n",
    "            f1_2_baseline2.append(0)\n",
    "            pbar.update(1)\n",
    "            continue\n",
    "        \n",
    "        t_ = time.time() - t_\n",
    "        t_baseline2.append(t_)\n",
    "        prediction = list(range(s_pred, e_pred + 1))\n",
    "        ans = list(y3_eval[idx])\n",
    "        inter = list(set(prediction) & set(ans))\n",
    "        p_ = len(inter) / len(prediction)\n",
    "        r_ = len(inter) / len(ans)\n",
    "        f1_ = 0\n",
    "        if (p_ + r_) != 0:\n",
    "            f1_ = 2 * p_ * r_ / (p_ + r_)\n",
    "        if f1_ == 1:\n",
    "            count_baseline2 += 1\n",
    "        p_baseline2.append(p_)\n",
    "        r_baseline2.append(r_)\n",
    "        f1_baseline2.append(f1_)\n",
    "        acc = count_baseline2 / len(f1_baseline2)\n",
    "\n",
    "        normalized_pred_ans = normalize_text(tokenizer.decode(prediction))\n",
    "        normalized_true_ans = normalize_text(tokenizer.decode(ans))\n",
    "        if normalized_pred_ans == normalized_true_ans:\n",
    "            count2_baseline2 += 1\n",
    "            acc2_baseline2.append(1)\n",
    "        else:\n",
    "            acc2_baseline2.append(0)\n",
    "        prediction = set(normalized_pred_ans.split(' '))\n",
    "        true = set(normalized_true_ans.split(' '))\n",
    "        inter = set(prediction & true)\n",
    "        p_ = len(inter) / len(prediction)\n",
    "        r_ = len(inter) / len(true)\n",
    "        f1_ = 0\n",
    "        if (p_ + r_) != 0:\n",
    "            f1_ = 2 * p_ * r_ / (p_ + r_)\n",
    "        p2_baseline2.append(p_)\n",
    "        r2_baseline2.append(r_)\n",
    "        f1_2_baseline2.append(f1_)\n",
    "        acc2 = count2_baseline2 / len(f1_2_baseline2)\n",
    "\n",
    "        pbar.set_description(\n",
    "            f\"[T={np.mean(t_baseline2):.3f}s|EM={acc2:.3f}|F1={np.mean(f1_2_baseline2):.3f}±{(1.96 * np.std(f1_2_baseline2)) / np.sqrt(len(f1_2_baseline2)):.3f}|P={np.mean(p2_baseline2):.3f}±{(1.96 * np.std(p2_baseline2)) / np.sqrt(len(p2_baseline2)):.3f}|R={np.mean(r2_baseline2):.3f}±{(1.96 * np.std(r2_baseline2)) / np.sqrt(len(r2_baseline2)):.3f}]\")\n",
    "        pbar.update(1)\n",
    "\n"
   ]
  },
  {
   "cell_type": "code",
   "execution_count": 87,
   "metadata": {},
   "outputs": [
    {
     "name": "stdout",
     "output_type": "stream",
     "text": [
      "Full results on validation set\n",
      "Size: 4414\n",
      "Exact match score=0.5886\n",
      "F1-score=0.7671±0.0109\n",
      "Precision=0.7958±0.0111\n",
      "Recall=0.7772±0.0111\n"
     ]
    }
   ],
   "source": [
    "print('Full results on validation set')\n",
    "print(\"Size: \" + str(len(f1)))\n",
    "print(f\"Exact match score={count_baseline2 / len(eval_pred):.4f}\")\n",
    "print(f\"F1-score={np.mean(f1_baseline2):.4f}±{(1.96 * np.std(f1_baseline2))/np.sqrt(len(eval_pred)):.4f}\")\n",
    "print(f\"Precision={np.mean(p_baseline2):.4f}±{(1.96 * np.std(p_baseline2))/np.sqrt(len(eval_pred)):.4f}\")\n",
    "print(f\"Recall={np.mean(r_baseline2):.4f}±{(1.96 * np.std(r_baseline2))/np.sqrt(len(eval_pred)):.4f}\")"
   ]
  },
  {
   "cell_type": "code",
   "execution_count": 88,
   "metadata": {},
   "outputs": [
    {
     "name": "stdout",
     "output_type": "stream",
     "text": [
      "Full results on validation set\n",
      "Size: 4414\n",
      "Exact match score=0.5924\n",
      "F1-score=0.7669±0.0109\n",
      "Precision=0.7953±0.0111\n",
      "Recall=0.7768±0.0112\n"
     ]
    }
   ],
   "source": [
    "print('Full results on validation set')\n",
    "print(\"Size: \" + str(len(f1_2)))\n",
    "print(f\"Exact match score={count2_baseline2 / len(eval_pred):.4f}\")\n",
    "print(f\"F1-score={np.mean(f1_2_baseline2):.4f}±{(1.96 * np.std(f1_2_baseline2))/np.sqrt(len(eval_pred)):.4f}\")\n",
    "print(f\"Precision={np.mean(p2_baseline2):.4f}±{(1.96 * np.std(p2_baseline2))/np.sqrt(len(eval_pred)):.4f}\")\n",
    "print(f\"Recall={np.mean(r2_baseline2):.4f}±{(1.96 * np.std(r2_baseline2))/np.sqrt(len(eval_pred)):.4f}\")"
   ]
  },
  {
   "cell_type": "markdown",
   "metadata": {},
   "source": [
    "# statistical analysis"
   ]
  },
  {
   "cell_type": "code",
   "execution_count": 90,
   "metadata": {},
   "outputs": [],
   "source": [
    "acc_baseline = [1] * 2664 + [0] * (4414 - 2664)\n",
    "f1_baseline = [1.0, 0.6666666666666666, 1.0, 1.0, 1.0, 1.0, 0.5, 0.5, 0, 1.0, 1.0, 1.0, 1.0, 0.9090909090909091, 1.0, 1.0, 0.7058823529411764, 0.9090909090909091, 1.0, 1.0, 1.0, 0.6666666666666666, 1.0, 1.0, 0.9090909090909091, 1.0, 1.0, 1.0, 1.0, 1.0, 1.0, 1.0, 1.0, 1.0, 1.0, 0, 0.4, 0.8, 1.0, 1.0, 1.0, 1.0, 1.0, 1.0, 1.0, 1.0, 1.0, 1.0, 0.8, 1.0, 0, 1.0, 0.5555555555555556, 0.8, 1.0, 0.6153846153846153, 1.0, 1.0, 1.0, 0, 1.0, 0.6666666666666666, 1.0, 1.0, 0.6666666666666666, 0.6666666666666666, 1.0, 1.0, 0.5, 0.923076923076923, 1.0, 0.5, 0, 0, 1.0, 0.9696969696969697, 1.0, 1.0, 1.0, 0.9, 1.0, 1.0, 1.0, 1.0, 1.0, 0.6666666666666666, 0.8, 1.0, 0, 1.0, 0.2857142857142857, 0.5555555555555556, 1.0, 1.0, 1.0, 1.0, 1.0, 1.0, 1.0, 0, 1.0, 0, 1.0, 0.8, 1.0, 1.0, 1.0, 0.33333333333333337, 1.0, 1.0, 0.6666666666666666, 1.0, 1.0, 0.8, 1.0, 1.0, 1.0, 1.0, 0.4615384615384615, 1.0, 1.0, 1.0, 1.0, 1.0, 0, 1.0, 0.8333333333333333, 1.0, 1.0, 1.0, 1.0, 0.8571428571428571, 1.0, 1.0, 1.0, 0.8, 1.0, 0.1904761904761905, 0, 1.0, 0, 0, 1.0, 0.888888888888889, 0, 1.0, 1.0, 0, 1.0, 1.0, 1.0, 1.0, 1.0, 1.0, 0.8750000000000001, 1.0, 1.0, 1.0, 0, 1.0, 1.0, 1.0, 1.0, 1.0, 1.0, 1.0, 0, 0.8571428571428571, 0.2857142857142857, 1.0, 0.9090909090909091, 0.8571428571428571, 1.0, 1.0, 0.6666666666666666, 1.0, 1.0, 1.0, 0.3636363636363636, 1.0, 1.0, 1.0, 0.6666666666666666, 1.0, 1.0, 0.8571428571428571, 1.0, 0.9600000000000001, 1.0, 0.888888888888889, 1.0, 1.0, 1.0, 1.0, 1.0, 1.0, 0.8, 1.0, 0.9473684210526316, 1.0, 1.0, 0.6666666666666666, 1.0, 0.5, 1.0, 1.0, 0.35294117647058826, 0, 1.0, 1.0, 0.8571428571428571, 0, 1.0, 1.0, 0.5714285714285715, 0.33333333333333337, 1.0, 0.4, 1.0, 1.0, 0.6666666666666666, 1.0, 1.0, 1.0, 1.0, 1.0, 0, 0, 0.625, 0.5882352941176471, 0.5263157894736842, 1.0, 0, 1.0, 1.0, 0.17073170731707318, 1.0, 1.0, 1.0, 1.0, 1.0, 0.04081632653061225, 0, 1.0, 1.0, 1.0, 1.0, 1.0, 1.0, 0, 1.0, 0.4, 0.8571428571428571, 0, 1.0, 0.7000000000000001, 0, 1.0, 0.25, 1.0, 1.0, 0.8333333333333333, 1.0, 1.0, 1.0, 1.0, 1.0, 1.0, 1.0, 1.0, 1.0, 1.0, 0.35294117647058826, 1.0, 0, 1.0, 1.0, 0.8421052631578948, 1.0, 1.0, 1.0, 1.0, 0, 0.9333333333333333, 0.9411764705882353, 1.0, 1.0, 1.0, 1.0, 0.3636363636363636, 1.0, 1.0, 1.0, 1.0, 1.0, 0, 1.0, 1.0, 0.6153846153846153, 1.0, 1.0, 0.25, 0, 0.6666666666666666, 1.0, 1.0, 1.0, 1.0, 1.0, 1.0, 1.0, 0.8571428571428571, 0, 0.923076923076923, 0, 1.0, 0.17721518987341772, 0, 1.0, 1.0, 1.0, 0.5, 1.0, 0.888888888888889, 0.888888888888889, 1.0, 1.0, 1.0, 1.0, 1.0, 1.0, 1.0, 1.0, 1.0, 0.6666666666666666, 0, 1.0, 1.0, 1.0, 0.7692307692307693, 0.7692307692307693, 0.888888888888889, 0.6666666666666666, 1.0, 0.4, 0, 1.0, 1.0, 1.0, 1.0, 0, 1.0, 0, 0.9090909090909091, 1.0, 0.8, 1.0, 0.8292682926829268, 1.0, 1.0, 0.8, 1.0, 1.0, 1.0, 0.5925925925925926, 0.5, 1.0, 1.0, 1.0, 0.9523809523809523, 0.5, 0.4, 1.0, 1.0, 1.0, 0.888888888888889, 1.0, 0, 1.0, 1.0, 0, 1.0, 0.4444444444444445, 1.0, 1.0, 1.0, 0.6666666666666666, 1.0, 1.0, 1.0, 1.0, 1.0, 1.0, 1.0, 1.0, 0.8, 1.0, 0.923076923076923, 1.0, 1.0, 0.4, 0.9444444444444444, 0, 1.0, 1.0, 1.0, 1.0, 1.0, 1.0, 1.0, 0.9090909090909091, 1.0, 1.0, 1.0, 1.0, 0, 1.0, 0.28571428571428575, 0, 0.6666666666666666, 0.9473684210526316, 1.0, 0.923076923076923, 1.0, 1.0, 1.0, 1.0, 0.8571428571428571, 0, 0.380952380952381, 1.0, 1.0, 0, 0, 0.8695652173913044, 1.0, 1.0, 0.9090909090909091, 1.0, 0.8, 0, 0.8571428571428571, 1.0, 0.4, 1.0, 1.0, 1.0, 0, 0.37254901960784315, 1.0, 1.0, 0.8333333333333334, 1.0, 1.0, 1.0, 0.10989010989010987, 0.8421052631578947, 1.0, 1.0, 1.0, 1.0, 1.0, 0.5, 1.0, 0, 0, 0.888888888888889, 1.0, 0, 1.0, 1.0, 0.33333333333333337, 0.5714285714285715, 0, 1.0, 1.0, 1.0, 1.0, 0, 1.0, 0.6666666666666666, 1.0, 0, 1.0, 0.6153846153846153, 0.3448275862068966, 0.2857142857142857, 1.0, 0.896551724137931, 1.0, 1.0, 1.0, 0.47058823529411764, 0.9090909090909091, 1.0, 1.0, 0.6666666666666666, 1.0, 0, 1.0, 1.0, 0.8571428571428571, 1.0, 1.0, 1.0, 0.8571428571428571, 0.923076923076923, 0.5633802816901409, 0, 0.8, 0.8750000000000001, 0.5128205128205129, 1.0, 1.0, 1.0, 1.0, 1.0, 0.7272727272727273, 0, 1.0, 1.0, 1.0, 0, 0, 0.8571428571428571, 0.5333333333333333, 1.0, 0, 0.5, 0.5, 1.0, 1.0, 1.0, 0.8571428571428571, 1.0, 1.0, 1.0, 1.0, 1.0, 1.0, 0, 1.0, 1.0, 0, 1.0, 1.0, 1.0, 1.0, 1.0, 1.0, 1.0, 1.0, 0.4, 0.06779661016949151, 1.0, 1.0, 1.0, 1.0, 1.0, 1.0, 1.0, 1.0, 0.303030303030303, 1.0, 1.0, 1.0, 1.0, 1.0, 1.0, 1.0, 1.0, 1.0, 1.0, 1.0, 1.0, 1.0, 1.0, 1.0, 0.4, 0.6666666666666666, 1.0, 1.0, 0, 1.0, 1.0, 1.0, 1.0, 1.0, 1.0, 1.0, 0, 1.0, 1.0, 1.0, 1.0, 0, 1.0, 1.0, 1.0, 1.0, 1.0, 1.0, 0.7499999999999999, 1.0, 1.0, 1.0, 1.0, 1.0, 0.5, 1.0, 1.0, 0.4444444444444445, 1.0, 0, 1.0, 1.0, 1.0, 1.0, 0.33333333333333337, 1.0, 1.0, 1.0, 1.0, 1.0, 0.5, 1.0, 1.0, 1.0, 1.0, 1.0, 1.0, 0, 1.0, 0.8571428571428571, 1.0, 0.8571428571428571, 1.0, 0.8333333333333333, 1.0, 0.4, 0, 1.0, 0.5, 1.0, 0.8, 0.6666666666666666, 1.0, 1.0, 1.0, 1.0, 0.8, 1.0, 0.6666666666666666, 1.0, 0.888888888888889, 0.0909090909090909, 1.0, 1.0, 1.0, 0.03225806451612903, 1.0, 1.0, 1.0, 1.0, 1.0, 1.0, 0.08333333333333333, 1.0, 1.0, 1.0, 1.0, 1.0, 1.0, 0.8571428571428571, 1.0, 0.6666666666666666, 0.6666666666666666, 0, 0.8571428571428571, 1.0, 1.0, 1.0, 1.0, 0, 1.0, 1.0, 1.0, 1.0, 1.0, 0, 0, 1.0, 0.25, 0.4, 0, 1.0, 1.0, 1.0, 0.8, 0, 1.0, 1.0, 1.0, 1.0, 1.0, 0.6666666666666666, 1.0, 1.0, 0, 1.0, 1.0, 1.0, 1.0, 1.0, 1.0, 1.0, 0.888888888888889, 1.0, 1.0, 0, 1.0, 1.0, 1.0, 0, 0.5, 1.0, 1.0, 1.0, 1.0, 1.0, 1.0, 0, 0.5, 1.0, 1.0, 1.0, 1.0, 0.888888888888889, 1.0, 1.0, 0.9333333333333333, 1.0, 0, 1.0, 1.0, 0, 0.8571428571428571, 1.0, 1.0, 1.0, 1.0, 1.0, 1.0, 1.0, 0.6666666666666666, 1.0, 1.0, 1.0, 1.0, 1.0, 1.0, 1.0, 0, 1.0, 1.0, 1.0, 1.0, 0, 1.0, 1.0, 1.0, 1.0, 1.0, 1.0, 1.0, 1.0, 0, 0.6666666666666666, 0.5, 0.5, 1.0, 0.9473684210526316, 1.0, 1.0, 1.0, 1.0, 0, 1.0, 1.0, 1.0, 1.0, 1.0, 1.0, 1.0, 1.0, 1.0, 0, 1.0, 1.0, 1.0, 1.0, 0.8, 0.9473684210526316, 0.35294117647058826, 1.0, 0.7499999999999999, 1.0, 0, 0, 0, 0, 0, 0.5, 1.0, 1.0, 1.0, 1.0, 0, 1.0, 1.0, 0.9090909090909091, 0.9166666666666666, 0.05714285714285715, 0, 0.5, 1.0, 0, 1.0, 1.0, 1.0, 1.0, 1.0, 1.0, 1.0, 0.4210526315789474, 0.7692307692307693, 1.0, 0, 0, 0.8, 0.9333333333333333, 0.6, 1.0, 1.0, 1.0, 0.5, 0.35294117647058826, 1.0, 1.0, 0.33333333333333337, 1.0, 1.0, 0.6, 1.0, 0.5, 1.0, 1.0, 1.0, 1.0, 1.0, 1.0, 1.0, 1.0, 0.9090909090909091, 0, 1.0, 1.0, 1.0, 0.8, 0, 0, 0.5, 1.0, 0.6666666666666666, 1.0, 0, 1.0, 1.0, 0, 1.0, 1.0, 1.0, 1.0, 1.0, 0.5714285714285715, 0.8571428571428571, 1.0, 1.0, 1.0, 0, 0, 0.33333333333333337, 1.0, 1.0, 0.8571428571428571, 1.0, 1.0, 1.0, 0.7272727272727273, 0, 0.6666666666666666, 1.0, 1.0, 0, 1.0, 0, 0, 0, 0.6666666666666666, 0.11764705882352941, 1.0, 0, 0.8571428571428571, 0, 1.0, 1.0, 1.0, 0.8, 1.0, 0.888888888888889, 0, 1.0, 1.0, 0.6666666666666666, 1.0, 1.0, 1.0, 0.5454545454545454, 1.0, 0.5, 0.4, 1.0, 1.0, 1.0, 1.0, 0.9090909090909091, 0.888888888888889, 1.0, 0.8, 0, 0, 0, 0, 1.0, 1.0, 0.125, 1.0, 0, 1.0, 1.0, 0, 0.4, 1.0, 1.0, 1.0, 1.0, 1.0, 0.8, 1.0, 0, 0, 0, 1.0, 1.0, 0.17391304347826084, 0.888888888888889, 1.0, 0.19999999999999998, 1.0, 1.0, 1.0, 1.0, 0, 1.0, 1.0, 0, 1.0, 0.7272727272727273, 0.6666666666666666, 1.0, 1.0, 1.0, 0, 1.0, 1.0, 1.0, 0.8571428571428571, 1.0, 1.0, 1.0, 1.0, 1.0, 1.0, 0, 0.8, 0.06741573033707865, 0, 1.0, 1.0, 0, 1.0, 1.0, 1.0, 0, 1.0, 0.8571428571428571, 1.0, 1.0, 0, 0, 0.9090909090909091, 0, 1.0, 1.0, 1.0, 0.923076923076923, 0.7368421052631579, 0, 1.0, 1.0, 0, 0, 0, 1.0, 0, 0.8, 0.4, 0.5714285714285715, 0.8750000000000001, 0, 0.6666666666666666, 1.0, 0, 1.0, 1.0, 0.8750000000000001, 0.8571428571428571, 0.8, 1.0, 0.4, 0.923076923076923, 0.8571428571428571, 0.88, 0.30303030303030304, 1.0, 0.6666666666666666, 0, 1.0, 0, 1.0, 1.0, 0.4, 0.6666666666666666, 1.0, 0, 0, 0.5714285714285715, 0, 1.0, 0, 0.8, 0, 1.0, 0, 1.0, 0.8275862068965517, 0.3846153846153846, 0.2222222222222222, 1.0, 0.8, 0.8, 0, 1.0, 0, 1.0, 0, 0.8235294117647058, 0.8333333333333333, 0, 1.0, 0.9473684210526316, 0.9090909090909091, 0, 1.0, 0, 0.13333333333333333, 0.5, 0.9090909090909091, 1.0, 0.9523809523809523, 1.0, 1.0, 1.0, 1.0, 1.0, 0, 0, 0, 0, 1.0, 1.0, 1.0, 0.6181818181818182, 1.0, 0.8571428571428571, 1.0, 0.4444444444444444, 0.6666666666666666, 1.0, 1.0, 1.0, 1.0, 1.0, 0.4347826086956522, 1.0, 1.0, 1.0, 0.6666666666666666, 1.0, 0, 1.0, 0, 0.8, 0.5454545454545454, 1.0, 1.0, 0, 0, 0.33333333333333337, 0.923076923076923, 0.7499999999999999, 0.6666666666666666, 1.0, 1.0, 1.0, 1.0, 0.9333333333333333, 0.8, 0.8, 0.17391304347826084, 0.5333333333333333, 0, 1.0, 0.9285714285714286, 1.0, 1.0, 0, 0.7499999999999999, 1.0, 1.0, 1.0, 0.9855072463768115, 1.0, 1.0, 1.0, 0.6, 0, 1.0, 1.0, 0.8, 0, 0.9565217391304348, 0, 1.0, 1.0, 0.5365853658536585, 0.6666666666666666, 1.0, 1.0, 1.0, 0, 1.0, 0.4, 0.6666666666666666, 0.2222222222222222, 1.0, 0.8571428571428571, 0.9, 0.32142857142857145, 0, 0.8750000000000001, 0.875, 0.9333333333333333, 1.0, 1.0, 0.9090909090909091, 1.0, 1.0, 1.0, 1.0, 0.9090909090909091, 1.0, 0.9090909090909091, 1.0, 1.0, 1.0, 1.0, 1.0, 0, 0.8750000000000001, 0.962962962962963, 1.0, 0.9600000000000001, 0.23529411764705882, 0.7272727272727273, 0.6666666666666666, 1.0, 0.3636363636363636, 0.4615384615384615, 0, 1.0, 1.0, 1.0, 0.6666666666666666, 0.5263157894736842, 0.5555555555555556, 1.0, 0.888888888888889, 1.0, 1.0, 0.6086956521739131, 0.5384615384615384, 0.8095238095238095, 0, 0.5806451612903226, 0.8, 0.8, 0.923076923076923, 1.0, 0.7499999999999999, 1.0, 1.0, 0.5882352941176471, 1.0, 1.0, 1.0, 1.0, 1.0, 0, 0.7499999999999999, 0, 1.0, 0.6666666666666666, 1.0, 0, 1.0, 1.0, 1.0, 1.0, 0.6896551724137931, 0.8333333333333333, 0.9333333333333333, 0, 1.0, 1.0, 0.6111111111111112, 0.6666666666666666, 0.7317073170731707, 0.8571428571428571, 1.0, 0, 1.0, 0.6666666666666666, 1.0, 0, 1.0, 1.0, 1.0, 0.3076923076923077, 0.5454545454545454, 1.0, 0.8571428571428571, 1.0, 0, 0.923076923076923, 0.16666666666666669, 1.0, 1.0, 0.2857142857142857, 0, 1.0, 0.9411764705882353, 1.0, 1.0, 1.0, 0.8421052631578948, 0.56, 1.0, 1.0, 0.6666666666666666, 0.25, 1.0, 1.0, 1.0, 0.19354838709677416, 0, 0.8, 0.8235294117647058, 0.888888888888889, 0, 0.5555555555555556, 1.0, 1.0, 0, 0.7368421052631579, 0, 0, 0, 1.0, 0, 0.782608695652174, 0.9333333333333333, 0.8, 0, 0, 0.888888888888889, 0, 0, 0.5714285714285715, 1.0, 0.375, 1.0, 1.0, 1.0, 0.6, 1.0, 1.0, 0, 1.0, 0.8, 1.0, 0.5882352941176471, 0.9090909090909091, 0, 0.9777777777777777, 1.0, 0.923076923076923, 0.8235294117647058, 0, 0.9473684210526316, 0, 0, 1.0, 0, 0.8, 0.5416666666666666, 1.0, 1.0, 0.2857142857142857, 0.8571428571428571, 1.0, 1.0, 0, 0, 0.33333333333333337, 0.6666666666666666, 1.0, 0, 1.0, 0.6, 1.0, 1.0, 0, 0.9090909090909091, 1.0, 0.19999999999999998, 0.6222222222222223, 0, 0, 0.5714285714285715, 1.0, 0.2857142857142857, 1.0, 1.0, 1.0, 0.8, 1.0, 0, 0, 1.0, 0.9090909090909091, 1.0, 0.6956521739130436, 0, 1.0, 1.0, 1.0, 1.0, 1.0, 1.0, 1.0, 1.0, 0, 0, 0, 0, 1.0, 0.9411764705882353, 0, 0, 0.3111111111111111, 0.1818181818181818, 0, 0, 0, 0, 0, 0.2857142857142857, 0, 1.0, 0.23529411764705882, 0, 0.125, 1.0, 0.8571428571428571, 0, 0.7499999999999999, 1.0, 0, 0.6666666666666666, 1.0, 0.88, 1.0, 0, 0.16666666666666669, 1.0, 1.0, 0.8333333333333333, 1.0, 0, 0.6666666666666666, 1.0, 0.8571428571428571, 0.8571428571428571, 1.0, 0.7272727272727273, 0.8571428571428571, 0.5, 1.0, 1.0, 0.6956521739130436, 0.9565217391304348, 1.0, 0.5, 1.0, 0.6666666666666666, 1.0, 0.6666666666666666, 1.0, 1.0, 1.0, 1.0, 1.0, 0.6666666666666666, 0.923076923076923, 1.0, 0.8, 1.0, 0.6666666666666666, 0.6666666666666666, 1.0, 1.0, 0, 0.6666666666666666, 0.6666666666666666, 1.0, 0, 0, 1.0, 1.0, 1.0, 1.0, 0.888888888888889, 1.0, 1.0, 1.0, 0.6666666666666666, 1.0, 0.6666666666666666, 1.0, 0.8, 1.0, 1.0, 1.0, 0.6666666666666666, 1.0, 0.8571428571428571, 1.0, 1.0, 1.0, 1.0, 1.0, 0.6666666666666666, 1.0, 0.888888888888889, 0.5454545454545454, 1.0, 1.0, 1.0, 0.6666666666666666, 1.0, 0, 1.0, 1.0, 1.0, 1.0, 0.6666666666666666, 1.0, 0.888888888888889, 1.0, 1.0, 1.0, 1.0, 1.0, 1.0, 1.0, 1.0, 1.0, 0.923076923076923, 1.0, 1.0, 0, 1.0, 1.0, 0.9090909090909091, 1.0, 1.0, 1.0, 1.0, 1.0, 0, 1.0, 1.0, 1.0, 0.2857142857142857, 0.7272727272727273, 1.0, 0, 0.2857142857142857, 1.0, 0.8571428571428571, 1.0, 1.0, 1.0, 1.0, 1.0, 0.8000000000000002, 1.0, 1.0, 0, 1.0, 1.0, 1.0, 1.0, 0.8, 0, 1.0, 1.0, 0, 1.0, 1.0, 0, 0.8571428571428571, 1.0, 0.7499999999999999, 1.0, 0.8, 1.0, 1.0, 0, 1.0, 1.0, 0.8, 1.0, 1.0, 0, 1.0, 1.0, 1.0, 1.0, 0, 0.8, 1.0, 1.0, 1.0, 1.0, 1.0, 0.6666666666666666, 1.0, 0.5, 0.8, 1.0, 1.0, 1.0, 0.5833333333333334, 1.0, 0, 1.0, 1.0, 1.0, 0, 0.6666666666666666, 0.2857142857142857, 1.0, 1.0, 0, 1.0, 0.6666666666666666, 1.0, 0.7499999999999999, 0.42424242424242425, 0.33333333333333337, 1.0, 0, 0, 0, 0, 0.8, 1.0, 0.6666666666666666, 0, 1.0, 0.8, 1.0, 1.0, 1.0, 0.18604651162790695, 0, 0, 1.0, 0.5714285714285715, 1.0, 0.6666666666666666, 1.0, 1.0, 1.0, 1.0, 1.0, 1.0, 0.6666666666666666, 0.4444444444444445, 1.0, 1.0, 0.6666666666666666, 1.0, 1.0, 1.0, 0, 1.0, 1.0, 0.5, 1.0, 1.0, 1.0, 0, 1.0, 1.0, 1.0, 1.0, 1.0, 0, 1.0, 0.6666666666666666, 0.6666666666666666, 1.0, 1.0, 1.0, 1.0, 1.0, 1.0, 0, 0.8571428571428571, 0.4, 1.0, 0, 1.0, 0.6666666666666666, 1.0, 1.0, 0.8, 1.0, 1.0, 1.0, 0.33333333333333337, 0.7499999999999999, 1.0, 0, 1.0, 0.6666666666666666, 1.0, 0.8571428571428571, 1.0, 1.0, 0.5, 1.0, 1.0, 0, 1.0, 1.0, 0.5, 1.0, 0.6666666666666666, 0.6666666666666666, 0.8, 1.0, 1.0, 1.0, 1.0, 0.7499999999999999, 1.0, 0.4, 0.8, 1.0, 1.0, 1.0, 1.0, 1.0, 1.0, 0, 1.0, 1.0, 1.0, 1.0, 1.0, 1.0, 1.0, 0.8, 1.0, 0.32258064516129037, 1.0, 0.8571428571428571, 1.0, 1.0, 0, 1.0, 0.5454545454545454, 1.0, 1.0, 0.8, 0, 1.0, 0, 0.8, 1.0, 0.33333333333333337, 1.0, 1.0, 0.888888888888889, 1.0, 0.6666666666666665, 0, 1.0, 1.0, 1.0, 1.0, 1.0, 0, 0, 0, 0, 1.0, 1.0, 1.0, 1.0, 1.0, 1.0, 1.0, 1.0, 1.0, 1.0, 1.0, 0, 0.888888888888889, 1.0, 1.0, 1.0, 0, 1.0, 1.0, 1.0, 1.0, 1.0, 1.0, 1.0, 1.0, 0, 1.0, 0.6666666666666666, 0.4, 1.0, 1.0, 1.0, 1.0, 1.0, 1.0, 1.0, 1.0, 0.33333333333333337, 1.0, 1.0, 1.0, 1.0, 1.0, 1.0, 1.0, 0.8571428571428571, 1.0, 0.6666666666666666, 1.0, 1.0, 1.0, 1.0, 0.5, 0.6666666666666666, 1.0, 1.0, 1.0, 0.375, 0.7499999999999999, 0.9090909090909091, 1.0, 1.0, 0.8571428571428571, 0.8571428571428571, 1.0, 0.7499999999999999, 0, 0.8, 0.28571428571428575, 1.0, 0.888888888888889, 0.5, 0.5714285714285715, 1.0, 1.0, 0.8571428571428571, 1.0, 0.4, 1.0, 0.8, 1.0, 1.0, 1.0, 1.0, 1.0, 1.0, 0.9411764705882353, 1.0, 1.0, 1.0, 1.0, 1.0, 0, 1.0, 1.0, 0.9411764705882353, 0.4, 1.0, 0.4, 1.0, 0, 0.8, 0.4, 0.6153846153846153, 0.6666666666666666, 1.0, 0, 0.5, 1.0, 1.0, 0.4444444444444444, 0, 1.0, 1.0, 1.0, 0.8, 1.0, 1.0, 1.0, 0, 1.0, 1.0, 1.0, 1.0, 1.0, 1.0, 0.8571428571428571, 1.0, 1.0, 1.0, 1.0, 0, 0.6, 1.0, 1.0, 0, 1.0, 1.0, 1.0, 1.0, 1.0, 1.0, 1.0, 1.0, 0, 1.0, 0, 0.14814814814814814, 0.6666666666666666, 1.0, 0.6666666666666665, 1.0, 1.0, 1.0, 1.0, 1.0, 1.0, 1.0, 1.0, 1.0, 1.0, 1.0, 1.0, 1.0, 0.8, 1.0, 1.0, 1.0, 1.0, 0, 1.0, 0.5, 1.0, 1.0, 1.0, 1.0, 0.8, 1.0, 0.8571428571428571, 1.0, 0.4, 1.0, 0.923076923076923, 1.0, 0.8571428571428571, 1.0, 1.0, 1.0, 0.6666666666666666, 1.0, 1.0, 1.0, 1.0, 1.0, 1.0, 1.0, 0.9090909090909091, 1.0, 1.0, 1.0, 1.0, 1.0, 1.0, 1.0, 1.0, 1.0, 0.8, 1.0, 1.0, 1.0, 0.888888888888889, 1.0, 1.0, 1.0, 1.0, 1.0, 1.0, 0.6666666666666666, 1.0, 1.0, 0.5714285714285715, 0, 0, 1.0, 0.5, 0.8, 1.0, 1.0, 1.0, 1.0, 1.0, 1.0, 1.0, 1.0, 1.0, 1.0, 1.0, 1.0, 0.2857142857142857, 0.33333333333333337, 1.0, 1.0, 1.0, 1.0, 1.0, 0, 1.0, 1.0, 1.0, 1.0, 0.8571428571428571, 1.0, 1.0, 1.0, 1.0, 1.0, 1.0, 1.0, 1.0, 1.0, 1.0, 0.8, 0.8571428571428571, 0.8571428571428571, 1.0, 1.0, 1.0, 0, 1.0, 1.0, 0.5, 0.7272727272727273, 0.5, 1.0, 0, 0.5454545454545454, 1.0, 1.0, 1.0, 1.0, 1.0, 1.0, 1.0, 1.0, 1.0, 0.8, 0.6666666666666666, 1.0, 1.0, 1.0, 1.0, 1.0, 1.0, 0.888888888888889, 1.0, 0.6666666666666666, 0.6153846153846153, 1.0, 1.0, 1.0, 0.9333333333333333, 0.6666666666666666, 1.0, 1.0, 1.0, 1.0, 1.0, 0.4, 0.8, 0.8, 1.0, 1.0, 0.8, 1.0, 1.0, 1.0, 1.0, 0.3076923076923077, 1.0, 1.0, 1.0, 1.0, 1.0, 0.8, 0.9090909090909091, 0.7058823529411764, 1.0, 1.0, 0.6666666666666666, 1.0, 1.0, 0.33333333333333337, 1.0, 1.0, 1.0, 1.0, 0.6666666666666666, 1.0, 1.0, 1.0, 0, 1.0, 0.5714285714285714, 1.0, 0.8, 1.0, 0.8, 1.0, 1.0, 1.0, 0.9, 1.0, 0.5, 1.0, 0.8571428571428571, 1.0, 0.8333333333333333, 1.0, 0.8571428571428571, 1.0, 1.0, 0.2222222222222222, 1.0, 1.0, 0.8, 0.8, 1.0, 1.0, 1.0, 0.8, 1.0, 1.0, 1.0, 1.0, 0.6666666666666666, 1.0, 1.0, 1.0, 0.6666666666666666, 1.0, 1.0, 1.0, 1.0, 1.0, 1.0, 1.0, 1.0, 0.8571428571428571, 0.6666666666666666, 1.0, 1.0, 1.0, 1.0, 0, 1.0, 1.0, 1.0, 0, 1.0, 1.0, 1.0, 1.0, 1.0, 1.0, 1.0, 1.0, 0, 1.0, 1.0, 0.8571428571428571, 1.0, 1.0, 1.0, 1.0, 1.0, 1.0, 1.0, 1.0, 1.0, 1.0, 1.0, 0, 1.0, 1.0, 1.0, 1.0, 0, 1.0, 1.0, 1.0, 0.923076923076923, 1.0, 1.0, 1.0, 1.0, 1.0, 1.0, 1.0, 1.0, 1.0, 1.0, 0.5, 1.0, 0, 0.8, 1.0, 1.0, 0, 1.0, 1.0, 0, 0.3636363636363636, 0, 1.0, 0.5714285714285715, 0.8, 1.0, 1.0, 0.888888888888889, 1.0, 0.8, 1.0, 1.0, 1.0, 0, 1.0, 1.0, 0.888888888888889, 1.0, 1.0, 1.0, 1.0, 1.0, 0.33333333333333337, 1.0, 1.0, 1.0, 1.0, 1.0, 1.0, 1.0, 0.8, 0, 1.0, 1.0, 0.5714285714285715, 1.0, 0.888888888888889, 0, 0.8, 0.5714285714285715, 0.8, 0.888888888888889, 1.0, 0.4615384615384615, 0.8, 1.0, 1.0, 0.4, 1.0, 1.0, 0.16666666666666669, 0.5, 1.0, 0.8, 0.6666666666666666, 0.888888888888889, 0.8, 0, 1.0, 1.0, 0.8571428571428571, 0.4, 0.8, 1.0, 0.8, 0.8, 1.0, 1.0, 0.8571428571428571, 1.0, 1.0, 0.8571428571428571, 0.6666666666666666, 1.0, 0.9090909090909091, 1.0, 1.0, 0, 0.8571428571428571, 1.0, 0, 0.8, 1.0, 1.0, 1.0, 1.0, 0.5454545454545454, 0.8, 0.9600000000000001, 1.0, 0.6, 1.0, 1.0, 1.0, 1.0, 0.6666666666666666, 1.0, 1.0, 1.0, 1.0, 0.6666666666666666, 1.0, 0.8, 1.0, 1.0, 1.0, 1.0, 1.0, 1.0, 1.0, 1.0, 1.0, 1.0, 1.0, 1.0, 1.0, 0, 1.0, 0.8, 0.6666666666666666, 0.8, 1.0, 1.0, 0, 1.0, 0.4, 1.0, 1.0, 0, 0.888888888888889, 1.0, 1.0, 0.6666666666666666, 0, 0.16129032258064516, 0.010471204188481674, 0.35294117647058826, 0, 0.9473684210526316, 0.7499999999999999, 0, 0.5, 0, 1.0, 0, 0.6060606060606061, 0.3636363636363636, 0.888888888888889, 0.25, 0, 0.19999999999999998, 1.0, 1.0, 0.9090909090909091, 0, 0, 0, 0.888888888888889, 0, 1.0, 1.0, 0, 0.923076923076923, 1.0, 0, 0.9600000000000001, 0.4444444444444445, 0.8750000000000001, 0.2745098039215686, 1.0, 1.0, 0, 1.0, 0.9565217391304348, 0.7368421052631579, 1.0, 0.8181818181818181, 1.0, 1.0, 1.0, 0.5714285714285715, 1.0, 0.8235294117647058, 0.5294117647058824, 1.0, 0.9473684210526316, 1.0, 1.0, 0, 1.0, 1.0, 0, 1.0, 0, 0.4166666666666667, 0.9375, 0.625, 0, 0.8421052631578948, 0, 0.88, 1.0, 0, 0.6428571428571429, 0.9600000000000001, 0, 1.0, 0, 1.0, 1.0, 0, 1.0, 0, 0.8235294117647058, 1.0, 0.6666666666666666, 1.0, 1.0, 0.888888888888889, 1.0, 0.9333333333333333, 0.5714285714285715, 0.962962962962963, 1.0, 0.6666666666666666, 0.787878787878788, 0, 1.0, 0, 0.7272727272727273, 0.8421052631578948, 1.0, 1.0, 0.5714285714285715, 1.0, 0, 1.0, 1.0, 0.6153846153846153, 1.0, 0.8571428571428571, 1.0, 1.0, 1.0, 1.0, 1.0, 1.0, 0.7499999999999999, 1.0, 1.0, 1.0, 1.0, 0.6666666666666666, 1.0, 0.8, 0.8, 0.8, 1.0, 1.0, 1.0, 0.9090909090909091, 1.0, 1.0, 1.0, 1.0, 1.0, 0, 0, 1.0, 1.0, 1.0, 0, 1.0, 1.0, 1.0, 1.0, 0.5, 1.0, 1.0, 1.0, 1.0, 1.0, 1.0, 1.0, 1.0, 0.5, 1.0, 1.0, 0.5454545454545454, 1.0, 0.8571428571428571, 0.4827586206896552, 0, 0.923076923076923, 1.0, 1.0, 1.0, 0.5, 1.0, 1.0, 1.0, 0.888888888888889, 0.125, 1.0, 1.0, 1.0, 0.5, 1.0, 0.5, 0, 1.0, 0.17391304347826084, 0, 0.888888888888889, 1.0, 1.0, 0.8333333333333333, 1.0, 0.6666666666666666, 1.0, 0.8, 0.5, 1.0, 0, 1.0, 0.6666666666666666, 1.0, 1.0, 1.0, 1.0, 1.0, 1.0, 1.0, 1.0, 0, 0.6666666666666666, 1.0, 0, 1.0, 1.0, 0.6153846153846153, 0.888888888888889, 1.0, 1.0, 1.0, 0.5, 1.0, 1.0, 0.8571428571428571, 1.0, 0.9333333333333333, 1.0, 0, 0.8, 1.0, 1.0, 0, 1.0, 1.0, 1.0, 0.888888888888889, 1.0, 1.0, 1.0, 1.0, 1.0, 1.0, 1.0, 1.0, 0.7499999999999999, 1.0, 1.0, 1.0, 1.0, 1.0, 1.0, 1.0, 1.0, 1.0, 0.9090909090909091, 0.5454545454545454, 1.0, 1.0, 0.888888888888889, 0, 0.8, 1.0, 1.0, 1.0, 1.0, 0, 0.6666666666666666, 0.4, 1.0, 0.6666666666666666, 1.0, 1.0, 1.0, 0.8333333333333333, 0, 1.0, 0.05714285714285715, 0.6666666666666666, 1.0, 0.6666666666666666, 0.23529411764705882, 0.6666666666666666, 1.0, 1.0, 1.0, 0.4615384615384615, 0.04878048780487806, 0.6666666666666666, 1.0, 0, 1.0, 0.3076923076923077, 1.0, 0.9411764705882353, 1.0, 1.0, 1.0, 1.0, 1.0, 0.125, 1.0, 0, 1.0, 1.0, 1.0, 0.7499999999999999, 1.0, 0.6666666666666666, 0.888888888888889, 1.0, 1.0, 1.0, 1.0, 0.9090909090909091, 1.0, 1.0, 1.0, 1.0, 1.0, 1.0, 0, 1.0, 0.9090909090909091, 1.0, 1.0, 0.5, 1.0, 0.3157894736842105, 0, 0, 1.0, 1.0, 1.0, 1.0, 1.0, 0.6, 1.0, 1.0, 1.0, 1.0, 0, 1.0, 1.0, 0.5, 0.33333333333333337, 1.0, 0.5, 0.9523809523809523, 1.0, 1.0, 1.0, 0, 0, 0, 0, 0.6521739130434783, 1.0, 1.0, 1.0, 1.0, 0, 1.0, 1.0, 0, 1.0, 0.9090909090909091, 0.8571428571428571, 1.0, 1.0, 0.5, 1.0, 0.8571428571428571, 1.0, 1.0, 1.0, 1.0, 0, 1.0, 0.5, 0.4, 0, 1.0, 0, 1.0, 1.0, 0.8571428571428571, 1.0, 0.6666666666666666, 1.0, 0.375, 1.0, 0.6842105263157895, 0, 0.8, 1.0, 0.25, 1.0, 1.0, 1.0, 1.0, 0.7272727272727273, 0.4, 0.1111111111111111, 1.0, 1.0, 1.0, 0.7499999999999999, 1.0, 0.962962962962963, 0.25, 1.0, 1.0, 0, 0.3636363636363636, 1.0, 1.0, 1.0, 1.0, 1.0, 0.5411764705882353, 0.8571428571428571, 0, 1.0, 0.4, 1.0, 1.0, 1.0, 1.0, 1.0, 1.0, 1.0, 1.0, 1.0, 1.0, 1.0, 1.0, 1.0, 0.33333333333333337, 1.0, 0.4, 0, 1.0, 0.631578947368421, 0.5, 0.8, 0.9615384615384615, 1.0, 1.0, 1.0, 0, 1.0, 1.0, 1.0, 1.0, 0, 1.0, 0.9411764705882353, 1.0, 0, 0.8, 0.2857142857142857, 1.0, 0.8, 1.0, 0.888888888888889, 0, 0.5, 1.0, 0.05084745762711864, 1.0, 0.05128205128205127, 1.0, 1.0, 0.7692307692307693, 1.0, 0, 1.0, 1.0, 1.0, 1.0, 0.5714285714285715, 0, 0.4444444444444445, 1.0, 1.0, 0.5625, 0.9333333333333333, 1.0, 0, 1.0, 1.0, 0, 1.0, 0.25, 1.0, 1.0, 1.0, 0, 1.0, 1.0, 1.0, 0.1081081081081081, 1.0, 0.625, 0, 0.35294117647058826, 0, 0, 0.38095238095238093, 0.8571428571428571, 1.0, 1.0, 1.0, 0, 1.0, 0.30769230769230765, 0, 1.0, 1.0, 1.0, 0.6666666666666666, 1.0, 0, 1.0, 1.0, 0, 1.0, 0.6, 0.35294117647058826, 0.03773584905660378, 0.8571428571428571, 1.0, 0, 0.5, 1.0, 0.6923076923076924, 1.0, 1.0, 1.0, 0.8571428571428571, 0.4347826086956522, 0.23529411764705885, 0.41379310344827586, 0, 0.7499999999999999, 0, 1.0, 0.4, 0.888888888888889, 1.0, 1.0, 1.0, 1.0, 0, 1.0, 1.0, 0.2807017543859649, 1.0, 0.4, 0.888888888888889, 0.6666666666666666, 0.03007518796992481, 1.0, 1.0, 1.0, 0.35294117647058826, 1.0, 0, 0.8387096774193548, 0, 0.8571428571428571, 1.0, 0.7272727272727273, 0, 1.0, 0.8571428571428571, 0.7499999999999999, 0.6666666666666666, 0, 1.0, 1.0, 0.8571428571428571, 0, 0, 0.8, 1.0, 0.3076923076923077, 1.0, 0.8, 1.0, 1.0, 1.0, 1.0, 0.6451612903225806, 1.0, 0, 0, 1.0, 0, 0.7499999999999999, 0.5714285714285715, 0, 0, 1.0, 1.0, 1.0, 1.0, 1.0, 0.6666666666666666, 0, 0.2222222222222222, 0.5714285714285715, 1.0, 0, 0, 0, 0.5, 1.0, 0.8, 0.08333333333333333, 0.3636363636363636, 1.0, 1.0, 0.7333333333333334, 0, 0, 0, 0.3684210526315789, 1.0, 0.10256410256410256, 1.0, 1.0, 0.5714285714285715, 1.0, 1.0, 1.0, 0.6190476190476191, 0, 1.0, 0.6666666666666666, 0.4, 0, 1.0, 0.33333333333333337, 0.5, 1.0, 0, 1.0, 1.0, 1.0, 1.0, 0, 1.0, 0.9333333333333333, 0.34782608695652173, 1.0, 1.0, 1.0, 0.25, 1.0, 1.0, 1.0, 1.0, 1.0, 0, 0.6153846153846153, 1.0, 1.0, 1.0, 0.049180327868852465, 0.56, 0, 0.9090909090909091, 1.0, 0.6666666666666666, 1.0, 1.0, 0, 0.6666666666666666, 0.7499999999999999, 0.8571428571428571, 0.7272727272727273, 1.0, 1.0, 0.29629629629629634, 1.0, 0, 1.0, 1.0, 0, 0, 1.0, 0, 1.0, 1.0, 0.631578947368421, 1.0, 1.0, 1.0, 1.0, 1.0, 1.0, 0, 1.0, 0.8571428571428571, 0.5, 1.0, 0, 1.0, 0, 1.0, 0.3076923076923077, 0.8571428571428571, 1.0, 1.0, 1.0, 0, 0.923076923076923, 1.0, 1.0, 1.0, 0, 1.0, 0.8, 0, 0, 0.923076923076923, 1.0, 0.8, 1.0, 1.0, 0.888888888888889, 0.18181818181818182, 0, 1.0, 1.0, 0, 1.0, 1.0, 0.8, 1.0, 1.0, 0.888888888888889, 1.0, 1.0, 0.9565217391304348, 0.8571428571428571, 0.7499999999999999, 1.0, 1.0, 1.0, 1.0, 1.0, 1.0, 1.0, 1.0, 1.0, 1.0, 0, 1.0, 0.962962962962963, 1.0, 1.0, 1.0, 1.0, 1.0, 1.0, 0.5, 0, 1.0, 1.0, 1.0, 1.0, 1.0, 1.0, 1.0, 1.0, 1.0, 1.0, 0, 0, 1.0, 1.0, 1.0, 1.0, 1.0, 1.0, 0.8571428571428571, 1.0, 0, 0, 1.0, 1.0, 0, 1.0, 1.0, 1.0, 1.0, 0.8571428571428571, 1.0, 0.888888888888889, 0.8, 0.7499999999999999, 0, 1.0, 1.0, 1.0, 0.13559322033898305, 1.0, 1.0, 1.0, 1.0, 0.9333333333333333, 1.0, 1.0, 0.5, 1.0, 0.6153846153846153, 1.0, 1.0, 1.0, 0, 1.0, 1.0, 1.0, 1.0, 1.0, 1.0, 1.0, 1.0, 1.0, 1.0, 1.0, 1.0, 1.0, 1.0, 0, 1.0, 1.0, 1.0, 1.0, 0.8571428571428571, 1.0, 1.0, 1.0, 0, 1.0, 1.0, 1.0, 0.4444444444444445, 0.6666666666666666, 1.0, 1.0, 1.0, 1.0, 1.0, 1.0, 0.6666666666666666, 1.0, 1.0, 1.0, 1.0, 1.0, 1.0, 0.09523809523809523, 1.0, 1.0, 0.7499999999999999, 1.0, 0.8, 1.0, 1.0, 1.0, 1.0, 0.7499999999999999, 1.0, 1.0, 1.0, 1.0, 0.8, 1.0, 1.0, 1.0, 1.0, 1.0, 0.8, 1.0, 1.0, 1.0, 1.0, 1.0, 1.0, 0.5, 1.0, 1.0, 0.9333333333333333, 0.6666666666666666, 1.0, 1.0, 1.0, 0.6666666666666666, 0.8, 0.8571428571428571, 1.0, 1.0, 0.33333333333333337, 1.0, 1.0, 0.5454545454545454, 1.0, 1.0, 1.0, 0, 1.0, 1.0, 1.0, 1.0, 0.9473684210526316, 1.0, 1.0, 0.8571428571428571, 0.923076923076923, 1.0, 1.0, 1.0, 1.0, 1.0, 1.0, 1.0, 1.0, 0, 1.0, 1.0, 0.8571428571428571, 1.0, 1.0, 0.8, 1.0, 1.0, 1.0, 0.888888888888889, 1.0, 1.0, 1.0, 0, 1.0, 0.5, 1.0, 1.0, 1.0, 1.0, 1.0, 0.8, 0.8, 1.0, 0.5714285714285715, 1.0, 1.0, 1.0, 0, 1.0, 1.0, 1.0, 1.0, 1.0, 1.0, 1.0, 1.0, 1.0, 0, 1.0, 1.0, 1.0, 0, 0, 1.0, 1.0, 1.0, 0.2222222222222222, 1.0, 0, 0.2222222222222222, 0, 1.0, 1.0, 0.19999999999999998, 1.0, 1.0, 0.888888888888889, 1.0, 1.0, 0.34782608695652173, 1.0, 0.8571428571428571, 0.5714285714285715, 1.0, 0.8, 0, 0.888888888888889, 0, 0.8, 1.0, 0, 1.0, 0.2758620689655173, 0, 0, 1.0, 0, 0, 0.4, 0.2, 0, 1.0, 0.06666666666666667, 1.0, 1.0, 0.03508771929824561, 0.08888888888888888, 1.0, 1.0, 1.0, 0, 0.9333333333333333, 1.0, 0, 1.0, 0, 1.0, 0.07692307692307693, 0.18181818181818182, 1.0, 1.0, 1.0, 1.0, 1.0, 0.8, 0.19999999999999998, 1.0, 1.0, 0.4, 0.3333333333333333, 0.7999999999999999, 0, 1.0, 0, 1.0, 1.0, 1.0, 1.0, 1.0, 1.0, 1.0, 0, 1.0, 1.0, 1.0, 1.0, 1.0, 1.0, 0.8, 1.0, 1.0, 0.4444444444444445, 0.2926829268292683, 0.6666666666666665, 1.0, 0, 1.0, 0, 1.0, 0, 0.22807017543859648, 0.6666666666666666, 0.9333333333333333, 0.4, 0.888888888888889, 1.0, 1.0, 1.0, 0.8571428571428571, 1.0, 1.0, 1.0, 1.0, 1.0, 1.0, 1.0, 1.0, 0.8, 1.0, 0.7692307692307693, 0.6666666666666666, 0.9411764705882353, 0, 1.0, 1.0, 0.09756097560975609, 1.0, 1.0, 1.0, 0.8, 0.5555555555555556, 1.0, 0.8235294117647058, 0, 1.0, 1.0, 0.8, 1.0, 1.0, 1.0, 1.0, 1.0, 1.0, 1.0, 1.0, 0.2222222222222222, 0.6206896551724138, 1.0, 1.0, 1.0, 1.0, 1.0, 1.0, 1.0, 1.0, 1.0, 0.125, 1.0, 1.0, 1.0, 1.0, 1.0, 1.0, 0, 0.6666666666666666, 1.0, 1.0, 1.0, 1.0, 0.8, 1.0, 0, 1.0, 1.0, 1.0, 1.0, 1.0, 1.0, 0.2222222222222222, 0.6666666666666666, 0.8333333333333333, 0.6875000000000001, 1.0, 1.0, 0.6666666666666666, 1.0, 1.0, 1.0, 0.21428571428571425, 1.0, 0, 0, 0, 1.0, 1.0, 0.9090909090909091, 0.8, 1.0, 1.0, 1.0, 0.8571428571428571, 1.0, 1.0, 0.9600000000000001, 0, 1.0, 1.0, 1.0, 1.0, 1.0, 1.0, 1.0, 0.026666666666666665, 0, 1.0, 0.6666666666666666, 1.0, 1.0, 1.0, 0.6666666666666666, 0.6666666666666666, 0, 1.0, 1.0, 1.0, 1.0, 1.0, 1.0, 0, 0.4, 1.0, 1.0, 1.0, 0.9090909090909091, 1.0, 1.0, 0.7777777777777778, 1.0, 1.0, 1.0, 1.0, 1.0, 1.0, 1.0, 1.0, 1.0, 0, 1.0, 0, 1.0, 1.0, 1.0, 0, 1.0, 1.0, 1.0, 1.0, 1.0, 0.8, 0.42857142857142855, 1.0, 0, 1.0, 0.4, 0.8571428571428571, 1.0, 1.0, 1.0, 1.0, 1.0, 1.0, 1.0, 0.888888888888889, 1.0, 0.7499999999999999, 0.5185185185185185, 1.0, 1.0, 1.0, 0.8571428571428571, 1.0, 1.0, 1.0, 1.0, 1.0, 0.888888888888889, 1.0, 1.0, 0.6666666666666666, 1.0, 1.0, 1.0, 1.0, 1.0, 0, 0.888888888888889, 1.0, 0, 1.0, 1.0, 1.0, 1.0, 1.0, 0, 0, 0.8, 0.19999999999999998, 0.47058823529411764, 1.0, 1.0, 1.0, 1.0, 0.8571428571428571, 0, 1.0, 1.0, 1.0, 1.0, 0, 1.0, 1.0, 1.0, 0.6666666666666666, 1.0, 1.0, 1.0, 1.0, 1.0, 0.923076923076923, 1.0, 1.0, 1.0, 1.0, 1.0, 0.9333333333333333, 0.9523809523809523, 0, 0.8, 1.0, 1.0, 1.0, 0, 1.0, 0.8, 1.0, 1.0, 1.0, 1.0, 1.0, 0, 0.28070175438596495, 1.0, 0, 0.888888888888889, 0.15384615384615385, 0.6666666666666666, 1.0, 1.0, 0, 1.0, 0.42857142857142855, 0, 1.0, 0.6666666666666666, 1.0, 1.0, 0, 0, 0.9411764705882353, 0, 0.33333333333333337, 1.0, 0, 1.0, 1.0, 1.0, 1.0, 1.0, 1.0, 1.0, 1.0, 0.8, 0.6666666666666666, 0, 1.0, 0.9696969696969697, 0, 0, 1.0, 0.35294117647058826, 1.0, 0.8571428571428571, 1.0, 1.0, 1.0, 0.24000000000000002, 1.0, 0, 1.0, 0, 0.23529411764705882, 1.0, 0, 1.0, 0, 0.5396825396825397, 1.0, 0.5, 0, 1.0, 0, 0.4, 0, 1.0, 0, 1.0, 1.0, 1.0, 1.0, 1.0, 1.0, 1.0, 1.0, 1.0, 1.0, 1.0, 1.0, 0, 0.6666666666666666, 1.0, 1.0, 1.0, 1.0, 1.0, 1.0, 0.6666666666666666, 1.0, 0.7499999999999999, 1.0, 0, 0.6666666666666666, 1.0, 1.0, 1.0, 0, 1.0, 1.0, 1.0, 1.0, 1.0, 0.6666666666666666, 1.0, 1.0, 1.0, 0, 1.0, 1.0, 0.2666666666666667, 1.0, 1.0, 1.0, 1.0, 1.0, 1.0, 1.0, 1.0, 0.8333333333333333, 1.0, 1.0, 1.0, 1.0, 0.6666666666666666, 1.0, 0.4, 0.4, 1.0, 1.0, 0, 1.0, 1.0, 1.0, 1.0, 1.0, 1.0, 0.8, 0.6666666666666666, 1.0, 1.0, 0, 1.0, 0, 1.0, 1.0, 1.0, 1.0, 1.0, 0.7499999999999999, 0.4, 1.0, 0.6666666666666666, 0.7499999999999999, 0, 1.0, 0.8571428571428571, 0.9090909090909091, 1.0, 1.0, 0.888888888888889, 1.0, 1.0, 1.0, 1.0, 1.0, 1.0, 1.0, 0.6666666666666666, 1.0, 1.0, 1.0, 1.0, 0.11764705882352941, 1.0, 1.0, 1.0, 0.6666666666666666, 1.0, 1.0, 1.0, 1.0, 0, 1.0, 1.0, 1.0, 1.0, 0.6666666666666666, 1.0, 1.0, 0.888888888888889, 1.0, 0.6, 1.0, 0, 1.0, 0.6666666666666666, 1.0, 1.0, 0.6666666666666666, 1.0, 0.6666666666666666, 1.0, 1.0, 1.0, 1.0, 1.0, 1.0, 1.0, 0, 1.0, 1.0, 1.0, 0.5, 1.0, 1.0, 1.0, 0.5, 1.0, 1.0, 1.0, 1.0, 0, 1.0, 1.0, 1.0, 1.0, 1.0, 1.0, 0.8, 1.0, 1.0, 0.5714285714285715, 1.0, 1.0, 1.0, 1.0, 1.0, 0.6666666666666666, 1.0, 1.0, 1.0, 1.0, 0.6, 1.0, 1.0, 1.0, 1.0, 1.0, 1.0, 1.0, 1.0, 0.5, 1.0, 0, 1.0, 1.0, 1.0, 0.6666666666666666, 1.0, 1.0, 0.8, 1.0, 1.0, 1.0, 1.0, 1.0, 1.0, 0.9090909090909091, 0.07407407407407407, 1.0, 1.0, 1.0, 1.0, 1.0, 0.8235294117647058, 0.5, 0, 1.0, 1.0, 1.0, 1.0, 1.0, 1.0, 1.0, 0, 1.0, 1.0, 0.0909090909090909, 1.0, 1.0, 1.0, 0, 1.0, 0.6363636363636364, 0.4444444444444445, 1.0, 0.8, 0.888888888888889, 0.8, 1.0, 1.0, 0.8571428571428571, 1.0, 1.0, 0.6666666666666666, 0.6666666666666666, 0, 1.0, 1.0, 0, 1.0, 1.0, 1.0, 1.0, 1.0, 1.0, 1.0, 1.0, 1.0, 0, 1.0, 1.0, 0.625, 0, 1.0, 1.0, 1.0, 1.0, 1.0, 1.0, 1.0, 1.0, 1.0, 1.0, 0.8571428571428571, 1.0, 1.0, 1.0, 1.0, 1.0, 1.0, 0.6666666666666666, 1.0, 1.0, 1.0, 1.0, 1.0, 1.0, 1.0, 1.0, 0, 0, 1.0, 1.0, 1.0, 1.0, 0, 1.0, 1.0, 1.0, 1.0, 0.5, 1.0, 0.8333333333333333, 1.0, 1.0, 1.0, 1.0, 1.0, 1.0, 1.0, 1.0, 1.0, 0.3571428571428571, 0, 1.0, 0.7499999999999999, 1.0, 0.14285714285714288, 0.33333333333333337, 0.8571428571428571, 1.0, 1.0, 1.0, 0.888888888888889, 1.0, 0.6666666666666666, 1.0, 1.0, 0.5714285714285715, 1.0, 0.5, 1.0, 0, 1.0, 0.5, 1.0, 1.0, 0, 1.0, 1.0, 1.0, 0, 0.888888888888889, 0, 1.0, 1.0, 1.0, 1.0, 1.0, 0, 1.0, 1.0, 1.0, 1.0, 1.0, 0.5, 0.923076923076923, 0.5, 0.6666666666666666, 1.0, 0, 1.0, 0, 1.0, 0.8571428571428571, 1.0, 1.0, 0.7499999999999999, 1.0, 1.0, 1.0, 1.0, 0.8571428571428571, 0.6666666666666666, 1.0, 1.0, 1.0, 1.0, 0.4, 1.0, 1.0, 0, 0, 1.0, 0.8571428571428571, 0, 1.0, 1.0, 1.0, 0.6666666666666666, 1.0, 0.9090909090909091, 1.0, 1.0, 1.0, 1.0, 1.0, 0.6666666666666666, 1.0, 1.0, 1.0, 0.6666666666666666, 0, 1.0, 1.0, 1.0, 0, 1.0, 0.8571428571428571, 1.0, 1.0, 0.9090909090909091, 1.0, 1.0, 0.888888888888889, 0.631578947368421, 1.0, 1.0, 1.0, 1.0, 1.0, 1.0, 1.0, 1.0, 1.0, 0.8, 0, 1.0, 1.0, 1.0, 0, 0, 1.0, 0, 1.0, 0.8571428571428571, 0.7499999999999999, 1.0, 1.0, 1.0, 1.0, 0.8, 1.0, 1.0, 0.9333333333333333, 1.0, 1.0, 0, 0.18181818181818182, 0.19999999999999998, 0, 1.0, 0.4, 1.0, 1.0, 1.0, 1.0, 1.0, 1.0, 1.0, 0, 1.0, 1.0, 1.0, 0, 0.8, 1.0, 0, 1.0, 0.9090909090909091, 0.6666666666666666, 0, 0.6666666666666666, 1.0, 0.6666666666666666, 1.0, 0.7499999999999999, 0.6666666666666666, 1.0, 1.0, 1.0, 0.9090909090909091, 1.0, 0.6666666666666666, 0, 1.0, 1.0, 0.7272727272727273, 1.0, 0, 1.0, 0, 1.0, 1.0, 1.0, 1.0, 0, 0.9333333333333333, 1.0, 1.0, 1.0, 0, 0.5333333333333333, 1.0, 0, 1.0, 1.0, 1.0, 1.0, 0.888888888888889, 1.0, 1.0, 1.0, 1.0, 0.6666666666666666, 1.0, 0.8, 1.0, 1.0, 1.0, 0, 0.33333333333333337, 0, 1.0, 0, 0, 1.0, 1.0, 1.0, 1.0, 1.0, 0.8571428571428571, 1.0, 1.0, 1.0, 1.0, 1.0, 1.0, 1.0, 1.0, 0.888888888888889, 0, 1.0, 0.9714285714285714, 1.0, 1.0, 1.0, 0, 0.6363636363636364, 0.5, 0.5, 0.5, 1.0, 1.0, 1.0, 1.0, 0.6666666666666666, 0.888888888888889, 1.0, 0, 1.0, 0.2285714285714286, 0.923076923076923, 0, 0, 1.0, 1.0, 1.0, 1.0, 0.888888888888889, 1.0, 1.0, 0, 0, 1.0, 0.4444444444444445, 1.0, 0, 1.0, 0.9411764705882353, 1.0, 1.0, 1.0, 0.8571428571428571, 1.0, 1.0, 0, 1.0, 1.0, 1.0, 0, 1.0, 1.0, 1.0, 1.0, 1.0, 1.0, 0.5333333333333333, 1.0, 0, 1.0, 1.0, 1.0, 1.0, 1.0, 0, 0.8571428571428571, 1.0, 1.0, 1.0, 0, 0.8571428571428571, 0.7692307692307693, 1.0, 0, 1.0, 1.0, 1.0, 0.923076923076923, 1.0, 0.2857142857142857, 1.0, 0, 1.0, 0, 0.5, 1.0, 1.0, 1.0, 0.6666666666666666, 0.9090909090909091, 0, 0, 0.9411764705882353, 0.8, 1.0, 0.7499999999999999, 1.0, 1.0, 1.0, 0.888888888888889, 0.923076923076923, 1.0, 0.888888888888889, 0.9523809523809523, 0.4444444444444445, 1.0, 1.0, 1.0, 0.5, 0.5454545454545454, 0.8, 0, 0.6666666666666666, 0, 0.2857142857142857, 0, 1.0, 0, 0, 0, 1.0, 0.5, 0.8571428571428571, 0, 1.0, 0.5, 0, 1.0, 0, 1.0, 1.0, 1.0, 0.6666666666666666, 1.0, 0, 0, 1.0, 1.0, 0, 1.0, 1.0, 1.0, 0.8, 1.0, 1.0, 0.625, 1.0, 1.0, 1.0, 0.888888888888889, 1.0, 0.6666666666666666, 0.3636363636363636, 1.0, 0, 0]\n",
    "p_baseline = [1.0, 0.5, 1.0, 1.0, 1.0, 1.0, 1.0, 1.0, 0.0, 1.0, 1.0, 1.0, 1.0, 1.0, 1.0, 1.0, 1.0, 1.0, 1.0, 1.0, 1.0, 0.5, 1.0, 1.0, 1.0, 1.0, 1.0, 1.0, 1.0, 1.0, 1.0, 1.0, 1.0, 1.0, 1.0, 0.0, 1.0, 1.0, 1.0, 1.0, 1.0, 1.0, 1.0, 1.0, 1.0, 1.0, 1.0, 1.0, 0.6666666666666666, 1.0, 0.0, 1.0, 1.0, 0.6666666666666666, 1.0, 0.4444444444444444, 1.0, 1.0, 1.0, 0.0, 1.0, 0.6666666666666666, 1.0, 1.0, 1.0, 1.0, 1.0, 1.0, 0.3333333333333333, 1.0, 1.0, 1.0, 0, 0, 1.0, 1.0, 1.0, 1.0, 1.0, 1.0, 1.0, 1.0, 1.0, 1.0, 1.0, 0.5, 1.0, 1.0, 0.0, 1.0, 1.0, 0.38461538461538464, 1.0, 1.0, 1.0, 1.0, 1.0, 1.0, 1.0, 0, 1.0, 0.0, 1.0, 1.0, 1.0, 1.0, 1.0, 1.0, 1.0, 1.0, 1.0, 1.0, 1.0, 0.6666666666666666, 1.0, 1.0, 1.0, 1.0, 1.0, 1.0, 1.0, 1.0, 1.0, 1.0, 0.0, 1.0, 1.0, 1.0, 1.0, 1.0, 1.0, 1.0, 1.0, 1.0, 1.0, 0.6666666666666666, 1.0, 1.0, 0.0, 1.0, 0.0, 0.0, 1.0, 0.8, 0.0, 1.0, 1.0, 0.0, 1.0, 1.0, 1.0, 1.0, 1.0, 1.0, 1.0, 1.0, 1.0, 1.0, 0.0, 1.0, 1.0, 1.0, 1.0, 1.0, 1.0, 1.0, 0.0, 1.0, 1.0, 1.0, 1.0, 1.0, 1.0, 1.0, 0.5, 1.0, 1.0, 1.0, 1.0, 1.0, 1.0, 1.0, 1.0, 1.0, 1.0, 1.0, 1.0, 1.0, 1.0, 1.0, 1.0, 1.0, 1.0, 1.0, 1.0, 1.0, 1.0, 1.0, 0.9, 1.0, 1.0, 0.5, 1.0, 1.0, 1.0, 1.0, 1.0, 0.0, 1.0, 1.0, 0.75, 0.0, 1.0, 1.0, 1.0, 0.2, 1.0, 1.0, 1.0, 1.0, 0.5, 1.0, 1.0, 1.0, 1.0, 1.0, 0.0, 0, 1.0, 1.0, 1.0, 1.0, 0.0, 1.0, 1.0, 0.09333333333333334, 1.0, 1.0, 1.0, 1.0, 1.0, 0.020833333333333332, 0.0, 1.0, 1.0, 1.0, 1.0, 1.0, 1.0, 0.0, 1.0, 0.25, 1.0, 0, 1.0, 1.0, 0, 1.0, 1.0, 1.0, 1.0, 1.0, 1.0, 1.0, 1.0, 1.0, 1.0, 1.0, 1.0, 1.0, 1.0, 1.0, 1.0, 1.0, 0.0, 1.0, 1.0, 1.0, 1.0, 1.0, 1.0, 1.0, 0.0, 1.0, 1.0, 1.0, 1.0, 1.0, 1.0, 0.2222222222222222, 1.0, 1.0, 1.0, 1.0, 1.0, 0, 1.0, 1.0, 1.0, 1.0, 1.0, 1.0, 0.0, 1.0, 1.0, 1.0, 1.0, 1.0, 1.0, 1.0, 1.0, 0.75, 0, 0.8571428571428571, 0, 1.0, 0.09722222222222222, 0.0, 1.0, 1.0, 1.0, 1.0, 1.0, 1.0, 1.0, 1.0, 1.0, 1.0, 1.0, 1.0, 1.0, 1.0, 1.0, 1.0, 1.0, 0.0, 1.0, 1.0, 1.0, 0.625, 0.9375, 0.8, 1.0, 1.0, 1.0, 0.0, 1.0, 1.0, 1.0, 1.0, 0.0, 1.0, 0.0, 1.0, 1.0, 0.6666666666666666, 1.0, 1.0, 1.0, 1.0, 0.6666666666666666, 1.0, 1.0, 1.0, 0.42105263157894735, 0.3333333333333333, 1.0, 1.0, 1.0, 1.0, 1.0, 0.25, 1.0, 1.0, 1.0, 0.8, 1.0, 0, 1.0, 1.0, 0, 1.0, 0.2857142857142857, 1.0, 1.0, 1.0, 1.0, 1.0, 1.0, 1.0, 1.0, 1.0, 1.0, 1.0, 1.0, 0.6666666666666666, 1.0, 0.8571428571428571, 1.0, 1.0, 1.0, 0.8947368421052632, 0.0, 1.0, 1.0, 1.0, 1.0, 1.0, 1.0, 1.0, 0.8333333333333334, 1.0, 1.0, 1.0, 1.0, 0, 1.0, 0.5, 0.0, 1.0, 0.9, 1.0, 0.8571428571428571, 1.0, 1.0, 1.0, 1.0, 1.0, 0.0, 0.3076923076923077, 1.0, 1.0, 0.0, 0, 0.7692307692307693, 1.0, 1.0, 0.8333333333333334, 1.0, 1.0, 0.0, 0.75, 1.0, 1.0, 1.0, 1.0, 1.0, 0.0, 0.2289156626506024, 1.0, 1.0, 0.8333333333333334, 1.0, 1.0, 1.0, 0.05813953488372093, 0.7619047619047619, 1.0, 1.0, 1.0, 1.0, 1.0, 1.0, 1.0, 0.0, 0.0, 1.0, 1.0, 0.0, 1.0, 1.0, 0.2, 0.4, 0.0, 1.0, 1.0, 1.0, 1.0, 0.0, 1.0, 1.0, 1.0, 0.0, 1.0, 0.4444444444444444, 1.0, 1.0, 1.0, 0.8125, 1.0, 1.0, 1.0, 1.0, 0.8333333333333334, 1.0, 1.0, 1.0, 1.0, 0, 1.0, 1.0, 0.75, 1.0, 1.0, 1.0, 0.75, 1.0, 0.39215686274509803, 0, 1.0, 1.0, 1.0, 1.0, 1.0, 1.0, 1.0, 1.0, 1.0, 0, 1.0, 1.0, 1.0, 0.0, 0.0, 0.75, 0.5, 1.0, 0.0, 0.3333333333333333, 0.3333333333333333, 1.0, 1.0, 1.0, 1.0, 1.0, 1.0, 1.0, 1.0, 1.0, 1.0, 0.0, 1.0, 1.0, 0, 1.0, 1.0, 1.0, 1.0, 1.0, 1.0, 1.0, 1.0, 0.25, 0.03508771929824561, 1.0, 1.0, 1.0, 1.0, 1.0, 1.0, 1.0, 1.0, 0.18518518518518517, 1.0, 1.0, 1.0, 1.0, 1.0, 1.0, 1.0, 1.0, 1.0, 1.0, 1.0, 1.0, 1.0, 1.0, 1.0, 0.25, 0.5, 1.0, 1.0, 0.0, 1.0, 1.0, 1.0, 1.0, 1.0, 1.0, 1.0, 0.0, 1.0, 1.0, 1.0, 1.0, 0.0, 1.0, 1.0, 1.0, 1.0, 1.0, 1.0, 0.6, 1.0, 1.0, 1.0, 1.0, 1.0, 0.3333333333333333, 1.0, 1.0, 0.2857142857142857, 1.0, 0.0, 1.0, 1.0, 1.0, 1.0, 0.2, 1.0, 1.0, 1.0, 1.0, 1.0, 0.3333333333333333, 1.0, 1.0, 1.0, 1.0, 1.0, 1.0, 0, 1.0, 1.0, 1.0, 1.0, 1.0, 0.7142857142857143, 1.0, 0.25, 0.0, 1.0, 0.3333333333333333, 1.0, 0.6666666666666666, 0.5, 1.0, 1.0, 1.0, 1.0, 0.6666666666666666, 1.0, 0.5, 1.0, 1.0, 0.047619047619047616, 1.0, 1.0, 1.0, 0.01639344262295082, 1.0, 1.0, 1.0, 1.0, 1.0, 1.0, 0.043478260869565216, 1.0, 1.0, 1.0, 1.0, 1.0, 1.0, 0.75, 1.0, 1.0, 0.5, 0.0, 0.75, 1.0, 1.0, 1.0, 1.0, 0, 1.0, 1.0, 1.0, 1.0, 1.0, 0, 0, 1.0, 0.14285714285714285, 0.25, 0.0, 1.0, 1.0, 1.0, 1.0, 0.0, 1.0, 1.0, 1.0, 1.0, 1.0, 0.5, 1.0, 1.0, 0.0, 1.0, 1.0, 1.0, 1.0, 1.0, 1.0, 1.0, 1.0, 1.0, 1.0, 0.0, 1.0, 1.0, 1.0, 0.0, 0.3333333333333333, 1.0, 1.0, 1.0, 1.0, 1.0, 1.0, 0.0, 0.3333333333333333, 1.0, 1.0, 1.0, 1.0, 0.8, 1.0, 1.0, 1.0, 1.0, 0, 1.0, 1.0, 0.0, 1.0, 1.0, 1.0, 1.0, 1.0, 1.0, 1.0, 1.0, 1.0, 1.0, 1.0, 1.0, 1.0, 1.0, 1.0, 1.0, 0.0, 1.0, 1.0, 1.0, 1.0, 0.0, 1.0, 1.0, 1.0, 1.0, 1.0, 1.0, 1.0, 1.0, 0.0, 0.5, 0.3333333333333333, 0.3333333333333333, 1.0, 0.9, 1.0, 1.0, 1.0, 1.0, 0.0, 1.0, 1.0, 1.0, 1.0, 1.0, 1.0, 1.0, 1.0, 1.0, 0.0, 1.0, 1.0, 1.0, 1.0, 0.6666666666666666, 1.0, 0.21428571428571427, 1.0, 1.0, 1.0, 0.0, 0.0, 0.0, 0.0, 0.0, 0.3333333333333333, 1.0, 1.0, 1.0, 1.0, 0.0, 1.0, 1.0, 1.0, 0.8461538461538461, 0.029411764705882353, 0.0, 1.0, 1.0, 0.0, 1.0, 1.0, 1.0, 1.0, 1.0, 1.0, 1.0, 0.26666666666666666, 0.625, 1.0, 0.0, 0.0, 1.0, 0.875, 0.42857142857142855, 1.0, 1.0, 1.0, 0.3333333333333333, 0.21428571428571427, 1.0, 1.0, 0.2, 1.0, 1.0, 0.42857142857142855, 1.0, 0.3333333333333333, 1.0, 1.0, 1.0, 1.0, 1.0, 1.0, 1.0, 1.0, 1.0, 0, 1.0, 1.0, 1.0, 1.0, 0.0, 0.0, 0.3333333333333333, 1.0, 0.5, 1.0, 0.0, 1.0, 1.0, 0.0, 1.0, 1.0, 1.0, 1.0, 1.0, 0.4, 1.0, 1.0, 1.0, 1.0, 0.0, 0, 0.2, 1.0, 1.0, 1.0, 1.0, 1.0, 1.0, 0.5714285714285714, 0.0, 0.5, 1.0, 1.0, 0.0, 1.0, 0.0, 0.0, 0.0, 1.0, 0.0625, 1.0, 0.0, 1.0, 0.0, 1.0, 1.0, 1.0, 0.6666666666666666, 1.0, 1.0, 0.0, 1.0, 1.0, 1.0, 1.0, 1.0, 1.0, 0.375, 1.0, 0.5, 1.0, 1.0, 1.0, 1.0, 1.0, 1.0, 1.0, 1.0, 0.6666666666666666, 0, 0, 0.0, 0.0, 1.0, 1.0, 0.07692307692307693, 1.0, 0.0, 1.0, 1.0, 0.0, 0.25, 1.0, 1.0, 1.0, 1.0, 1.0, 1.0, 1.0, 0.0, 0.0, 0.0, 1.0, 1.0, 0.09523809523809523, 1.0, 1.0, 0.1111111111111111, 1.0, 1.0, 1.0, 1.0, 0.0, 1.0, 1.0, 0.0, 1.0, 1.0, 0.6666666666666666, 1.0, 1.0, 1.0, 0.0, 1.0, 1.0, 1.0, 1.0, 1.0, 1.0, 1.0, 1.0, 1.0, 1.0, 0.0, 0.6666666666666666, 0.03488372093023256, 0.0, 1.0, 1.0, 0.0, 1.0, 1.0, 1.0, 0.0, 1.0, 1.0, 1.0, 1.0, 0, 0.0, 0.8333333333333334, 0.0, 1.0, 1.0, 1.0, 1.0, 0.6363636363636364, 0.0, 1.0, 1.0, 0, 0.0, 0.0, 1.0, 0.0, 0.6666666666666666, 0.25, 0.4, 0.7777777777777778, 0.0, 0.5, 1.0, 0.0, 1.0, 1.0, 0.7777777777777778, 1.0, 0.6666666666666666, 1.0, 1.0, 1.0, 0.75, 0.7857142857142857, 0.17857142857142858, 1.0, 1.0, 0.0, 1.0, 0.0, 1.0, 1.0, 1.0, 0.5, 1.0, 0, 0.0, 0.4, 0.0, 1.0, 0.0, 1.0, 0.0, 1.0, 0.0, 1.0, 0.7058823529411765, 0.23809523809523808, 1.0, 1.0, 0.6666666666666666, 0.6666666666666666, 0.0, 1.0, 0, 1.0, 0.0, 0.7, 0.7142857142857143, 0.0, 1.0, 0.9, 1.0, 0.0, 1.0, 0.0, 0.07142857142857142, 1.0, 1.0, 1.0, 0.9090909090909091, 1.0, 1.0, 1.0, 1.0, 1.0, 0.0, 0.0, 0.0, 0.0, 1.0, 1.0, 1.0, 0.4473684210526316, 1.0, 0.8571428571428571, 1.0, 0.3333333333333333, 1.0, 1.0, 1.0, 1.0, 1.0, 1.0, 0.2777777777777778, 1.0, 1.0, 1.0, 0.5, 1.0, 0.0, 1.0, 0.0, 1.0, 0.5, 1.0, 1.0, 0.0, 0.0, 0.2, 0.8571428571428571, 0.6, 0.5, 1.0, 1.0, 1.0, 1.0, 1.0, 1.0, 0.6666666666666666, 0.09523809523809523, 1.0, 0.0, 1.0, 0.8666666666666667, 1.0, 1.0, 0.0, 1.0, 1.0, 1.0, 1.0, 1.0, 1.0, 1.0, 1.0, 0.75, 0, 1.0, 1.0, 1.0, 0.0, 1.0, 0.0, 1.0, 1.0, 1.0, 1.0, 1.0, 1.0, 1.0, 0.0, 1.0, 1.0, 1.0, 1.0, 1.0, 1.0, 1.0, 0.5294117647058824, 0.0, 1.0, 0.875, 1.0, 1.0, 1.0, 1.0, 1.0, 1.0, 1.0, 1.0, 1.0, 1.0, 1.0, 1.0, 1.0, 1.0, 1.0, 1.0, 0.0, 1.0, 1.0, 1.0, 1.0, 1.0, 1.0, 0.5, 1.0, 1.0, 1.0, 0.0, 1.0, 1.0, 1.0, 1.0, 1.0, 1.0, 1.0, 1.0, 1.0, 1.0, 1.0, 0.3684210526315789, 1.0, 0, 1.0, 1.0, 1.0, 1.0, 1.0, 0.6, 1.0, 1.0, 0.4166666666666667, 1.0, 1.0, 1.0, 1.0, 1.0, 0.0, 1.0, 0.0, 1.0, 1.0, 1.0, 0.0, 1.0, 1.0, 1.0, 1.0, 1.0, 1.0, 1.0, 0.0, 1.0, 1.0, 1.0, 1.0, 1.0, 1.0, 1.0, 0.0, 1.0, 1.0, 1.0, 0.0, 1.0, 1.0, 1.0, 0.18181818181818182, 0.375, 1.0, 1.0, 1.0, 0.0, 0.8571428571428571, 1.0, 1.0, 1.0, 1.0, 0.0, 1.0, 1.0, 1.0, 1.0, 1.0, 1.0, 1.0, 1.0, 1.0, 1.0, 1.0, 1.0, 1.0, 1.0, 1.0, 0.0, 1.0, 0.7, 0.8, 0.0, 1.0, 1.0, 1.0, 0.0, 1.0, 0.0, 0.0, 0.0, 1.0, 0.0, 1.0, 0.875, 1.0, 0.0, 0.0, 1.0, 0, 0.0, 0.4, 1.0, 0.23076923076923078, 1.0, 1.0, 1.0, 1.0, 1.0, 1.0, 0.0, 1.0, 1.0, 1.0, 1.0, 0.8333333333333334, 0.0, 0.9565217391304348, 1.0, 0.8571428571428571, 0.7, 0.0, 0.9, 0, 0.0, 1.0, 0.0, 1.0, 0.37142857142857144, 1.0, 1.0, 1.0, 0.75, 1.0, 1.0, 0.0, 0.0, 1.0, 1.0, 1.0, 0.0, 1.0, 1.0, 1.0, 1.0, 0.0, 1.0, 1.0, 1.0, 0.4666666666666667, 0.0, 0.0, 0.4, 1.0, 1.0, 1.0, 1.0, 1.0, 0.6666666666666666, 1.0, 0.0, 0, 1.0, 0.8333333333333334, 1.0, 0.5333333333333333, 0.0, 1.0, 1.0, 1.0, 1.0, 1.0, 1.0, 1.0, 1.0, 0, 0, 0.0, 0.0, 1.0, 0.8888888888888888, 0.0, 0.0, 0.18421052631578946, 0.1111111111111111, 0.0, 0.0, 0.0, 0.0, 0.0, 1.0, 0.0, 1.0, 0.13333333333333333, 0.0, 0.06666666666666667, 1.0, 1.0, 0, 1.0, 1.0, 0.0, 1.0, 1.0, 0.7857142857142857, 1.0, 0.0, 0.09090909090909091, 1.0, 1.0, 1.0, 1.0, 0.0, 0.5, 1.0, 0.75, 0.75, 1.0, 0.5714285714285714, 1.0, 0.3333333333333333, 1.0, 1.0, 1.0, 0.9166666666666666, 1.0, 1.0, 1.0, 1.0, 1.0, 1.0, 1.0, 1.0, 1.0, 1.0, 1.0, 0.5, 1.0, 1.0, 0.6666666666666666, 1.0, 0.5, 0.5, 1.0, 1.0, 0.0, 1.0, 1.0, 1.0, 0.0, 0.0, 1.0, 1.0, 1.0, 1.0, 0.8, 1.0, 1.0, 1.0, 1.0, 1.0, 0.5, 1.0, 1.0, 1.0, 1.0, 1.0, 0.5, 1.0, 1.0, 1.0, 1.0, 1.0, 1.0, 1.0, 1.0, 1.0, 0.8, 0.375, 1.0, 1.0, 1.0, 1.0, 1.0, 0.0, 1.0, 1.0, 1.0, 1.0, 0.5, 1.0, 0.8, 1.0, 1.0, 1.0, 1.0, 1.0, 1.0, 1.0, 1.0, 1.0, 0.8571428571428571, 1.0, 1.0, 0, 1.0, 1.0, 1.0, 1.0, 1.0, 1.0, 1.0, 1.0, 0, 1.0, 1.0, 1.0, 0.16666666666666666, 0.5714285714285714, 1.0, 0.0, 0.16666666666666666, 1.0, 1.0, 1.0, 1.0, 1.0, 1.0, 1.0, 0.8, 1.0, 1.0, 0.0, 1.0, 1.0, 1.0, 1.0, 0.6666666666666666, 0.0, 1.0, 1.0, 0.0, 1.0, 1.0, 0.0, 1.0, 1.0, 0.6, 1.0, 1.0, 1.0, 1.0, 0.0, 1.0, 1.0, 0.6666666666666666, 1.0, 1.0, 0.0, 1.0, 1.0, 1.0, 1.0, 0.0, 0.6666666666666666, 1.0, 1.0, 1.0, 1.0, 1.0, 0.5, 1.0, 0.3333333333333333, 1.0, 1.0, 1.0, 1.0, 0.4117647058823529, 1.0, 0.0, 1.0, 1.0, 1.0, 0.0, 1.0, 0.16666666666666666, 1.0, 1.0, 0.0, 1.0, 0.5, 1.0, 0.6, 0.28, 0.2, 1.0, 0.0, 0.0, 0.0, 0.0, 0.6666666666666666, 1.0, 0.5, 0.0, 1.0, 1.0, 1.0, 1.0, 1.0, 0.10256410256410256, 0.0, 0.0, 1.0, 0.4, 1.0, 0.5, 1.0, 1.0, 1.0, 1.0, 1.0, 1.0, 1.0, 1.0, 1.0, 1.0, 0.5, 1.0, 1.0, 1.0, 0, 1.0, 1.0, 0.3333333333333333, 1.0, 1.0, 1.0, 0.0, 1.0, 1.0, 1.0, 1.0, 1.0, 0.0, 1.0, 1.0, 1.0, 1.0, 1.0, 1.0, 1.0, 1.0, 1.0, 0.0, 1.0, 0.25, 1.0, 0.0, 1.0, 1.0, 1.0, 1.0, 0.6666666666666666, 1.0, 1.0, 1.0, 0.2, 0.6, 1.0, 0.0, 1.0, 1.0, 1.0, 1.0, 1.0, 1.0, 0.3333333333333333, 1.0, 1.0, 0.0, 1.0, 1.0, 0.3333333333333333, 1.0, 0.5, 0.5, 0.6666666666666666, 1.0, 1.0, 1.0, 1.0, 0.6, 1.0, 0.25, 0.6666666666666666, 1.0, 1.0, 1.0, 1.0, 1.0, 1.0, 0.0, 1.0, 1.0, 1.0, 1.0, 1.0, 1.0, 1.0, 1.0, 1.0, 0.19230769230769232, 1.0, 0.75, 1.0, 1.0, 0.0, 1.0, 0.375, 1.0, 1.0, 0.6666666666666666, 0.0, 1.0, 0.0, 1.0, 1.0, 0.2, 1.0, 1.0, 1.0, 1.0, 0.6, 0.0, 1.0, 1.0, 1.0, 1.0, 1.0, 0, 0.0, 0.0, 0.0, 1.0, 1.0, 1.0, 1.0, 1.0, 1.0, 1.0, 1.0, 1.0, 1.0, 1.0, 0.0, 1.0, 1.0, 1.0, 1.0, 0.0, 1.0, 1.0, 1.0, 1.0, 1.0, 1.0, 1.0, 1.0, 0.0, 1.0, 0.5, 0.25, 1.0, 1.0, 1.0, 1.0, 1.0, 1.0, 1.0, 1.0, 1.0, 1.0, 1.0, 1.0, 1.0, 1.0, 1.0, 1.0, 1.0, 1.0, 1.0, 1.0, 1.0, 1.0, 1.0, 1.0, 1.0, 1.0, 1.0, 1.0, 0.23076923076923078, 1.0, 1.0, 1.0, 1.0, 1.0, 1.0, 1.0, 1.0, 0.0, 0.6666666666666666, 0.2, 1.0, 1.0, 1.0, 1.0, 1.0, 1.0, 1.0, 1.0, 0.25, 1.0, 0.6666666666666666, 1.0, 1.0, 1.0, 1.0, 1.0, 1.0, 0.8888888888888888, 1.0, 1.0, 1.0, 1.0, 1.0, 0, 1.0, 1.0, 0.8888888888888888, 1.0, 1.0, 1.0, 1.0, 0.0, 1.0, 1.0, 1.0, 1.0, 1.0, 0.0, 1.0, 1.0, 1.0, 0.3333333333333333, 0.0, 1.0, 1.0, 1.0, 1.0, 1.0, 1.0, 1.0, 0.0, 1.0, 1.0, 1.0, 1.0, 1.0, 1.0, 1.0, 1.0, 1.0, 1.0, 1.0, 0.0, 1.0, 1.0, 1.0, 0.0, 1.0, 1.0, 1.0, 1.0, 1.0, 1.0, 1.0, 1.0, 0.0, 1.0, 0.0, 0.08, 0.5, 1.0, 0.6, 1.0, 1.0, 1.0, 1.0, 1.0, 1.0, 1.0, 1.0, 1.0, 1.0, 1.0, 1.0, 1.0, 1.0, 1.0, 1.0, 1.0, 1.0, 0.0, 1.0, 0.3333333333333333, 1.0, 1.0, 1.0, 1.0, 0.6666666666666666, 1.0, 0.75, 1.0, 0.25, 1.0, 0.8571428571428571, 1.0, 1.0, 1.0, 1.0, 1.0, 1.0, 1.0, 1.0, 1.0, 1.0, 1.0, 1.0, 1.0, 1.0, 1.0, 1.0, 1.0, 1.0, 1.0, 1.0, 1.0, 1.0, 1.0, 1.0, 1.0, 1.0, 1.0, 0.8, 1.0, 1.0, 1.0, 1.0, 1.0, 1.0, 1.0, 1.0, 1.0, 0.4, 0.0, 0.0, 1.0, 1.0, 1.0, 1.0, 1.0, 1.0, 1.0, 1.0, 1.0, 1.0, 1.0, 1.0, 1.0, 1.0, 1.0, 0.16666666666666666, 0.2, 1.0, 1.0, 1.0, 1.0, 1.0, 0.0, 1.0, 1.0, 1.0, 1.0, 0.75, 1.0, 1.0, 1.0, 1.0, 1.0, 1.0, 1.0, 1.0, 1.0, 1.0, 0.6666666666666666, 1.0, 0.75, 1.0, 1.0, 1.0, 0.0, 1.0, 1.0, 0.3333333333333333, 1.0, 0.3333333333333333, 1.0, 0.0, 0.375, 1.0, 1.0, 1.0, 1.0, 1.0, 1.0, 1.0, 1.0, 1.0, 1.0, 1.0, 1.0, 1.0, 1.0, 1.0, 1.0, 1.0, 1.0, 1.0, 1.0, 0.4444444444444444, 1.0, 1.0, 1.0, 1.0, 1.0, 1.0, 1.0, 1.0, 1.0, 1.0, 1.0, 0.6666666666666666, 1.0, 1.0, 1.0, 1.0, 1.0, 1.0, 1.0, 1.0, 1.0, 1.0, 1.0, 1.0, 1.0, 1.0, 1.0, 0.8333333333333334, 0.5454545454545454, 1.0, 1.0, 1.0, 1.0, 1.0, 1.0, 1.0, 1.0, 1.0, 1.0, 0.5, 1.0, 1.0, 1.0, 0.0, 1.0, 0.4444444444444444, 1.0, 1.0, 1.0, 1.0, 1.0, 1.0, 1.0, 0.8181818181818182, 1.0, 0.3333333333333333, 1.0, 0.75, 1.0, 1.0, 1.0, 0.75, 1.0, 1.0, 0.125, 1.0, 1.0, 1.0, 1.0, 1.0, 1.0, 1.0, 1.0, 1.0, 1.0, 1.0, 1.0, 1.0, 1.0, 1.0, 1.0, 1.0, 1.0, 1.0, 1.0, 1.0, 1.0, 1.0, 1.0, 1.0, 0.75, 1.0, 1.0, 1.0, 1.0, 1.0, 0.0, 1.0, 1.0, 1.0, 0.0, 1.0, 1.0, 1.0, 1.0, 1.0, 1.0, 1.0, 1.0, 0.0, 1.0, 1.0, 1.0, 1.0, 1.0, 1.0, 1.0, 1.0, 1.0, 1.0, 1.0, 1.0, 1.0, 1.0, 0.0, 1.0, 1.0, 1.0, 1.0, 0.0, 1.0, 1.0, 1.0, 1.0, 1.0, 1.0, 1.0, 1.0, 1.0, 1.0, 1.0, 1.0, 1.0, 1.0, 1.0, 1.0, 0.0, 1.0, 1.0, 1.0, 0, 1.0, 1.0, 0.0, 0.2222222222222222, 0.0, 1.0, 1.0, 0.6666666666666666, 1.0, 1.0, 1.0, 1.0, 1.0, 1.0, 1.0, 1.0, 0.0, 1.0, 1.0, 0.8, 1.0, 1.0, 1.0, 1.0, 1.0, 0.2, 1.0, 1.0, 1.0, 1.0, 1.0, 1.0, 1.0, 1.0, 0, 1.0, 1.0, 1.0, 1.0, 0.8, 0, 1.0, 1.0, 0.6666666666666666, 0.8, 1.0, 0.3, 1.0, 1.0, 1.0, 0.3333333333333333, 1.0, 1.0, 0.09090909090909091, 1.0, 1.0, 1.0, 1.0, 1.0, 1.0, 0.0, 1.0, 1.0, 1.0, 1.0, 0.6666666666666666, 1.0, 0.6666666666666666, 1.0, 1.0, 1.0, 1.0, 1.0, 1.0, 1.0, 1.0, 1.0, 1.0, 1.0, 1.0, 0.0, 1.0, 1.0, 0.0, 1.0, 1.0, 1.0, 1.0, 1.0, 0.42857142857142855, 1.0, 1.0, 1.0, 0.42857142857142855, 1.0, 1.0, 1.0, 1.0, 0.5, 1.0, 1.0, 1.0, 1.0, 0.5, 1.0, 1.0, 1.0, 1.0, 1.0, 1.0, 1.0, 1.0, 1.0, 1.0, 1.0, 1.0, 1.0, 1.0, 1.0, 0.0, 1.0, 0.6666666666666666, 1.0, 1.0, 1.0, 1.0, 0.0, 1.0, 1.0, 1.0, 1.0, 0.0, 0.8, 1.0, 1.0, 1.0, 0.0, 0.08771929824561403, 0.005263157894736842, 0.21428571428571427, 0.0, 1.0, 0.6, 0.0, 1.0, 0.0, 1.0, 0.0, 0.43478260869565216, 1.0, 0.8, 0.5, 0.0, 1.0, 1.0, 1.0, 1.0, 0.0, 0.0, 0.0, 1.0, 0.0, 1.0, 1.0, 0.0, 0.8571428571428571, 1.0, 0, 1.0, 0.2857142857142857, 1.0, 0.1590909090909091, 1.0, 1.0, 0.0, 1.0, 0.9166666666666666, 0.5833333333333334, 1.0, 1.0, 1.0, 1.0, 1.0, 0.4, 1.0, 0.7, 0.36, 1.0, 0.9, 1.0, 1.0, 0.0, 1.0, 1.0, 0.0, 1.0, 0.0, 0.2631578947368421, 1.0, 0.45454545454545453, 0.0, 0.7272727272727273, 0.0, 0.7857142857142857, 1.0, 0.0, 0.47368421052631576, 0.9230769230769231, 0.0, 1.0, 0.0, 1.0, 1.0, 0.0, 1.0, 0.0, 0.7, 1.0, 0.5, 1.0, 1.0, 0.8, 1.0, 0.875, 1.0, 0.9285714285714286, 1.0, 1.0, 0.65, 0, 1.0, 0.0, 1.0, 1.0, 1.0, 1.0, 0.4, 1.0, 0, 1.0, 1.0, 1.0, 1.0, 1.0, 1.0, 1.0, 1.0, 1.0, 1.0, 1.0, 1.0, 1.0, 1.0, 1.0, 1.0, 0.5, 1.0, 1.0, 1.0, 1.0, 1.0, 1.0, 1.0, 1.0, 1.0, 1.0, 1.0, 1.0, 1.0, 0, 0, 1.0, 1.0, 1.0, 0.0, 1.0, 1.0, 1.0, 1.0, 1.0, 1.0, 1.0, 1.0, 1.0, 1.0, 1.0, 1.0, 1.0, 0.3333333333333333, 1.0, 1.0, 0.375, 1.0, 0.75, 0.3181818181818182, 0.0, 1.0, 1.0, 1.0, 1.0, 0.34210526315789475, 1.0, 1.0, 1.0, 0.8, 0.06666666666666667, 1.0, 1.0, 1.0, 1.0, 1.0, 0.3333333333333333, 0.0, 1.0, 1.0, 0, 0.8, 1.0, 1.0, 1.0, 1.0, 1.0, 1.0, 1.0, 0.3333333333333333, 1.0, 0, 1.0, 0.5, 1.0, 1.0, 1.0, 1.0, 1.0, 1.0, 1.0, 1.0, 0.0, 1.0, 1.0, 0.0, 1.0, 1.0, 1.0, 0.8, 1.0, 1.0, 1.0, 1.0, 1.0, 1.0, 1.0, 1.0, 1.0, 1.0, 0, 1.0, 1.0, 1.0, 0.0, 1.0, 1.0, 1.0, 1.0, 1.0, 1.0, 1.0, 1.0, 1.0, 1.0, 1.0, 1.0, 0.6, 1.0, 1.0, 1.0, 1.0, 1.0, 1.0, 1.0, 1.0, 1.0, 1.0, 1.0, 1.0, 1.0, 1.0, 0.0, 1.0, 1.0, 1.0, 1.0, 1.0, 0.0, 1.0, 1.0, 1.0, 1.0, 1.0, 1.0, 1.0, 1.0, 0.0, 1.0, 0.03225806451612903, 0.5, 1.0, 1.0, 0.13333333333333333, 1.0, 1.0, 1.0, 1.0, 1.0, 0.025, 1.0, 1.0, 0.0, 1.0, 1.0, 1.0, 1.0, 1.0, 1.0, 1.0, 1.0, 1.0, 1.0, 1.0, 0.0, 1.0, 1.0, 1.0, 1.0, 1.0, 1.0, 1.0, 1.0, 1.0, 1.0, 1.0, 1.0, 1.0, 1.0, 1.0, 1.0, 1.0, 1.0, 0.0, 1.0, 1.0, 1.0, 1.0, 1.0, 1.0, 1.0, 0.0, 0, 1.0, 1.0, 1.0, 1.0, 1.0, 1.0, 1.0, 1.0, 1.0, 1.0, 0.0, 1.0, 1.0, 1.0, 0.2, 1.0, 1.0, 1.0, 1.0, 1.0, 1.0, 0.0, 0.0, 0, 0, 0.6, 1.0, 1.0, 1.0, 1.0, 0.0, 1.0, 1.0, 0, 1.0, 1.0, 1.0, 1.0, 1.0, 1.0, 1.0, 1.0, 1.0, 1.0, 1.0, 1.0, 0.0, 1.0, 0.3333333333333333, 1.0, 0.0, 1.0, 0.0, 1.0, 1.0, 1.0, 1.0, 1.0, 1.0, 1.0, 1.0, 1.0, 0.0, 1.0, 1.0, 0.14285714285714285, 1.0, 1.0, 1.0, 1.0, 0.5714285714285714, 0.3333333333333333, 0.058823529411764705, 1.0, 1.0, 1.0, 1.0, 1.0, 1.0, 0.14285714285714285, 1.0, 1.0, 0.0, 1.0, 1.0, 1.0, 1.0, 1.0, 1.0, 0.38333333333333336, 1.0, 0.0, 1.0, 1.0, 1.0, 1.0, 1.0, 1.0, 1.0, 1.0, 1.0, 1.0, 1.0, 1.0, 1.0, 1.0, 1.0, 0.2, 1.0, 0.25, 0, 1.0, 1.0, 1.0, 1.0, 1.0, 1.0, 1.0, 1.0, 0, 1.0, 1.0, 1.0, 1.0, 0.0, 1.0, 0.8888888888888888, 1.0, 0, 1.0, 0.16666666666666666, 1.0, 0.6666666666666666, 1.0, 1.0, 0.0, 1.0, 1.0, 0.02631578947368421, 1.0, 0.02631578947368421, 1.0, 1.0, 1.0, 1.0, 0.0, 1.0, 1.0, 1.0, 1.0, 1.0, 0, 1.0, 1.0, 1.0, 1.0, 1.0, 1.0, 0, 1.0, 1.0, 0.0, 1.0, 1.0, 1.0, 1.0, 1.0, 0.0, 1.0, 1.0, 1.0, 0.05714285714285714, 1.0, 1.0, 0.0, 0.21428571428571427, 0.0, 0.0, 0.23529411764705882, 0.75, 1.0, 1.0, 1.0, 0.0, 1.0, 0.2, 0, 1.0, 1.0, 1.0, 1.0, 1.0, 0.0, 1.0, 1.0, 0.0, 1.0, 1.0, 0.21428571428571427, 0.019230769230769232, 1.0, 1.0, 0.0, 0.3333333333333333, 1.0, 0.5294117647058824, 1.0, 1.0, 1.0, 1.0, 0.2777777777777778, 0.18181818181818182, 0.2608695652173913, 0.0, 0.6, 0, 1.0, 1.0, 1.0, 1.0, 1.0, 1.0, 1.0, 0.0, 1.0, 1.0, 0.16326530612244897, 1.0, 1.0, 0.8, 1.0, 0.015267175572519083, 1.0, 1.0, 1.0, 1.0, 1.0, 0.0, 0.7222222222222222, 0.0, 0.75, 1.0, 0.5714285714285714, 0, 1.0, 1.0, 1.0, 0.5, 0.0, 1.0, 1.0, 0.75, 0, 0, 1.0, 1.0, 0.18181818181818182, 1.0, 0.6666666666666666, 1.0, 1.0, 1.0, 1.0, 0.47619047619047616, 1.0, 0.0, 0, 1.0, 0.0, 0.6, 0.4, 0.0, 0, 1.0, 1.0, 1.0, 1.0, 1.0, 0.5, 0.0, 0.125, 0.4, 1.0, 0.0, 0.0, 0.0, 0.3333333333333333, 1.0, 0.6666666666666666, 0.043478260869565216, 0.2222222222222222, 1.0, 1.0, 0.5789473684210527, 0.0, 0.0, 0.0, 0.22580645161290322, 1.0, 0.05555555555555555, 1.0, 1.0, 1.0, 1.0, 1.0, 1.0, 0.4482758620689655, 0.0, 1.0, 0.5, 1.0, 0.0, 1.0, 0.2, 0.3333333333333333, 1.0, 0.0, 1.0, 1.0, 1.0, 1.0, 0.0, 1.0, 0.875, 0.21052631578947367, 1.0, 1.0, 1.0, 1.0, 1.0, 1.0, 1.0, 1.0, 1.0, 0.0, 0.4444444444444444, 1.0, 1.0, 1.0, 0.025210084033613446, 0.4117647058823529, 0.0, 1.0, 1.0, 1.0, 1.0, 1.0, 0.0, 1.0, 0.6, 1.0, 0.5714285714285714, 1.0, 1.0, 0.17391304347826086, 1.0, 0.0, 1.0, 1.0, 0.0, 0.0, 1.0, 0.0, 1.0, 1.0, 0.46153846153846156, 1.0, 1.0, 1.0, 1.0, 1.0, 1.0, 0.0, 1.0, 1.0, 0.4, 1.0, 0.0, 1.0, 0.0, 1.0, 1.0, 1.0, 1.0, 1.0, 1.0, 0.0, 1.0, 1.0, 1.0, 1.0, 0.0, 1.0, 1.0, 0.0, 0.0, 0.8571428571428571, 1.0, 1.0, 1.0, 1.0, 0.8, 0.1, 0.0, 1.0, 1.0, 0.0, 1.0, 1.0, 0.6666666666666666, 1.0, 1.0, 0.8, 1.0, 1.0, 0.9166666666666666, 1.0, 1.0, 1.0, 1.0, 1.0, 1.0, 1.0, 1.0, 1.0, 1.0, 1.0, 1.0, 0.0, 1.0, 1.0, 1.0, 1.0, 1.0, 1.0, 1.0, 1.0, 1.0, 0, 1.0, 1.0, 1.0, 1.0, 1.0, 1.0, 1.0, 1.0, 1.0, 1.0, 0, 0.0, 1.0, 1.0, 1.0, 1.0, 1.0, 1.0, 1.0, 1.0, 0.0, 0.0, 1.0, 1.0, 0, 1.0, 1.0, 1.0, 1.0, 0.75, 1.0, 1.0, 0.6666666666666666, 0.6, 0.0, 1.0, 1.0, 1.0, 0.07272727272727272, 1.0, 1.0, 1.0, 1.0, 0.875, 1.0, 1.0, 1.0, 1.0, 0.4444444444444444, 1.0, 1.0, 1.0, 0.0, 1.0, 1.0, 1.0, 1.0, 1.0, 1.0, 1.0, 1.0, 1.0, 1.0, 1.0, 1.0, 1.0, 1.0, 0.0, 1.0, 1.0, 1.0, 1.0, 1.0, 1.0, 1.0, 1.0, 0.0, 1.0, 1.0, 1.0, 0.2857142857142857, 1.0, 1.0, 1.0, 1.0, 1.0, 1.0, 1.0, 0.5, 1.0, 1.0, 1.0, 1.0, 1.0, 1.0, 0.05, 1.0, 1.0, 1.0, 1.0, 0.6666666666666666, 1.0, 1.0, 1.0, 1.0, 1.0, 1.0, 1.0, 1.0, 1.0, 1.0, 1.0, 1.0, 1.0, 1.0, 1.0, 0.6666666666666666, 1.0, 1.0, 1.0, 1.0, 1.0, 1.0, 0.3333333333333333, 1.0, 1.0, 0.875, 0.5, 1.0, 1.0, 1.0, 1.0, 0.6666666666666666, 0.75, 1.0, 1.0, 0.2, 1.0, 1.0, 1.0, 1.0, 1.0, 1.0, 0.0, 1.0, 1.0, 1.0, 1.0, 1.0, 1.0, 1.0, 1.0, 1.0, 1.0, 1.0, 1.0, 1.0, 1.0, 1.0, 1.0, 1.0, 0, 1.0, 1.0, 1.0, 1.0, 1.0, 1.0, 1.0, 1.0, 1.0, 1.0, 1.0, 1.0, 1.0, 0.0, 1.0, 1.0, 1.0, 1.0, 1.0, 1.0, 1.0, 0.6666666666666666, 1.0, 1.0, 0.4, 1.0, 1.0, 1.0, 0.0, 1.0, 1.0, 1.0, 1.0, 1.0, 1.0, 1.0, 1.0, 1.0, 0, 1.0, 1.0, 1.0, 0.0, 0.0, 1.0, 1.0, 1.0, 0.125, 1.0, 0, 0.125, 0.0, 1.0, 1.0, 0.1111111111111111, 1.0, 1.0, 1.0, 1.0, 1.0, 0.21052631578947367, 1.0, 1.0, 0.4, 1.0, 1.0, 0.0, 1.0, 0.0, 0.6666666666666666, 1.0, 0.0, 1.0, 0.16, 0.0, 0.0, 1.0, 0.0, 0.0, 1.0, 0.125, 0.0, 1.0, 0.034482758620689655, 1.0, 1.0, 0.017857142857142856, 0.046511627906976744, 1.0, 1.0, 1.0, 0, 1.0, 1.0, 0.0, 1.0, 0.0, 1.0, 0.04, 0.1, 1.0, 1.0, 1.0, 1.0, 1.0, 0.6666666666666666, 0.1111111111111111, 1.0, 1.0, 0.5, 0.3333333333333333, 0.8571428571428571, 0.0, 1.0, 0.0, 1.0, 1.0, 1.0, 1.0, 1.0, 1.0, 1.0, 0.0, 1.0, 1.0, 1.0, 1.0, 1.0, 1.0, 1.0, 1.0, 1.0, 0.2857142857142857, 0.17142857142857143, 0.6, 1.0, 0, 1.0, 0.0, 1.0, 0, 0.12871287128712872, 0.5, 0.875, 0.3333333333333333, 0.8, 1.0, 1.0, 1.0, 0.75, 1.0, 1.0, 1.0, 1.0, 1.0, 1.0, 1.0, 1.0, 0.6666666666666666, 1.0, 1.0, 1.0, 0.8888888888888888, 0.0, 1.0, 1.0, 0.05128205128205128, 1.0, 1.0, 1.0, 0.6666666666666666, 0.38461538461538464, 1.0, 0.7, 0.0, 1.0, 1.0, 1.0, 1.0, 1.0, 1.0, 1.0, 1.0, 1.0, 1.0, 1.0, 0.125, 0.45, 1.0, 1.0, 1.0, 1.0, 1.0, 1.0, 1.0, 1.0, 1.0, 0.06666666666666667, 1.0, 1.0, 1.0, 1.0, 1.0, 1.0, 0.0, 1.0, 1.0, 1.0, 1.0, 1.0, 0.6666666666666666, 1.0, 0.0, 1.0, 1.0, 1.0, 1.0, 1.0, 1.0, 0.125, 0.5, 0.7142857142857143, 1.0, 1.0, 1.0, 0.5, 1.0, 1.0, 1.0, 0.12, 1.0, 0.0, 0, 0.0, 1.0, 1.0, 1.0, 0.6666666666666666, 1.0, 1.0, 1.0, 1.0, 1.0, 1.0, 1.0, 0.0, 1.0, 1.0, 1.0, 1.0, 1.0, 1.0, 1.0, 0.013513513513513514, 0.0, 1.0, 1.0, 1.0, 1.0, 1.0, 0.5, 0.5, 0, 1.0, 1.0, 1.0, 1.0, 1.0, 1.0, 0.0, 0.25, 1.0, 1.0, 1.0, 0.8333333333333334, 1.0, 1.0, 0.6363636363636364, 1.0, 1.0, 1.0, 1.0, 1.0, 1.0, 1.0, 1.0, 1.0, 0.0, 1.0, 0.0, 1.0, 1.0, 1.0, 0, 1.0, 1.0, 1.0, 1.0, 1.0, 1.0, 1.0, 1.0, 0.0, 1.0, 1.0, 1.0, 1.0, 1.0, 1.0, 1.0, 1.0, 1.0, 1.0, 0.8, 1.0, 1.0, 1.0, 1.0, 1.0, 1.0, 0.75, 1.0, 1.0, 1.0, 1.0, 1.0, 1.0, 1.0, 1.0, 1.0, 1.0, 1.0, 1.0, 1.0, 1.0, 0, 0.8, 1.0, 0, 1.0, 1.0, 1.0, 1.0, 1.0, 0.0, 0.0, 0.6666666666666666, 0.1111111111111111, 1.0, 1.0, 1.0, 1.0, 1.0, 1.0, 0.0, 1.0, 1.0, 1.0, 1.0, 0.0, 1.0, 1.0, 1.0, 1.0, 1.0, 1.0, 1.0, 1.0, 1.0, 0.8571428571428571, 1.0, 1.0, 1.0, 1.0, 1.0, 1.0, 1.0, 0.0, 1.0, 1.0, 1.0, 1.0, 0.0, 1.0, 1.0, 1.0, 1.0, 1.0, 1.0, 1.0, 0.0, 0.27586206896551724, 1.0, 0.0, 1.0, 1.0, 1.0, 1.0, 1.0, 0.0, 1.0, 0.2727272727272727, 0, 1.0, 0.5, 1.0, 1.0, 0, 0.0, 1.0, 0.0, 0.2, 1.0, 0.0, 1.0, 1.0, 1.0, 1.0, 1.0, 1.0, 1.0, 1.0, 0.6666666666666666, 1.0, 0.0, 1.0, 0.9411764705882353, 0, 0, 1.0, 1.0, 1.0, 1.0, 1.0, 1.0, 1.0, 0.13636363636363635, 1.0, 0.0, 1.0, 0, 0.13333333333333333, 1.0, 0.0, 1.0, 0.0, 0.6296296296296297, 1.0, 1.0, 0.0, 1.0, 0.0, 0.25, 0.0, 1.0, 0.0, 1.0, 1.0, 1.0, 1.0, 1.0, 1.0, 1.0, 1.0, 1.0, 1.0, 1.0, 1.0, 0.0, 0.5, 1.0, 1.0, 1.0, 1.0, 1.0, 1.0, 0.5, 1.0, 0.6, 1.0, 0.0, 0.5, 1.0, 1.0, 1.0, 0.0, 1.0, 1.0, 1.0, 1.0, 1.0, 0.5, 1.0, 1.0, 1.0, 0.0, 1.0, 1.0, 0.15384615384615385, 1.0, 1.0, 1.0, 1.0, 1.0, 1.0, 1.0, 1.0, 0.7142857142857143, 1.0, 1.0, 1.0, 1.0, 0.5, 1.0, 0.25, 0.25, 1.0, 1.0, 0, 1.0, 1.0, 1.0, 1.0, 1.0, 1.0, 0.6666666666666666, 0.5, 1.0, 1.0, 0.0, 1.0, 0.0, 1.0, 1.0, 1.0, 1.0, 1.0, 0.6, 0.25, 1.0, 0.5, 0.6, 0, 1.0, 0.75, 0.8333333333333334, 1.0, 1.0, 0.8, 1.0, 1.0, 1.0, 1.0, 1.0, 1.0, 1.0, 0.5, 1.0, 1.0, 1.0, 1.0, 0.0625, 1.0, 1.0, 1.0, 0.5, 1.0, 1.0, 1.0, 1.0, 0, 1.0, 1.0, 1.0, 1.0, 0.5, 1.0, 1.0, 0.8, 1.0, 0.42857142857142855, 1.0, 0.0, 1.0, 0.5, 1.0, 1.0, 1.0, 1.0, 0.5, 1.0, 1.0, 1.0, 1.0, 1.0, 1.0, 1.0, 0.0, 1.0, 1.0, 1.0, 0.3333333333333333, 1.0, 1.0, 1.0, 1.0, 1.0, 1.0, 1.0, 1.0, 0.0, 1.0, 1.0, 1.0, 1.0, 1.0, 1.0, 0.6666666666666666, 1.0, 1.0, 0.4, 1.0, 1.0, 1.0, 1.0, 1.0, 0.5, 1.0, 1.0, 1.0, 1.0, 0.42857142857142855, 1.0, 1.0, 1.0, 1.0, 1.0, 1.0, 1.0, 1.0, 0.3333333333333333, 1.0, 0.0, 1.0, 1.0, 1.0, 0.5, 1.0, 1.0, 0.6666666666666666, 1.0, 1.0, 1.0, 1.0, 1.0, 1.0, 1.0, 0.038461538461538464, 1.0, 1.0, 1.0, 1.0, 1.0, 0.7, 0.3333333333333333, 0, 1.0, 1.0, 1.0, 1.0, 1.0, 1.0, 1.0, 0.0, 1.0, 1.0, 0.047619047619047616, 1.0, 1.0, 1.0, 0.0, 1.0, 1.0, 0.2857142857142857, 1.0, 0.6666666666666666, 0.8, 0.6666666666666666, 1.0, 1.0, 0.75, 1.0, 1.0, 0.5, 0.5, 0, 1.0, 1.0, 0.0, 1.0, 1.0, 1.0, 1.0, 1.0, 1.0, 1.0, 1.0, 1.0, 0.0, 1.0, 1.0, 0.45454545454545453, 0.0, 1.0, 1.0, 1.0, 1.0, 1.0, 1.0, 1.0, 1.0, 1.0, 1.0, 0.75, 1.0, 1.0, 1.0, 1.0, 1.0, 1.0, 0.5, 1.0, 1.0, 1.0, 1.0, 1.0, 1.0, 1.0, 1.0, 0.0, 0, 1.0, 1.0, 1.0, 1.0, 0.0, 1.0, 1.0, 1.0, 1.0, 0.3333333333333333, 1.0, 0.7142857142857143, 1.0, 1.0, 1.0, 1.0, 1.0, 1.0, 1.0, 1.0, 1.0, 0.21739130434782608, 0, 1.0, 0.6, 1.0, 0.07692307692307693, 0.2, 0.75, 1.0, 1.0, 1.0, 1.0, 1.0, 0.5, 1.0, 1.0, 0.4, 1.0, 0.3333333333333333, 1.0, 0.0, 1.0, 0.3333333333333333, 1.0, 1.0, 0.0, 1.0, 1.0, 1.0, 0.0, 0.8, 0, 1.0, 1.0, 1.0, 1.0, 1.0, 0.0, 1.0, 1.0, 1.0, 1.0, 1.0, 1.0, 0.8571428571428571, 1.0, 0.5, 1.0, 0.0, 1.0, 0.0, 1.0, 1.0, 1.0, 1.0, 0.6, 1.0, 1.0, 1.0, 1.0, 0.75, 0.5, 1.0, 1.0, 1.0, 1.0, 0.25, 1.0, 1.0, 0.0, 0.0, 1.0, 0.75, 0.0, 1.0, 1.0, 1.0, 0.5, 1.0, 0.8333333333333334, 1.0, 1.0, 1.0, 1.0, 1.0, 0.5, 1.0, 1.0, 1.0, 0.5, 0.0, 1.0, 1.0, 1.0, 0.0, 1.0, 0.75, 1.0, 1.0, 0.8333333333333334, 1.0, 1.0, 1.0, 0.46153846153846156, 1.0, 1.0, 1.0, 1.0, 1.0, 1.0, 1.0, 1.0, 1.0, 0.6666666666666666, 0.0, 1.0, 1.0, 1.0, 0, 0.0, 1.0, 0.0, 1.0, 1.0, 0.6, 1.0, 1.0, 1.0, 1.0, 0.6666666666666666, 1.0, 1.0, 1.0, 1.0, 1.0, 0.0, 0.1, 0.1111111111111111, 0, 1.0, 0.25, 1.0, 1.0, 1.0, 1.0, 1.0, 1.0, 1.0, 0, 1.0, 1.0, 1.0, 0.0, 0.6666666666666666, 1.0, 0, 1.0, 0.8333333333333334, 0.5, 0.0, 0.5, 1.0, 0.5, 1.0, 0.6, 0.5, 1.0, 1.0, 1.0, 0.8333333333333334, 1.0, 0.5, 0.0, 1.0, 1.0, 1.0, 1.0, 0.0, 1.0, 0.0, 1.0, 1.0, 1.0, 1.0, 0, 0.875, 1.0, 1.0, 1.0, 0.0, 0.36363636363636365, 1.0, 0.0, 1.0, 1.0, 1.0, 1.0, 0.8, 1.0, 1.0, 1.0, 1.0, 1.0, 1.0, 0.6666666666666666, 1.0, 1.0, 1.0, 0.0, 0.2, 0.0, 1.0, 0, 0.0, 1.0, 1.0, 1.0, 1.0, 1.0, 0.75, 1.0, 1.0, 1.0, 1.0, 1.0, 1.0, 1.0, 1.0, 0.8, 0.0, 1.0, 0.9444444444444444, 1.0, 1.0, 1.0, 0.0, 1.0, 0.3333333333333333, 0.3333333333333333, 0.3333333333333333, 1.0, 1.0, 1.0, 1.0, 0.5, 1.0, 1.0, 0, 1.0, 0.12903225806451613, 1.0, 0.0, 0.0, 1.0, 1.0, 1.0, 1.0, 1.0, 1.0, 1.0, 0.0, 0.0, 1.0, 0.2857142857142857, 1.0, 0.0, 1.0, 1.0, 1.0, 1.0, 1.0, 1.0, 1.0, 1.0, 0.0, 1.0, 1.0, 1.0, 0.0, 1.0, 1.0, 1.0, 1.0, 1.0, 1.0, 0.36363636363636365, 1.0, 0.0, 1.0, 1.0, 1.0, 1.0, 1.0, 0.0, 1.0, 1.0, 1.0, 1.0, 0.0, 0.75, 1.0, 1.0, 0.0, 1.0, 1.0, 1.0, 0.8571428571428571, 1.0, 0.16666666666666666, 1.0, 0.0, 1.0, 0.0, 0.3333333333333333, 1.0, 1.0, 1.0, 1.0, 0.8333333333333334, 0.0, 0.0, 1.0, 1.0, 1.0, 1.0, 1.0, 1.0, 1.0, 1.0, 1.0, 1.0, 1.0, 1.0, 0.2857142857142857, 1.0, 1.0, 1.0, 0.3333333333333333, 1.0, 1.0, 0.0, 1.0, 0.0, 1.0, 0.0, 1.0, 0.0, 0.0, 0.0, 1.0, 1.0, 1.0, 0.0, 1.0, 0.3333333333333333, 0.0, 1.0, 0.0, 1.0, 1.0, 1.0, 1.0, 1.0, 0.0, 0.0, 1.0, 1.0, 0.0, 1.0, 1.0, 1.0, 0.6666666666666666, 1.0, 1.0, 0.45454545454545453, 1.0, 1.0, 1.0, 1.0, 1.0, 1.0, 0.2222222222222222, 1.0, 0.0, 0.0]\n",
    "r_baseline = [1.0, 1.0, 1.0, 1.0, 1.0, 1.0, 0.3333333333333333, 0.3333333333333333, 0.0, 1.0, 1.0, 1.0, 1.0, 0.8333333333333334, 1.0, 1.0, 0.5454545454545454, 0.8333333333333334, 1.0, 1.0, 1.0, 1.0, 1.0, 1.0, 0.8333333333333334, 1.0, 1.0, 1.0, 1.0, 1.0, 1.0, 1.0, 1.0, 1.0, 1.0, 0.0, 0.25, 0.6666666666666666, 1.0, 1.0, 1.0, 1.0, 1.0, 1.0, 1.0, 1.0, 1.0, 1.0, 1.0, 1.0, 0.0, 1.0, 0.38461538461538464, 1.0, 1.0, 1.0, 1.0, 1.0, 1.0, 0.0, 1.0, 0.6666666666666666, 1.0, 1.0, 0.5, 0.5, 1.0, 1.0, 1.0, 0.8571428571428571, 1.0, 0.3333333333333333, 0, 0, 1.0, 0.9411764705882353, 1.0, 1.0, 1.0, 0.8181818181818182, 1.0, 1.0, 1.0, 1.0, 1.0, 1.0, 0.6666666666666666, 1.0, 0.0, 1.0, 0.16666666666666666, 1.0, 1.0, 1.0, 1.0, 1.0, 1.0, 1.0, 1.0, 0, 1.0, 0.0, 1.0, 0.6666666666666666, 1.0, 1.0, 1.0, 0.2, 1.0, 1.0, 0.5, 1.0, 1.0, 1.0, 1.0, 1.0, 1.0, 1.0, 0.3, 1.0, 1.0, 1.0, 1.0, 1.0, 0.0, 1.0, 0.7142857142857143, 1.0, 1.0, 1.0, 1.0, 0.75, 1.0, 1.0, 1.0, 1.0, 1.0, 0.10526315789473684, 0.0, 1.0, 0.0, 0.0, 1.0, 1.0, 0.0, 1.0, 1.0, 0.0, 1.0, 1.0, 1.0, 1.0, 1.0, 1.0, 0.7777777777777778, 1.0, 1.0, 1.0, 0.0, 1.0, 1.0, 1.0, 1.0, 1.0, 1.0, 1.0, 0.0, 0.75, 0.16666666666666666, 1.0, 0.8333333333333334, 0.75, 1.0, 1.0, 1.0, 1.0, 1.0, 1.0, 0.2222222222222222, 1.0, 1.0, 1.0, 0.5, 1.0, 1.0, 0.75, 1.0, 0.9230769230769231, 1.0, 0.8, 1.0, 1.0, 1.0, 1.0, 1.0, 1.0, 0.6666666666666666, 1.0, 1.0, 1.0, 1.0, 1.0, 1.0, 0.3333333333333333, 1.0, 1.0, 0.21428571428571427, 0.0, 1.0, 1.0, 1.0, 0.0, 1.0, 1.0, 0.4, 1.0, 1.0, 0.25, 1.0, 1.0, 1.0, 1.0, 1.0, 1.0, 1.0, 1.0, 0.0, 0, 0.45454545454545453, 0.4166666666666667, 0.35714285714285715, 1.0, 0.0, 1.0, 1.0, 1.0, 1.0, 1.0, 1.0, 1.0, 1.0, 1.0, 0.0, 1.0, 1.0, 1.0, 1.0, 1.0, 1.0, 0.0, 1.0, 1.0, 0.75, 0, 1.0, 0.5384615384615384, 0, 1.0, 0.14285714285714285, 1.0, 1.0, 0.7142857142857143, 1.0, 1.0, 1.0, 1.0, 1.0, 1.0, 1.0, 1.0, 1.0, 1.0, 0.21428571428571427, 1.0, 0.0, 1.0, 1.0, 0.7272727272727273, 1.0, 1.0, 1.0, 1.0, 0.0, 0.875, 0.8888888888888888, 1.0, 1.0, 1.0, 1.0, 1.0, 1.0, 1.0, 1.0, 1.0, 1.0, 0, 1.0, 1.0, 0.4444444444444444, 1.0, 1.0, 0.14285714285714285, 0.0, 0.5, 1.0, 1.0, 1.0, 1.0, 1.0, 1.0, 1.0, 1.0, 0, 1.0, 0, 1.0, 1.0, 0.0, 1.0, 1.0, 1.0, 0.3333333333333333, 1.0, 0.8, 0.8, 1.0, 1.0, 1.0, 1.0, 1.0, 1.0, 1.0, 1.0, 1.0, 0.5, 0.0, 1.0, 1.0, 1.0, 1.0, 0.6521739130434783, 1.0, 0.5, 1.0, 0.25, 0.0, 1.0, 1.0, 1.0, 1.0, 0.0, 1.0, 0.0, 0.8333333333333334, 1.0, 1.0, 1.0, 0.7083333333333334, 1.0, 1.0, 1.0, 1.0, 1.0, 1.0, 1.0, 1.0, 1.0, 1.0, 1.0, 0.9090909090909091, 0.3333333333333333, 1.0, 1.0, 1.0, 1.0, 1.0, 1.0, 0, 1.0, 1.0, 0, 1.0, 1.0, 1.0, 1.0, 1.0, 0.5, 1.0, 1.0, 1.0, 1.0, 1.0, 1.0, 1.0, 1.0, 1.0, 1.0, 1.0, 1.0, 1.0, 0.25, 1.0, 0.0, 1.0, 1.0, 1.0, 1.0, 1.0, 1.0, 1.0, 1.0, 1.0, 1.0, 1.0, 1.0, 0, 1.0, 0.2, 0.0, 0.5, 1.0, 1.0, 1.0, 1.0, 1.0, 1.0, 1.0, 0.75, 0.0, 0.5, 1.0, 1.0, 0.0, 0, 1.0, 1.0, 1.0, 1.0, 1.0, 0.6666666666666666, 0.0, 1.0, 1.0, 0.25, 1.0, 1.0, 1.0, 0.0, 1.0, 1.0, 1.0, 0.8333333333333334, 1.0, 1.0, 1.0, 1.0, 0.9411764705882353, 1.0, 1.0, 1.0, 1.0, 1.0, 0.3333333333333333, 1.0, 0.0, 0.0, 0.8, 1.0, 0.0, 1.0, 1.0, 1.0, 1.0, 0.0, 1.0, 1.0, 1.0, 1.0, 0.0, 1.0, 0.5, 1.0, 0.0, 1.0, 1.0, 0.20833333333333334, 0.16666666666666666, 1.0, 1.0, 1.0, 1.0, 1.0, 0.3076923076923077, 1.0, 1.0, 1.0, 0.5, 1.0, 0, 1.0, 1.0, 1.0, 1.0, 1.0, 1.0, 1.0, 0.8571428571428571, 1.0, 0, 0.6666666666666666, 0.7777777777777778, 0.3448275862068966, 1.0, 1.0, 1.0, 1.0, 1.0, 0.5714285714285714, 0, 1.0, 1.0, 1.0, 0.0, 0.0, 1.0, 0.5714285714285714, 1.0, 0.0, 1.0, 1.0, 1.0, 1.0, 1.0, 0.75, 1.0, 1.0, 1.0, 1.0, 1.0, 1.0, 0.0, 1.0, 1.0, 0, 1.0, 1.0, 1.0, 1.0, 1.0, 1.0, 1.0, 1.0, 1.0, 1.0, 1.0, 1.0, 1.0, 1.0, 1.0, 1.0, 1.0, 1.0, 0.8333333333333334, 1.0, 1.0, 1.0, 1.0, 1.0, 1.0, 1.0, 1.0, 1.0, 1.0, 1.0, 1.0, 1.0, 1.0, 1.0, 1.0, 1.0, 1.0, 1.0, 0.0, 1.0, 1.0, 1.0, 1.0, 1.0, 1.0, 1.0, 0.0, 1.0, 1.0, 1.0, 1.0, 0.0, 1.0, 1.0, 1.0, 1.0, 1.0, 1.0, 1.0, 1.0, 1.0, 1.0, 1.0, 1.0, 1.0, 1.0, 1.0, 1.0, 1.0, 0.0, 1.0, 1.0, 1.0, 1.0, 1.0, 1.0, 1.0, 1.0, 1.0, 1.0, 1.0, 1.0, 1.0, 1.0, 1.0, 1.0, 1.0, 0, 1.0, 0.75, 1.0, 0.75, 1.0, 1.0, 1.0, 1.0, 0.0, 1.0, 1.0, 1.0, 1.0, 1.0, 1.0, 1.0, 1.0, 1.0, 1.0, 1.0, 1.0, 1.0, 0.8, 1.0, 1.0, 1.0, 1.0, 1.0, 1.0, 1.0, 1.0, 1.0, 1.0, 1.0, 1.0, 1.0, 1.0, 1.0, 1.0, 1.0, 1.0, 1.0, 1.0, 0.5, 1.0, 0.0, 1.0, 1.0, 1.0, 1.0, 1.0, 0, 1.0, 1.0, 1.0, 1.0, 1.0, 0, 0, 1.0, 1.0, 1.0, 0.0, 1.0, 1.0, 1.0, 0.6666666666666666, 0.0, 1.0, 1.0, 1.0, 1.0, 1.0, 1.0, 1.0, 1.0, 0.0, 1.0, 1.0, 1.0, 1.0, 1.0, 1.0, 1.0, 0.8, 1.0, 1.0, 0.0, 1.0, 1.0, 1.0, 0.0, 1.0, 1.0, 1.0, 1.0, 1.0, 1.0, 1.0, 0.0, 1.0, 1.0, 1.0, 1.0, 1.0, 1.0, 1.0, 1.0, 0.875, 1.0, 0, 1.0, 1.0, 0.0, 0.75, 1.0, 1.0, 1.0, 1.0, 1.0, 1.0, 1.0, 0.5, 1.0, 1.0, 1.0, 1.0, 1.0, 1.0, 1.0, 0.0, 1.0, 1.0, 1.0, 1.0, 0.0, 1.0, 1.0, 1.0, 1.0, 1.0, 1.0, 1.0, 1.0, 0.0, 1.0, 1.0, 1.0, 1.0, 1.0, 1.0, 1.0, 1.0, 1.0, 0.0, 1.0, 1.0, 1.0, 1.0, 1.0, 1.0, 1.0, 1.0, 1.0, 0.0, 1.0, 1.0, 1.0, 1.0, 1.0, 0.9, 1.0, 1.0, 0.6, 1.0, 0.0, 0.0, 0.0, 0.0, 0.0, 1.0, 1.0, 1.0, 1.0, 1.0, 0.0, 1.0, 1.0, 0.8333333333333334, 1.0, 1.0, 0.0, 0.3333333333333333, 1.0, 0.0, 1.0, 1.0, 1.0, 1.0, 1.0, 1.0, 1.0, 1.0, 1.0, 1.0, 0.0, 0.0, 0.6666666666666666, 1.0, 1.0, 1.0, 1.0, 1.0, 1.0, 1.0, 1.0, 1.0, 1.0, 1.0, 1.0, 1.0, 1.0, 1.0, 1.0, 1.0, 1.0, 1.0, 1.0, 1.0, 1.0, 1.0, 0.8333333333333334, 0, 1.0, 1.0, 1.0, 0.6666666666666666, 0.0, 0.0, 1.0, 1.0, 1.0, 1.0, 0.0, 1.0, 1.0, 0.0, 1.0, 1.0, 1.0, 1.0, 1.0, 1.0, 0.75, 1.0, 1.0, 1.0, 0.0, 0, 1.0, 1.0, 1.0, 0.75, 1.0, 1.0, 1.0, 1.0, 0.0, 1.0, 1.0, 1.0, 0.0, 1.0, 0.0, 0.0, 0.0, 0.5, 1.0, 1.0, 0.0, 0.75, 0.0, 1.0, 1.0, 1.0, 1.0, 1.0, 0.8, 0.0, 1.0, 1.0, 0.5, 1.0, 1.0, 1.0, 1.0, 1.0, 0.5, 0.25, 1.0, 1.0, 1.0, 1.0, 0.8333333333333334, 0.8, 1.0, 1.0, 0, 0, 0.0, 0.0, 1.0, 1.0, 0.3333333333333333, 1.0, 0.0, 1.0, 1.0, 0.0, 1.0, 1.0, 1.0, 1.0, 1.0, 1.0, 0.6666666666666666, 1.0, 0.0, 0.0, 0.0, 1.0, 1.0, 1.0, 0.8, 1.0, 1.0, 1.0, 1.0, 1.0, 1.0, 0.0, 1.0, 1.0, 0.0, 1.0, 0.5714285714285714, 0.6666666666666666, 1.0, 1.0, 1.0, 0.0, 1.0, 1.0, 1.0, 0.75, 1.0, 1.0, 1.0, 1.0, 1.0, 1.0, 0.0, 1.0, 1.0, 0.0, 1.0, 1.0, 0.0, 1.0, 1.0, 1.0, 0.0, 1.0, 0.75, 1.0, 1.0, 0, 0.0, 1.0, 0.0, 1.0, 1.0, 1.0, 0.8571428571428571, 0.875, 0.0, 1.0, 1.0, 0, 0.0, 0.0, 1.0, 0.0, 1.0, 1.0, 1.0, 1.0, 0.0, 1.0, 1.0, 0.0, 1.0, 1.0, 1.0, 0.75, 1.0, 1.0, 0.25, 0.8571428571428571, 1.0, 1.0, 1.0, 1.0, 0.5, 0.0, 1.0, 0.0, 1.0, 1.0, 0.25, 1.0, 1.0, 0, 0.0, 1.0, 0.0, 1.0, 0.0, 0.6666666666666666, 0.0, 1.0, 0.0, 1.0, 1.0, 1.0, 0.125, 1.0, 1.0, 1.0, 0.0, 1.0, 0, 1.0, 0.0, 1.0, 1.0, 0.0, 1.0, 1.0, 0.8333333333333334, 0.0, 1.0, 0.0, 1.0, 0.3333333333333333, 0.8333333333333334, 1.0, 1.0, 1.0, 1.0, 1.0, 1.0, 1.0, 0.0, 0.0, 0.0, 0.0, 1.0, 1.0, 1.0, 1.0, 1.0, 0.8571428571428571, 1.0, 0.6666666666666666, 0.5, 1.0, 1.0, 1.0, 1.0, 1.0, 1.0, 1.0, 1.0, 1.0, 1.0, 1.0, 0.0, 1.0, 0.0, 0.6666666666666666, 0.6, 1.0, 1.0, 0.0, 0.0, 1.0, 1.0, 1.0, 1.0, 1.0, 1.0, 1.0, 1.0, 0.875, 0.6666666666666666, 1.0, 1.0, 0.36363636363636365, 0.0, 1.0, 1.0, 1.0, 1.0, 0.0, 0.6, 1.0, 1.0, 1.0, 0.9714285714285714, 1.0, 1.0, 1.0, 0.5, 0, 1.0, 1.0, 0.6666666666666666, 0.0, 0.9166666666666666, 0.0, 1.0, 1.0, 0.36666666666666664, 0.5, 1.0, 1.0, 1.0, 0.0, 1.0, 0.25, 0.5, 0.125, 1.0, 0.75, 0.8181818181818182, 0.23076923076923078, 0.0, 0.7777777777777778, 0.875, 0.875, 1.0, 1.0, 0.8333333333333334, 1.0, 1.0, 1.0, 1.0, 0.8333333333333334, 1.0, 0.8333333333333334, 1.0, 1.0, 1.0, 1.0, 1.0, 0.0, 0.7777777777777778, 0.9285714285714286, 1.0, 0.9230769230769231, 0.13333333333333333, 0.5714285714285714, 1.0, 1.0, 0.2222222222222222, 0.3, 0.0, 1.0, 1.0, 1.0, 0.5, 0.35714285714285715, 0.38461538461538464, 1.0, 0.8, 1.0, 1.0, 0.4375, 1.0, 0.68, 0, 0.4090909090909091, 0.6666666666666666, 0.6666666666666666, 0.8571428571428571, 1.0, 1.0, 1.0, 1.0, 1.0, 1.0, 1.0, 1.0, 1.0, 1.0, 0.0, 0.6, 0.0, 1.0, 0.5, 1.0, 0.0, 1.0, 1.0, 1.0, 1.0, 0.5263157894736842, 0.7142857142857143, 0.875, 0.0, 1.0, 1.0, 0.44, 0.5, 0.5769230769230769, 0.75, 1.0, 0.0, 1.0, 0.5, 1.0, 0.0, 1.0, 1.0, 1.0, 1.0, 1.0, 1.0, 0.75, 1.0, 0.0, 1.0, 0.09090909090909091, 1.0, 1.0, 0.16666666666666666, 0.0, 1.0, 0.8888888888888888, 1.0, 1.0, 1.0, 0.7272727272727273, 0.3888888888888889, 1.0, 1.0, 0.5, 0.14285714285714285, 1.0, 1.0, 1.0, 0.10714285714285714, 0.0, 0.6666666666666666, 1.0, 1.0, 0.0, 0.38461538461538464, 1.0, 1.0, 0.0, 0.5833333333333334, 0.0, 0.0, 0.0, 1.0, 0.0, 0.6428571428571429, 1.0, 0.6666666666666666, 0.0, 0.0, 0.8, 0, 0.0, 1.0, 1.0, 1.0, 1.0, 1.0, 1.0, 0.42857142857142855, 1.0, 1.0, 0.0, 1.0, 0.6666666666666666, 1.0, 0.4166666666666667, 1.0, 0.0, 1.0, 1.0, 1.0, 1.0, 0.0, 1.0, 0, 0.0, 1.0, 0.0, 0.6666666666666666, 1.0, 1.0, 1.0, 0.16666666666666666, 1.0, 1.0, 1.0, 0.0, 0.0, 0.2, 0.5, 1.0, 0.0, 1.0, 0.42857142857142855, 1.0, 1.0, 0.0, 0.8333333333333334, 1.0, 0.1111111111111111, 0.9333333333333333, 0.0, 0.0, 1.0, 1.0, 0.16666666666666666, 1.0, 1.0, 1.0, 1.0, 1.0, 0.0, 0, 1.0, 1.0, 1.0, 1.0, 0.0, 1.0, 1.0, 1.0, 1.0, 1.0, 1.0, 1.0, 1.0, 0, 0, 0.0, 0.0, 1.0, 1.0, 0.0, 0.0, 1.0, 0.5, 0.0, 0.0, 0.0, 0.0, 0.0, 0.16666666666666666, 0.0, 1.0, 1.0, 0.0, 1.0, 1.0, 0.75, 0, 0.6, 1.0, 0.0, 0.5, 1.0, 1.0, 1.0, 0.0, 1.0, 1.0, 1.0, 0.7142857142857143, 1.0, 0.0, 1.0, 1.0, 1.0, 1.0, 1.0, 1.0, 0.75, 1.0, 1.0, 1.0, 0.5333333333333333, 1.0, 1.0, 0.3333333333333333, 1.0, 0.5, 1.0, 0.5, 1.0, 1.0, 1.0, 1.0, 1.0, 1.0, 0.8571428571428571, 1.0, 1.0, 1.0, 1.0, 1.0, 1.0, 1.0, 0.0, 0.5, 0.5, 1.0, 0.0, 0.0, 1.0, 1.0, 1.0, 1.0, 1.0, 1.0, 1.0, 1.0, 0.5, 1.0, 1.0, 1.0, 0.6666666666666666, 1.0, 1.0, 1.0, 1.0, 1.0, 0.75, 1.0, 1.0, 1.0, 1.0, 1.0, 0.5, 1.0, 1.0, 1.0, 1.0, 1.0, 1.0, 0.5, 1.0, 0.0, 1.0, 1.0, 1.0, 1.0, 1.0, 1.0, 1.0, 1.0, 1.0, 1.0, 1.0, 1.0, 1.0, 1.0, 1.0, 1.0, 1.0, 1.0, 1.0, 0, 1.0, 1.0, 0.8333333333333334, 1.0, 1.0, 1.0, 1.0, 1.0, 0, 1.0, 1.0, 1.0, 1.0, 1.0, 1.0, 0.0, 1.0, 1.0, 0.75, 1.0, 1.0, 1.0, 1.0, 1.0, 0.8, 1.0, 1.0, 0.0, 1.0, 1.0, 1.0, 1.0, 1.0, 0.0, 1.0, 1.0, 0.0, 1.0, 1.0, 0.0, 0.75, 1.0, 1.0, 1.0, 0.6666666666666666, 1.0, 1.0, 0.0, 1.0, 1.0, 1.0, 1.0, 1.0, 0.0, 1.0, 1.0, 1.0, 1.0, 0.0, 1.0, 1.0, 1.0, 1.0, 1.0, 1.0, 1.0, 1.0, 1.0, 0.6666666666666666, 1.0, 1.0, 1.0, 1.0, 1.0, 0.0, 1.0, 1.0, 1.0, 0.0, 0.5, 1.0, 1.0, 1.0, 0.0, 1.0, 1.0, 1.0, 1.0, 0.875, 1.0, 1.0, 0.0, 0.0, 0.0, 0.0, 1.0, 1.0, 1.0, 0.0, 1.0, 0.6666666666666666, 1.0, 1.0, 1.0, 1.0, 0.0, 0.0, 1.0, 1.0, 1.0, 1.0, 1.0, 1.0, 1.0, 1.0, 1.0, 1.0, 0.5, 0.2857142857142857, 1.0, 1.0, 1.0, 1.0, 1.0, 1.0, 0, 1.0, 1.0, 1.0, 1.0, 1.0, 1.0, 0.0, 1.0, 1.0, 1.0, 1.0, 1.0, 0.0, 1.0, 0.5, 0.5, 1.0, 1.0, 1.0, 1.0, 1.0, 1.0, 0.0, 0.75, 1.0, 1.0, 0.0, 1.0, 0.5, 1.0, 1.0, 1.0, 1.0, 1.0, 1.0, 1.0, 1.0, 1.0, 0.0, 1.0, 0.5, 1.0, 0.75, 1.0, 1.0, 1.0, 1.0, 1.0, 0.0, 1.0, 1.0, 1.0, 1.0, 1.0, 1.0, 1.0, 1.0, 1.0, 1.0, 1.0, 1.0, 1.0, 1.0, 1.0, 1.0, 1.0, 1.0, 1.0, 1.0, 1.0, 0.0, 1.0, 1.0, 1.0, 1.0, 1.0, 1.0, 1.0, 0.6666666666666666, 1.0, 1.0, 1.0, 1.0, 1.0, 1.0, 0.0, 1.0, 1.0, 1.0, 1.0, 1.0, 0.0, 1.0, 0.0, 0.6666666666666666, 1.0, 1.0, 1.0, 1.0, 0.8, 1.0, 0.75, 0.0, 1.0, 1.0, 1.0, 1.0, 1.0, 0, 0.0, 0.0, 0.0, 1.0, 1.0, 1.0, 1.0, 1.0, 1.0, 1.0, 1.0, 1.0, 1.0, 1.0, 0.0, 0.8, 1.0, 1.0, 1.0, 0.0, 1.0, 1.0, 1.0, 1.0, 1.0, 1.0, 1.0, 1.0, 0.0, 1.0, 1.0, 1.0, 1.0, 1.0, 1.0, 1.0, 1.0, 1.0, 1.0, 1.0, 0.2, 1.0, 1.0, 1.0, 1.0, 1.0, 1.0, 1.0, 0.75, 1.0, 0.5, 1.0, 1.0, 1.0, 1.0, 0.3333333333333333, 0.5, 1.0, 1.0, 1.0, 1.0, 0.6, 0.8333333333333334, 1.0, 1.0, 0.75, 0.75, 1.0, 0.6, 0.0, 1.0, 0.5, 1.0, 0.8, 0.3333333333333333, 0.4, 1.0, 1.0, 0.75, 1.0, 1.0, 1.0, 1.0, 1.0, 1.0, 1.0, 1.0, 1.0, 1.0, 1.0, 1.0, 1.0, 1.0, 1.0, 1.0, 0, 1.0, 1.0, 1.0, 0.25, 1.0, 0.25, 1.0, 0.0, 0.6666666666666666, 0.25, 0.4444444444444444, 0.5, 1.0, 0.0, 0.3333333333333333, 1.0, 1.0, 0.6666666666666666, 0.0, 1.0, 1.0, 1.0, 0.6666666666666666, 1.0, 1.0, 1.0, 0.0, 1.0, 1.0, 1.0, 1.0, 1.0, 1.0, 0.75, 1.0, 1.0, 1.0, 1.0, 0.0, 0.42857142857142855, 1.0, 1.0, 0.0, 1.0, 1.0, 1.0, 1.0, 1.0, 1.0, 1.0, 1.0, 0.0, 1.0, 0.0, 1.0, 1.0, 1.0, 0.75, 1.0, 1.0, 1.0, 1.0, 1.0, 1.0, 1.0, 1.0, 1.0, 1.0, 1.0, 1.0, 1.0, 0.6666666666666666, 1.0, 1.0, 1.0, 1.0, 0.0, 1.0, 1.0, 1.0, 1.0, 1.0, 1.0, 1.0, 1.0, 1.0, 1.0, 1.0, 1.0, 1.0, 1.0, 0.75, 1.0, 1.0, 1.0, 0.5, 1.0, 1.0, 1.0, 1.0, 1.0, 1.0, 1.0, 0.8333333333333334, 1.0, 1.0, 1.0, 1.0, 1.0, 1.0, 1.0, 1.0, 1.0, 0.6666666666666666, 1.0, 1.0, 1.0, 1.0, 1.0, 1.0, 1.0, 1.0, 1.0, 1.0, 0.5, 1.0, 1.0, 1.0, 0.0, 0.0, 1.0, 0.3333333333333333, 0.6666666666666666, 1.0, 1.0, 1.0, 1.0, 1.0, 1.0, 1.0, 1.0, 1.0, 1.0, 1.0, 1.0, 1.0, 1.0, 1.0, 1.0, 1.0, 1.0, 1.0, 0.0, 1.0, 1.0, 1.0, 1.0, 1.0, 1.0, 1.0, 1.0, 1.0, 1.0, 1.0, 1.0, 1.0, 1.0, 1.0, 1.0, 0.75, 1.0, 1.0, 1.0, 1.0, 0.0, 1.0, 1.0, 1.0, 0.5714285714285714, 1.0, 1.0, 0.0, 1.0, 1.0, 1.0, 1.0, 1.0, 1.0, 1.0, 1.0, 1.0, 1.0, 0.6666666666666666, 0.5, 1.0, 1.0, 1.0, 1.0, 1.0, 1.0, 0.8, 1.0, 0.5, 1.0, 1.0, 1.0, 1.0, 0.875, 0.5, 1.0, 1.0, 1.0, 1.0, 1.0, 0.25, 1.0, 0.6666666666666666, 1.0, 1.0, 0.6666666666666666, 1.0, 1.0, 1.0, 1.0, 0.18181818181818182, 1.0, 1.0, 1.0, 1.0, 1.0, 0.6666666666666666, 1.0, 1.0, 1.0, 1.0, 0.5, 1.0, 1.0, 0.2, 1.0, 1.0, 1.0, 1.0, 1.0, 1.0, 1.0, 1.0, 0.0, 1.0, 0.8, 1.0, 0.6666666666666666, 1.0, 0.6666666666666666, 1.0, 1.0, 1.0, 1.0, 1.0, 1.0, 1.0, 1.0, 1.0, 0.7142857142857143, 1.0, 1.0, 1.0, 1.0, 1.0, 1.0, 1.0, 0.6666666666666666, 0.6666666666666666, 1.0, 1.0, 1.0, 0.6666666666666666, 1.0, 1.0, 1.0, 1.0, 0.5, 1.0, 1.0, 1.0, 0.5, 1.0, 1.0, 1.0, 1.0, 1.0, 1.0, 1.0, 1.0, 1.0, 0.5, 1.0, 1.0, 1.0, 1.0, 0.0, 1.0, 1.0, 1.0, 0.0, 1.0, 1.0, 1.0, 1.0, 1.0, 1.0, 1.0, 1.0, 0.0, 1.0, 1.0, 0.75, 1.0, 1.0, 1.0, 1.0, 1.0, 1.0, 1.0, 1.0, 1.0, 1.0, 1.0, 0.0, 1.0, 1.0, 1.0, 1.0, 0.0, 1.0, 1.0, 1.0, 0.8571428571428571, 1.0, 1.0, 1.0, 1.0, 1.0, 1.0, 1.0, 1.0, 1.0, 1.0, 0.3333333333333333, 1.0, 0.0, 0.6666666666666666, 1.0, 1.0, 0, 1.0, 1.0, 0.0, 1.0, 0.0, 1.0, 0.4, 1.0, 1.0, 1.0, 0.8, 1.0, 0.6666666666666666, 1.0, 1.0, 1.0, 0.0, 1.0, 1.0, 1.0, 1.0, 1.0, 1.0, 1.0, 1.0, 1.0, 1.0, 1.0, 1.0, 1.0, 1.0, 1.0, 1.0, 0.6666666666666666, 0, 1.0, 1.0, 0.4, 1.0, 1.0, 0, 0.6666666666666666, 0.4, 1.0, 1.0, 1.0, 1.0, 0.6666666666666666, 1.0, 1.0, 0.5, 1.0, 1.0, 1.0, 0.3333333333333333, 1.0, 0.6666666666666666, 0.5, 0.8, 0.6666666666666666, 0.0, 1.0, 1.0, 0.75, 0.25, 1.0, 1.0, 1.0, 0.6666666666666666, 1.0, 1.0, 0.75, 1.0, 1.0, 0.75, 0.5, 1.0, 0.8333333333333334, 1.0, 1.0, 0.0, 0.75, 1.0, 0.0, 0.6666666666666666, 1.0, 1.0, 1.0, 1.0, 0.75, 0.6666666666666666, 0.9230769230769231, 1.0, 1.0, 1.0, 1.0, 1.0, 1.0, 1.0, 1.0, 1.0, 1.0, 1.0, 1.0, 1.0, 0.6666666666666666, 1.0, 1.0, 1.0, 1.0, 1.0, 1.0, 1.0, 1.0, 1.0, 1.0, 1.0, 1.0, 1.0, 0.0, 1.0, 1.0, 0.5, 0.6666666666666666, 1.0, 1.0, 0.0, 1.0, 0.25, 1.0, 1.0, 0.0, 1.0, 1.0, 1.0, 0.5, 0.0, 1.0, 1.0, 1.0, 0.0, 0.9, 1.0, 0.0, 0.3333333333333333, 0.0, 1.0, 0.0, 1.0, 0.2222222222222222, 1.0, 0.16666666666666666, 0.0, 0.1111111111111111, 1.0, 1.0, 0.8333333333333334, 0.0, 0.0, 0.0, 0.8, 0.0, 1.0, 1.0, 0.0, 1.0, 1.0, 0, 0.9230769230769231, 1.0, 0.7777777777777778, 1.0, 1.0, 1.0, 0.0, 1.0, 1.0, 1.0, 1.0, 0.6923076923076923, 1.0, 1.0, 1.0, 1.0, 1.0, 1.0, 1.0, 1.0, 1.0, 1.0, 1.0, 0.0, 1.0, 1.0, 0.0, 1.0, 0.0, 1.0, 0.8823529411764706, 1.0, 0.0, 1.0, 0.0, 1.0, 1.0, 0.0, 1.0, 1.0, 0.0, 1.0, 0.0, 1.0, 1.0, 0.0, 1.0, 0.0, 1.0, 1.0, 1.0, 1.0, 1.0, 1.0, 1.0, 1.0, 0.4, 1.0, 1.0, 0.5, 1.0, 0, 1.0, 0.0, 0.5714285714285714, 0.7272727272727273, 1.0, 1.0, 1.0, 1.0, 0, 1.0, 1.0, 0.4444444444444444, 1.0, 0.75, 1.0, 1.0, 1.0, 1.0, 1.0, 1.0, 0.6, 1.0, 1.0, 1.0, 1.0, 1.0, 1.0, 0.6666666666666666, 0.6666666666666666, 0.6666666666666666, 1.0, 1.0, 1.0, 0.8333333333333334, 1.0, 1.0, 1.0, 1.0, 1.0, 0, 0, 1.0, 1.0, 1.0, 0.0, 1.0, 1.0, 1.0, 1.0, 0.3333333333333333, 1.0, 1.0, 1.0, 1.0, 1.0, 1.0, 1.0, 1.0, 1.0, 1.0, 1.0, 1.0, 1.0, 1.0, 1.0, 0.0, 0.8571428571428571, 1.0, 1.0, 1.0, 0.9285714285714286, 1.0, 1.0, 1.0, 1.0, 1.0, 1.0, 1.0, 1.0, 0.3333333333333333, 1.0, 1.0, 0.0, 1.0, 0.09523809523809523, 0, 1.0, 1.0, 1.0, 0.7142857142857143, 1.0, 0.5, 1.0, 0.6666666666666666, 1.0, 1.0, 0, 1.0, 1.0, 1.0, 1.0, 1.0, 1.0, 1.0, 1.0, 1.0, 1.0, 0.0, 0.5, 1.0, 0.0, 1.0, 1.0, 0.4444444444444444, 1.0, 1.0, 1.0, 1.0, 0.3333333333333333, 1.0, 1.0, 0.75, 1.0, 0.875, 1.0, 0, 0.6666666666666666, 1.0, 1.0, 0.0, 1.0, 1.0, 1.0, 0.8, 1.0, 1.0, 1.0, 1.0, 1.0, 1.0, 1.0, 1.0, 1.0, 1.0, 1.0, 1.0, 1.0, 1.0, 1.0, 1.0, 1.0, 1.0, 0.8333333333333334, 0.375, 1.0, 1.0, 0.8, 0.0, 0.6666666666666666, 1.0, 1.0, 1.0, 1.0, 0.0, 0.5, 0.25, 1.0, 0.5, 1.0, 1.0, 1.0, 0.7142857142857143, 0.0, 1.0, 0.25, 1.0, 1.0, 0.5, 1.0, 0.5, 1.0, 1.0, 1.0, 0.3, 1.0, 0.5, 1.0, 0.0, 1.0, 0.18181818181818182, 1.0, 0.8888888888888888, 1.0, 1.0, 1.0, 1.0, 1.0, 0.06666666666666667, 1.0, 0.0, 1.0, 1.0, 1.0, 0.6, 1.0, 0.5, 0.8, 1.0, 1.0, 1.0, 1.0, 0.8333333333333334, 1.0, 1.0, 1.0, 1.0, 1.0, 1.0, 0.0, 1.0, 0.8333333333333334, 1.0, 1.0, 0.3333333333333333, 1.0, 0.1875, 0.0, 0, 1.0, 1.0, 1.0, 1.0, 1.0, 0.42857142857142855, 1.0, 1.0, 1.0, 1.0, 0.0, 1.0, 1.0, 0.3333333333333333, 1.0, 1.0, 0.3333333333333333, 0.9090909090909091, 1.0, 1.0, 1.0, 0.0, 0.0, 0, 0, 0.7142857142857143, 1.0, 1.0, 1.0, 1.0, 0.0, 1.0, 1.0, 0, 1.0, 0.8333333333333334, 0.75, 1.0, 1.0, 0.3333333333333333, 1.0, 0.75, 1.0, 1.0, 1.0, 1.0, 0.0, 1.0, 1.0, 0.25, 0.0, 1.0, 0.0, 1.0, 1.0, 0.75, 1.0, 0.5, 1.0, 0.23076923076923078, 1.0, 0.52, 0.0, 0.6666666666666666, 1.0, 1.0, 1.0, 1.0, 1.0, 1.0, 1.0, 0.5, 1.0, 1.0, 1.0, 1.0, 0.6, 1.0, 0.9285714285714286, 1.0, 1.0, 1.0, 0.0, 0.2222222222222222, 1.0, 1.0, 1.0, 1.0, 1.0, 0.92, 0.75, 0.0, 1.0, 0.25, 1.0, 1.0, 1.0, 1.0, 1.0, 1.0, 1.0, 1.0, 1.0, 1.0, 1.0, 1.0, 1.0, 1.0, 1.0, 1.0, 0, 1.0, 0.46153846153846156, 0.3333333333333333, 0.6666666666666666, 0.9259259259259259, 1.0, 1.0, 1.0, 0, 1.0, 1.0, 1.0, 1.0, 0.0, 1.0, 1.0, 1.0, 0, 0.6666666666666666, 1.0, 1.0, 1.0, 1.0, 0.8, 0.0, 0.3333333333333333, 1.0, 0.75, 1.0, 1.0, 1.0, 1.0, 0.625, 1.0, 0.0, 1.0, 1.0, 1.0, 1.0, 0.4, 0, 0.2857142857142857, 1.0, 1.0, 0.391304347826087, 0.875, 1.0, 0, 1.0, 1.0, 0.0, 1.0, 0.14285714285714285, 1.0, 1.0, 1.0, 0.0, 1.0, 1.0, 1.0, 1.0, 1.0, 0.45454545454545453, 0.0, 1.0, 0.0, 0.0, 1.0, 1.0, 1.0, 1.0, 1.0, 0.0, 1.0, 0.6666666666666666, 0, 1.0, 1.0, 1.0, 0.5, 1.0, 0.0, 1.0, 1.0, 0.0, 1.0, 0.42857142857142855, 1.0, 1.0, 0.75, 1.0, 0.0, 1.0, 1.0, 1.0, 1.0, 1.0, 1.0, 0.75, 1.0, 0.3333333333333333, 1.0, 0.0, 1.0, 0, 1.0, 0.25, 0.8, 1.0, 1.0, 1.0, 1.0, 0.0, 1.0, 1.0, 1.0, 1.0, 0.25, 1.0, 0.5, 1.0, 1.0, 1.0, 1.0, 0.21428571428571427, 1.0, 0.0, 1.0, 0.0, 1.0, 1.0, 1.0, 0, 1.0, 0.75, 0.6, 1.0, 0.0, 1.0, 1.0, 1.0, 0, 0, 0.6666666666666666, 1.0, 1.0, 1.0, 1.0, 1.0, 1.0, 1.0, 1.0, 1.0, 1.0, 0.0, 0, 1.0, 0.0, 1.0, 1.0, 0.0, 0, 1.0, 1.0, 1.0, 1.0, 1.0, 1.0, 0.0, 1.0, 1.0, 1.0, 0.0, 0.0, 0.0, 1.0, 1.0, 1.0, 1.0, 1.0, 1.0, 1.0, 1.0, 0.0, 0.0, 0.0, 1.0, 1.0, 0.6666666666666666, 1.0, 1.0, 0.4, 1.0, 1.0, 1.0, 1.0, 0.0, 1.0, 1.0, 0.25, 0.0, 1.0, 1.0, 1.0, 1.0, 0.0, 1.0, 1.0, 1.0, 1.0, 0.0, 1.0, 1.0, 1.0, 1.0, 1.0, 1.0, 0.14285714285714285, 1.0, 1.0, 1.0, 1.0, 1.0, 0.0, 1.0, 1.0, 1.0, 1.0, 1.0, 0.875, 0.0, 0.8333333333333334, 1.0, 0.5, 1.0, 1.0, 0.0, 0.5, 1.0, 0.75, 1.0, 1.0, 1.0, 1.0, 1.0, 0.0, 1.0, 1.0, 0.0, 0.0, 1.0, 0.0, 1.0, 1.0, 1.0, 1.0, 1.0, 1.0, 1.0, 1.0, 1.0, 0.0, 1.0, 0.75, 0.6666666666666666, 1.0, 0.0, 1.0, 0.0, 1.0, 0.18181818181818182, 0.75, 1.0, 1.0, 1.0, 0.0, 0.8571428571428571, 1.0, 1.0, 1.0, 0.0, 1.0, 0.6666666666666666, 0.0, 0.0, 1.0, 1.0, 0.6666666666666666, 1.0, 1.0, 1.0, 1.0, 0.0, 1.0, 1.0, 0.0, 1.0, 1.0, 1.0, 1.0, 1.0, 1.0, 1.0, 1.0, 1.0, 0.75, 0.6, 1.0, 1.0, 1.0, 1.0, 1.0, 1.0, 1.0, 1.0, 1.0, 1.0, 0.0, 1.0, 0.9285714285714286, 1.0, 1.0, 1.0, 1.0, 1.0, 1.0, 0.3333333333333333, 0, 1.0, 1.0, 1.0, 1.0, 1.0, 1.0, 1.0, 1.0, 1.0, 1.0, 0, 0.0, 1.0, 1.0, 1.0, 1.0, 1.0, 1.0, 0.75, 1.0, 0.0, 0.0, 1.0, 1.0, 0, 1.0, 1.0, 1.0, 1.0, 1.0, 1.0, 0.8, 1.0, 1.0, 0.0, 1.0, 1.0, 1.0, 1.0, 1.0, 1.0, 1.0, 1.0, 1.0, 1.0, 1.0, 0.3333333333333333, 1.0, 1.0, 1.0, 1.0, 1.0, 0.0, 1.0, 1.0, 1.0, 1.0, 1.0, 1.0, 1.0, 1.0, 1.0, 1.0, 1.0, 1.0, 1.0, 1.0, 0.0, 1.0, 1.0, 1.0, 1.0, 0.75, 1.0, 1.0, 1.0, 0.0, 1.0, 1.0, 1.0, 1.0, 0.5, 1.0, 1.0, 1.0, 1.0, 1.0, 1.0, 1.0, 1.0, 1.0, 1.0, 1.0, 1.0, 1.0, 1.0, 1.0, 1.0, 0.6, 1.0, 1.0, 1.0, 1.0, 1.0, 1.0, 0.6, 1.0, 1.0, 1.0, 1.0, 0.6666666666666666, 1.0, 1.0, 1.0, 1.0, 1.0, 1.0, 1.0, 1.0, 1.0, 1.0, 1.0, 1.0, 1.0, 1.0, 1.0, 1.0, 1.0, 1.0, 1.0, 1.0, 0.5, 1.0, 1.0, 1.0, 1.0, 1.0, 1.0, 1.0, 0.375, 1.0, 1.0, 1.0, 0.0, 1.0, 1.0, 1.0, 1.0, 0.9, 1.0, 1.0, 0.75, 0.8571428571428571, 1.0, 1.0, 1.0, 1.0, 1.0, 1.0, 1.0, 1.0, 0, 1.0, 1.0, 0.75, 1.0, 1.0, 0.6666666666666666, 1.0, 1.0, 1.0, 0.8, 1.0, 1.0, 1.0, 0.0, 1.0, 0.3333333333333333, 1.0, 1.0, 1.0, 1.0, 1.0, 1.0, 0.6666666666666666, 1.0, 1.0, 1.0, 1.0, 1.0, 0.0, 1.0, 1.0, 1.0, 1.0, 1.0, 1.0, 1.0, 1.0, 1.0, 0, 1.0, 1.0, 1.0, 0.0, 0.0, 1.0, 1.0, 1.0, 1.0, 1.0, 0, 1.0, 0.0, 1.0, 1.0, 1.0, 1.0, 1.0, 0.8, 1.0, 1.0, 1.0, 1.0, 0.75, 1.0, 1.0, 0.6666666666666666, 0.0, 0.8, 0.0, 1.0, 1.0, 0.0, 1.0, 1.0, 0.0, 0.0, 1.0, 0.0, 0.0, 0.25, 0.5, 0.0, 1.0, 1.0, 1.0, 1.0, 1.0, 1.0, 1.0, 1.0, 1.0, 0, 0.875, 1.0, 0.0, 1.0, 0.0, 1.0, 1.0, 1.0, 1.0, 1.0, 1.0, 1.0, 1.0, 1.0, 1.0, 1.0, 1.0, 0.3333333333333333, 0.3333333333333333, 0.75, 0.0, 1.0, 0.0, 1.0, 1.0, 1.0, 1.0, 1.0, 1.0, 1.0, 0.0, 1.0, 1.0, 1.0, 1.0, 1.0, 1.0, 0.6666666666666666, 1.0, 1.0, 1.0, 1.0, 0.75, 1.0, 0, 1.0, 0.0, 1.0, 0, 1.0, 1.0, 1.0, 0.5, 1.0, 1.0, 1.0, 1.0, 1.0, 1.0, 1.0, 1.0, 1.0, 1.0, 1.0, 1.0, 1.0, 1.0, 1.0, 0.625, 0.5, 1.0, 0.0, 1.0, 1.0, 1.0, 1.0, 1.0, 1.0, 1.0, 1.0, 1.0, 1.0, 0.0, 1.0, 1.0, 0.6666666666666666, 1.0, 1.0, 1.0, 1.0, 1.0, 1.0, 1.0, 1.0, 1.0, 1.0, 1.0, 1.0, 1.0, 1.0, 1.0, 1.0, 1.0, 1.0, 1.0, 1.0, 1.0, 1.0, 1.0, 1.0, 1.0, 1.0, 0.0, 0.5, 1.0, 1.0, 1.0, 1.0, 1.0, 1.0, 0.0, 1.0, 1.0, 1.0, 1.0, 1.0, 1.0, 1.0, 1.0, 1.0, 0.5238095238095238, 1.0, 1.0, 1.0, 1.0, 1.0, 1.0, 1.0, 1.0, 0.0, 0, 0.0, 1.0, 1.0, 0.8333333333333334, 1.0, 1.0, 1.0, 1.0, 0.75, 1.0, 1.0, 0.9230769230769231, 0.0, 1.0, 1.0, 1.0, 1.0, 1.0, 1.0, 1.0, 1.0, 0.0, 1.0, 0.5, 1.0, 1.0, 1.0, 1.0, 1.0, 0, 1.0, 1.0, 1.0, 1.0, 1.0, 1.0, 0.0, 1.0, 1.0, 1.0, 1.0, 1.0, 1.0, 1.0, 1.0, 1.0, 1.0, 1.0, 1.0, 1.0, 1.0, 1.0, 1.0, 1.0, 0.0, 1.0, 0.0, 1.0, 1.0, 1.0, 0, 1.0, 1.0, 1.0, 1.0, 1.0, 0.6666666666666666, 0.2727272727272727, 1.0, 0.0, 1.0, 0.25, 0.75, 1.0, 1.0, 1.0, 1.0, 1.0, 1.0, 1.0, 1.0, 1.0, 0.6, 0.35, 1.0, 1.0, 1.0, 1.0, 1.0, 1.0, 1.0, 1.0, 1.0, 0.8, 1.0, 1.0, 0.5, 1.0, 1.0, 1.0, 1.0, 1.0, 0, 1.0, 1.0, 0, 1.0, 1.0, 1.0, 1.0, 1.0, 0.0, 0.0, 1.0, 1.0, 0.3076923076923077, 1.0, 1.0, 1.0, 1.0, 0.75, 0.0, 1.0, 1.0, 1.0, 1.0, 0.0, 1.0, 1.0, 1.0, 0.5, 1.0, 1.0, 1.0, 1.0, 1.0, 1.0, 1.0, 1.0, 1.0, 1.0, 1.0, 0.875, 0.9090909090909091, 0.0, 0.6666666666666666, 1.0, 1.0, 1.0, 0.0, 1.0, 0.6666666666666666, 1.0, 1.0, 1.0, 1.0, 1.0, 0.0, 0.2857142857142857, 1.0, 0.0, 0.8, 0.08333333333333333, 0.5, 1.0, 1.0, 0.0, 1.0, 1.0, 0, 1.0, 1.0, 1.0, 1.0, 0, 0.0, 0.8888888888888888, 0.0, 1.0, 1.0, 0.0, 1.0, 1.0, 1.0, 1.0, 1.0, 1.0, 1.0, 1.0, 1.0, 0.5, 0.0, 1.0, 1.0, 0, 0, 1.0, 0.21428571428571427, 1.0, 0.75, 1.0, 1.0, 1.0, 1.0, 1.0, 0.0, 1.0, 0, 1.0, 1.0, 0.0, 1.0, 0.0, 0.4722222222222222, 1.0, 0.3333333333333333, 0.0, 1.0, 0.0, 1.0, 0.0, 1.0, 0.0, 1.0, 1.0, 1.0, 1.0, 1.0, 1.0, 1.0, 1.0, 1.0, 1.0, 1.0, 1.0, 0.0, 1.0, 1.0, 1.0, 1.0, 1.0, 1.0, 1.0, 1.0, 1.0, 1.0, 1.0, 0.0, 1.0, 1.0, 1.0, 1.0, 0.0, 1.0, 1.0, 1.0, 1.0, 1.0, 1.0, 1.0, 1.0, 1.0, 0.0, 1.0, 1.0, 1.0, 1.0, 1.0, 1.0, 1.0, 1.0, 1.0, 1.0, 1.0, 1.0, 1.0, 1.0, 1.0, 1.0, 1.0, 1.0, 1.0, 1.0, 1.0, 1.0, 0, 1.0, 1.0, 1.0, 1.0, 1.0, 1.0, 1.0, 1.0, 1.0, 1.0, 0.0, 1.0, 0.0, 1.0, 1.0, 1.0, 1.0, 1.0, 1.0, 1.0, 1.0, 1.0, 1.0, 0, 1.0, 1.0, 1.0, 1.0, 1.0, 1.0, 1.0, 1.0, 1.0, 1.0, 1.0, 1.0, 1.0, 1.0, 1.0, 1.0, 1.0, 1.0, 1.0, 1.0, 1.0, 1.0, 1.0, 1.0, 1.0, 1.0, 1.0, 0, 1.0, 1.0, 1.0, 1.0, 1.0, 1.0, 1.0, 1.0, 1.0, 1.0, 1.0, 0.0, 1.0, 1.0, 1.0, 1.0, 0.5, 1.0, 1.0, 1.0, 1.0, 1.0, 1.0, 1.0, 1.0, 1.0, 0.0, 1.0, 1.0, 1.0, 1.0, 1.0, 1.0, 1.0, 0.3333333333333333, 1.0, 1.0, 1.0, 1.0, 0.0, 1.0, 1.0, 1.0, 1.0, 1.0, 1.0, 1.0, 1.0, 1.0, 1.0, 1.0, 1.0, 1.0, 1.0, 1.0, 1.0, 1.0, 1.0, 1.0, 1.0, 1.0, 1.0, 1.0, 1.0, 1.0, 1.0, 1.0, 1.0, 1.0, 1.0, 1.0, 0.0, 1.0, 1.0, 1.0, 1.0, 1.0, 1.0, 1.0, 1.0, 1.0, 1.0, 1.0, 1.0, 1.0, 0.8333333333333334, 1.0, 1.0, 1.0, 1.0, 1.0, 1.0, 1.0, 1.0, 0, 1.0, 1.0, 1.0, 1.0, 1.0, 1.0, 1.0, 0.0, 1.0, 1.0, 1.0, 1.0, 1.0, 1.0, 0.0, 1.0, 0.4666666666666667, 1.0, 1.0, 1.0, 1.0, 1.0, 1.0, 1.0, 1.0, 1.0, 1.0, 1.0, 1.0, 0, 1.0, 1.0, 0.0, 1.0, 1.0, 1.0, 1.0, 1.0, 1.0, 1.0, 1.0, 1.0, 0.0, 1.0, 1.0, 1.0, 0.0, 1.0, 1.0, 1.0, 1.0, 1.0, 1.0, 1.0, 1.0, 1.0, 1.0, 1.0, 1.0, 1.0, 1.0, 1.0, 1.0, 1.0, 1.0, 1.0, 1.0, 1.0, 1.0, 1.0, 1.0, 1.0, 1.0, 0.0, 0, 1.0, 1.0, 1.0, 1.0, 0.0, 1.0, 1.0, 1.0, 1.0, 1.0, 1.0, 1.0, 1.0, 1.0, 1.0, 1.0, 1.0, 1.0, 1.0, 1.0, 1.0, 1.0, 0, 1.0, 1.0, 1.0, 1.0, 1.0, 1.0, 1.0, 1.0, 1.0, 0.8, 1.0, 1.0, 1.0, 1.0, 1.0, 1.0, 1.0, 1.0, 0.0, 1.0, 1.0, 1.0, 1.0, 0.0, 1.0, 1.0, 1.0, 0.0, 1.0, 0, 1.0, 1.0, 1.0, 1.0, 1.0, 0.0, 1.0, 1.0, 1.0, 1.0, 1.0, 0.3333333333333333, 1.0, 0.3333333333333333, 1.0, 1.0, 0.0, 1.0, 0.0, 1.0, 0.75, 1.0, 1.0, 1.0, 1.0, 1.0, 1.0, 1.0, 1.0, 1.0, 1.0, 1.0, 1.0, 1.0, 1.0, 1.0, 1.0, 0.0, 0.0, 1.0, 1.0, 0.0, 1.0, 1.0, 1.0, 1.0, 1.0, 1.0, 1.0, 1.0, 1.0, 1.0, 1.0, 1.0, 1.0, 1.0, 1.0, 1.0, 0.0, 1.0, 1.0, 1.0, 0.0, 1.0, 1.0, 1.0, 1.0, 1.0, 1.0, 1.0, 0.8, 1.0, 1.0, 1.0, 1.0, 1.0, 1.0, 1.0, 1.0, 1.0, 1.0, 1.0, 0.0, 1.0, 1.0, 1.0, 0, 0.0, 1.0, 0.0, 1.0, 0.75, 1.0, 1.0, 1.0, 1.0, 1.0, 1.0, 1.0, 1.0, 0.875, 1.0, 1.0, 0.0, 1.0, 1.0, 0, 1.0, 1.0, 1.0, 1.0, 1.0, 1.0, 1.0, 1.0, 1.0, 0, 1.0, 1.0, 1.0, 0.0, 1.0, 1.0, 0, 1.0, 1.0, 1.0, 0.0, 1.0, 1.0, 1.0, 1.0, 1.0, 1.0, 1.0, 1.0, 1.0, 1.0, 1.0, 1.0, 0.0, 1.0, 1.0, 0.5714285714285714, 1.0, 0.0, 1.0, 0.0, 1.0, 1.0, 1.0, 1.0, 0, 1.0, 1.0, 1.0, 1.0, 0.0, 1.0, 1.0, 0.0, 1.0, 1.0, 1.0, 1.0, 1.0, 1.0, 1.0, 1.0, 1.0, 0.5, 1.0, 1.0, 1.0, 1.0, 1.0, 0.0, 1.0, 0.0, 1.0, 0, 0.0, 1.0, 1.0, 1.0, 1.0, 1.0, 1.0, 1.0, 1.0, 1.0, 1.0, 1.0, 1.0, 1.0, 1.0, 1.0, 0.0, 1.0, 1.0, 1.0, 1.0, 1.0, 0.0, 0.4666666666666667, 1.0, 1.0, 1.0, 1.0, 1.0, 1.0, 1.0, 1.0, 0.8, 1.0, 0, 1.0, 1.0, 0.8571428571428571, 0.0, 0.0, 1.0, 1.0, 1.0, 1.0, 0.8, 1.0, 1.0, 0.0, 0.0, 1.0, 1.0, 1.0, 0.0, 1.0, 0.8888888888888888, 1.0, 1.0, 1.0, 0.75, 1.0, 1.0, 0.0, 1.0, 1.0, 1.0, 0.0, 1.0, 1.0, 1.0, 1.0, 1.0, 1.0, 1.0, 1.0, 0.0, 1.0, 1.0, 1.0, 1.0, 1.0, 0.0, 0.75, 1.0, 1.0, 1.0, 0.0, 1.0, 0.625, 1.0, 0.0, 1.0, 1.0, 1.0, 1.0, 1.0, 1.0, 1.0, 0.0, 1.0, 0.0, 1.0, 1.0, 1.0, 1.0, 0.5, 1.0, 0.0, 0.0, 0.8888888888888888, 0.6666666666666666, 1.0, 0.6, 1.0, 1.0, 1.0, 0.8, 0.8571428571428571, 1.0, 0.8, 0.9090909090909091, 1.0, 1.0, 1.0, 1.0, 1.0, 0.375, 0.6666666666666666, 0.0, 0.5, 0.0, 0.16666666666666666, 0.0, 1.0, 0.0, 0.0, 0.0, 1.0, 0.3333333333333333, 0.75, 0.0, 1.0, 1.0, 0.0, 1.0, 0.0, 1.0, 1.0, 1.0, 0.5, 1.0, 0.0, 0.0, 1.0, 1.0, 0.0, 1.0, 1.0, 1.0, 1.0, 1.0, 1.0, 1.0, 1.0, 1.0, 1.0, 0.8, 1.0, 0.5, 1.0, 1.0, 0.0, 0.0]\n",
    "\n",
    "\n",
    "acc = [1] * count + [0] * (4414 - count)\n"
   ]
  },
  {
   "cell_type": "code",
   "execution_count": 91,
   "metadata": {},
   "outputs": [
    {
     "name": "stdout",
     "output_type": "stream",
     "text": [
      "Ttest_indResult(statistic=-0.17397509596425437, pvalue=0.8618890242975068)\n",
      "Ttest_indResult(statistic=1.72484646106198, pvalue=0.08459015524417542)\n",
      "Ttest_indResult(statistic=-0.11622981440749931, pvalue=0.9074730527662384)\n",
      "Ttest_indResult(statistic=array([234.88419999,   0.91011261]), pvalue=array([0.        , 0.36281281]))\n"
     ]
    }
   ],
   "source": [
    "print(stats.ttest_ind(acc, acc_baseline))\n",
    "print(stats.ttest_ind(f1, f1_baseline))\n",
    "print(stats.ttest_ind(p, p_baseline))\n",
    "print(stats.ttest_ind(r, r_baseline))\n"
   ]
  },
  {
   "cell_type": "code",
   "execution_count": 92,
   "metadata": {},
   "outputs": [
    {
     "name": "stdout",
     "output_type": "stream",
     "text": [
      "0.6035342093339374\n",
      "0.7767270904216418\n",
      "0.7950124616881948\n",
      "0.8136263370137876\n"
     ]
    }
   ],
   "source": [
    "print(np.mean(acc_baseline))\n",
    "print(np.mean(f1_baseline))\n",
    "print(np.mean(p_baseline))\n",
    "print(np.mean(r_baseline))\n",
    "\n"
   ]
  },
  {
   "cell_type": "code",
   "execution_count": 93,
   "metadata": {},
   "outputs": [],
   "source": [
    "acc_baseline2 = [1] * 2679 + [0] * (4414 - 2679)\n",
    "f1_baseline2 = [1.0, 0.6666666666666666, 1.0, 1.0, 1.0, 1.0, 0.5, 0.5, 0, 1.0, 1.0, 1.0, 1.0, 0.9090909090909091, 1.0, 1.0, 0.7058823529411764, 0.9090909090909091, 1.0, 1.0, 1.0, 0.6666666666666666, 1.0, 1.0, 0.9090909090909091, 1.0, 1.0, 1.0, 1.0, 1.0, 1.0, 1.0, 1.0, 1.0, 1.0, 0, 0.4, 0.8, 1.0, 1.0, 1.0, 1.0, 1.0, 1.0, 1.0, 1.0, 1.0, 1.0, 0.8, 1.0, 0, 1.0, 0.5555555555555556, 0.8, 1.0, 0.6153846153846153, 1.0, 1.0, 1.0, 0, 1.0, 0.6666666666666666, 1.0, 1.0, 0.6666666666666666, 0.6666666666666666, 1.0, 1.0, 0.5, 0.923076923076923, 1.0, 0.5, 0, 0, 1.0, 0.9600000000000001, 1.0, 1.0, 1.0, 0.9, 1.0, 1.0, 1.0, 1.0, 1.0, 0.6666666666666666, 1.0, 1.0, 0, 1.0, 0.2857142857142857, 0.5555555555555556, 1.0, 1.0, 1.0, 1.0, 1.0, 1.0, 1.0, 0, 1.0, 0, 1.0, 0.8, 1.0, 1.0, 1.0, 0.38095238095238093, 1.0, 1.0, 0.6666666666666666, 1.0, 1.0, 0.8, 1.0, 1.0, 1.0, 1.0, 0.4615384615384615, 1.0, 1.0, 1.0, 1.0, 1.0, 0, 1.0, 0.8333333333333333, 1.0, 1.0, 1.0, 1.0, 0.8571428571428571, 1.0, 1.0, 1.0, 0.8, 1.0, 0.1904761904761905, 0, 1.0, 0, 0, 1.0, 0.888888888888889, 0, 1.0, 1.0, 0, 1.0, 1.0, 1.0, 1.0, 1.0, 1.0, 0.8750000000000001, 1.0, 1.0, 1.0, 0, 1.0, 1.0, 1.0, 1.0, 1.0, 1.0, 1.0, 0, 0.6666666666666666, 0.2857142857142857, 1.0, 0.9090909090909091, 0.8571428571428571, 1.0, 1.0, 0.6666666666666666, 1.0, 1.0, 1.0, 0.3636363636363636, 1.0, 1.0, 1.0, 0.6666666666666666, 1.0, 1.0, 0.8571428571428571, 1.0, 1.0, 1.0, 0.888888888888889, 1.0, 1.0, 1.0, 1.0, 1.0, 1.0, 0.8, 1.0, 0.9473684210526316, 1.0, 1.0, 1.0, 1.0, 0.5, 1.0, 1.0, 0.35294117647058826, 0, 1.0, 1.0, 0.8571428571428571, 0, 1.0, 1.0, 0.5714285714285715, 0.33333333333333337, 1.0, 0.4, 1.0, 1.0, 0.6666666666666666, 1.0, 1.0, 1.0, 1.0, 1.0, 0, 0, 0.625, 0.5882352941176471, 0.5263157894736842, 1.0, 0, 1.0, 1.0, 0.17948717948717946, 1.0, 1.0, 1.0, 1.0, 1.0, 0.04081632653061225, 0, 1.0, 1.0, 1.0, 1.0, 1.0, 1.0, 0, 1.0, 0.4, 0.8571428571428571, 0, 1.0, 0.7000000000000001, 0, 1.0, 0.25, 1.0, 1.0, 0.8333333333333333, 1.0, 1.0, 1.0, 1.0, 1.0, 1.0, 1.0, 1.0, 1.0, 1.0, 0.35294117647058826, 1.0, 0, 1.0, 1.0, 0.7272727272727273, 1.0, 1.0, 1.0, 1.0, 0, 0.9333333333333333, 0.9411764705882353, 1.0, 1.0, 1.0, 1.0, 0.3636363636363636, 1.0, 1.0, 1.0, 1.0, 1.0, 0, 1.0, 1.0, 0.6153846153846153, 1.0, 1.0, 0.25, 0, 0.6666666666666666, 1.0, 1.0, 1.0, 1.0, 1.0, 1.0, 1.0, 0.8571428571428571, 0, 1.0, 0, 1.0, 0.18666666666666665, 0, 1.0, 1.0, 1.0, 0.5, 1.0, 0.888888888888889, 0.888888888888889, 1.0, 1.0, 1.0, 1.0, 1.0, 1.0, 1.0, 1.0, 1.0, 0.6666666666666666, 0, 1.0, 1.0, 1.0, 0.7692307692307693, 0.7692307692307693, 0.8, 0.6666666666666666, 1.0, 0.4, 0, 1.0, 1.0, 1.0, 1.0, 0, 1.0, 0, 0.9090909090909091, 1.0, 0.8, 1.0, 0.8292682926829268, 1.0, 1.0, 0.8, 1.0, 1.0, 1.0, 0.5925925925925926, 0.5, 1.0, 1.0, 1.0, 0.9523809523809523, 0.5, 0.4, 1.0, 1.0, 1.0, 0.888888888888889, 1.0, 0, 1.0, 1.0, 0, 1.0, 0.4444444444444445, 1.0, 1.0, 1.0, 0.6666666666666666, 1.0, 1.0, 1.0, 1.0, 1.0, 1.0, 1.0, 1.0, 0.8, 1.0, 0.923076923076923, 1.0, 1.0, 0.4, 1.0, 0, 1.0, 1.0, 1.0, 1.0, 1.0, 1.0, 1.0, 0.9090909090909091, 1.0, 1.0, 1.0, 1.0, 0, 1.0, 0.28571428571428575, 0, 0.6666666666666666, 0.9473684210526316, 1.0, 0.923076923076923, 1.0, 1.0, 1.0, 1.0, 0.8571428571428571, 0, 0.380952380952381, 1.0, 1.0, 0, 0, 0.8695652173913044, 1.0, 1.0, 0.9090909090909091, 1.0, 0.8, 0, 0.8571428571428571, 1.0, 0.4, 1.0, 1.0, 1.0, 0, 0.3191489361702127, 1.0, 1.0, 0.8333333333333334, 1.0, 1.0, 1.0, 0.11494252873563218, 0.8421052631578947, 1.0, 1.0, 1.0, 1.0, 1.0, 0.5, 1.0, 0, 0, 0.888888888888889, 1.0, 0, 1.0, 1.0, 0.33333333333333337, 0.5714285714285715, 0, 1.0, 1.0, 1.0, 1.0, 0, 1.0, 0.6666666666666666, 1.0, 0, 1.0, 0.6153846153846153, 0.3448275862068966, 0.2857142857142857, 1.0, 0.896551724137931, 1.0, 1.0, 1.0, 0.47058823529411764, 0.9090909090909091, 1.0, 1.0, 0.6666666666666666, 1.0, 0, 1.0, 1.0, 0.8571428571428571, 1.0, 1.0, 1.0, 0.8571428571428571, 0.923076923076923, 0.5633802816901409, 0, 0.8, 0.8750000000000001, 0.5128205128205129, 1.0, 1.0, 1.0, 1.0, 1.0, 0.7272727272727273, 0, 1.0, 1.0, 1.0, 0, 0, 0.8571428571428571, 0.5333333333333333, 1.0, 0, 0.5, 0.5, 1.0, 1.0, 1.0, 0.8571428571428571, 1.0, 1.0, 1.0, 1.0, 1.0, 1.0, 0, 1.0, 1.0, 0, 1.0, 1.0, 1.0, 1.0, 1.0, 1.0, 1.0, 1.0, 0.4, 0.06779661016949151, 1.0, 1.0, 1.0, 1.0, 1.0, 1.0, 1.0, 1.0, 0.303030303030303, 1.0, 1.0, 1.0, 1.0, 1.0, 1.0, 1.0, 1.0, 1.0, 1.0, 1.0, 1.0, 1.0, 1.0, 1.0, 0.4, 0.6666666666666666, 1.0, 1.0, 0, 1.0, 1.0, 1.0, 1.0, 1.0, 1.0, 1.0, 0, 1.0, 1.0, 1.0, 1.0, 0, 1.0, 1.0, 1.0, 1.0, 1.0, 1.0, 0.7499999999999999, 1.0, 1.0, 1.0, 1.0, 1.0, 0.5, 1.0, 1.0, 0.4444444444444445, 1.0, 0, 1.0, 1.0, 1.0, 1.0, 0.33333333333333337, 1.0, 1.0, 1.0, 1.0, 1.0, 0.5, 1.0, 1.0, 1.0, 1.0, 1.0, 1.0, 0, 1.0, 0.8571428571428571, 1.0, 0.8571428571428571, 1.0, 0.8333333333333333, 1.0, 0.4, 0, 1.0, 0.5, 1.0, 0.8, 0.6666666666666666, 1.0, 1.0, 1.0, 1.0, 0.8, 1.0, 0.6666666666666666, 1.0, 0.888888888888889, 0.0909090909090909, 1.0, 1.0, 1.0, 0.03225806451612903, 1.0, 1.0, 1.0, 1.0, 1.0, 1.0, 0.08333333333333333, 1.0, 1.0, 1.0, 1.0, 1.0, 1.0, 0.8571428571428571, 1.0, 0.6666666666666666, 0.6666666666666666, 0, 0.8571428571428571, 1.0, 1.0, 1.0, 1.0, 0, 1.0, 1.0, 1.0, 1.0, 1.0, 0, 0, 1.0, 0.25, 0.4, 0, 1.0, 1.0, 1.0, 0.8, 0, 1.0, 1.0, 1.0, 1.0, 1.0, 0.6666666666666666, 1.0, 1.0, 0, 1.0, 1.0, 1.0, 1.0, 1.0, 1.0, 1.0, 0.888888888888889, 1.0, 1.0, 0, 1.0, 1.0, 1.0, 0, 0.5, 1.0, 1.0, 1.0, 1.0, 1.0, 1.0, 0, 0.5, 1.0, 1.0, 1.0, 1.0, 0.888888888888889, 1.0, 1.0, 0.9333333333333333, 1.0, 0, 1.0, 1.0, 0, 0.8571428571428571, 1.0, 1.0, 1.0, 1.0, 1.0, 1.0, 1.0, 0.6666666666666666, 1.0, 1.0, 1.0, 1.0, 1.0, 1.0, 1.0, 0, 1.0, 1.0, 1.0, 1.0, 0, 1.0, 1.0, 1.0, 1.0, 1.0, 1.0, 1.0, 1.0, 0, 0.6666666666666666, 0.5, 0.5, 1.0, 0.9473684210526316, 1.0, 1.0, 1.0, 1.0, 0, 1.0, 1.0, 1.0, 1.0, 1.0, 1.0, 1.0, 1.0, 1.0, 0, 1.0, 1.0, 1.0, 1.0, 0.8, 0.9473684210526316, 0.35294117647058826, 1.0, 0.7499999999999999, 1.0, 0, 0, 0, 0, 0, 0.5, 1.0, 1.0, 1.0, 1.0, 0, 1.0, 1.0, 0.9090909090909091, 0.9166666666666666, 0.06060606060606061, 0, 0.5, 1.0, 0, 1.0, 1.0, 1.0, 1.0, 1.0, 1.0, 1.0, 0.4210526315789474, 0.7692307692307693, 1.0, 0, 0, 0.8, 0.9333333333333333, 0.6, 1.0, 1.0, 1.0, 0.5, 0.35294117647058826, 1.0, 1.0, 0.33333333333333337, 1.0, 1.0, 0.6, 1.0, 0.5, 1.0, 1.0, 1.0, 1.0, 1.0, 1.0, 1.0, 1.0, 0.9090909090909091, 0, 1.0, 1.0, 1.0, 0.8, 0, 0, 0.5, 1.0, 0.6666666666666666, 1.0, 0, 1.0, 1.0, 0, 1.0, 1.0, 1.0, 1.0, 1.0, 0.5714285714285715, 0.8571428571428571, 1.0, 1.0, 1.0, 0, 0, 0.33333333333333337, 1.0, 1.0, 0.8571428571428571, 1.0, 1.0, 1.0, 0.7272727272727273, 0, 0.6666666666666666, 1.0, 1.0, 0, 1.0, 0, 0, 0, 0.6666666666666666, 0.125, 1.0, 0, 0.8571428571428571, 0, 1.0, 1.0, 1.0, 0.8, 1.0, 0.888888888888889, 0, 1.0, 1.0, 0.6666666666666666, 1.0, 1.0, 1.0, 0.5454545454545454, 1.0, 0.5, 0.4, 1.0, 1.0, 1.0, 1.0, 0.9090909090909091, 0.888888888888889, 1.0, 0.8, 0, 0, 0, 0, 1.0, 1.0, 0.125, 1.0, 0, 1.0, 1.0, 0, 0.4, 1.0, 1.0, 1.0, 1.0, 1.0, 0.8, 1.0, 0, 0, 0, 1.0, 1.0, 0.17391304347826084, 0.888888888888889, 1.0, 0, 1.0, 1.0, 1.0, 1.0, 0, 1.0, 1.0, 0, 1.0, 0.7272727272727273, 0.6666666666666666, 1.0, 1.0, 1.0, 0, 1.0, 1.0, 1.0, 0.8571428571428571, 1.0, 1.0, 1.0, 1.0, 1.0, 1.0, 0, 0.8, 0.07058823529411765, 0, 1.0, 1.0, 0, 1.0, 1.0, 1.0, 0, 1.0, 0.8571428571428571, 1.0, 1.0, 0, 0, 0.9090909090909091, 0, 1.0, 1.0, 1.0, 0.923076923076923, 0.7368421052631579, 0, 1.0, 1.0, 0, 0, 0, 1.0, 0, 0.8, 0.4, 0.5714285714285715, 0.8750000000000001, 0, 0.6666666666666666, 1.0, 0, 1.0, 1.0, 0.8750000000000001, 0.8571428571428571, 0.8, 1.0, 0.4, 0.923076923076923, 0.8571428571428571, 0.88, 0.30303030303030304, 1.0, 0.6666666666666666, 0, 1.0, 0, 1.0, 1.0, 0.4, 0.6666666666666666, 1.0, 0, 0, 0.5714285714285715, 0, 1.0, 0, 0.8, 0, 1.0, 0, 1.0, 0.8275862068965517, 0.3846153846153846, 0.2222222222222222, 1.0, 0.8, 0.8, 0, 1.0, 0, 1.0, 0, 0.8235294117647058, 0.8333333333333333, 0, 1.0, 0.9473684210526316, 0.9090909090909091, 0, 1.0, 0, 0.13333333333333333, 0.5, 0.9090909090909091, 1.0, 0.9523809523809523, 1.0, 1.0, 1.0, 1.0, 1.0, 0, 0, 0, 0, 1.0, 1.0, 1.0, 0.5531914893617021, 1.0, 0.8571428571428571, 1.0, 0.4444444444444444, 0.6666666666666666, 1.0, 1.0, 1.0, 1.0, 1.0, 0.4347826086956522, 1.0, 1.0, 1.0, 0.6666666666666666, 1.0, 0, 1.0, 0, 0.8, 0.5454545454545454, 1.0, 1.0, 0, 0, 0.33333333333333337, 0.923076923076923, 0.7499999999999999, 0.6666666666666666, 1.0, 1.0, 1.0, 1.0, 0.9333333333333333, 0.8, 0.8, 0.17391304347826084, 0.5333333333333333, 0, 1.0, 0.9285714285714286, 1.0, 1.0, 0, 0.7499999999999999, 1.0, 1.0, 1.0, 1.0, 1.0, 1.0, 1.0, 0.6, 0, 1.0, 1.0, 0.8, 0, 0.9565217391304348, 0, 1.0, 1.0, 0.5365853658536585, 0.6666666666666666, 1.0, 1.0, 1.0, 0, 1.0, 0, 0.6666666666666666, 0.2222222222222222, 1.0, 0.8571428571428571, 0.9, 0.32142857142857145, 0, 0.8750000000000001, 0.875, 0.9333333333333333, 1.0, 1.0, 0.9090909090909091, 1.0, 1.0, 1.0, 1.0, 0.9090909090909091, 1.0, 0.9090909090909091, 1.0, 1.0, 1.0, 1.0, 1.0, 0, 0.8750000000000001, 0.962962962962963, 1.0, 0.9600000000000001, 0.23529411764705882, 0.7272727272727273, 0.6666666666666666, 1.0, 0.3636363636363636, 0.4615384615384615, 0, 1.0, 1.0, 1.0, 0, 0.5263157894736842, 0.19999999999999998, 1.0, 0.888888888888889, 1.0, 1.0, 0.6086956521739131, 0.5384615384615384, 0.8095238095238095, 0, 0.5806451612903226, 0.8, 0.8, 0.923076923076923, 1.0, 0.7499999999999999, 1.0, 1.0, 0.5882352941176471, 1.0, 1.0, 1.0, 1.0, 1.0, 0, 0.7499999999999999, 0, 1.0, 0.6666666666666666, 1.0, 0, 1.0, 1.0, 1.0, 1.0, 0.6896551724137931, 0.8333333333333333, 0.9333333333333333, 0, 1.0, 1.0, 0.6111111111111112, 0.6666666666666666, 0.7317073170731707, 0.8571428571428571, 1.0, 0, 1.0, 0.6666666666666666, 1.0, 0, 1.0, 1.0, 1.0, 0.3076923076923077, 0.5454545454545454, 1.0, 0.8571428571428571, 1.0, 0, 0.923076923076923, 0.16666666666666669, 1.0, 1.0, 0.2857142857142857, 0, 1.0, 0.9411764705882353, 1.0, 1.0, 1.0, 0.8421052631578948, 0.56, 1.0, 1.0, 0.6666666666666666, 0.25, 1.0, 1.0, 1.0, 0.19354838709677416, 0, 0.8, 0.8235294117647058, 0.888888888888889, 0, 0.42857142857142855, 1.0, 1.0, 0, 0.7368421052631579, 0, 0, 0, 1.0, 0, 0.6666666666666666, 0.9333333333333333, 0.8, 0, 0, 0.888888888888889, 0, 0, 0.5714285714285715, 1.0, 0.40909090909090906, 1.0, 1.0, 1.0, 0.6, 1.0, 1.0, 0, 1.0, 0.8, 1.0, 0.5882352941176471, 0.9090909090909091, 0, 0.9777777777777777, 1.0, 0.923076923076923, 0.8235294117647058, 0, 0.9473684210526316, 0, 0, 1.0, 0, 0.8, 0.5416666666666666, 1.0, 1.0, 0.2857142857142857, 0.8571428571428571, 1.0, 1.0, 0, 0, 0.33333333333333337, 0.6666666666666666, 1.0, 0, 1.0, 0.6, 1.0, 1.0, 0, 0.9090909090909091, 1.0, 0.19999999999999998, 0.6222222222222223, 0, 0, 0.5714285714285715, 1.0, 0.2857142857142857, 1.0, 1.0, 1.0, 0.8, 1.0, 0, 0, 1.0, 0.9375, 1.0, 0.6956521739130436, 0, 1.0, 1.0, 1.0, 1.0, 1.0, 1.0, 1.0, 1.0, 0, 0, 0, 0, 1.0, 0.9411764705882353, 0, 0, 0.32558139534883723, 0.1818181818181818, 0, 0, 0, 0, 0, 0.2857142857142857, 0, 1.0, 0.23529411764705882, 0, 0.125, 1.0, 0.8571428571428571, 0, 0.7499999999999999, 1.0, 0, 0.6666666666666666, 1.0, 0.88, 1.0, 0, 0.16666666666666669, 1.0, 1.0, 0.8333333333333333, 1.0, 0, 0.6666666666666666, 1.0, 0.8571428571428571, 0.8571428571428571, 1.0, 0.7272727272727273, 1.0, 0.5, 1.0, 1.0, 0.6956521739130436, 0.9565217391304348, 1.0, 0.5, 1.0, 0.6666666666666666, 1.0, 0.6666666666666666, 1.0, 1.0, 1.0, 1.0, 1.0, 0.6666666666666666, 0.923076923076923, 1.0, 0.8, 1.0, 0.6666666666666666, 0.6666666666666666, 1.0, 1.0, 0, 0.6666666666666666, 0.6666666666666666, 1.0, 0, 0, 1.0, 1.0, 1.0, 1.0, 0.888888888888889, 1.0, 1.0, 1.0, 0.6666666666666666, 1.0, 0.6666666666666666, 1.0, 0.8, 1.0, 1.0, 1.0, 0.6666666666666666, 1.0, 0.8571428571428571, 1.0, 1.0, 1.0, 1.0, 1.0, 0.6666666666666666, 1.0, 0.888888888888889, 0.5454545454545454, 1.0, 1.0, 1.0, 0.6666666666666666, 1.0, 0, 1.0, 1.0, 1.0, 1.0, 0.6666666666666666, 1.0, 0.888888888888889, 1.0, 1.0, 1.0, 1.0, 1.0, 1.0, 1.0, 1.0, 1.0, 0.923076923076923, 1.0, 1.0, 0, 1.0, 1.0, 0.9090909090909091, 1.0, 1.0, 1.0, 1.0, 1.0, 0, 1.0, 1.0, 1.0, 0.2857142857142857, 0.7272727272727273, 1.0, 0, 0.2857142857142857, 1.0, 0.8571428571428571, 1.0, 1.0, 1.0, 1.0, 1.0, 0.8000000000000002, 1.0, 1.0, 0, 1.0, 1.0, 1.0, 1.0, 0.6666666666666666, 0, 1.0, 1.0, 0, 1.0, 1.0, 0, 0.8571428571428571, 1.0, 0.7499999999999999, 1.0, 0.8, 1.0, 1.0, 0, 1.0, 1.0, 0.8, 1.0, 1.0, 0, 1.0, 1.0, 1.0, 1.0, 0, 0.8, 1.0, 1.0, 1.0, 1.0, 1.0, 0.6666666666666666, 1.0, 0.5, 0.8, 1.0, 1.0, 1.0, 0.5833333333333334, 1.0, 0, 1.0, 1.0, 1.0, 0, 0.6666666666666666, 0.4, 1.0, 1.0, 0, 1.0, 0.6666666666666666, 1.0, 0.7499999999999999, 0.42424242424242425, 0.33333333333333337, 1.0, 0, 0, 0, 0, 0.8, 1.0, 0.6666666666666666, 0, 1.0, 0.8, 1.0, 1.0, 1.0, 0.20512820512820512, 0, 0, 1.0, 0.5714285714285715, 1.0, 0.6666666666666666, 1.0, 1.0, 1.0, 1.0, 1.0, 1.0, 0.6666666666666666, 0.4444444444444445, 1.0, 1.0, 0.6666666666666666, 1.0, 1.0, 1.0, 0, 1.0, 1.0, 0.5, 1.0, 1.0, 1.0, 0, 1.0, 1.0, 1.0, 1.0, 1.0, 0, 1.0, 0.6666666666666666, 0.6666666666666666, 1.0, 1.0, 1.0, 1.0, 1.0, 1.0, 0, 0.8571428571428571, 0.4, 1.0, 0, 1.0, 0.6666666666666666, 1.0, 1.0, 0.8, 1.0, 1.0, 1.0, 0.33333333333333337, 0.7499999999999999, 1.0, 0, 1.0, 0.6666666666666666, 1.0, 0.8571428571428571, 1.0, 1.0, 0.5, 1.0, 1.0, 0, 1.0, 1.0, 0.5, 1.0, 0.6666666666666666, 0.6666666666666666, 0.8, 1.0, 1.0, 1.0, 1.0, 0.7499999999999999, 1.0, 0.4, 0.8, 1.0, 1.0, 1.0, 1.0, 1.0, 1.0, 0, 1.0, 1.0, 1.0, 1.0, 1.0, 1.0, 1.0, 0.8, 1.0, 0.24000000000000002, 1.0, 0.8571428571428571, 1.0, 1.0, 0, 1.0, 0.5454545454545454, 1.0, 1.0, 0.8, 0, 1.0, 0, 0.8, 1.0, 0.33333333333333337, 1.0, 1.0, 0.888888888888889, 1.0, 0.6666666666666665, 0, 1.0, 1.0, 1.0, 1.0, 1.0, 0, 0, 0, 0, 1.0, 1.0, 1.0, 1.0, 1.0, 1.0, 1.0, 1.0, 1.0, 1.0, 1.0, 0, 0.888888888888889, 1.0, 1.0, 1.0, 0, 1.0, 1.0, 1.0, 1.0, 1.0, 1.0, 1.0, 1.0, 0, 1.0, 0.6666666666666666, 0.4, 1.0, 1.0, 1.0, 1.0, 1.0, 1.0, 1.0, 1.0, 0.33333333333333337, 1.0, 1.0, 1.0, 1.0, 1.0, 1.0, 1.0, 0.8571428571428571, 1.0, 0.6666666666666666, 1.0, 1.0, 1.0, 1.0, 0.5, 0.6666666666666666, 1.0, 1.0, 1.0, 0.375, 0.7499999999999999, 0.9090909090909091, 1.0, 1.0, 0.8571428571428571, 0.8571428571428571, 1.0, 0.7499999999999999, 0, 0.8, 0.28571428571428575, 1.0, 0.888888888888889, 0.5, 0.5714285714285715, 1.0, 1.0, 0.8571428571428571, 1.0, 0.4, 1.0, 0.8, 1.0, 1.0, 1.0, 1.0, 1.0, 1.0, 0.923076923076923, 1.0, 1.0, 1.0, 1.0, 1.0, 0, 1.0, 1.0, 0.9411764705882353, 0.4, 1.0, 0.4, 1.0, 0, 0.8, 0.4, 0.6153846153846153, 0.6666666666666666, 1.0, 0, 0.5, 1.0, 1.0, 0.4444444444444444, 0, 1.0, 1.0, 1.0, 0.8, 1.0, 1.0, 1.0, 0, 1.0, 1.0, 1.0, 1.0, 1.0, 1.0, 0.8571428571428571, 1.0, 1.0, 1.0, 1.0, 0, 0.6, 1.0, 1.0, 0, 1.0, 1.0, 1.0, 1.0, 1.0, 1.0, 1.0, 1.0, 0, 1.0, 0, 0.14814814814814814, 0.6666666666666666, 1.0, 0.6666666666666665, 1.0, 1.0, 1.0, 1.0, 1.0, 1.0, 1.0, 1.0, 1.0, 1.0, 1.0, 1.0, 1.0, 0.8, 1.0, 1.0, 1.0, 1.0, 0, 1.0, 0.5, 1.0, 1.0, 1.0, 1.0, 0.8, 1.0, 0.8571428571428571, 1.0, 0.4, 1.0, 0.923076923076923, 1.0, 0.8571428571428571, 1.0, 1.0, 1.0, 0.6666666666666666, 1.0, 1.0, 1.0, 1.0, 1.0, 1.0, 1.0, 0.9090909090909091, 1.0, 1.0, 1.0, 1.0, 1.0, 1.0, 1.0, 1.0, 1.0, 0.8, 1.0, 1.0, 1.0, 0.888888888888889, 1.0, 1.0, 1.0, 1.0, 1.0, 1.0, 0.6666666666666666, 1.0, 1.0, 0.5714285714285715, 0, 0, 1.0, 0.5, 0.8, 1.0, 1.0, 1.0, 1.0, 1.0, 1.0, 1.0, 1.0, 1.0, 1.0, 1.0, 1.0, 0, 0.33333333333333337, 1.0, 1.0, 1.0, 1.0, 1.0, 0, 1.0, 1.0, 1.0, 1.0, 0.8571428571428571, 1.0, 1.0, 1.0, 1.0, 1.0, 1.0, 1.0, 1.0, 1.0, 1.0, 0.8, 0.8571428571428571, 0.8571428571428571, 1.0, 1.0, 1.0, 0, 1.0, 1.0, 0.5, 0.7272727272727273, 0.5, 1.0, 0, 0.5454545454545454, 1.0, 1.0, 1.0, 1.0, 1.0, 1.0, 1.0, 1.0, 1.0, 0.8, 0.6666666666666666, 1.0, 1.0, 1.0, 1.0, 1.0, 1.0, 0.888888888888889, 1.0, 0.6666666666666666, 0.4444444444444445, 1.0, 1.0, 1.0, 0.9333333333333333, 0.6666666666666666, 1.0, 1.0, 1.0, 1.0, 1.0, 0.4, 0.8, 0.8, 1.0, 1.0, 0.8, 1.0, 1.0, 1.0, 1.0, 0.3076923076923077, 1.0, 1.0, 1.0, 1.0, 1.0, 0.8, 0.9090909090909091, 0.7058823529411764, 1.0, 1.0, 0.6666666666666666, 1.0, 1.0, 0.33333333333333337, 1.0, 1.0, 1.0, 1.0, 0.6666666666666666, 1.0, 1.0, 1.0, 0, 1.0, 0.5714285714285714, 1.0, 1.0, 1.0, 0.8, 1.0, 1.0, 1.0, 0.9, 1.0, 0.5, 1.0, 0.8571428571428571, 1.0, 0.8333333333333333, 1.0, 0.8571428571428571, 1.0, 1.0, 0.2222222222222222, 1.0, 1.0, 1.0, 0.8, 1.0, 1.0, 1.0, 0.8, 1.0, 1.0, 1.0, 1.0, 0.6666666666666666, 1.0, 1.0, 1.0, 0.6666666666666666, 1.0, 1.0, 1.0, 1.0, 1.0, 1.0, 1.0, 1.0, 0.8571428571428571, 1.0, 1.0, 1.0, 1.0, 1.0, 0, 1.0, 1.0, 1.0, 0, 1.0, 1.0, 1.0, 1.0, 1.0, 1.0, 1.0, 1.0, 0, 1.0, 1.0, 0.8571428571428571, 1.0, 1.0, 1.0, 1.0, 1.0, 1.0, 1.0, 1.0, 1.0, 1.0, 1.0, 0, 1.0, 1.0, 1.0, 1.0, 0, 1.0, 1.0, 1.0, 0.923076923076923, 1.0, 1.0, 1.0, 1.0, 1.0, 1.0, 1.0, 1.0, 1.0, 1.0, 0.5, 1.0, 0, 0.8, 1.0, 1.0, 0, 1.0, 1.0, 0, 0.3636363636363636, 0, 1.0, 0.5714285714285715, 0.8, 1.0, 1.0, 0.888888888888889, 1.0, 0.8, 1.0, 1.0, 1.0, 0, 1.0, 1.0, 0.888888888888889, 1.0, 1.0, 1.0, 1.0, 1.0, 0.33333333333333337, 1.0, 1.0, 1.0, 1.0, 1.0, 1.0, 1.0, 0.8, 0, 1.0, 1.0, 0.6666666666666666, 1.0, 0.888888888888889, 0, 0.8, 0, 0.8, 0.888888888888889, 1.0, 0.4615384615384615, 0.8, 1.0, 1.0, 0.4, 1.0, 1.0, 0.16666666666666669, 0.5, 1.0, 0.8, 0.6666666666666666, 0.888888888888889, 0.8, 0, 1.0, 1.0, 0.8571428571428571, 0.4, 0.8, 1.0, 0.8, 0.8, 1.0, 1.0, 0.8571428571428571, 1.0, 1.0, 0.8571428571428571, 0.6666666666666666, 1.0, 0.9090909090909091, 1.0, 1.0, 0, 0.8571428571428571, 1.0, 0, 0.8, 1.0, 1.0, 1.0, 1.0, 0.5454545454545454, 0.8, 0.9600000000000001, 1.0, 0.6, 1.0, 1.0, 1.0, 1.0, 0.6666666666666666, 1.0, 1.0, 1.0, 1.0, 0.6666666666666666, 1.0, 0.8, 1.0, 1.0, 1.0, 1.0, 1.0, 1.0, 1.0, 1.0, 1.0, 1.0, 1.0, 1.0, 1.0, 0, 1.0, 0.8, 0.6666666666666666, 0.8, 1.0, 1.0, 0, 1.0, 0.4, 1.0, 1.0, 0, 0.888888888888889, 1.0, 1.0, 0.6666666666666666, 0, 0.16129032258064516, 0.010695187165775402, 0.35294117647058826, 0, 1.0, 0.7499999999999999, 0, 0.5, 0, 1.0, 0, 0.6060606060606061, 0.3636363636363636, 0.888888888888889, 0.25, 0, 0.19999999999999998, 1.0, 1.0, 0.9090909090909091, 0, 0, 0, 0.888888888888889, 0, 1.0, 1.0, 0, 0.923076923076923, 1.0, 0, 0.9600000000000001, 0.4444444444444445, 0.8750000000000001, 0.2978723404255319, 1.0, 1.0, 0, 1.0, 0.9565217391304348, 0.7368421052631579, 1.0, 0.8181818181818181, 1.0, 1.0, 1.0, 0.5714285714285715, 1.0, 0.8235294117647058, 0.5294117647058824, 1.0, 0.9473684210526316, 1.0, 1.0, 0, 1.0, 1.0, 0, 1.0, 0, 0.4166666666666667, 0.9375, 0.625, 0, 0.8421052631578948, 0, 0.88, 1.0, 0, 0.6428571428571429, 0.9600000000000001, 0, 1.0, 0, 1.0, 1.0, 0, 1.0, 0, 0.8235294117647058, 1.0, 0.6666666666666666, 1.0, 1.0, 0.888888888888889, 1.0, 0.9333333333333333, 0.5714285714285715, 0.962962962962963, 1.0, 0.6666666666666666, 0.787878787878788, 0, 1.0, 0, 0.7272727272727273, 0.8421052631578948, 1.0, 1.0, 0.5714285714285715, 1.0, 0, 1.0, 1.0, 0.6153846153846153, 1.0, 0.8571428571428571, 1.0, 1.0, 1.0, 1.0, 1.0, 1.0, 0.7499999999999999, 1.0, 1.0, 1.0, 1.0, 0.6666666666666666, 1.0, 0.8, 0.8, 0.8, 1.0, 1.0, 1.0, 0.9090909090909091, 1.0, 1.0, 1.0, 1.0, 1.0, 0, 0, 1.0, 1.0, 1.0, 0, 1.0, 1.0, 1.0, 1.0, 0.5, 1.0, 1.0, 1.0, 1.0, 1.0, 1.0, 1.0, 1.0, 0.5, 1.0, 1.0, 0.5454545454545454, 1.0, 0.8571428571428571, 0.4827586206896552, 0, 0.923076923076923, 1.0, 1.0, 1.0, 0.5416666666666667, 1.0, 1.0, 1.0, 0.888888888888889, 0.125, 1.0, 1.0, 1.0, 0.5, 1.0, 0.5, 0, 1.0, 0.17391304347826084, 0, 0.888888888888889, 1.0, 1.0, 0.8333333333333333, 1.0, 0.6666666666666666, 1.0, 0.8, 0.5, 1.0, 0, 1.0, 0.6666666666666666, 1.0, 1.0, 1.0, 1.0, 1.0, 1.0, 1.0, 1.0, 0, 0.6666666666666666, 1.0, 0, 1.0, 1.0, 0.6153846153846153, 0.888888888888889, 1.0, 1.0, 1.0, 0.5, 1.0, 1.0, 0.8571428571428571, 1.0, 0.9333333333333333, 1.0, 0, 0.8, 1.0, 1.0, 0, 1.0, 1.0, 1.0, 0.888888888888889, 1.0, 1.0, 1.0, 1.0, 1.0, 1.0, 1.0, 1.0, 0.7499999999999999, 1.0, 1.0, 1.0, 1.0, 1.0, 1.0, 1.0, 1.0, 1.0, 0.9090909090909091, 0.5454545454545454, 1.0, 1.0, 0.888888888888889, 0, 1.0, 1.0, 1.0, 1.0, 1.0, 0, 0.6666666666666666, 0.4, 1.0, 0.6666666666666666, 1.0, 1.0, 1.0, 0.8333333333333333, 0, 1.0, 0.05714285714285715, 0.6666666666666666, 1.0, 0.6666666666666666, 0.23529411764705882, 0.6666666666666666, 1.0, 1.0, 1.0, 0.4615384615384615, 0.04878048780487806, 0.6666666666666666, 1.0, 0, 1.0, 0.3076923076923077, 1.0, 0.9411764705882353, 1.0, 1.0, 1.0, 1.0, 1.0, 0.125, 1.0, 0, 1.0, 1.0, 1.0, 0.7499999999999999, 1.0, 0.6666666666666666, 0.888888888888889, 1.0, 1.0, 1.0, 1.0, 0.9090909090909091, 1.0, 1.0, 1.0, 1.0, 1.0, 1.0, 0, 1.0, 0.9090909090909091, 1.0, 1.0, 0.5, 1.0, 0.3157894736842105, 0, 0, 1.0, 1.0, 1.0, 1.0, 1.0, 0.6, 1.0, 1.0, 1.0, 1.0, 0, 1.0, 1.0, 0.5, 0, 1.0, 0.5, 0.9523809523809523, 1.0, 1.0, 1.0, 0, 0, 0, 0, 0.6521739130434783, 1.0, 1.0, 1.0, 1.0, 0, 1.0, 1.0, 0, 1.0, 0.9090909090909091, 0.8571428571428571, 1.0, 1.0, 0.5, 1.0, 0.8571428571428571, 1.0, 1.0, 1.0, 1.0, 0, 1.0, 0.5, 0.4, 0, 1.0, 0, 1.0, 1.0, 0.8571428571428571, 1.0, 0.6666666666666666, 1.0, 0.375, 1.0, 0.6842105263157895, 0, 0.8, 1.0, 0.25, 1.0, 1.0, 1.0, 1.0, 0.7272727272727273, 0.4, 0.1111111111111111, 1.0, 1.0, 1.0, 0.7499999999999999, 1.0, 0.962962962962963, 0.25, 1.0, 1.0, 0, 0.3636363636363636, 1.0, 1.0, 1.0, 1.0, 1.0, 0.5679012345679012, 0.8571428571428571, 0, 1.0, 0.4, 1.0, 1.0, 1.0, 1.0, 1.0, 1.0, 1.0, 1.0, 1.0, 1.0, 1.0, 1.0, 1.0, 0.33333333333333337, 1.0, 0.4, 0, 1.0, 0.631578947368421, 1.0, 0.8, 0.9615384615384615, 1.0, 1.0, 1.0, 0, 1.0, 1.0, 1.0, 1.0, 0, 1.0, 0.9411764705882353, 1.0, 0, 0.8, 0.2857142857142857, 1.0, 0.8, 1.0, 0.888888888888889, 0, 0.5, 1.0, 0.052631578947368425, 1.0, 0.053097345132743355, 1.0, 1.0, 0.7692307692307693, 1.0, 0, 1.0, 1.0, 1.0, 1.0, 0.5714285714285715, 0, 0.4444444444444445, 1.0, 1.0, 0.5625, 0.9333333333333333, 1.0, 0, 1.0, 1.0, 0, 1.0, 0.25, 1.0, 1.0, 1.0, 0, 1.0, 1.0, 1.0, 0.1081081081081081, 1.0, 0.625, 0, 0.35294117647058826, 0, 0, 0.38095238095238093, 0.8571428571428571, 1.0, 1.0, 1.0, 0, 1.0, 0.30769230769230765, 0, 1.0, 1.0, 1.0, 0.6666666666666666, 1.0, 0, 1.0, 1.0, 0, 1.0, 0.6, 0.35294117647058826, 0.0392156862745098, 0.8571428571428571, 1.0, 0, 0.5, 1.0, 0.6923076923076924, 1.0, 1.0, 1.0, 0.8571428571428571, 0.4347826086956522, 0.23529411764705885, 0.41379310344827586, 0, 0.7499999999999999, 0, 1.0, 0.4, 0.888888888888889, 1.0, 1.0, 1.0, 1.0, 0, 1.0, 1.0, 0.3018867924528302, 1.0, 0.4, 0.888888888888889, 0.6666666666666666, 0.031007751937984496, 1.0, 1.0, 1.0, 0.35294117647058826, 1.0, 0, 0.8387096774193548, 0, 0.8571428571428571, 1.0, 0.7272727272727273, 0, 1.0, 0.8571428571428571, 0, 0.6666666666666666, 0, 1.0, 1.0, 0.8571428571428571, 0, 0, 0.8, 1.0, 0.3076923076923077, 1.0, 0.8, 1.0, 1.0, 1.0, 1.0, 0.6451612903225806, 1.0, 0, 0, 1.0, 0, 0.7499999999999999, 0.5714285714285715, 0, 0, 1.0, 1.0, 1.0, 1.0, 1.0, 0.6666666666666666, 0, 0.2222222222222222, 0.5714285714285715, 1.0, 0, 0, 0, 0.5, 1.0, 0.8, 0.08695652173913045, 0.3636363636363636, 1.0, 1.0, 0.7333333333333334, 0, 0, 0, 0.4117647058823529, 1.0, 0.10810810810810811, 1.0, 1.0, 0.5714285714285715, 1.0, 1.0, 1.0, 0.65, 0, 1.0, 0.6666666666666666, 0.4, 0, 1.0, 0.33333333333333337, 0.5, 1.0, 0, 1.0, 1.0, 1.0, 1.0, 0, 1.0, 0.9333333333333333, 0.34782608695652173, 1.0, 1.0, 1.0, 0.25, 1.0, 1.0, 1.0, 1.0, 1.0, 0, 0.6153846153846153, 1.0, 1.0, 1.0, 0.05084745762711864, 0.56, 0, 0.9090909090909091, 1.0, 0.6666666666666666, 1.0, 1.0, 0, 0.6666666666666666, 0.7499999999999999, 0.8571428571428571, 0.7272727272727273, 1.0, 1.0, 0.29629629629629634, 1.0, 0, 1.0, 1.0, 0, 0, 1.0, 0, 1.0, 1.0, 0.631578947368421, 1.0, 1.0, 1.0, 1.0, 1.0, 1.0, 0, 1.0, 0.7692307692307693, 0.5, 1.0, 0, 1.0, 0, 1.0, 0.3076923076923077, 0.6666666666666666, 1.0, 1.0, 1.0, 0, 0.923076923076923, 1.0, 1.0, 1.0, 0, 1.0, 0.8, 0, 0, 0.923076923076923, 1.0, 0.8, 1.0, 1.0, 0.888888888888889, 0.18181818181818182, 0, 1.0, 1.0, 0, 1.0, 1.0, 0.8, 1.0, 1.0, 0.888888888888889, 1.0, 1.0, 0.9565217391304348, 0.8571428571428571, 0.7499999999999999, 1.0, 1.0, 1.0, 1.0, 1.0, 1.0, 1.0, 1.0, 1.0, 1.0, 0, 1.0, 0.962962962962963, 1.0, 1.0, 1.0, 1.0, 1.0, 1.0, 0.5, 0, 1.0, 1.0, 1.0, 1.0, 1.0, 1.0, 1.0, 1.0, 1.0, 1.0, 0, 0, 1.0, 1.0, 1.0, 1.0, 1.0, 1.0, 0.8571428571428571, 1.0, 0, 0, 1.0, 1.0, 0, 1.0, 1.0, 1.0, 1.0, 0.8571428571428571, 1.0, 0.888888888888889, 0.8, 0.7499999999999999, 0, 1.0, 1.0, 1.0, 0.13559322033898305, 1.0, 1.0, 1.0, 1.0, 0.9333333333333333, 1.0, 1.0, 0.5, 1.0, 0.6153846153846153, 1.0, 1.0, 1.0, 0, 1.0, 1.0, 1.0, 1.0, 1.0, 1.0, 1.0, 1.0, 1.0, 1.0, 1.0, 1.0, 1.0, 1.0, 0, 1.0, 1.0, 1.0, 1.0, 0.8571428571428571, 1.0, 1.0, 1.0, 0, 1.0, 1.0, 1.0, 0.4444444444444445, 0.6666666666666666, 1.0, 1.0, 1.0, 1.0, 1.0, 1.0, 0.6666666666666666, 1.0, 1.0, 1.0, 1.0, 1.0, 1.0, 0.11764705882352941, 1.0, 1.0, 1.0, 1.0, 0.8, 1.0, 1.0, 1.0, 1.0, 0, 1.0, 1.0, 1.0, 1.0, 0.8, 1.0, 1.0, 1.0, 1.0, 1.0, 0.8, 1.0, 1.0, 1.0, 1.0, 1.0, 1.0, 0.5, 1.0, 1.0, 0.9333333333333333, 0.6666666666666666, 1.0, 1.0, 1.0, 0.6666666666666666, 0.8, 0.8571428571428571, 1.0, 1.0, 0.33333333333333337, 1.0, 1.0, 0.5454545454545454, 1.0, 1.0, 1.0, 0, 1.0, 1.0, 1.0, 1.0, 0.9090909090909091, 1.0, 1.0, 0.8571428571428571, 0.923076923076923, 1.0, 1.0, 1.0, 1.0, 1.0, 1.0, 1.0, 1.0, 0, 1.0, 1.0, 0.8571428571428571, 1.0, 1.0, 0.8, 1.0, 1.0, 1.0, 0.888888888888889, 1.0, 1.0, 1.0, 0, 1.0, 0.5, 1.0, 1.0, 1.0, 1.0, 1.0, 0.8, 0.8, 1.0, 0.5714285714285715, 1.0, 1.0, 1.0, 0, 1.0, 1.0, 1.0, 1.0, 1.0, 1.0, 1.0, 1.0, 1.0, 0, 1.0, 1.0, 1.0, 0, 0, 1.0, 1.0, 1.0, 0.2222222222222222, 1.0, 0, 0.2222222222222222, 0, 1.0, 1.0, 0.19999999999999998, 1.0, 1.0, 0.888888888888889, 1.0, 1.0, 0.34782608695652173, 1.0, 0.8571428571428571, 0.5714285714285715, 1.0, 0.8, 0, 0.888888888888889, 0, 0.8, 1.0, 0, 1.0, 0.2758620689655173, 0, 0, 1.0, 0, 0, 0.4, 0.2, 0, 1.0, 0.07692307692307693, 1.0, 1.0, 0.03508771929824561, 0.0898876404494382, 1.0, 1.0, 1.0, 0, 0.9333333333333333, 1.0, 0, 1.0, 0, 1.0, 0.07692307692307693, 0.18181818181818182, 1.0, 1.0, 1.0, 1.0, 1.0, 0.8, 0.23076923076923078, 1.0, 1.0, 0.4, 0.3333333333333333, 0.7999999999999999, 0, 1.0, 0, 1.0, 1.0, 1.0, 1.0, 1.0, 1.0, 1.0, 0, 1.0, 1.0, 1.0, 1.0, 1.0, 1.0, 0.8, 1.0, 1.0, 0.4444444444444445, 0.2926829268292683, 0.6666666666666665, 1.0, 0, 1.0, 0, 1.0, 0, 0.23636363636363636, 0.6666666666666666, 0.9333333333333333, 0.4, 0.888888888888889, 1.0, 1.0, 1.0, 0.8571428571428571, 1.0, 1.0, 1.0, 1.0, 1.0, 1.0, 1.0, 1.0, 0.8, 1.0, 0.7692307692307693, 0.6666666666666666, 0.9411764705882353, 0, 1.0, 1.0, 0.09756097560975609, 1.0, 1.0, 1.0, 0.8, 0.5555555555555556, 1.0, 0.8235294117647058, 0, 1.0, 1.0, 0.8, 1.0, 1.0, 1.0, 1.0, 1.0, 1.0, 1.0, 1.0, 0.2222222222222222, 0.6666666666666666, 1.0, 1.0, 1.0, 1.0, 1.0, 1.0, 1.0, 1.0, 1.0, 0, 1.0, 1.0, 1.0, 1.0, 1.0, 1.0, 0, 0.6666666666666666, 1.0, 1.0, 1.0, 1.0, 0.8, 1.0, 0, 1.0, 1.0, 1.0, 1.0, 1.0, 1.0, 0.2222222222222222, 0.6666666666666666, 0.8333333333333333, 0.6875000000000001, 1.0, 1.0, 0.6666666666666666, 1.0, 1.0, 1.0, 0.21428571428571425, 1.0, 0, 0, 0, 1.0, 1.0, 0.9090909090909091, 0.8, 1.0, 1.0, 1.0, 0, 1.0, 1.0, 0.9600000000000001, 0, 1.0, 1.0, 1.0, 1.0, 1.0, 1.0, 1.0, 0.028169014084507043, 0, 1.0, 0.6666666666666666, 1.0, 1.0, 1.0, 0.6666666666666666, 0.6666666666666666, 0, 1.0, 1.0, 1.0, 1.0, 1.0, 1.0, 0, 0.15384615384615385, 1.0, 1.0, 1.0, 0.9090909090909091, 1.0, 1.0, 0.8750000000000001, 1.0, 1.0, 1.0, 1.0, 1.0, 1.0, 1.0, 1.0, 1.0, 0, 1.0, 0, 1.0, 1.0, 1.0, 0, 1.0, 1.0, 1.0, 1.0, 1.0, 0.8, 0.42857142857142855, 1.0, 0, 1.0, 0.4, 0.8, 1.0, 1.0, 1.0, 1.0, 1.0, 1.0, 1.0, 0.888888888888889, 1.0, 0.7499999999999999, 0.5185185185185185, 1.0, 1.0, 1.0, 0.8571428571428571, 1.0, 1.0, 1.0, 1.0, 1.0, 0.888888888888889, 1.0, 1.0, 0.6666666666666666, 1.0, 1.0, 1.0, 1.0, 1.0, 0, 0.888888888888889, 1.0, 0, 1.0, 1.0, 1.0, 1.0, 1.0, 0, 0, 0.8, 0.19999999999999998, 0.47058823529411764, 1.0, 1.0, 1.0, 1.0, 0.8571428571428571, 0, 1.0, 1.0, 1.0, 1.0, 0, 1.0, 1.0, 1.0, 0.6666666666666666, 1.0, 1.0, 1.0, 1.0, 1.0, 0.923076923076923, 1.0, 1.0, 1.0, 1.0, 1.0, 0.9333333333333333, 0.9523809523809523, 0, 0.923076923076923, 1.0, 1.0, 1.0, 0, 1.0, 0.8, 1.0, 1.0, 1.0, 1.0, 1.0, 0, 0.30188679245283023, 1.0, 0, 0.888888888888889, 0.15384615384615385, 0.6666666666666666, 1.0, 1.0, 0, 1.0, 0.42857142857142855, 0, 1.0, 0.6666666666666666, 1.0, 1.0, 0, 0, 0.9411764705882353, 0, 0.33333333333333337, 1.0, 0, 1.0, 1.0, 1.0, 1.0, 1.0, 1.0, 1.0, 1.0, 0.8, 0.6666666666666666, 0, 1.0, 0.9696969696969697, 0, 0, 1.0, 0.35294117647058826, 1.0, 0.8571428571428571, 1.0, 1.0, 1.0, 0.24000000000000002, 1.0, 0, 1.0, 0, 0.23529411764705882, 1.0, 0, 1.0, 0, 0.5396825396825397, 1.0, 0.5, 0, 1.0, 0, 0.4, 0, 1.0, 0, 1.0, 1.0, 1.0, 1.0, 1.0, 1.0, 1.0, 1.0, 1.0, 1.0, 1.0, 1.0, 0, 0.6666666666666666, 1.0, 1.0, 1.0, 1.0, 1.0, 1.0, 0.6666666666666666, 1.0, 0.7499999999999999, 1.0, 0, 0.6666666666666666, 1.0, 1.0, 1.0, 0, 1.0, 1.0, 1.0, 1.0, 1.0, 0.6666666666666666, 1.0, 1.0, 1.0, 0, 1.0, 1.0, 0.2666666666666667, 1.0, 1.0, 1.0, 1.0, 1.0, 1.0, 1.0, 1.0, 0.8333333333333333, 1.0, 1.0, 1.0, 1.0, 0.6666666666666666, 1.0, 0.4, 0.4, 1.0, 1.0, 0, 1.0, 1.0, 1.0, 1.0, 1.0, 1.0, 0.8, 0.6666666666666666, 1.0, 1.0, 0, 1.0, 0, 1.0, 1.0, 1.0, 1.0, 1.0, 0.7499999999999999, 0.4, 1.0, 0.6666666666666666, 0.7499999999999999, 0, 1.0, 0.8571428571428571, 0.9090909090909091, 1.0, 1.0, 0.888888888888889, 1.0, 1.0, 1.0, 1.0, 1.0, 1.0, 1.0, 0.6666666666666666, 1.0, 1.0, 1.0, 1.0, 0.11764705882352941, 1.0, 1.0, 1.0, 0.6666666666666666, 1.0, 1.0, 1.0, 1.0, 0, 1.0, 1.0, 1.0, 1.0, 0.6666666666666666, 1.0, 1.0, 0.888888888888889, 1.0, 0.6, 1.0, 0, 1.0, 0.6666666666666666, 1.0, 1.0, 0.6666666666666666, 1.0, 0.6666666666666666, 1.0, 1.0, 1.0, 1.0, 1.0, 1.0, 1.0, 0, 1.0, 1.0, 1.0, 0.5, 1.0, 1.0, 1.0, 0.5, 1.0, 1.0, 1.0, 1.0, 0, 1.0, 1.0, 1.0, 1.0, 1.0, 1.0, 0.8, 1.0, 1.0, 0.5714285714285715, 1.0, 1.0, 1.0, 1.0, 1.0, 0.8, 1.0, 1.0, 1.0, 1.0, 0.6, 1.0, 1.0, 1.0, 1.0, 1.0, 1.0, 1.0, 1.0, 0.5, 1.0, 0, 1.0, 1.0, 1.0, 0.6666666666666666, 1.0, 1.0, 0.8, 1.0, 1.0, 1.0, 1.0, 1.0, 1.0, 1.0, 0.07407407407407407, 1.0, 1.0, 1.0, 1.0, 1.0, 0.8235294117647058, 0.5, 0, 1.0, 1.0, 1.0, 1.0, 1.0, 1.0, 1.0, 0, 1.0, 1.0, 0.0909090909090909, 1.0, 1.0, 1.0, 0, 1.0, 0.6363636363636364, 0.4444444444444445, 1.0, 0.8, 0.888888888888889, 0.8, 1.0, 1.0, 0.8571428571428571, 1.0, 1.0, 0.6666666666666666, 0.6666666666666666, 0, 1.0, 1.0, 0, 1.0, 1.0, 1.0, 1.0, 1.0, 1.0, 1.0, 1.0, 1.0, 0, 1.0, 1.0, 0.625, 0, 1.0, 1.0, 1.0, 1.0, 1.0, 1.0, 1.0, 1.0, 1.0, 1.0, 0.8571428571428571, 1.0, 1.0, 1.0, 1.0, 1.0, 1.0, 0.6666666666666666, 1.0, 1.0, 1.0, 1.0, 1.0, 1.0, 1.0, 1.0, 0, 0, 1.0, 1.0, 1.0, 1.0, 0, 1.0, 1.0, 1.0, 1.0, 0.5, 1.0, 0.8333333333333333, 1.0, 1.0, 1.0, 1.0, 1.0, 1.0, 1.0, 1.0, 1.0, 0.3571428571428571, 0, 1.0, 0.7499999999999999, 1.0, 0.16666666666666669, 0.33333333333333337, 0.8571428571428571, 1.0, 1.0, 1.0, 0.888888888888889, 1.0, 0.6666666666666666, 1.0, 1.0, 0.5714285714285715, 1.0, 0.5, 1.0, 0, 1.0, 0.5, 1.0, 1.0, 0, 1.0, 1.0, 1.0, 0, 0.888888888888889, 0, 1.0, 1.0, 1.0, 1.0, 1.0, 0, 1.0, 1.0, 1.0, 1.0, 1.0, 0.5, 0.923076923076923, 0.5, 0.6666666666666666, 1.0, 0, 1.0, 0, 1.0, 0.8571428571428571, 1.0, 1.0, 0.7499999999999999, 1.0, 1.0, 1.0, 1.0, 0.8571428571428571, 0.6666666666666666, 1.0, 1.0, 1.0, 1.0, 0.4, 1.0, 1.0, 0, 0, 1.0, 0.8571428571428571, 0, 1.0, 1.0, 1.0, 0.6666666666666666, 1.0, 0.9090909090909091, 1.0, 1.0, 1.0, 1.0, 1.0, 0.6666666666666666, 1.0, 1.0, 1.0, 0.6666666666666666, 0, 1.0, 1.0, 1.0, 0, 1.0, 0.8571428571428571, 1.0, 1.0, 0.9090909090909091, 1.0, 1.0, 0.888888888888889, 0.7142857142857143, 1.0, 1.0, 1.0, 1.0, 1.0, 1.0, 1.0, 1.0, 1.0, 0.8, 0, 1.0, 1.0, 1.0, 0, 0, 1.0, 0, 1.0, 0.8571428571428571, 0.7499999999999999, 1.0, 1.0, 1.0, 1.0, 0.8, 1.0, 1.0, 0.9333333333333333, 1.0, 1.0, 0, 0.18181818181818182, 0.2222222222222222, 0, 1.0, 0.4, 1.0, 1.0, 1.0, 1.0, 1.0, 1.0, 1.0, 0, 1.0, 1.0, 1.0, 0, 0.8, 1.0, 0, 1.0, 0.9090909090909091, 0.6666666666666666, 0, 0.6666666666666666, 1.0, 0.6666666666666666, 1.0, 0.7499999999999999, 0.6666666666666666, 1.0, 1.0, 1.0, 0.9090909090909091, 1.0, 0.6666666666666666, 0, 1.0, 1.0, 0.7272727272727273, 1.0, 0, 1.0, 0, 1.0, 1.0, 1.0, 1.0, 0, 0.9333333333333333, 1.0, 1.0, 1.0, 0, 0.5333333333333333, 1.0, 0, 1.0, 1.0, 1.0, 1.0, 0.888888888888889, 1.0, 1.0, 1.0, 1.0, 0.6666666666666666, 1.0, 0.8, 1.0, 1.0, 1.0, 0, 0.33333333333333337, 0, 1.0, 0, 0, 1.0, 1.0, 1.0, 1.0, 1.0, 0.8571428571428571, 1.0, 1.0, 1.0, 1.0, 1.0, 1.0, 1.0, 1.0, 0.888888888888889, 0, 1.0, 0.9714285714285714, 1.0, 1.0, 1.0, 0, 0.6363636363636364, 0.5, 0.5, 0.5, 1.0, 1.0, 1.0, 1.0, 0.6666666666666666, 0.888888888888889, 1.0, 0, 1.0, 0.25806451612903225, 0.923076923076923, 0, 0, 1.0, 1.0, 1.0, 1.0, 0.888888888888889, 1.0, 1.0, 0, 0, 1.0, 0.4444444444444445, 1.0, 0, 1.0, 0.9411764705882353, 1.0, 1.0, 1.0, 0.8571428571428571, 1.0, 1.0, 0, 1.0, 1.0, 1.0, 0, 1.0, 1.0, 1.0, 1.0, 1.0, 1.0, 0.5333333333333333, 1.0, 0, 1.0, 1.0, 1.0, 1.0, 1.0, 0, 0.8571428571428571, 1.0, 1.0, 1.0, 0, 0.8571428571428571, 0.7692307692307693, 1.0, 0, 1.0, 1.0, 1.0, 0.923076923076923, 1.0, 0.16666666666666669, 1.0, 0, 1.0, 0, 0.5, 1.0, 1.0, 1.0, 0.6666666666666666, 0.9090909090909091, 0, 0, 0.9411764705882353, 0.8, 1.0, 0.7499999999999999, 1.0, 1.0, 1.0, 0.888888888888889, 0.923076923076923, 1.0, 0.888888888888889, 0.9523809523809523, 0.4444444444444445, 1.0, 1.0, 1.0, 0.5, 0.5454545454545454, 0.8, 0, 0.6666666666666666, 0, 0.2857142857142857, 0, 1.0, 0, 0, 0, 1.0, 0.5, 0.8571428571428571, 0, 1.0, 0.5, 0, 1.0, 0, 1.0, 1.0, 1.0, 0.6666666666666666, 1.0, 0, 0, 1.0, 1.0, 0, 1.0, 1.0, 1.0, 0.8, 1.0, 1.0, 0.625, 1.0, 1.0, 1.0, 0.888888888888889, 1.0, 0.6666666666666666, 0.3636363636363636, 1.0, 0, 0]\n",
    "p_baseline2 = [1.0, 0.5, 1.0, 1.0, 1.0, 1.0, 1.0, 1.0, 0.0, 1.0, 1.0, 1.0, 1.0, 1.0, 1.0, 1.0, 1.0, 1.0, 1.0, 1.0, 1.0, 0.5, 1.0, 1.0, 1.0, 1.0, 1.0, 1.0, 1.0, 1.0, 1.0, 1.0, 1.0, 1.0, 1.0, 0.0, 1.0, 1.0, 1.0, 1.0, 1.0, 1.0, 1.0, 1.0, 1.0, 1.0, 1.0, 1.0, 0.6666666666666666, 1.0, 0.0, 1.0, 1.0, 0.6666666666666666, 1.0, 0.4444444444444444, 1.0, 1.0, 1.0, 0.0, 1.0, 0.6666666666666666, 1.0, 1.0, 1.0, 1.0, 1.0, 1.0, 0.3333333333333333, 1.0, 1.0, 1.0, 0, 0, 1.0, 1.0, 1.0, 1.0, 1.0, 1.0, 1.0, 1.0, 1.0, 1.0, 1.0, 0.5, 1.0, 1.0, 0.0, 1.0, 1.0, 0.38461538461538464, 1.0, 1.0, 1.0, 1.0, 1.0, 1.0, 1.0, 0, 1.0, 0.0, 1.0, 1.0, 1.0, 1.0, 1.0, 1.0, 1.0, 1.0, 1.0, 1.0, 1.0, 0.6666666666666666, 1.0, 1.0, 1.0, 1.0, 1.0, 1.0, 1.0, 1.0, 1.0, 1.0, 0.0, 1.0, 1.0, 1.0, 1.0, 1.0, 1.0, 1.0, 1.0, 1.0, 1.0, 0.6666666666666666, 1.0, 1.0, 0.0, 1.0, 0.0, 0.0, 1.0, 0.8, 0.0, 1.0, 1.0, 0.0, 1.0, 1.0, 1.0, 1.0, 1.0, 1.0, 1.0, 1.0, 1.0, 1.0, 0.0, 1.0, 1.0, 1.0, 1.0, 1.0, 1.0, 1.0, 0.0, 1.0, 1.0, 1.0, 1.0, 1.0, 1.0, 1.0, 0.5, 1.0, 1.0, 1.0, 1.0, 1.0, 1.0, 1.0, 1.0, 1.0, 1.0, 1.0, 1.0, 1.0, 1.0, 1.0, 1.0, 1.0, 1.0, 1.0, 1.0, 1.0, 1.0, 1.0, 0.9, 1.0, 1.0, 1.0, 1.0, 1.0, 1.0, 1.0, 1.0, 0.0, 1.0, 1.0, 0.75, 0.0, 1.0, 1.0, 1.0, 0.2, 1.0, 1.0, 1.0, 1.0, 0.5, 1.0, 1.0, 1.0, 1.0, 1.0, 0.0, 0, 1.0, 1.0, 1.0, 1.0, 0.0, 1.0, 1.0, 0.09859154929577464, 1.0, 1.0, 1.0, 1.0, 1.0, 0.020833333333333332, 0.0, 1.0, 1.0, 1.0, 1.0, 1.0, 1.0, 0.0, 1.0, 0.25, 1.0, 0, 1.0, 1.0, 0, 1.0, 1.0, 1.0, 1.0, 1.0, 1.0, 1.0, 1.0, 1.0, 1.0, 1.0, 1.0, 1.0, 1.0, 1.0, 1.0, 1.0, 0.0, 1.0, 1.0, 1.0, 1.0, 1.0, 1.0, 1.0, 0.0, 1.0, 1.0, 1.0, 1.0, 1.0, 1.0, 0.2222222222222222, 1.0, 1.0, 1.0, 1.0, 1.0, 0, 1.0, 1.0, 1.0, 1.0, 1.0, 1.0, 0.0, 1.0, 1.0, 1.0, 1.0, 1.0, 1.0, 1.0, 1.0, 0.75, 0, 1.0, 0, 1.0, 0.10294117647058823, 0.0, 1.0, 1.0, 1.0, 1.0, 1.0, 1.0, 1.0, 1.0, 1.0, 1.0, 1.0, 1.0, 1.0, 1.0, 1.0, 1.0, 1.0, 0.0, 1.0, 1.0, 1.0, 0.625, 0.9375, 0.6666666666666666, 1.0, 1.0, 1.0, 0.0, 1.0, 1.0, 1.0, 1.0, 0.0, 1.0, 0.0, 1.0, 1.0, 0.6666666666666666, 1.0, 1.0, 1.0, 1.0, 0.6666666666666666, 1.0, 1.0, 1.0, 0.42105263157894735, 0.3333333333333333, 1.0, 1.0, 1.0, 1.0, 1.0, 0.25, 1.0, 1.0, 1.0, 0.8, 1.0, 0, 1.0, 1.0, 0, 1.0, 0.2857142857142857, 1.0, 1.0, 1.0, 1.0, 1.0, 1.0, 1.0, 1.0, 1.0, 1.0, 1.0, 1.0, 0.6666666666666666, 1.0, 0.8571428571428571, 1.0, 1.0, 1.0, 1.0, 0.0, 1.0, 1.0, 1.0, 1.0, 1.0, 1.0, 1.0, 0.8333333333333334, 1.0, 1.0, 1.0, 1.0, 0, 1.0, 0.5, 0.0, 1.0, 0.9, 1.0, 0.8571428571428571, 1.0, 1.0, 1.0, 1.0, 1.0, 0.0, 0.3076923076923077, 1.0, 1.0, 0.0, 0, 0.7692307692307693, 1.0, 1.0, 0.8333333333333334, 1.0, 1.0, 0.0, 0.75, 1.0, 1.0, 1.0, 1.0, 1.0, 0.0, 0.189873417721519, 1.0, 1.0, 0.8333333333333334, 1.0, 1.0, 1.0, 0.06097560975609756, 0.7619047619047619, 1.0, 1.0, 1.0, 1.0, 1.0, 1.0, 1.0, 0.0, 0.0, 1.0, 1.0, 0.0, 1.0, 1.0, 0.2, 0.4, 0.0, 1.0, 1.0, 1.0, 1.0, 0.0, 1.0, 1.0, 1.0, 0.0, 1.0, 0.4444444444444444, 1.0, 1.0, 1.0, 0.8125, 1.0, 1.0, 1.0, 1.0, 0.8333333333333334, 1.0, 1.0, 1.0, 1.0, 0, 1.0, 1.0, 0.75, 1.0, 1.0, 1.0, 0.75, 1.0, 0.39215686274509803, 0, 1.0, 1.0, 1.0, 1.0, 1.0, 1.0, 1.0, 1.0, 1.0, 0, 1.0, 1.0, 1.0, 0.0, 0.0, 0.75, 0.5, 1.0, 0.0, 0.3333333333333333, 0.3333333333333333, 1.0, 1.0, 1.0, 1.0, 1.0, 1.0, 1.0, 1.0, 1.0, 1.0, 0.0, 1.0, 1.0, 0, 1.0, 1.0, 1.0, 1.0, 1.0, 1.0, 1.0, 1.0, 0.25, 0.03508771929824561, 1.0, 1.0, 1.0, 1.0, 1.0, 1.0, 1.0, 1.0, 0.18518518518518517, 1.0, 1.0, 1.0, 1.0, 1.0, 1.0, 1.0, 1.0, 1.0, 1.0, 1.0, 1.0, 1.0, 1.0, 1.0, 0.25, 0.5, 1.0, 1.0, 0.0, 1.0, 1.0, 1.0, 1.0, 1.0, 1.0, 1.0, 0.0, 1.0, 1.0, 1.0, 1.0, 0.0, 1.0, 1.0, 1.0, 1.0, 1.0, 1.0, 0.6, 1.0, 1.0, 1.0, 1.0, 1.0, 0.3333333333333333, 1.0, 1.0, 0.2857142857142857, 1.0, 0.0, 1.0, 1.0, 1.0, 1.0, 0.2, 1.0, 1.0, 1.0, 1.0, 1.0, 0.3333333333333333, 1.0, 1.0, 1.0, 1.0, 1.0, 1.0, 0, 1.0, 1.0, 1.0, 1.0, 1.0, 0.7142857142857143, 1.0, 0.25, 0.0, 1.0, 0.3333333333333333, 1.0, 0.6666666666666666, 0.5, 1.0, 1.0, 1.0, 1.0, 0.6666666666666666, 1.0, 0.5, 1.0, 1.0, 0.047619047619047616, 1.0, 1.0, 1.0, 0.01639344262295082, 1.0, 1.0, 1.0, 1.0, 1.0, 1.0, 0.043478260869565216, 1.0, 1.0, 1.0, 1.0, 1.0, 1.0, 0.75, 1.0, 1.0, 0.5, 0.0, 0.75, 1.0, 1.0, 1.0, 1.0, 0, 1.0, 1.0, 1.0, 1.0, 1.0, 0, 0, 1.0, 0.14285714285714285, 0.25, 0.0, 1.0, 1.0, 1.0, 1.0, 0.0, 1.0, 1.0, 1.0, 1.0, 1.0, 0.5, 1.0, 1.0, 0.0, 1.0, 1.0, 1.0, 1.0, 1.0, 1.0, 1.0, 1.0, 1.0, 1.0, 0.0, 1.0, 1.0, 1.0, 0.0, 0.3333333333333333, 1.0, 1.0, 1.0, 1.0, 1.0, 1.0, 0.0, 0.3333333333333333, 1.0, 1.0, 1.0, 1.0, 0.8, 1.0, 1.0, 1.0, 1.0, 0, 1.0, 1.0, 0.0, 1.0, 1.0, 1.0, 1.0, 1.0, 1.0, 1.0, 1.0, 1.0, 1.0, 1.0, 1.0, 1.0, 1.0, 1.0, 1.0, 0.0, 1.0, 1.0, 1.0, 1.0, 0.0, 1.0, 1.0, 1.0, 1.0, 1.0, 1.0, 1.0, 1.0, 0.0, 0.5, 0.3333333333333333, 0.3333333333333333, 1.0, 0.9, 1.0, 1.0, 1.0, 1.0, 0.0, 1.0, 1.0, 1.0, 1.0, 1.0, 1.0, 1.0, 1.0, 1.0, 0.0, 1.0, 1.0, 1.0, 1.0, 0.6666666666666666, 1.0, 0.21428571428571427, 1.0, 1.0, 1.0, 0.0, 0.0, 0.0, 0.0, 0.0, 0.3333333333333333, 1.0, 1.0, 1.0, 1.0, 0.0, 1.0, 1.0, 1.0, 0.8461538461538461, 0.03125, 0.0, 1.0, 1.0, 0.0, 1.0, 1.0, 1.0, 1.0, 1.0, 1.0, 1.0, 0.26666666666666666, 0.625, 1.0, 0.0, 0.0, 1.0, 0.875, 0.42857142857142855, 1.0, 1.0, 1.0, 0.3333333333333333, 0.21428571428571427, 1.0, 1.0, 0.2, 1.0, 1.0, 0.42857142857142855, 1.0, 0.3333333333333333, 1.0, 1.0, 1.0, 1.0, 1.0, 1.0, 1.0, 1.0, 1.0, 0, 1.0, 1.0, 1.0, 1.0, 0.0, 0.0, 0.3333333333333333, 1.0, 0.5, 1.0, 0.0, 1.0, 1.0, 0.0, 1.0, 1.0, 1.0, 1.0, 1.0, 0.4, 1.0, 1.0, 1.0, 1.0, 0.0, 0, 0.2, 1.0, 1.0, 1.0, 1.0, 1.0, 1.0, 0.5714285714285714, 0.0, 0.5, 1.0, 1.0, 0.0, 1.0, 0.0, 0.0, 0.0, 1.0, 0.06666666666666667, 1.0, 0.0, 1.0, 0.0, 1.0, 1.0, 1.0, 0.6666666666666666, 1.0, 1.0, 0.0, 1.0, 1.0, 1.0, 1.0, 1.0, 1.0, 0.375, 1.0, 0.5, 1.0, 1.0, 1.0, 1.0, 1.0, 1.0, 1.0, 1.0, 0.6666666666666666, 0, 0, 0.0, 0.0, 1.0, 1.0, 0.07692307692307693, 1.0, 0.0, 1.0, 1.0, 0.0, 0.25, 1.0, 1.0, 1.0, 1.0, 1.0, 1.0, 1.0, 0.0, 0.0, 0.0, 1.0, 1.0, 0.09523809523809523, 1.0, 1.0, 0.0, 1.0, 1.0, 1.0, 1.0, 0.0, 1.0, 1.0, 0.0, 1.0, 1.0, 0.6666666666666666, 1.0, 1.0, 1.0, 0.0, 1.0, 1.0, 1.0, 1.0, 1.0, 1.0, 1.0, 1.0, 1.0, 1.0, 0.0, 0.6666666666666666, 0.036585365853658534, 0.0, 1.0, 1.0, 0.0, 1.0, 1.0, 1.0, 0.0, 1.0, 1.0, 1.0, 1.0, 0, 0.0, 0.8333333333333334, 0.0, 1.0, 1.0, 1.0, 1.0, 0.6363636363636364, 0.0, 1.0, 1.0, 0, 0.0, 0.0, 1.0, 0.0, 0.6666666666666666, 0.25, 0.4, 0.7777777777777778, 0.0, 0.5, 1.0, 0.0, 1.0, 1.0, 0.7777777777777778, 1.0, 0.6666666666666666, 1.0, 1.0, 1.0, 0.75, 0.7857142857142857, 0.17857142857142858, 1.0, 1.0, 0.0, 1.0, 0.0, 1.0, 1.0, 1.0, 0.5, 1.0, 0, 0.0, 0.4, 0.0, 1.0, 0.0, 1.0, 0.0, 1.0, 0.0, 1.0, 0.7058823529411765, 0.23809523809523808, 1.0, 1.0, 0.6666666666666666, 0.6666666666666666, 0.0, 1.0, 0, 1.0, 0.0, 0.7, 0.7142857142857143, 0.0, 1.0, 0.9, 1.0, 0.0, 1.0, 0.0, 0.07142857142857142, 1.0, 1.0, 1.0, 0.9090909090909091, 1.0, 1.0, 1.0, 1.0, 1.0, 0.0, 0.0, 0.0, 0.0, 1.0, 1.0, 1.0, 0.38235294117647056, 1.0, 0.8571428571428571, 1.0, 0.3333333333333333, 1.0, 1.0, 1.0, 1.0, 1.0, 1.0, 0.2777777777777778, 1.0, 1.0, 1.0, 0.5, 1.0, 0.0, 1.0, 0.0, 1.0, 0.5, 1.0, 1.0, 0.0, 0.0, 0.2, 0.8571428571428571, 0.6, 0.5, 1.0, 1.0, 1.0, 1.0, 1.0, 1.0, 0.6666666666666666, 0.09523809523809523, 1.0, 0.0, 1.0, 0.8666666666666667, 1.0, 1.0, 0.0, 1.0, 1.0, 1.0, 1.0, 1.0, 1.0, 1.0, 1.0, 0.75, 0, 1.0, 1.0, 1.0, 0.0, 1.0, 0.0, 1.0, 1.0, 1.0, 1.0, 1.0, 1.0, 1.0, 0.0, 1.0, 0.0, 1.0, 1.0, 1.0, 1.0, 1.0, 0.5294117647058824, 0.0, 1.0, 0.875, 1.0, 1.0, 1.0, 1.0, 1.0, 1.0, 1.0, 1.0, 1.0, 1.0, 1.0, 1.0, 1.0, 1.0, 1.0, 1.0, 0.0, 1.0, 1.0, 1.0, 1.0, 1.0, 1.0, 0.5, 1.0, 1.0, 1.0, 0.0, 1.0, 1.0, 1.0, 0.0, 1.0, 1.0, 1.0, 1.0, 1.0, 1.0, 1.0, 0.3684210526315789, 1.0, 0, 1.0, 1.0, 1.0, 1.0, 1.0, 0.6, 1.0, 1.0, 0.4166666666666667, 1.0, 1.0, 1.0, 1.0, 1.0, 0.0, 1.0, 0.0, 1.0, 1.0, 1.0, 0.0, 1.0, 1.0, 1.0, 1.0, 1.0, 1.0, 1.0, 0.0, 1.0, 1.0, 1.0, 1.0, 1.0, 1.0, 1.0, 0.0, 1.0, 1.0, 1.0, 0.0, 1.0, 1.0, 1.0, 0.18181818181818182, 0.375, 1.0, 1.0, 1.0, 0.0, 0.8571428571428571, 1.0, 1.0, 1.0, 1.0, 0.0, 1.0, 1.0, 1.0, 1.0, 1.0, 1.0, 1.0, 1.0, 1.0, 1.0, 1.0, 1.0, 1.0, 1.0, 1.0, 0.0, 1.0, 0.7, 0.8, 0.0, 1.0, 1.0, 1.0, 0.0, 1.0, 0.0, 0.0, 0.0, 1.0, 0.0, 1.0, 0.875, 1.0, 0.0, 0.0, 1.0, 0, 0.0, 0.4, 1.0, 0.2571428571428571, 1.0, 1.0, 1.0, 1.0, 1.0, 1.0, 0.0, 1.0, 1.0, 1.0, 1.0, 0.8333333333333334, 0.0, 0.9565217391304348, 1.0, 0.8571428571428571, 0.7, 0.0, 0.9, 0, 0.0, 1.0, 0.0, 1.0, 0.37142857142857144, 1.0, 1.0, 1.0, 0.75, 1.0, 1.0, 0.0, 0.0, 1.0, 1.0, 1.0, 0.0, 1.0, 1.0, 1.0, 1.0, 0.0, 1.0, 1.0, 1.0, 0.4666666666666667, 0.0, 0.0, 0.4, 1.0, 1.0, 1.0, 1.0, 1.0, 0.6666666666666666, 1.0, 0.0, 0, 1.0, 0.8823529411764706, 1.0, 0.5333333333333333, 0.0, 1.0, 1.0, 1.0, 1.0, 1.0, 1.0, 1.0, 1.0, 0, 0, 0.0, 0.0, 1.0, 0.8888888888888888, 0.0, 0.0, 0.19444444444444445, 0.1111111111111111, 0.0, 0.0, 0.0, 0.0, 0.0, 1.0, 0.0, 1.0, 0.13333333333333333, 0.0, 0.06666666666666667, 1.0, 1.0, 0, 1.0, 1.0, 0.0, 1.0, 1.0, 0.7857142857142857, 1.0, 0.0, 0.09090909090909091, 1.0, 1.0, 1.0, 1.0, 0.0, 0.5, 1.0, 0.75, 0.75, 1.0, 0.5714285714285714, 1.0, 0.3333333333333333, 1.0, 1.0, 1.0, 0.9166666666666666, 1.0, 1.0, 1.0, 1.0, 1.0, 1.0, 1.0, 1.0, 1.0, 1.0, 1.0, 0.5, 1.0, 1.0, 0.6666666666666666, 1.0, 0.5, 0.5, 1.0, 1.0, 0.0, 1.0, 1.0, 1.0, 0.0, 0.0, 1.0, 1.0, 1.0, 1.0, 0.8, 1.0, 1.0, 1.0, 1.0, 1.0, 0.5, 1.0, 1.0, 1.0, 1.0, 1.0, 0.5, 1.0, 1.0, 1.0, 1.0, 1.0, 1.0, 1.0, 1.0, 1.0, 0.8, 0.375, 1.0, 1.0, 1.0, 1.0, 1.0, 0.0, 1.0, 1.0, 1.0, 1.0, 0.5, 1.0, 0.8, 1.0, 1.0, 1.0, 1.0, 1.0, 1.0, 1.0, 1.0, 1.0, 0.8571428571428571, 1.0, 1.0, 0, 1.0, 1.0, 1.0, 1.0, 1.0, 1.0, 1.0, 1.0, 0, 1.0, 1.0, 1.0, 0.16666666666666666, 0.5714285714285714, 1.0, 0.0, 0.16666666666666666, 1.0, 1.0, 1.0, 1.0, 1.0, 1.0, 1.0, 0.8, 1.0, 1.0, 0.0, 1.0, 1.0, 1.0, 1.0, 0.5, 0.0, 1.0, 1.0, 0.0, 1.0, 1.0, 0.0, 1.0, 1.0, 0.6, 1.0, 1.0, 1.0, 1.0, 0.0, 1.0, 1.0, 0.6666666666666666, 1.0, 1.0, 0.0, 1.0, 1.0, 1.0, 1.0, 0.0, 0.6666666666666666, 1.0, 1.0, 1.0, 1.0, 1.0, 0.5, 1.0, 0.3333333333333333, 1.0, 1.0, 1.0, 1.0, 0.4117647058823529, 1.0, 0.0, 1.0, 1.0, 1.0, 0.0, 1.0, 0.25, 1.0, 1.0, 0.0, 1.0, 0.5, 1.0, 0.6, 0.28, 0.2, 1.0, 0.0, 0.0, 0.0, 0.0, 0.6666666666666666, 1.0, 0.5, 0.0, 1.0, 1.0, 1.0, 1.0, 1.0, 0.11428571428571428, 0.0, 0.0, 1.0, 0.4, 1.0, 0.5, 1.0, 1.0, 1.0, 1.0, 1.0, 1.0, 1.0, 1.0, 1.0, 1.0, 0.5, 1.0, 1.0, 1.0, 0, 1.0, 1.0, 0.3333333333333333, 1.0, 1.0, 1.0, 0.0, 1.0, 1.0, 1.0, 1.0, 1.0, 0.0, 1.0, 1.0, 1.0, 1.0, 1.0, 1.0, 1.0, 1.0, 1.0, 0.0, 1.0, 0.25, 1.0, 0.0, 1.0, 1.0, 1.0, 1.0, 0.6666666666666666, 1.0, 1.0, 1.0, 0.2, 0.6, 1.0, 0.0, 1.0, 1.0, 1.0, 1.0, 1.0, 1.0, 0.3333333333333333, 1.0, 1.0, 0.0, 1.0, 1.0, 0.3333333333333333, 1.0, 0.5, 0.5, 0.6666666666666666, 1.0, 1.0, 1.0, 1.0, 0.6, 1.0, 0.25, 0.6666666666666666, 1.0, 1.0, 1.0, 1.0, 1.0, 1.0, 0.0, 1.0, 1.0, 1.0, 1.0, 1.0, 1.0, 1.0, 1.0, 1.0, 0.13636363636363635, 1.0, 0.75, 1.0, 1.0, 0.0, 1.0, 0.375, 1.0, 1.0, 0.6666666666666666, 0.0, 1.0, 0.0, 1.0, 1.0, 0.2, 1.0, 1.0, 1.0, 1.0, 0.6, 0.0, 1.0, 1.0, 1.0, 1.0, 1.0, 0, 0.0, 0.0, 0.0, 1.0, 1.0, 1.0, 1.0, 1.0, 1.0, 1.0, 1.0, 1.0, 1.0, 1.0, 0.0, 1.0, 1.0, 1.0, 1.0, 0.0, 1.0, 1.0, 1.0, 1.0, 1.0, 1.0, 1.0, 1.0, 0.0, 1.0, 0.5, 0.25, 1.0, 1.0, 1.0, 1.0, 1.0, 1.0, 1.0, 1.0, 1.0, 1.0, 1.0, 1.0, 1.0, 1.0, 1.0, 1.0, 1.0, 1.0, 1.0, 1.0, 1.0, 1.0, 1.0, 1.0, 1.0, 1.0, 1.0, 1.0, 0.23076923076923078, 1.0, 1.0, 1.0, 1.0, 1.0, 1.0, 1.0, 1.0, 0.0, 0.6666666666666666, 0.2, 1.0, 1.0, 1.0, 1.0, 1.0, 1.0, 1.0, 1.0, 0.25, 1.0, 0.6666666666666666, 1.0, 1.0, 1.0, 1.0, 1.0, 1.0, 0.8571428571428571, 1.0, 1.0, 1.0, 1.0, 1.0, 0, 1.0, 1.0, 0.8888888888888888, 1.0, 1.0, 1.0, 1.0, 0.0, 1.0, 1.0, 1.0, 1.0, 1.0, 0.0, 1.0, 1.0, 1.0, 0.3333333333333333, 0.0, 1.0, 1.0, 1.0, 1.0, 1.0, 1.0, 1.0, 0.0, 1.0, 1.0, 1.0, 1.0, 1.0, 1.0, 1.0, 1.0, 1.0, 1.0, 1.0, 0.0, 1.0, 1.0, 1.0, 0.0, 1.0, 1.0, 1.0, 1.0, 1.0, 1.0, 1.0, 1.0, 0.0, 1.0, 0.0, 0.08, 0.5, 1.0, 0.6, 1.0, 1.0, 1.0, 1.0, 1.0, 1.0, 1.0, 1.0, 1.0, 1.0, 1.0, 1.0, 1.0, 1.0, 1.0, 1.0, 1.0, 1.0, 0.0, 1.0, 0.3333333333333333, 1.0, 1.0, 1.0, 1.0, 0.6666666666666666, 1.0, 0.75, 1.0, 0.25, 1.0, 0.8571428571428571, 1.0, 1.0, 1.0, 1.0, 1.0, 1.0, 1.0, 1.0, 1.0, 1.0, 1.0, 1.0, 1.0, 1.0, 1.0, 1.0, 1.0, 1.0, 1.0, 1.0, 1.0, 1.0, 1.0, 1.0, 1.0, 1.0, 1.0, 0.8, 1.0, 1.0, 1.0, 1.0, 1.0, 1.0, 1.0, 1.0, 1.0, 0.4, 0.0, 0.0, 1.0, 1.0, 1.0, 1.0, 1.0, 1.0, 1.0, 1.0, 1.0, 1.0, 1.0, 1.0, 1.0, 1.0, 1.0, 0.0, 0.2, 1.0, 1.0, 1.0, 1.0, 1.0, 0.0, 1.0, 1.0, 1.0, 1.0, 0.75, 1.0, 1.0, 1.0, 1.0, 1.0, 1.0, 1.0, 1.0, 1.0, 1.0, 0.6666666666666666, 1.0, 0.75, 1.0, 1.0, 1.0, 0.0, 1.0, 1.0, 0.3333333333333333, 1.0, 0.3333333333333333, 1.0, 0.0, 0.375, 1.0, 1.0, 1.0, 1.0, 1.0, 1.0, 1.0, 1.0, 1.0, 1.0, 1.0, 1.0, 1.0, 1.0, 1.0, 1.0, 1.0, 1.0, 1.0, 1.0, 0.2857142857142857, 1.0, 1.0, 1.0, 1.0, 1.0, 1.0, 1.0, 1.0, 1.0, 1.0, 1.0, 0.6666666666666666, 1.0, 1.0, 1.0, 1.0, 1.0, 1.0, 1.0, 1.0, 1.0, 1.0, 1.0, 1.0, 1.0, 1.0, 1.0, 0.8333333333333334, 0.5454545454545454, 1.0, 1.0, 1.0, 1.0, 1.0, 1.0, 1.0, 1.0, 1.0, 1.0, 0.5, 1.0, 1.0, 1.0, 0.0, 1.0, 0.4444444444444444, 1.0, 1.0, 1.0, 1.0, 1.0, 1.0, 1.0, 0.8181818181818182, 1.0, 0.3333333333333333, 1.0, 0.75, 1.0, 1.0, 1.0, 0.75, 1.0, 1.0, 0.125, 1.0, 1.0, 1.0, 1.0, 1.0, 1.0, 1.0, 1.0, 1.0, 1.0, 1.0, 1.0, 1.0, 1.0, 1.0, 1.0, 1.0, 1.0, 1.0, 1.0, 1.0, 1.0, 1.0, 1.0, 1.0, 0.75, 1.0, 1.0, 1.0, 1.0, 1.0, 0.0, 1.0, 1.0, 1.0, 0.0, 1.0, 1.0, 1.0, 1.0, 1.0, 1.0, 1.0, 1.0, 0.0, 1.0, 1.0, 1.0, 1.0, 1.0, 1.0, 1.0, 1.0, 1.0, 1.0, 1.0, 1.0, 1.0, 1.0, 0.0, 1.0, 1.0, 1.0, 1.0, 0.0, 1.0, 1.0, 1.0, 1.0, 1.0, 1.0, 1.0, 1.0, 1.0, 1.0, 1.0, 1.0, 1.0, 1.0, 1.0, 1.0, 0.0, 1.0, 1.0, 1.0, 0, 1.0, 1.0, 0.0, 0.2222222222222222, 0.0, 1.0, 1.0, 0.6666666666666666, 1.0, 1.0, 1.0, 1.0, 1.0, 1.0, 1.0, 1.0, 0.0, 1.0, 1.0, 0.8, 1.0, 1.0, 1.0, 1.0, 1.0, 0.2, 1.0, 1.0, 1.0, 1.0, 1.0, 1.0, 1.0, 1.0, 0, 1.0, 1.0, 1.0, 1.0, 0.8, 0, 1.0, 0.0, 0.6666666666666666, 0.8, 1.0, 0.3, 1.0, 1.0, 1.0, 0.3333333333333333, 1.0, 1.0, 0.09090909090909091, 1.0, 1.0, 1.0, 1.0, 1.0, 1.0, 0.0, 1.0, 1.0, 1.0, 1.0, 0.6666666666666666, 1.0, 0.6666666666666666, 1.0, 1.0, 1.0, 1.0, 1.0, 1.0, 1.0, 1.0, 1.0, 1.0, 1.0, 1.0, 0.0, 1.0, 1.0, 0.0, 1.0, 1.0, 1.0, 1.0, 1.0, 0.42857142857142855, 1.0, 1.0, 1.0, 0.42857142857142855, 1.0, 1.0, 1.0, 1.0, 0.5, 1.0, 1.0, 1.0, 1.0, 0.5, 1.0, 1.0, 1.0, 1.0, 1.0, 1.0, 1.0, 1.0, 1.0, 1.0, 1.0, 1.0, 1.0, 1.0, 1.0, 0.0, 1.0, 0.6666666666666666, 1.0, 1.0, 1.0, 1.0, 0.0, 1.0, 1.0, 1.0, 1.0, 0.0, 0.8, 1.0, 1.0, 1.0, 0.0, 0.08771929824561403, 0.005376344086021506, 0.21428571428571427, 0.0, 1.0, 0.6, 0.0, 1.0, 0.0, 1.0, 0.0, 0.43478260869565216, 1.0, 0.8, 0.5, 0.0, 1.0, 1.0, 1.0, 1.0, 0.0, 0.0, 0.0, 1.0, 0.0, 1.0, 1.0, 0.0, 0.8571428571428571, 1.0, 0, 1.0, 0.2857142857142857, 1.0, 0.175, 1.0, 1.0, 0.0, 1.0, 0.9166666666666666, 0.5833333333333334, 1.0, 1.0, 1.0, 1.0, 1.0, 0.4, 1.0, 0.7, 0.36, 1.0, 0.9, 1.0, 1.0, 0.0, 1.0, 1.0, 0.0, 1.0, 0.0, 0.2631578947368421, 1.0, 0.45454545454545453, 0.0, 0.7272727272727273, 0.0, 0.7857142857142857, 1.0, 0.0, 0.47368421052631576, 0.9230769230769231, 0.0, 1.0, 0.0, 1.0, 1.0, 0.0, 1.0, 0.0, 0.7, 1.0, 0.5, 1.0, 1.0, 0.8, 1.0, 0.875, 1.0, 0.9285714285714286, 1.0, 1.0, 0.65, 0, 1.0, 0.0, 1.0, 1.0, 1.0, 1.0, 0.4, 1.0, 0, 1.0, 1.0, 1.0, 1.0, 1.0, 1.0, 1.0, 1.0, 1.0, 1.0, 1.0, 1.0, 1.0, 1.0, 1.0, 1.0, 0.5, 1.0, 1.0, 1.0, 1.0, 1.0, 1.0, 1.0, 1.0, 1.0, 1.0, 1.0, 1.0, 1.0, 0, 0, 1.0, 1.0, 1.0, 0.0, 1.0, 1.0, 1.0, 1.0, 1.0, 1.0, 1.0, 1.0, 1.0, 1.0, 1.0, 1.0, 1.0, 0.3333333333333333, 1.0, 1.0, 0.375, 1.0, 0.75, 0.3181818181818182, 0.0, 1.0, 1.0, 1.0, 1.0, 0.38235294117647056, 1.0, 1.0, 1.0, 0.8, 0.06666666666666667, 1.0, 1.0, 1.0, 1.0, 1.0, 0.3333333333333333, 0.0, 1.0, 1.0, 0, 0.8, 1.0, 1.0, 1.0, 1.0, 1.0, 1.0, 1.0, 0.3333333333333333, 1.0, 0, 1.0, 0.5, 1.0, 1.0, 1.0, 1.0, 1.0, 1.0, 1.0, 1.0, 0.0, 1.0, 1.0, 0.0, 1.0, 1.0, 1.0, 0.8, 1.0, 1.0, 1.0, 1.0, 1.0, 1.0, 1.0, 1.0, 1.0, 1.0, 0, 1.0, 1.0, 1.0, 0.0, 1.0, 1.0, 1.0, 1.0, 1.0, 1.0, 1.0, 1.0, 1.0, 1.0, 1.0, 1.0, 0.6, 1.0, 1.0, 1.0, 1.0, 1.0, 1.0, 1.0, 1.0, 1.0, 1.0, 1.0, 1.0, 1.0, 1.0, 0.0, 1.0, 1.0, 1.0, 1.0, 1.0, 0.0, 1.0, 1.0, 1.0, 1.0, 1.0, 1.0, 1.0, 1.0, 0.0, 1.0, 0.03225806451612903, 0.5, 1.0, 1.0, 0.13333333333333333, 1.0, 1.0, 1.0, 1.0, 1.0, 0.025, 1.0, 1.0, 0.0, 1.0, 1.0, 1.0, 1.0, 1.0, 1.0, 1.0, 1.0, 1.0, 1.0, 1.0, 0.0, 1.0, 1.0, 1.0, 1.0, 1.0, 1.0, 1.0, 1.0, 1.0, 1.0, 1.0, 1.0, 1.0, 1.0, 1.0, 1.0, 1.0, 1.0, 0.0, 1.0, 1.0, 1.0, 1.0, 1.0, 1.0, 1.0, 0.0, 0, 1.0, 1.0, 1.0, 1.0, 1.0, 1.0, 1.0, 1.0, 1.0, 1.0, 0.0, 1.0, 1.0, 1.0, 0.0, 1.0, 1.0, 1.0, 1.0, 1.0, 1.0, 0.0, 0.0, 0, 0, 0.6, 1.0, 1.0, 1.0, 1.0, 0.0, 1.0, 1.0, 0, 1.0, 1.0, 1.0, 1.0, 1.0, 1.0, 1.0, 1.0, 1.0, 1.0, 1.0, 1.0, 0.0, 1.0, 0.3333333333333333, 1.0, 0.0, 1.0, 0.0, 1.0, 1.0, 1.0, 1.0, 1.0, 1.0, 1.0, 1.0, 1.0, 0.0, 1.0, 1.0, 0.14285714285714285, 1.0, 1.0, 1.0, 1.0, 0.5714285714285714, 0.3333333333333333, 0.058823529411764705, 1.0, 1.0, 1.0, 1.0, 1.0, 1.0, 0.14285714285714285, 1.0, 1.0, 0.0, 1.0, 1.0, 1.0, 1.0, 1.0, 1.0, 0.4107142857142857, 1.0, 0.0, 1.0, 1.0, 1.0, 1.0, 1.0, 1.0, 1.0, 1.0, 1.0, 1.0, 1.0, 1.0, 1.0, 1.0, 1.0, 0.2, 1.0, 0.25, 0, 1.0, 1.0, 1.0, 1.0, 1.0, 1.0, 1.0, 1.0, 0, 1.0, 1.0, 1.0, 1.0, 0.0, 1.0, 0.8888888888888888, 1.0, 0, 1.0, 0.16666666666666666, 1.0, 0.6666666666666666, 1.0, 1.0, 0.0, 1.0, 1.0, 0.02727272727272727, 1.0, 0.02727272727272727, 1.0, 1.0, 1.0, 1.0, 0.0, 1.0, 1.0, 1.0, 1.0, 1.0, 0, 1.0, 1.0, 1.0, 1.0, 1.0, 1.0, 0, 1.0, 1.0, 0.0, 1.0, 1.0, 1.0, 1.0, 1.0, 0.0, 1.0, 1.0, 1.0, 0.05714285714285714, 1.0, 1.0, 0.0, 0.21428571428571427, 0.0, 0.0, 0.23529411764705882, 0.75, 1.0, 1.0, 1.0, 0.0, 1.0, 0.2, 0, 1.0, 1.0, 1.0, 1.0, 1.0, 0.0, 1.0, 1.0, 0.0, 1.0, 1.0, 0.21428571428571427, 0.02, 1.0, 1.0, 0.0, 0.3333333333333333, 1.0, 0.5294117647058824, 1.0, 1.0, 1.0, 1.0, 0.2777777777777778, 0.18181818181818182, 0.2608695652173913, 0.0, 0.6, 0, 1.0, 1.0, 1.0, 1.0, 1.0, 1.0, 1.0, 0.0, 1.0, 1.0, 0.17777777777777778, 1.0, 1.0, 0.8, 1.0, 0.015748031496062992, 1.0, 1.0, 1.0, 1.0, 1.0, 0.0, 0.7222222222222222, 0.0, 0.75, 1.0, 0.5714285714285714, 0, 1.0, 1.0, 0.0, 0.5, 0.0, 1.0, 1.0, 0.75, 0, 0, 1.0, 1.0, 0.18181818181818182, 1.0, 0.6666666666666666, 1.0, 1.0, 1.0, 1.0, 0.47619047619047616, 1.0, 0.0, 0, 1.0, 0.0, 0.6, 0.4, 0.0, 0, 1.0, 1.0, 1.0, 1.0, 1.0, 0.5, 0.0, 0.125, 0.4, 1.0, 0.0, 0.0, 0.0, 0.3333333333333333, 1.0, 0.6666666666666666, 0.045454545454545456, 0.2222222222222222, 1.0, 1.0, 0.5789473684210527, 0.0, 0.0, 0.0, 0.25925925925925924, 1.0, 0.058823529411764705, 1.0, 1.0, 1.0, 1.0, 1.0, 1.0, 0.48148148148148145, 0.0, 1.0, 0.5, 1.0, 0.0, 1.0, 0.2, 0.3333333333333333, 1.0, 0.0, 1.0, 1.0, 1.0, 1.0, 0.0, 1.0, 0.875, 0.21052631578947367, 1.0, 1.0, 1.0, 1.0, 1.0, 1.0, 1.0, 1.0, 1.0, 0.0, 0.4444444444444444, 1.0, 1.0, 1.0, 0.02608695652173913, 0.4117647058823529, 0.0, 1.0, 1.0, 1.0, 1.0, 1.0, 0.0, 1.0, 0.6, 1.0, 0.5714285714285714, 1.0, 1.0, 0.17391304347826086, 1.0, 0.0, 1.0, 1.0, 0.0, 0.0, 1.0, 0.0, 1.0, 1.0, 0.46153846153846156, 1.0, 1.0, 1.0, 1.0, 1.0, 1.0, 0.0, 1.0, 1.0, 0.4, 1.0, 0.0, 1.0, 0.0, 1.0, 1.0, 1.0, 1.0, 1.0, 1.0, 0.0, 1.0, 1.0, 1.0, 1.0, 0.0, 1.0, 1.0, 0.0, 0.0, 0.8571428571428571, 1.0, 1.0, 1.0, 1.0, 0.8, 0.1, 0.0, 1.0, 1.0, 0.0, 1.0, 1.0, 0.6666666666666666, 1.0, 1.0, 0.8, 1.0, 1.0, 0.9166666666666666, 1.0, 1.0, 1.0, 1.0, 1.0, 1.0, 1.0, 1.0, 1.0, 1.0, 1.0, 1.0, 0.0, 1.0, 1.0, 1.0, 1.0, 1.0, 1.0, 1.0, 1.0, 1.0, 0, 1.0, 1.0, 1.0, 1.0, 1.0, 1.0, 1.0, 1.0, 1.0, 1.0, 0, 0.0, 1.0, 1.0, 1.0, 1.0, 1.0, 1.0, 1.0, 1.0, 0.0, 0.0, 1.0, 1.0, 0, 1.0, 1.0, 1.0, 1.0, 0.75, 1.0, 1.0, 0.6666666666666666, 0.6, 0.0, 1.0, 1.0, 1.0, 0.07272727272727272, 1.0, 1.0, 1.0, 1.0, 0.875, 1.0, 1.0, 1.0, 1.0, 0.4444444444444444, 1.0, 1.0, 1.0, 0.0, 1.0, 1.0, 1.0, 1.0, 1.0, 1.0, 1.0, 1.0, 1.0, 1.0, 1.0, 1.0, 1.0, 1.0, 0.0, 1.0, 1.0, 1.0, 1.0, 1.0, 1.0, 1.0, 1.0, 0.0, 1.0, 1.0, 1.0, 0.2857142857142857, 1.0, 1.0, 1.0, 1.0, 1.0, 1.0, 1.0, 0.5, 1.0, 1.0, 1.0, 1.0, 1.0, 1.0, 0.0625, 1.0, 1.0, 1.0, 1.0, 0.6666666666666666, 1.0, 1.0, 1.0, 1.0, 0.0, 1.0, 1.0, 1.0, 1.0, 1.0, 1.0, 1.0, 1.0, 1.0, 1.0, 0.6666666666666666, 1.0, 1.0, 1.0, 1.0, 1.0, 1.0, 0.3333333333333333, 1.0, 1.0, 0.875, 0.5, 1.0, 1.0, 1.0, 1.0, 0.6666666666666666, 0.75, 1.0, 1.0, 0.2, 1.0, 1.0, 1.0, 1.0, 1.0, 1.0, 0.0, 1.0, 1.0, 1.0, 1.0, 1.0, 1.0, 1.0, 1.0, 1.0, 1.0, 1.0, 1.0, 1.0, 1.0, 1.0, 1.0, 1.0, 0, 1.0, 1.0, 1.0, 1.0, 1.0, 1.0, 1.0, 1.0, 1.0, 1.0, 1.0, 1.0, 1.0, 0.0, 1.0, 1.0, 1.0, 1.0, 1.0, 1.0, 1.0, 0.6666666666666666, 1.0, 1.0, 0.4, 1.0, 1.0, 1.0, 0.0, 1.0, 1.0, 1.0, 1.0, 1.0, 1.0, 1.0, 1.0, 1.0, 0, 1.0, 1.0, 1.0, 0.0, 0.0, 1.0, 1.0, 1.0, 0.125, 1.0, 0, 0.125, 0.0, 1.0, 1.0, 0.1111111111111111, 1.0, 1.0, 1.0, 1.0, 1.0, 0.21052631578947367, 1.0, 1.0, 0.4, 1.0, 1.0, 0.0, 1.0, 0.0, 0.6666666666666666, 1.0, 0.0, 1.0, 0.16, 0.0, 0.0, 1.0, 0.0, 0.0, 1.0, 0.125, 0.0, 1.0, 0.04, 1.0, 1.0, 0.017857142857142856, 0.047058823529411764, 1.0, 1.0, 1.0, 0, 1.0, 1.0, 0.0, 1.0, 0.0, 1.0, 0.04, 0.1, 1.0, 1.0, 1.0, 1.0, 1.0, 0.6666666666666666, 0.13043478260869565, 1.0, 1.0, 0.5, 0.3333333333333333, 0.8571428571428571, 0.0, 1.0, 0.0, 1.0, 1.0, 1.0, 1.0, 1.0, 1.0, 1.0, 0.0, 1.0, 1.0, 1.0, 1.0, 1.0, 1.0, 1.0, 1.0, 1.0, 0.2857142857142857, 0.17142857142857143, 0.6, 1.0, 0, 1.0, 0.0, 1.0, 0, 0.13402061855670103, 0.5, 0.875, 0.3333333333333333, 0.8, 1.0, 1.0, 1.0, 0.75, 1.0, 1.0, 1.0, 1.0, 1.0, 1.0, 1.0, 1.0, 0.6666666666666666, 1.0, 1.0, 1.0, 0.8888888888888888, 0.0, 1.0, 1.0, 0.05128205128205128, 1.0, 1.0, 1.0, 0.6666666666666666, 0.38461538461538464, 1.0, 0.7, 0.0, 1.0, 1.0, 1.0, 1.0, 1.0, 1.0, 1.0, 1.0, 1.0, 1.0, 1.0, 0.125, 0.5, 1.0, 1.0, 1.0, 1.0, 1.0, 1.0, 1.0, 1.0, 1.0, 0.0, 1.0, 1.0, 1.0, 1.0, 1.0, 1.0, 0.0, 1.0, 1.0, 1.0, 1.0, 1.0, 0.6666666666666666, 1.0, 0.0, 1.0, 1.0, 1.0, 1.0, 1.0, 1.0, 0.125, 0.5, 0.7142857142857143, 1.0, 1.0, 1.0, 0.5, 1.0, 1.0, 1.0, 0.12, 1.0, 0.0, 0, 0.0, 1.0, 1.0, 1.0, 0.6666666666666666, 1.0, 1.0, 1.0, 0.0, 1.0, 1.0, 1.0, 0.0, 1.0, 1.0, 1.0, 1.0, 1.0, 1.0, 1.0, 0.014285714285714285, 0.0, 1.0, 1.0, 1.0, 1.0, 1.0, 0.5, 0.5, 0, 1.0, 1.0, 1.0, 1.0, 1.0, 1.0, 0.0, 0.08333333333333333, 1.0, 1.0, 1.0, 0.8333333333333334, 1.0, 1.0, 0.7777777777777778, 1.0, 1.0, 1.0, 1.0, 1.0, 1.0, 1.0, 1.0, 1.0, 0.0, 1.0, 0.0, 1.0, 1.0, 1.0, 0, 1.0, 1.0, 1.0, 1.0, 1.0, 1.0, 1.0, 1.0, 0.0, 1.0, 1.0, 1.0, 1.0, 1.0, 1.0, 1.0, 1.0, 1.0, 1.0, 0.8, 1.0, 1.0, 1.0, 1.0, 1.0, 1.0, 0.75, 1.0, 1.0, 1.0, 1.0, 1.0, 1.0, 1.0, 1.0, 1.0, 1.0, 1.0, 1.0, 1.0, 1.0, 0, 0.8, 1.0, 0, 1.0, 1.0, 1.0, 1.0, 1.0, 0.0, 0.0, 0.6666666666666666, 0.1111111111111111, 1.0, 1.0, 1.0, 1.0, 1.0, 1.0, 0.0, 1.0, 1.0, 1.0, 1.0, 0.0, 1.0, 1.0, 1.0, 1.0, 1.0, 1.0, 1.0, 1.0, 1.0, 0.8571428571428571, 1.0, 1.0, 1.0, 1.0, 1.0, 1.0, 1.0, 0.0, 1.0, 1.0, 1.0, 1.0, 0.0, 1.0, 1.0, 1.0, 1.0, 1.0, 1.0, 1.0, 0.0, 0.32, 1.0, 0.0, 1.0, 1.0, 1.0, 1.0, 1.0, 0.0, 1.0, 0.2727272727272727, 0, 1.0, 0.5, 1.0, 1.0, 0, 0.0, 1.0, 0.0, 0.2, 1.0, 0.0, 1.0, 1.0, 1.0, 1.0, 1.0, 1.0, 1.0, 1.0, 0.6666666666666666, 1.0, 0.0, 1.0, 0.9411764705882353, 0, 0, 1.0, 1.0, 1.0, 1.0, 1.0, 1.0, 1.0, 0.13636363636363635, 1.0, 0.0, 1.0, 0, 0.13333333333333333, 1.0, 0.0, 1.0, 0.0, 0.6296296296296297, 1.0, 1.0, 0.0, 1.0, 0.0, 0.25, 0.0, 1.0, 0.0, 1.0, 1.0, 1.0, 1.0, 1.0, 1.0, 1.0, 1.0, 1.0, 1.0, 1.0, 1.0, 0.0, 0.5, 1.0, 1.0, 1.0, 1.0, 1.0, 1.0, 0.5, 1.0, 0.6, 1.0, 0.0, 0.5, 1.0, 1.0, 1.0, 0.0, 1.0, 1.0, 1.0, 1.0, 1.0, 0.5, 1.0, 1.0, 1.0, 0.0, 1.0, 1.0, 0.15384615384615385, 1.0, 1.0, 1.0, 1.0, 1.0, 1.0, 1.0, 1.0, 0.7142857142857143, 1.0, 1.0, 1.0, 1.0, 0.5, 1.0, 0.25, 0.25, 1.0, 1.0, 0, 1.0, 1.0, 1.0, 1.0, 1.0, 1.0, 0.6666666666666666, 0.5, 1.0, 1.0, 0.0, 1.0, 0.0, 1.0, 1.0, 1.0, 1.0, 1.0, 0.6, 0.25, 1.0, 0.5, 0.6, 0, 1.0, 0.75, 0.8333333333333334, 1.0, 1.0, 0.8, 1.0, 1.0, 1.0, 1.0, 1.0, 1.0, 1.0, 0.5, 1.0, 1.0, 1.0, 1.0, 0.0625, 1.0, 1.0, 1.0, 0.5, 1.0, 1.0, 1.0, 1.0, 0, 1.0, 1.0, 1.0, 1.0, 0.5, 1.0, 1.0, 0.8, 1.0, 0.42857142857142855, 1.0, 0.0, 1.0, 0.5, 1.0, 1.0, 1.0, 1.0, 0.5, 1.0, 1.0, 1.0, 1.0, 1.0, 1.0, 1.0, 0.0, 1.0, 1.0, 1.0, 0.3333333333333333, 1.0, 1.0, 1.0, 1.0, 1.0, 1.0, 1.0, 1.0, 0.0, 1.0, 1.0, 1.0, 1.0, 1.0, 1.0, 0.6666666666666666, 1.0, 1.0, 0.4, 1.0, 1.0, 1.0, 1.0, 1.0, 0.6666666666666666, 1.0, 1.0, 1.0, 1.0, 0.42857142857142855, 1.0, 1.0, 1.0, 1.0, 1.0, 1.0, 1.0, 1.0, 0.3333333333333333, 1.0, 0.0, 1.0, 1.0, 1.0, 0.5, 1.0, 1.0, 0.6666666666666666, 1.0, 1.0, 1.0, 1.0, 1.0, 1.0, 1.0, 0.038461538461538464, 1.0, 1.0, 1.0, 1.0, 1.0, 0.7, 0.3333333333333333, 0, 1.0, 1.0, 1.0, 1.0, 1.0, 1.0, 1.0, 0.0, 1.0, 1.0, 0.047619047619047616, 1.0, 1.0, 1.0, 0.0, 1.0, 1.0, 0.2857142857142857, 1.0, 0.6666666666666666, 0.8, 0.6666666666666666, 1.0, 1.0, 0.75, 1.0, 1.0, 0.5, 0.5, 0, 1.0, 1.0, 0.0, 1.0, 1.0, 1.0, 1.0, 1.0, 1.0, 1.0, 1.0, 1.0, 0.0, 1.0, 1.0, 0.45454545454545453, 0.0, 1.0, 1.0, 1.0, 1.0, 1.0, 1.0, 1.0, 1.0, 1.0, 1.0, 0.75, 1.0, 1.0, 1.0, 1.0, 1.0, 1.0, 0.5, 1.0, 1.0, 1.0, 1.0, 1.0, 1.0, 1.0, 1.0, 0.0, 0, 1.0, 1.0, 1.0, 1.0, 0.0, 1.0, 1.0, 1.0, 1.0, 0.3333333333333333, 1.0, 0.7142857142857143, 1.0, 1.0, 1.0, 1.0, 1.0, 1.0, 1.0, 1.0, 1.0, 0.21739130434782608, 0, 1.0, 0.6, 1.0, 0.09090909090909091, 0.2, 0.75, 1.0, 1.0, 1.0, 1.0, 1.0, 0.5, 1.0, 1.0, 0.4, 1.0, 0.3333333333333333, 1.0, 0.0, 1.0, 0.3333333333333333, 1.0, 1.0, 0.0, 1.0, 1.0, 1.0, 0.0, 0.8, 0, 1.0, 1.0, 1.0, 1.0, 1.0, 0.0, 1.0, 1.0, 1.0, 1.0, 1.0, 1.0, 0.8571428571428571, 1.0, 0.5, 1.0, 0.0, 1.0, 0.0, 1.0, 1.0, 1.0, 1.0, 0.6, 1.0, 1.0, 1.0, 1.0, 0.75, 0.5, 1.0, 1.0, 1.0, 1.0, 0.25, 1.0, 1.0, 0.0, 0.0, 1.0, 0.75, 0.0, 1.0, 1.0, 1.0, 0.5, 1.0, 0.8333333333333334, 1.0, 1.0, 1.0, 1.0, 1.0, 0.5, 1.0, 1.0, 1.0, 0.5, 0.0, 1.0, 1.0, 1.0, 0.0, 1.0, 0.75, 1.0, 1.0, 0.8333333333333334, 1.0, 1.0, 1.0, 0.5555555555555556, 1.0, 1.0, 1.0, 1.0, 1.0, 1.0, 1.0, 1.0, 1.0, 0.6666666666666666, 0.0, 1.0, 1.0, 1.0, 0, 0.0, 1.0, 0.0, 1.0, 1.0, 0.6, 1.0, 1.0, 1.0, 1.0, 0.6666666666666666, 1.0, 1.0, 1.0, 1.0, 1.0, 0.0, 0.1, 0.125, 0, 1.0, 0.25, 1.0, 1.0, 1.0, 1.0, 1.0, 1.0, 1.0, 0, 1.0, 1.0, 1.0, 0.0, 0.6666666666666666, 1.0, 0, 1.0, 0.8333333333333334, 0.5, 0.0, 0.5, 1.0, 0.5, 1.0, 0.6, 0.5, 1.0, 1.0, 1.0, 0.8333333333333334, 1.0, 0.5, 0.0, 1.0, 1.0, 1.0, 1.0, 0.0, 1.0, 0.0, 1.0, 1.0, 1.0, 1.0, 0, 0.875, 1.0, 1.0, 1.0, 0.0, 0.36363636363636365, 1.0, 0.0, 1.0, 1.0, 1.0, 1.0, 0.8, 1.0, 1.0, 1.0, 1.0, 1.0, 1.0, 0.6666666666666666, 1.0, 1.0, 1.0, 0.0, 0.2, 0.0, 1.0, 0, 0.0, 1.0, 1.0, 1.0, 1.0, 1.0, 0.75, 1.0, 1.0, 1.0, 1.0, 1.0, 1.0, 1.0, 1.0, 0.8, 0.0, 1.0, 0.9444444444444444, 1.0, 1.0, 1.0, 0.0, 1.0, 0.3333333333333333, 0.3333333333333333, 0.3333333333333333, 1.0, 1.0, 1.0, 1.0, 0.5, 1.0, 1.0, 0, 1.0, 0.14814814814814814, 1.0, 0.0, 0.0, 1.0, 1.0, 1.0, 1.0, 1.0, 1.0, 1.0, 0.0, 0.0, 1.0, 0.2857142857142857, 1.0, 0.0, 1.0, 1.0, 1.0, 1.0, 1.0, 1.0, 1.0, 1.0, 0.0, 1.0, 1.0, 1.0, 0.0, 1.0, 1.0, 1.0, 1.0, 1.0, 1.0, 0.36363636363636365, 1.0, 0.0, 1.0, 1.0, 1.0, 1.0, 1.0, 0.0, 1.0, 1.0, 1.0, 1.0, 0.0, 0.75, 1.0, 1.0, 0.0, 1.0, 1.0, 1.0, 0.8571428571428571, 1.0, 0.09090909090909091, 1.0, 0.0, 1.0, 0.0, 0.3333333333333333, 1.0, 1.0, 1.0, 1.0, 0.8333333333333334, 0.0, 0.0, 1.0, 1.0, 1.0, 1.0, 1.0, 1.0, 1.0, 1.0, 1.0, 1.0, 1.0, 1.0, 0.2857142857142857, 1.0, 1.0, 1.0, 0.3333333333333333, 1.0, 1.0, 0.0, 1.0, 0.0, 1.0, 0.0, 1.0, 0.0, 0.0, 0.0, 1.0, 1.0, 1.0, 0.0, 1.0, 0.3333333333333333, 0.0, 1.0, 0.0, 1.0, 1.0, 1.0, 1.0, 1.0, 0.0, 0.0, 1.0, 1.0, 0.0, 1.0, 1.0, 1.0, 0.6666666666666666, 1.0, 1.0, 0.45454545454545453, 1.0, 1.0, 1.0, 1.0, 1.0, 1.0, 0.2222222222222222, 1.0, 0.0, 0.0]\n",
    "r_baseline2 = [1.0, 1.0, 1.0, 1.0, 1.0, 1.0, 0.3333333333333333, 0.3333333333333333, 0.0, 1.0, 1.0, 1.0, 1.0, 0.8333333333333334, 1.0, 1.0, 0.5454545454545454, 0.8333333333333334, 1.0, 1.0, 1.0, 1.0, 1.0, 1.0, 0.8333333333333334, 1.0, 1.0, 1.0, 1.0, 1.0, 1.0, 1.0, 1.0, 1.0, 1.0, 0.0, 0.25, 0.6666666666666666, 1.0, 1.0, 1.0, 1.0, 1.0, 1.0, 1.0, 1.0, 1.0, 1.0, 1.0, 1.0, 0.0, 1.0, 0.38461538461538464, 1.0, 1.0, 1.0, 1.0, 1.0, 1.0, 0.0, 1.0, 0.6666666666666666, 1.0, 1.0, 0.5, 0.5, 1.0, 1.0, 1.0, 0.8571428571428571, 1.0, 0.3333333333333333, 0, 0, 1.0, 0.9230769230769231, 1.0, 1.0, 1.0, 0.8181818181818182, 1.0, 1.0, 1.0, 1.0, 1.0, 1.0, 1.0, 1.0, 0.0, 1.0, 0.16666666666666666, 1.0, 1.0, 1.0, 1.0, 1.0, 1.0, 1.0, 1.0, 0, 1.0, 0.0, 1.0, 0.6666666666666666, 1.0, 1.0, 1.0, 0.23529411764705882, 1.0, 1.0, 0.5, 1.0, 1.0, 1.0, 1.0, 1.0, 1.0, 1.0, 0.3, 1.0, 1.0, 1.0, 1.0, 1.0, 0.0, 1.0, 0.7142857142857143, 1.0, 1.0, 1.0, 1.0, 0.75, 1.0, 1.0, 1.0, 1.0, 1.0, 0.10526315789473684, 0.0, 1.0, 0.0, 0.0, 1.0, 1.0, 0.0, 1.0, 1.0, 0.0, 1.0, 1.0, 1.0, 1.0, 1.0, 1.0, 0.7777777777777778, 1.0, 1.0, 1.0, 0.0, 1.0, 1.0, 1.0, 1.0, 1.0, 1.0, 1.0, 0.0, 0.5, 0.16666666666666666, 1.0, 0.8333333333333334, 0.75, 1.0, 1.0, 1.0, 1.0, 1.0, 1.0, 0.2222222222222222, 1.0, 1.0, 1.0, 0.5, 1.0, 1.0, 0.75, 1.0, 1.0, 1.0, 0.8, 1.0, 1.0, 1.0, 1.0, 1.0, 1.0, 0.6666666666666666, 1.0, 1.0, 1.0, 1.0, 1.0, 1.0, 0.3333333333333333, 1.0, 1.0, 0.21428571428571427, 0.0, 1.0, 1.0, 1.0, 0.0, 1.0, 1.0, 0.4, 1.0, 1.0, 0.25, 1.0, 1.0, 1.0, 1.0, 1.0, 1.0, 1.0, 1.0, 0.0, 0, 0.45454545454545453, 0.4166666666666667, 0.35714285714285715, 1.0, 0.0, 1.0, 1.0, 1.0, 1.0, 1.0, 1.0, 1.0, 1.0, 1.0, 0.0, 1.0, 1.0, 1.0, 1.0, 1.0, 1.0, 0.0, 1.0, 1.0, 0.75, 0, 1.0, 0.5384615384615384, 0, 1.0, 0.14285714285714285, 1.0, 1.0, 0.7142857142857143, 1.0, 1.0, 1.0, 1.0, 1.0, 1.0, 1.0, 1.0, 1.0, 1.0, 0.21428571428571427, 1.0, 0.0, 1.0, 1.0, 0.5714285714285714, 1.0, 1.0, 1.0, 1.0, 0.0, 0.875, 0.8888888888888888, 1.0, 1.0, 1.0, 1.0, 1.0, 1.0, 1.0, 1.0, 1.0, 1.0, 0, 1.0, 1.0, 0.4444444444444444, 1.0, 1.0, 0.14285714285714285, 0.0, 0.5, 1.0, 1.0, 1.0, 1.0, 1.0, 1.0, 1.0, 1.0, 0, 1.0, 0, 1.0, 1.0, 0.0, 1.0, 1.0, 1.0, 0.3333333333333333, 1.0, 0.8, 0.8, 1.0, 1.0, 1.0, 1.0, 1.0, 1.0, 1.0, 1.0, 1.0, 0.5, 0.0, 1.0, 1.0, 1.0, 1.0, 0.6521739130434783, 1.0, 0.5, 1.0, 0.25, 0.0, 1.0, 1.0, 1.0, 1.0, 0.0, 1.0, 0.0, 0.8333333333333334, 1.0, 1.0, 1.0, 0.7083333333333334, 1.0, 1.0, 1.0, 1.0, 1.0, 1.0, 1.0, 1.0, 1.0, 1.0, 1.0, 0.9090909090909091, 0.3333333333333333, 1.0, 1.0, 1.0, 1.0, 1.0, 1.0, 0, 1.0, 1.0, 0, 1.0, 1.0, 1.0, 1.0, 1.0, 0.5, 1.0, 1.0, 1.0, 1.0, 1.0, 1.0, 1.0, 1.0, 1.0, 1.0, 1.0, 1.0, 1.0, 0.25, 1.0, 0.0, 1.0, 1.0, 1.0, 1.0, 1.0, 1.0, 1.0, 1.0, 1.0, 1.0, 1.0, 1.0, 0, 1.0, 0.2, 0.0, 0.5, 1.0, 1.0, 1.0, 1.0, 1.0, 1.0, 1.0, 0.75, 0.0, 0.5, 1.0, 1.0, 0.0, 0, 1.0, 1.0, 1.0, 1.0, 1.0, 0.6666666666666666, 0.0, 1.0, 1.0, 0.25, 1.0, 1.0, 1.0, 0.0, 1.0, 1.0, 1.0, 0.8333333333333334, 1.0, 1.0, 1.0, 1.0, 0.9411764705882353, 1.0, 1.0, 1.0, 1.0, 1.0, 0.3333333333333333, 1.0, 0.0, 0.0, 0.8, 1.0, 0.0, 1.0, 1.0, 1.0, 1.0, 0.0, 1.0, 1.0, 1.0, 1.0, 0.0, 1.0, 0.5, 1.0, 0.0, 1.0, 1.0, 0.20833333333333334, 0.16666666666666666, 1.0, 1.0, 1.0, 1.0, 1.0, 0.3076923076923077, 1.0, 1.0, 1.0, 0.5, 1.0, 0, 1.0, 1.0, 1.0, 1.0, 1.0, 1.0, 1.0, 0.8571428571428571, 1.0, 0, 0.6666666666666666, 0.7777777777777778, 0.3448275862068966, 1.0, 1.0, 1.0, 1.0, 1.0, 0.5714285714285714, 0, 1.0, 1.0, 1.0, 0.0, 0.0, 1.0, 0.5714285714285714, 1.0, 0.0, 1.0, 1.0, 1.0, 1.0, 1.0, 0.75, 1.0, 1.0, 1.0, 1.0, 1.0, 1.0, 0.0, 1.0, 1.0, 0, 1.0, 1.0, 1.0, 1.0, 1.0, 1.0, 1.0, 1.0, 1.0, 1.0, 1.0, 1.0, 1.0, 1.0, 1.0, 1.0, 1.0, 1.0, 0.8333333333333334, 1.0, 1.0, 1.0, 1.0, 1.0, 1.0, 1.0, 1.0, 1.0, 1.0, 1.0, 1.0, 1.0, 1.0, 1.0, 1.0, 1.0, 1.0, 1.0, 0.0, 1.0, 1.0, 1.0, 1.0, 1.0, 1.0, 1.0, 0.0, 1.0, 1.0, 1.0, 1.0, 0.0, 1.0, 1.0, 1.0, 1.0, 1.0, 1.0, 1.0, 1.0, 1.0, 1.0, 1.0, 1.0, 1.0, 1.0, 1.0, 1.0, 1.0, 0.0, 1.0, 1.0, 1.0, 1.0, 1.0, 1.0, 1.0, 1.0, 1.0, 1.0, 1.0, 1.0, 1.0, 1.0, 1.0, 1.0, 1.0, 0, 1.0, 0.75, 1.0, 0.75, 1.0, 1.0, 1.0, 1.0, 0.0, 1.0, 1.0, 1.0, 1.0, 1.0, 1.0, 1.0, 1.0, 1.0, 1.0, 1.0, 1.0, 1.0, 0.8, 1.0, 1.0, 1.0, 1.0, 1.0, 1.0, 1.0, 1.0, 1.0, 1.0, 1.0, 1.0, 1.0, 1.0, 1.0, 1.0, 1.0, 1.0, 1.0, 1.0, 0.5, 1.0, 0.0, 1.0, 1.0, 1.0, 1.0, 1.0, 0, 1.0, 1.0, 1.0, 1.0, 1.0, 0, 0, 1.0, 1.0, 1.0, 0.0, 1.0, 1.0, 1.0, 0.6666666666666666, 0.0, 1.0, 1.0, 1.0, 1.0, 1.0, 1.0, 1.0, 1.0, 0.0, 1.0, 1.0, 1.0, 1.0, 1.0, 1.0, 1.0, 0.8, 1.0, 1.0, 0.0, 1.0, 1.0, 1.0, 0.0, 1.0, 1.0, 1.0, 1.0, 1.0, 1.0, 1.0, 0.0, 1.0, 1.0, 1.0, 1.0, 1.0, 1.0, 1.0, 1.0, 0.875, 1.0, 0, 1.0, 1.0, 0.0, 0.75, 1.0, 1.0, 1.0, 1.0, 1.0, 1.0, 1.0, 0.5, 1.0, 1.0, 1.0, 1.0, 1.0, 1.0, 1.0, 0.0, 1.0, 1.0, 1.0, 1.0, 0.0, 1.0, 1.0, 1.0, 1.0, 1.0, 1.0, 1.0, 1.0, 0.0, 1.0, 1.0, 1.0, 1.0, 1.0, 1.0, 1.0, 1.0, 1.0, 0.0, 1.0, 1.0, 1.0, 1.0, 1.0, 1.0, 1.0, 1.0, 1.0, 0.0, 1.0, 1.0, 1.0, 1.0, 1.0, 0.9, 1.0, 1.0, 0.6, 1.0, 0.0, 0.0, 0.0, 0.0, 0.0, 1.0, 1.0, 1.0, 1.0, 1.0, 0.0, 1.0, 1.0, 0.8333333333333334, 1.0, 1.0, 0.0, 0.3333333333333333, 1.0, 0.0, 1.0, 1.0, 1.0, 1.0, 1.0, 1.0, 1.0, 1.0, 1.0, 1.0, 0.0, 0.0, 0.6666666666666666, 1.0, 1.0, 1.0, 1.0, 1.0, 1.0, 1.0, 1.0, 1.0, 1.0, 1.0, 1.0, 1.0, 1.0, 1.0, 1.0, 1.0, 1.0, 1.0, 1.0, 1.0, 1.0, 1.0, 0.8333333333333334, 0, 1.0, 1.0, 1.0, 0.6666666666666666, 0.0, 0.0, 1.0, 1.0, 1.0, 1.0, 0.0, 1.0, 1.0, 0.0, 1.0, 1.0, 1.0, 1.0, 1.0, 1.0, 0.75, 1.0, 1.0, 1.0, 0.0, 0, 1.0, 1.0, 1.0, 0.75, 1.0, 1.0, 1.0, 1.0, 0.0, 1.0, 1.0, 1.0, 0.0, 1.0, 0.0, 0.0, 0.0, 0.5, 1.0, 1.0, 0.0, 0.75, 0.0, 1.0, 1.0, 1.0, 1.0, 1.0, 0.8, 0.0, 1.0, 1.0, 0.5, 1.0, 1.0, 1.0, 1.0, 1.0, 0.5, 0.25, 1.0, 1.0, 1.0, 1.0, 0.8333333333333334, 0.8, 1.0, 1.0, 0, 0, 0.0, 0.0, 1.0, 1.0, 0.3333333333333333, 1.0, 0.0, 1.0, 1.0, 0.0, 1.0, 1.0, 1.0, 1.0, 1.0, 1.0, 0.6666666666666666, 1.0, 0.0, 0.0, 0.0, 1.0, 1.0, 1.0, 0.8, 1.0, 0.0, 1.0, 1.0, 1.0, 1.0, 0.0, 1.0, 1.0, 0.0, 1.0, 0.5714285714285714, 0.6666666666666666, 1.0, 1.0, 1.0, 0.0, 1.0, 1.0, 1.0, 0.75, 1.0, 1.0, 1.0, 1.0, 1.0, 1.0, 0.0, 1.0, 1.0, 0.0, 1.0, 1.0, 0.0, 1.0, 1.0, 1.0, 0.0, 1.0, 0.75, 1.0, 1.0, 0, 0.0, 1.0, 0.0, 1.0, 1.0, 1.0, 0.8571428571428571, 0.875, 0.0, 1.0, 1.0, 0, 0.0, 0.0, 1.0, 0.0, 1.0, 1.0, 1.0, 1.0, 0.0, 1.0, 1.0, 0.0, 1.0, 1.0, 1.0, 0.75, 1.0, 1.0, 0.25, 0.8571428571428571, 1.0, 1.0, 1.0, 1.0, 0.5, 0.0, 1.0, 0.0, 1.0, 1.0, 0.25, 1.0, 1.0, 0, 0.0, 1.0, 0.0, 1.0, 0.0, 0.6666666666666666, 0.0, 1.0, 0.0, 1.0, 1.0, 1.0, 0.125, 1.0, 1.0, 1.0, 0.0, 1.0, 0, 1.0, 0.0, 1.0, 1.0, 0.0, 1.0, 1.0, 0.8333333333333334, 0.0, 1.0, 0.0, 1.0, 0.3333333333333333, 0.8333333333333334, 1.0, 1.0, 1.0, 1.0, 1.0, 1.0, 1.0, 0.0, 0.0, 0.0, 0.0, 1.0, 1.0, 1.0, 1.0, 1.0, 0.8571428571428571, 1.0, 0.6666666666666666, 0.5, 1.0, 1.0, 1.0, 1.0, 1.0, 1.0, 1.0, 1.0, 1.0, 1.0, 1.0, 0.0, 1.0, 0.0, 0.6666666666666666, 0.6, 1.0, 1.0, 0.0, 0.0, 1.0, 1.0, 1.0, 1.0, 1.0, 1.0, 1.0, 1.0, 0.875, 0.6666666666666666, 1.0, 1.0, 0.36363636363636365, 0.0, 1.0, 1.0, 1.0, 1.0, 0.0, 0.6, 1.0, 1.0, 1.0, 1.0, 1.0, 1.0, 1.0, 0.5, 0, 1.0, 1.0, 0.6666666666666666, 0.0, 0.9166666666666666, 0.0, 1.0, 1.0, 0.36666666666666664, 0.5, 1.0, 1.0, 1.0, 0.0, 1.0, 0.0, 0.5, 0.125, 1.0, 0.75, 0.8181818181818182, 0.23076923076923078, 0.0, 0.7777777777777778, 0.875, 0.875, 1.0, 1.0, 0.8333333333333334, 1.0, 1.0, 1.0, 1.0, 0.8333333333333334, 1.0, 0.8333333333333334, 1.0, 1.0, 1.0, 1.0, 1.0, 0.0, 0.7777777777777778, 0.9285714285714286, 1.0, 0.9230769230769231, 0.13333333333333333, 0.5714285714285714, 1.0, 1.0, 0.2222222222222222, 0.3, 0.0, 1.0, 1.0, 1.0, 0.0, 0.35714285714285715, 0.1111111111111111, 1.0, 0.8, 1.0, 1.0, 0.4375, 1.0, 0.68, 0, 0.4090909090909091, 0.6666666666666666, 0.6666666666666666, 0.8571428571428571, 1.0, 1.0, 1.0, 1.0, 1.0, 1.0, 1.0, 1.0, 1.0, 1.0, 0.0, 0.6, 0.0, 1.0, 0.5, 1.0, 0.0, 1.0, 1.0, 1.0, 1.0, 0.5263157894736842, 0.7142857142857143, 0.875, 0.0, 1.0, 1.0, 0.44, 0.5, 0.5769230769230769, 0.75, 1.0, 0.0, 1.0, 0.5, 1.0, 0.0, 1.0, 1.0, 1.0, 1.0, 1.0, 1.0, 0.75, 1.0, 0.0, 1.0, 0.09090909090909091, 1.0, 1.0, 0.16666666666666666, 0.0, 1.0, 0.8888888888888888, 1.0, 1.0, 1.0, 0.7272727272727273, 0.3888888888888889, 1.0, 1.0, 0.5, 0.14285714285714285, 1.0, 1.0, 1.0, 0.10714285714285714, 0.0, 0.6666666666666666, 1.0, 1.0, 0.0, 0.2727272727272727, 1.0, 1.0, 0.0, 0.5833333333333334, 0.0, 0.0, 0.0, 1.0, 0.0, 0.5, 1.0, 0.6666666666666666, 0.0, 0.0, 0.8, 0, 0.0, 1.0, 1.0, 1.0, 1.0, 1.0, 1.0, 0.42857142857142855, 1.0, 1.0, 0.0, 1.0, 0.6666666666666666, 1.0, 0.4166666666666667, 1.0, 0.0, 1.0, 1.0, 1.0, 1.0, 0.0, 1.0, 0, 0.0, 1.0, 0.0, 0.6666666666666666, 1.0, 1.0, 1.0, 0.16666666666666666, 1.0, 1.0, 1.0, 0.0, 0.0, 0.2, 0.5, 1.0, 0.0, 1.0, 0.42857142857142855, 1.0, 1.0, 0.0, 0.8333333333333334, 1.0, 0.1111111111111111, 0.9333333333333333, 0.0, 0.0, 1.0, 1.0, 0.16666666666666666, 1.0, 1.0, 1.0, 1.0, 1.0, 0.0, 0, 1.0, 1.0, 1.0, 1.0, 0.0, 1.0, 1.0, 1.0, 1.0, 1.0, 1.0, 1.0, 1.0, 0, 0, 0.0, 0.0, 1.0, 1.0, 0.0, 0.0, 1.0, 0.5, 0.0, 0.0, 0.0, 0.0, 0.0, 0.16666666666666666, 0.0, 1.0, 1.0, 0.0, 1.0, 1.0, 0.75, 0, 0.6, 1.0, 0.0, 0.5, 1.0, 1.0, 1.0, 0.0, 1.0, 1.0, 1.0, 0.7142857142857143, 1.0, 0.0, 1.0, 1.0, 1.0, 1.0, 1.0, 1.0, 1.0, 1.0, 1.0, 1.0, 0.5333333333333333, 1.0, 1.0, 0.3333333333333333, 1.0, 0.5, 1.0, 0.5, 1.0, 1.0, 1.0, 1.0, 1.0, 1.0, 0.8571428571428571, 1.0, 1.0, 1.0, 1.0, 1.0, 1.0, 1.0, 0.0, 0.5, 0.5, 1.0, 0.0, 0.0, 1.0, 1.0, 1.0, 1.0, 1.0, 1.0, 1.0, 1.0, 0.5, 1.0, 1.0, 1.0, 0.6666666666666666, 1.0, 1.0, 1.0, 1.0, 1.0, 0.75, 1.0, 1.0, 1.0, 1.0, 1.0, 0.5, 1.0, 1.0, 1.0, 1.0, 1.0, 1.0, 0.5, 1.0, 0.0, 1.0, 1.0, 1.0, 1.0, 1.0, 1.0, 1.0, 1.0, 1.0, 1.0, 1.0, 1.0, 1.0, 1.0, 1.0, 1.0, 1.0, 1.0, 1.0, 0, 1.0, 1.0, 0.8333333333333334, 1.0, 1.0, 1.0, 1.0, 1.0, 0, 1.0, 1.0, 1.0, 1.0, 1.0, 1.0, 0.0, 1.0, 1.0, 0.75, 1.0, 1.0, 1.0, 1.0, 1.0, 0.8, 1.0, 1.0, 0.0, 1.0, 1.0, 1.0, 1.0, 1.0, 0.0, 1.0, 1.0, 0.0, 1.0, 1.0, 0.0, 0.75, 1.0, 1.0, 1.0, 0.6666666666666666, 1.0, 1.0, 0.0, 1.0, 1.0, 1.0, 1.0, 1.0, 0.0, 1.0, 1.0, 1.0, 1.0, 0.0, 1.0, 1.0, 1.0, 1.0, 1.0, 1.0, 1.0, 1.0, 1.0, 0.6666666666666666, 1.0, 1.0, 1.0, 1.0, 1.0, 0.0, 1.0, 1.0, 1.0, 0.0, 0.5, 1.0, 1.0, 1.0, 0.0, 1.0, 1.0, 1.0, 1.0, 0.875, 1.0, 1.0, 0.0, 0.0, 0.0, 0.0, 1.0, 1.0, 1.0, 0.0, 1.0, 0.6666666666666666, 1.0, 1.0, 1.0, 1.0, 0.0, 0.0, 1.0, 1.0, 1.0, 1.0, 1.0, 1.0, 1.0, 1.0, 1.0, 1.0, 0.5, 0.2857142857142857, 1.0, 1.0, 1.0, 1.0, 1.0, 1.0, 0, 1.0, 1.0, 1.0, 1.0, 1.0, 1.0, 0.0, 1.0, 1.0, 1.0, 1.0, 1.0, 0.0, 1.0, 0.5, 0.5, 1.0, 1.0, 1.0, 1.0, 1.0, 1.0, 0.0, 0.75, 1.0, 1.0, 0.0, 1.0, 0.5, 1.0, 1.0, 1.0, 1.0, 1.0, 1.0, 1.0, 1.0, 1.0, 0.0, 1.0, 0.5, 1.0, 0.75, 1.0, 1.0, 1.0, 1.0, 1.0, 0.0, 1.0, 1.0, 1.0, 1.0, 1.0, 1.0, 1.0, 1.0, 1.0, 1.0, 1.0, 1.0, 1.0, 1.0, 1.0, 1.0, 1.0, 1.0, 1.0, 1.0, 1.0, 0.0, 1.0, 1.0, 1.0, 1.0, 1.0, 1.0, 1.0, 0.6666666666666666, 1.0, 1.0, 1.0, 1.0, 1.0, 1.0, 0.0, 1.0, 1.0, 1.0, 1.0, 1.0, 0.0, 1.0, 0.0, 0.6666666666666666, 1.0, 1.0, 1.0, 1.0, 0.8, 1.0, 0.75, 0.0, 1.0, 1.0, 1.0, 1.0, 1.0, 0, 0.0, 0.0, 0.0, 1.0, 1.0, 1.0, 1.0, 1.0, 1.0, 1.0, 1.0, 1.0, 1.0, 1.0, 0.0, 0.8, 1.0, 1.0, 1.0, 0.0, 1.0, 1.0, 1.0, 1.0, 1.0, 1.0, 1.0, 1.0, 0.0, 1.0, 1.0, 1.0, 1.0, 1.0, 1.0, 1.0, 1.0, 1.0, 1.0, 1.0, 0.2, 1.0, 1.0, 1.0, 1.0, 1.0, 1.0, 1.0, 0.75, 1.0, 0.5, 1.0, 1.0, 1.0, 1.0, 0.3333333333333333, 0.5, 1.0, 1.0, 1.0, 1.0, 0.6, 0.8333333333333334, 1.0, 1.0, 0.75, 0.75, 1.0, 0.6, 0.0, 1.0, 0.5, 1.0, 0.8, 0.3333333333333333, 0.4, 1.0, 1.0, 0.75, 1.0, 1.0, 1.0, 1.0, 1.0, 1.0, 1.0, 1.0, 1.0, 1.0, 1.0, 1.0, 1.0, 1.0, 1.0, 1.0, 0, 1.0, 1.0, 1.0, 0.25, 1.0, 0.25, 1.0, 0.0, 0.6666666666666666, 0.25, 0.4444444444444444, 0.5, 1.0, 0.0, 0.3333333333333333, 1.0, 1.0, 0.6666666666666666, 0.0, 1.0, 1.0, 1.0, 0.6666666666666666, 1.0, 1.0, 1.0, 0.0, 1.0, 1.0, 1.0, 1.0, 1.0, 1.0, 0.75, 1.0, 1.0, 1.0, 1.0, 0.0, 0.42857142857142855, 1.0, 1.0, 0.0, 1.0, 1.0, 1.0, 1.0, 1.0, 1.0, 1.0, 1.0, 0.0, 1.0, 0.0, 1.0, 1.0, 1.0, 0.75, 1.0, 1.0, 1.0, 1.0, 1.0, 1.0, 1.0, 1.0, 1.0, 1.0, 1.0, 1.0, 1.0, 0.6666666666666666, 1.0, 1.0, 1.0, 1.0, 0.0, 1.0, 1.0, 1.0, 1.0, 1.0, 1.0, 1.0, 1.0, 1.0, 1.0, 1.0, 1.0, 1.0, 1.0, 0.75, 1.0, 1.0, 1.0, 0.5, 1.0, 1.0, 1.0, 1.0, 1.0, 1.0, 1.0, 0.8333333333333334, 1.0, 1.0, 1.0, 1.0, 1.0, 1.0, 1.0, 1.0, 1.0, 0.6666666666666666, 1.0, 1.0, 1.0, 1.0, 1.0, 1.0, 1.0, 1.0, 1.0, 1.0, 0.5, 1.0, 1.0, 1.0, 0.0, 0.0, 1.0, 0.3333333333333333, 0.6666666666666666, 1.0, 1.0, 1.0, 1.0, 1.0, 1.0, 1.0, 1.0, 1.0, 1.0, 1.0, 1.0, 0.0, 1.0, 1.0, 1.0, 1.0, 1.0, 1.0, 0.0, 1.0, 1.0, 1.0, 1.0, 1.0, 1.0, 1.0, 1.0, 1.0, 1.0, 1.0, 1.0, 1.0, 1.0, 1.0, 1.0, 0.75, 1.0, 1.0, 1.0, 1.0, 0.0, 1.0, 1.0, 1.0, 0.5714285714285714, 1.0, 1.0, 0.0, 1.0, 1.0, 1.0, 1.0, 1.0, 1.0, 1.0, 1.0, 1.0, 1.0, 0.6666666666666666, 0.5, 1.0, 1.0, 1.0, 1.0, 1.0, 1.0, 0.8, 1.0, 0.5, 1.0, 1.0, 1.0, 1.0, 0.875, 0.5, 1.0, 1.0, 1.0, 1.0, 1.0, 0.25, 1.0, 0.6666666666666666, 1.0, 1.0, 0.6666666666666666, 1.0, 1.0, 1.0, 1.0, 0.18181818181818182, 1.0, 1.0, 1.0, 1.0, 1.0, 0.6666666666666666, 1.0, 1.0, 1.0, 1.0, 0.5, 1.0, 1.0, 0.2, 1.0, 1.0, 1.0, 1.0, 1.0, 1.0, 1.0, 1.0, 0.0, 1.0, 0.8, 1.0, 1.0, 1.0, 0.6666666666666666, 1.0, 1.0, 1.0, 1.0, 1.0, 1.0, 1.0, 1.0, 1.0, 0.7142857142857143, 1.0, 1.0, 1.0, 1.0, 1.0, 1.0, 1.0, 1.0, 0.6666666666666666, 1.0, 1.0, 1.0, 0.6666666666666666, 1.0, 1.0, 1.0, 1.0, 0.5, 1.0, 1.0, 1.0, 0.5, 1.0, 1.0, 1.0, 1.0, 1.0, 1.0, 1.0, 1.0, 1.0, 1.0, 1.0, 1.0, 1.0, 1.0, 0.0, 1.0, 1.0, 1.0, 0.0, 1.0, 1.0, 1.0, 1.0, 1.0, 1.0, 1.0, 1.0, 0.0, 1.0, 1.0, 0.75, 1.0, 1.0, 1.0, 1.0, 1.0, 1.0, 1.0, 1.0, 1.0, 1.0, 1.0, 0.0, 1.0, 1.0, 1.0, 1.0, 0.0, 1.0, 1.0, 1.0, 0.8571428571428571, 1.0, 1.0, 1.0, 1.0, 1.0, 1.0, 1.0, 1.0, 1.0, 1.0, 0.3333333333333333, 1.0, 0.0, 0.6666666666666666, 1.0, 1.0, 0, 1.0, 1.0, 0.0, 1.0, 0.0, 1.0, 0.4, 1.0, 1.0, 1.0, 0.8, 1.0, 0.6666666666666666, 1.0, 1.0, 1.0, 0.0, 1.0, 1.0, 1.0, 1.0, 1.0, 1.0, 1.0, 1.0, 1.0, 1.0, 1.0, 1.0, 1.0, 1.0, 1.0, 1.0, 0.6666666666666666, 0, 1.0, 1.0, 0.5, 1.0, 1.0, 0, 0.6666666666666666, 0.0, 1.0, 1.0, 1.0, 1.0, 0.6666666666666666, 1.0, 1.0, 0.5, 1.0, 1.0, 1.0, 0.3333333333333333, 1.0, 0.6666666666666666, 0.5, 0.8, 0.6666666666666666, 0.0, 1.0, 1.0, 0.75, 0.25, 1.0, 1.0, 1.0, 0.6666666666666666, 1.0, 1.0, 0.75, 1.0, 1.0, 0.75, 0.5, 1.0, 0.8333333333333334, 1.0, 1.0, 0.0, 0.75, 1.0, 0.0, 0.6666666666666666, 1.0, 1.0, 1.0, 1.0, 0.75, 0.6666666666666666, 0.9230769230769231, 1.0, 1.0, 1.0, 1.0, 1.0, 1.0, 1.0, 1.0, 1.0, 1.0, 1.0, 1.0, 1.0, 0.6666666666666666, 1.0, 1.0, 1.0, 1.0, 1.0, 1.0, 1.0, 1.0, 1.0, 1.0, 1.0, 1.0, 1.0, 0.0, 1.0, 1.0, 0.5, 0.6666666666666666, 1.0, 1.0, 0.0, 1.0, 0.25, 1.0, 1.0, 0.0, 1.0, 1.0, 1.0, 0.5, 0.0, 1.0, 1.0, 1.0, 0.0, 1.0, 1.0, 0.0, 0.3333333333333333, 0.0, 1.0, 0.0, 1.0, 0.2222222222222222, 1.0, 0.16666666666666666, 0.0, 0.1111111111111111, 1.0, 1.0, 0.8333333333333334, 0.0, 0.0, 0.0, 0.8, 0.0, 1.0, 1.0, 0.0, 1.0, 1.0, 0, 0.9230769230769231, 1.0, 0.7777777777777778, 1.0, 1.0, 1.0, 0.0, 1.0, 1.0, 1.0, 1.0, 0.6923076923076923, 1.0, 1.0, 1.0, 1.0, 1.0, 1.0, 1.0, 1.0, 1.0, 1.0, 1.0, 0.0, 1.0, 1.0, 0.0, 1.0, 0.0, 1.0, 0.8823529411764706, 1.0, 0.0, 1.0, 0.0, 1.0, 1.0, 0.0, 1.0, 1.0, 0.0, 1.0, 0.0, 1.0, 1.0, 0.0, 1.0, 0.0, 1.0, 1.0, 1.0, 1.0, 1.0, 1.0, 1.0, 1.0, 0.4, 1.0, 1.0, 0.5, 1.0, 0, 1.0, 0.0, 0.5714285714285714, 0.7272727272727273, 1.0, 1.0, 1.0, 1.0, 0, 1.0, 1.0, 0.4444444444444444, 1.0, 0.75, 1.0, 1.0, 1.0, 1.0, 1.0, 1.0, 0.6, 1.0, 1.0, 1.0, 1.0, 1.0, 1.0, 0.6666666666666666, 0.6666666666666666, 0.6666666666666666, 1.0, 1.0, 1.0, 0.8333333333333334, 1.0, 1.0, 1.0, 1.0, 1.0, 0, 0, 1.0, 1.0, 1.0, 0.0, 1.0, 1.0, 1.0, 1.0, 0.3333333333333333, 1.0, 1.0, 1.0, 1.0, 1.0, 1.0, 1.0, 1.0, 1.0, 1.0, 1.0, 1.0, 1.0, 1.0, 1.0, 0.0, 0.8571428571428571, 1.0, 1.0, 1.0, 0.9285714285714286, 1.0, 1.0, 1.0, 1.0, 1.0, 1.0, 1.0, 1.0, 0.3333333333333333, 1.0, 1.0, 0.0, 1.0, 0.09523809523809523, 0, 1.0, 1.0, 1.0, 0.7142857142857143, 1.0, 0.5, 1.0, 0.6666666666666666, 1.0, 1.0, 0, 1.0, 1.0, 1.0, 1.0, 1.0, 1.0, 1.0, 1.0, 1.0, 1.0, 0.0, 0.5, 1.0, 0.0, 1.0, 1.0, 0.4444444444444444, 1.0, 1.0, 1.0, 1.0, 0.3333333333333333, 1.0, 1.0, 0.75, 1.0, 0.875, 1.0, 0, 0.6666666666666666, 1.0, 1.0, 0.0, 1.0, 1.0, 1.0, 0.8, 1.0, 1.0, 1.0, 1.0, 1.0, 1.0, 1.0, 1.0, 1.0, 1.0, 1.0, 1.0, 1.0, 1.0, 1.0, 1.0, 1.0, 1.0, 0.8333333333333334, 0.375, 1.0, 1.0, 0.8, 0.0, 1.0, 1.0, 1.0, 1.0, 1.0, 0.0, 0.5, 0.25, 1.0, 0.5, 1.0, 1.0, 1.0, 0.7142857142857143, 0.0, 1.0, 0.25, 1.0, 1.0, 0.5, 1.0, 0.5, 1.0, 1.0, 1.0, 0.3, 1.0, 0.5, 1.0, 0.0, 1.0, 0.18181818181818182, 1.0, 0.8888888888888888, 1.0, 1.0, 1.0, 1.0, 1.0, 0.06666666666666667, 1.0, 0.0, 1.0, 1.0, 1.0, 0.6, 1.0, 0.5, 0.8, 1.0, 1.0, 1.0, 1.0, 0.8333333333333334, 1.0, 1.0, 1.0, 1.0, 1.0, 1.0, 0.0, 1.0, 0.8333333333333334, 1.0, 1.0, 0.3333333333333333, 1.0, 0.1875, 0.0, 0, 1.0, 1.0, 1.0, 1.0, 1.0, 0.42857142857142855, 1.0, 1.0, 1.0, 1.0, 0.0, 1.0, 1.0, 0.3333333333333333, 0.0, 1.0, 0.3333333333333333, 0.9090909090909091, 1.0, 1.0, 1.0, 0.0, 0.0, 0, 0, 0.7142857142857143, 1.0, 1.0, 1.0, 1.0, 0.0, 1.0, 1.0, 0, 1.0, 0.8333333333333334, 0.75, 1.0, 1.0, 0.3333333333333333, 1.0, 0.75, 1.0, 1.0, 1.0, 1.0, 0.0, 1.0, 1.0, 0.25, 0.0, 1.0, 0.0, 1.0, 1.0, 0.75, 1.0, 0.5, 1.0, 0.23076923076923078, 1.0, 0.52, 0.0, 0.6666666666666666, 1.0, 1.0, 1.0, 1.0, 1.0, 1.0, 1.0, 0.5, 1.0, 1.0, 1.0, 1.0, 0.6, 1.0, 0.9285714285714286, 1.0, 1.0, 1.0, 0.0, 0.2222222222222222, 1.0, 1.0, 1.0, 1.0, 1.0, 0.92, 0.75, 0.0, 1.0, 0.25, 1.0, 1.0, 1.0, 1.0, 1.0, 1.0, 1.0, 1.0, 1.0, 1.0, 1.0, 1.0, 1.0, 1.0, 1.0, 1.0, 0, 1.0, 0.46153846153846156, 1.0, 0.6666666666666666, 0.9259259259259259, 1.0, 1.0, 1.0, 0, 1.0, 1.0, 1.0, 1.0, 0.0, 1.0, 1.0, 1.0, 0, 0.6666666666666666, 1.0, 1.0, 1.0, 1.0, 0.8, 0.0, 0.3333333333333333, 1.0, 0.75, 1.0, 1.0, 1.0, 1.0, 0.625, 1.0, 0.0, 1.0, 1.0, 1.0, 1.0, 0.4, 0, 0.2857142857142857, 1.0, 1.0, 0.391304347826087, 0.875, 1.0, 0, 1.0, 1.0, 0.0, 1.0, 0.14285714285714285, 1.0, 1.0, 1.0, 0.0, 1.0, 1.0, 1.0, 1.0, 1.0, 0.45454545454545453, 0.0, 1.0, 0.0, 0.0, 1.0, 1.0, 1.0, 1.0, 1.0, 0.0, 1.0, 0.6666666666666666, 0, 1.0, 1.0, 1.0, 0.5, 1.0, 0.0, 1.0, 1.0, 0.0, 1.0, 0.42857142857142855, 1.0, 1.0, 0.75, 1.0, 0.0, 1.0, 1.0, 1.0, 1.0, 1.0, 1.0, 0.75, 1.0, 0.3333333333333333, 1.0, 0.0, 1.0, 0, 1.0, 0.25, 0.8, 1.0, 1.0, 1.0, 1.0, 0.0, 1.0, 1.0, 1.0, 1.0, 0.25, 1.0, 0.5, 1.0, 1.0, 1.0, 1.0, 0.21428571428571427, 1.0, 0.0, 1.0, 0.0, 1.0, 1.0, 1.0, 0, 1.0, 0.75, 0.0, 1.0, 0.0, 1.0, 1.0, 1.0, 0, 0, 0.6666666666666666, 1.0, 1.0, 1.0, 1.0, 1.0, 1.0, 1.0, 1.0, 1.0, 1.0, 0.0, 0, 1.0, 0.0, 1.0, 1.0, 0.0, 0, 1.0, 1.0, 1.0, 1.0, 1.0, 1.0, 0.0, 1.0, 1.0, 1.0, 0.0, 0.0, 0.0, 1.0, 1.0, 1.0, 1.0, 1.0, 1.0, 1.0, 1.0, 0.0, 0.0, 0.0, 1.0, 1.0, 0.6666666666666666, 1.0, 1.0, 0.4, 1.0, 1.0, 1.0, 1.0, 0.0, 1.0, 1.0, 0.25, 0.0, 1.0, 1.0, 1.0, 1.0, 0.0, 1.0, 1.0, 1.0, 1.0, 0.0, 1.0, 1.0, 1.0, 1.0, 1.0, 1.0, 0.14285714285714285, 1.0, 1.0, 1.0, 1.0, 1.0, 0.0, 1.0, 1.0, 1.0, 1.0, 1.0, 0.875, 0.0, 0.8333333333333334, 1.0, 0.5, 1.0, 1.0, 0.0, 0.5, 1.0, 0.75, 1.0, 1.0, 1.0, 1.0, 1.0, 0.0, 1.0, 1.0, 0.0, 0.0, 1.0, 0.0, 1.0, 1.0, 1.0, 1.0, 1.0, 1.0, 1.0, 1.0, 1.0, 0.0, 1.0, 0.625, 0.6666666666666666, 1.0, 0.0, 1.0, 0.0, 1.0, 0.18181818181818182, 0.5, 1.0, 1.0, 1.0, 0.0, 0.8571428571428571, 1.0, 1.0, 1.0, 0.0, 1.0, 0.6666666666666666, 0.0, 0.0, 1.0, 1.0, 0.6666666666666666, 1.0, 1.0, 1.0, 1.0, 0.0, 1.0, 1.0, 0.0, 1.0, 1.0, 1.0, 1.0, 1.0, 1.0, 1.0, 1.0, 1.0, 0.75, 0.6, 1.0, 1.0, 1.0, 1.0, 1.0, 1.0, 1.0, 1.0, 1.0, 1.0, 0.0, 1.0, 0.9285714285714286, 1.0, 1.0, 1.0, 1.0, 1.0, 1.0, 0.3333333333333333, 0, 1.0, 1.0, 1.0, 1.0, 1.0, 1.0, 1.0, 1.0, 1.0, 1.0, 0, 0.0, 1.0, 1.0, 1.0, 1.0, 1.0, 1.0, 0.75, 1.0, 0.0, 0.0, 1.0, 1.0, 0, 1.0, 1.0, 1.0, 1.0, 1.0, 1.0, 0.8, 1.0, 1.0, 0.0, 1.0, 1.0, 1.0, 1.0, 1.0, 1.0, 1.0, 1.0, 1.0, 1.0, 1.0, 0.3333333333333333, 1.0, 1.0, 1.0, 1.0, 1.0, 0.0, 1.0, 1.0, 1.0, 1.0, 1.0, 1.0, 1.0, 1.0, 1.0, 1.0, 1.0, 1.0, 1.0, 1.0, 0.0, 1.0, 1.0, 1.0, 1.0, 0.75, 1.0, 1.0, 1.0, 0.0, 1.0, 1.0, 1.0, 1.0, 0.5, 1.0, 1.0, 1.0, 1.0, 1.0, 1.0, 1.0, 1.0, 1.0, 1.0, 1.0, 1.0, 1.0, 1.0, 1.0, 1.0, 1.0, 1.0, 1.0, 1.0, 1.0, 1.0, 1.0, 0.0, 1.0, 1.0, 1.0, 1.0, 0.6666666666666666, 1.0, 1.0, 1.0, 1.0, 1.0, 1.0, 1.0, 1.0, 1.0, 1.0, 1.0, 1.0, 1.0, 1.0, 1.0, 1.0, 1.0, 1.0, 1.0, 1.0, 0.5, 1.0, 1.0, 1.0, 1.0, 1.0, 1.0, 1.0, 0.375, 1.0, 1.0, 1.0, 0.0, 1.0, 1.0, 1.0, 1.0, 0.8333333333333334, 1.0, 1.0, 0.75, 0.8571428571428571, 1.0, 1.0, 1.0, 1.0, 1.0, 1.0, 1.0, 1.0, 0, 1.0, 1.0, 0.75, 1.0, 1.0, 0.6666666666666666, 1.0, 1.0, 1.0, 0.8, 1.0, 1.0, 1.0, 0.0, 1.0, 0.3333333333333333, 1.0, 1.0, 1.0, 1.0, 1.0, 1.0, 0.6666666666666666, 1.0, 1.0, 1.0, 1.0, 1.0, 0.0, 1.0, 1.0, 1.0, 1.0, 1.0, 1.0, 1.0, 1.0, 1.0, 0, 1.0, 1.0, 1.0, 0.0, 0.0, 1.0, 1.0, 1.0, 1.0, 1.0, 0, 1.0, 0.0, 1.0, 1.0, 1.0, 1.0, 1.0, 0.8, 1.0, 1.0, 1.0, 1.0, 0.75, 1.0, 1.0, 0.6666666666666666, 0.0, 0.8, 0.0, 1.0, 1.0, 0.0, 1.0, 1.0, 0.0, 0.0, 1.0, 0.0, 0.0, 0.25, 0.5, 0.0, 1.0, 1.0, 1.0, 1.0, 1.0, 1.0, 1.0, 1.0, 1.0, 0, 0.875, 1.0, 0.0, 1.0, 0.0, 1.0, 1.0, 1.0, 1.0, 1.0, 1.0, 1.0, 1.0, 1.0, 1.0, 1.0, 1.0, 0.3333333333333333, 0.3333333333333333, 0.75, 0.0, 1.0, 0.0, 1.0, 1.0, 1.0, 1.0, 1.0, 1.0, 1.0, 0.0, 1.0, 1.0, 1.0, 1.0, 1.0, 1.0, 0.6666666666666666, 1.0, 1.0, 1.0, 1.0, 0.75, 1.0, 0, 1.0, 0.0, 1.0, 0, 1.0, 1.0, 1.0, 0.5, 1.0, 1.0, 1.0, 1.0, 1.0, 1.0, 1.0, 1.0, 1.0, 1.0, 1.0, 1.0, 1.0, 1.0, 1.0, 0.625, 0.5, 1.0, 0.0, 1.0, 1.0, 1.0, 1.0, 1.0, 1.0, 1.0, 1.0, 1.0, 1.0, 0.0, 1.0, 1.0, 0.6666666666666666, 1.0, 1.0, 1.0, 1.0, 1.0, 1.0, 1.0, 1.0, 1.0, 1.0, 1.0, 1.0, 1.0, 1.0, 1.0, 1.0, 1.0, 1.0, 1.0, 0.0, 1.0, 1.0, 1.0, 1.0, 1.0, 1.0, 0.0, 0.5, 1.0, 1.0, 1.0, 1.0, 1.0, 1.0, 0.0, 1.0, 1.0, 1.0, 1.0, 1.0, 1.0, 1.0, 1.0, 1.0, 0.5238095238095238, 1.0, 1.0, 1.0, 1.0, 1.0, 1.0, 1.0, 1.0, 0.0, 0, 0.0, 1.0, 1.0, 0.8333333333333334, 1.0, 1.0, 1.0, 1.0, 0.0, 1.0, 1.0, 0.9230769230769231, 0.0, 1.0, 1.0, 1.0, 1.0, 1.0, 1.0, 1.0, 1.0, 0.0, 1.0, 0.5, 1.0, 1.0, 1.0, 1.0, 1.0, 0, 1.0, 1.0, 1.0, 1.0, 1.0, 1.0, 0.0, 1.0, 1.0, 1.0, 1.0, 1.0, 1.0, 1.0, 1.0, 1.0, 1.0, 1.0, 1.0, 1.0, 1.0, 1.0, 1.0, 1.0, 0.0, 1.0, 0.0, 1.0, 1.0, 1.0, 0, 1.0, 1.0, 1.0, 1.0, 1.0, 0.6666666666666666, 0.2727272727272727, 1.0, 0.0, 1.0, 0.25, 0.6666666666666666, 1.0, 1.0, 1.0, 1.0, 1.0, 1.0, 1.0, 1.0, 1.0, 0.6, 0.35, 1.0, 1.0, 1.0, 1.0, 1.0, 1.0, 1.0, 1.0, 1.0, 0.8, 1.0, 1.0, 0.5, 1.0, 1.0, 1.0, 1.0, 1.0, 0, 1.0, 1.0, 0, 1.0, 1.0, 1.0, 1.0, 1.0, 0.0, 0.0, 1.0, 1.0, 0.3076923076923077, 1.0, 1.0, 1.0, 1.0, 0.75, 0.0, 1.0, 1.0, 1.0, 1.0, 0.0, 1.0, 1.0, 1.0, 0.5, 1.0, 1.0, 1.0, 1.0, 1.0, 1.0, 1.0, 1.0, 1.0, 1.0, 1.0, 0.875, 0.9090909090909091, 0.0, 0.8571428571428571, 1.0, 1.0, 1.0, 0.0, 1.0, 0.6666666666666666, 1.0, 1.0, 1.0, 1.0, 1.0, 0.0, 0.2857142857142857, 1.0, 0.0, 0.8, 0.08333333333333333, 0.5, 1.0, 1.0, 0.0, 1.0, 1.0, 0, 1.0, 1.0, 1.0, 1.0, 0, 0.0, 0.8888888888888888, 0.0, 1.0, 1.0, 0.0, 1.0, 1.0, 1.0, 1.0, 1.0, 1.0, 1.0, 1.0, 1.0, 0.5, 0.0, 1.0, 1.0, 0, 0, 1.0, 0.21428571428571427, 1.0, 0.75, 1.0, 1.0, 1.0, 1.0, 1.0, 0.0, 1.0, 0, 1.0, 1.0, 0.0, 1.0, 0.0, 0.4722222222222222, 1.0, 0.3333333333333333, 0.0, 1.0, 0.0, 1.0, 0.0, 1.0, 0.0, 1.0, 1.0, 1.0, 1.0, 1.0, 1.0, 1.0, 1.0, 1.0, 1.0, 1.0, 1.0, 0.0, 1.0, 1.0, 1.0, 1.0, 1.0, 1.0, 1.0, 1.0, 1.0, 1.0, 1.0, 0.0, 1.0, 1.0, 1.0, 1.0, 0.0, 1.0, 1.0, 1.0, 1.0, 1.0, 1.0, 1.0, 1.0, 1.0, 0.0, 1.0, 1.0, 1.0, 1.0, 1.0, 1.0, 1.0, 1.0, 1.0, 1.0, 1.0, 1.0, 1.0, 1.0, 1.0, 1.0, 1.0, 1.0, 1.0, 1.0, 1.0, 1.0, 0, 1.0, 1.0, 1.0, 1.0, 1.0, 1.0, 1.0, 1.0, 1.0, 1.0, 0.0, 1.0, 0.0, 1.0, 1.0, 1.0, 1.0, 1.0, 1.0, 1.0, 1.0, 1.0, 1.0, 0, 1.0, 1.0, 1.0, 1.0, 1.0, 1.0, 1.0, 1.0, 1.0, 1.0, 1.0, 1.0, 1.0, 1.0, 1.0, 1.0, 1.0, 1.0, 1.0, 1.0, 1.0, 1.0, 1.0, 1.0, 1.0, 1.0, 1.0, 0, 1.0, 1.0, 1.0, 1.0, 1.0, 1.0, 1.0, 1.0, 1.0, 1.0, 1.0, 0.0, 1.0, 1.0, 1.0, 1.0, 0.5, 1.0, 1.0, 1.0, 1.0, 1.0, 1.0, 1.0, 1.0, 1.0, 0.0, 1.0, 1.0, 1.0, 1.0, 1.0, 1.0, 1.0, 0.3333333333333333, 1.0, 1.0, 1.0, 1.0, 0.0, 1.0, 1.0, 1.0, 1.0, 1.0, 1.0, 1.0, 1.0, 1.0, 1.0, 1.0, 1.0, 1.0, 1.0, 1.0, 1.0, 1.0, 1.0, 1.0, 1.0, 1.0, 1.0, 1.0, 1.0, 1.0, 1.0, 1.0, 1.0, 1.0, 1.0, 1.0, 0.0, 1.0, 1.0, 1.0, 1.0, 1.0, 1.0, 1.0, 1.0, 1.0, 1.0, 1.0, 1.0, 1.0, 1.0, 1.0, 1.0, 1.0, 1.0, 1.0, 1.0, 1.0, 1.0, 0, 1.0, 1.0, 1.0, 1.0, 1.0, 1.0, 1.0, 0.0, 1.0, 1.0, 1.0, 1.0, 1.0, 1.0, 0.0, 1.0, 0.4666666666666667, 1.0, 1.0, 1.0, 1.0, 1.0, 1.0, 1.0, 1.0, 1.0, 1.0, 1.0, 1.0, 0, 1.0, 1.0, 0.0, 1.0, 1.0, 1.0, 1.0, 1.0, 1.0, 1.0, 1.0, 1.0, 0.0, 1.0, 1.0, 1.0, 0.0, 1.0, 1.0, 1.0, 1.0, 1.0, 1.0, 1.0, 1.0, 1.0, 1.0, 1.0, 1.0, 1.0, 1.0, 1.0, 1.0, 1.0, 1.0, 1.0, 1.0, 1.0, 1.0, 1.0, 1.0, 1.0, 1.0, 0.0, 0, 1.0, 1.0, 1.0, 1.0, 0.0, 1.0, 1.0, 1.0, 1.0, 1.0, 1.0, 1.0, 1.0, 1.0, 1.0, 1.0, 1.0, 1.0, 1.0, 1.0, 1.0, 1.0, 0, 1.0, 1.0, 1.0, 1.0, 1.0, 1.0, 1.0, 1.0, 1.0, 0.8, 1.0, 1.0, 1.0, 1.0, 1.0, 1.0, 1.0, 1.0, 0.0, 1.0, 1.0, 1.0, 1.0, 0.0, 1.0, 1.0, 1.0, 0.0, 1.0, 0, 1.0, 1.0, 1.0, 1.0, 1.0, 0.0, 1.0, 1.0, 1.0, 1.0, 1.0, 0.3333333333333333, 1.0, 0.3333333333333333, 1.0, 1.0, 0.0, 1.0, 0.0, 1.0, 0.75, 1.0, 1.0, 1.0, 1.0, 1.0, 1.0, 1.0, 1.0, 1.0, 1.0, 1.0, 1.0, 1.0, 1.0, 1.0, 1.0, 0.0, 0.0, 1.0, 1.0, 0.0, 1.0, 1.0, 1.0, 1.0, 1.0, 1.0, 1.0, 1.0, 1.0, 1.0, 1.0, 1.0, 1.0, 1.0, 1.0, 1.0, 0.0, 1.0, 1.0, 1.0, 0.0, 1.0, 1.0, 1.0, 1.0, 1.0, 1.0, 1.0, 0.8, 1.0, 1.0, 1.0, 1.0, 1.0, 1.0, 1.0, 1.0, 1.0, 1.0, 1.0, 0.0, 1.0, 1.0, 1.0, 0, 0.0, 1.0, 0.0, 1.0, 0.75, 1.0, 1.0, 1.0, 1.0, 1.0, 1.0, 1.0, 1.0, 0.875, 1.0, 1.0, 0.0, 1.0, 1.0, 0, 1.0, 1.0, 1.0, 1.0, 1.0, 1.0, 1.0, 1.0, 1.0, 0, 1.0, 1.0, 1.0, 0.0, 1.0, 1.0, 0, 1.0, 1.0, 1.0, 0.0, 1.0, 1.0, 1.0, 1.0, 1.0, 1.0, 1.0, 1.0, 1.0, 1.0, 1.0, 1.0, 0.0, 1.0, 1.0, 0.5714285714285714, 1.0, 0.0, 1.0, 0.0, 1.0, 1.0, 1.0, 1.0, 0, 1.0, 1.0, 1.0, 1.0, 0.0, 1.0, 1.0, 0.0, 1.0, 1.0, 1.0, 1.0, 1.0, 1.0, 1.0, 1.0, 1.0, 0.5, 1.0, 1.0, 1.0, 1.0, 1.0, 0.0, 1.0, 0.0, 1.0, 0, 0.0, 1.0, 1.0, 1.0, 1.0, 1.0, 1.0, 1.0, 1.0, 1.0, 1.0, 1.0, 1.0, 1.0, 1.0, 1.0, 0.0, 1.0, 1.0, 1.0, 1.0, 1.0, 0.0, 0.4666666666666667, 1.0, 1.0, 1.0, 1.0, 1.0, 1.0, 1.0, 1.0, 0.8, 1.0, 0, 1.0, 1.0, 0.8571428571428571, 0.0, 0.0, 1.0, 1.0, 1.0, 1.0, 0.8, 1.0, 1.0, 0.0, 0.0, 1.0, 1.0, 1.0, 0.0, 1.0, 0.8888888888888888, 1.0, 1.0, 1.0, 0.75, 1.0, 1.0, 0.0, 1.0, 1.0, 1.0, 0.0, 1.0, 1.0, 1.0, 1.0, 1.0, 1.0, 1.0, 1.0, 0.0, 1.0, 1.0, 1.0, 1.0, 1.0, 0.0, 0.75, 1.0, 1.0, 1.0, 0.0, 1.0, 0.625, 1.0, 0.0, 1.0, 1.0, 1.0, 1.0, 1.0, 1.0, 1.0, 0.0, 1.0, 0.0, 1.0, 1.0, 1.0, 1.0, 0.5, 1.0, 0.0, 0.0, 0.8888888888888888, 0.6666666666666666, 1.0, 0.6, 1.0, 1.0, 1.0, 0.8, 0.8571428571428571, 1.0, 0.8, 0.9090909090909091, 1.0, 1.0, 1.0, 1.0, 1.0, 0.375, 0.6666666666666666, 0.0, 0.5, 0.0, 0.16666666666666666, 0.0, 1.0, 0.0, 0.0, 0.0, 1.0, 0.3333333333333333, 0.75, 0.0, 1.0, 1.0, 0.0, 1.0, 0.0, 1.0, 1.0, 1.0, 0.5, 1.0, 0.0, 0.0, 1.0, 1.0, 0.0, 1.0, 1.0, 1.0, 1.0, 1.0, 1.0, 1.0, 1.0, 1.0, 1.0, 0.8, 1.0, 0.5, 1.0, 1.0, 0.0, 0.0]\n",
    "\n",
    "acc2 = [1] * count + [0] * (4414 - count2)\n",
    "\n"
   ]
  },
  {
   "cell_type": "code",
   "execution_count": 94,
   "metadata": {},
   "outputs": [
    {
     "name": "stdout",
     "output_type": "stream",
     "text": [
      "Ttest_indResult(statistic=-0.23732368478126342, pvalue=0.812411209893127)\n",
      "Ttest_indResult(statistic=1.7541167152679376, pvalue=0.07944521274929488)\n",
      "Ttest_indResult(statistic=0.013812905355349753, pvalue=0.9889795587340691)\n",
      "Ttest_indResult(statistic=2.090065647174727, pvalue=0.03664045090252648)\n"
     ]
    }
   ],
   "source": [
    "print(stats.ttest_ind(acc2, acc_baseline2))\n",
    "print(stats.ttest_ind(f1_2, f1_baseline2))\n",
    "print(stats.ttest_ind(p2, p_baseline2))\n",
    "print(stats.ttest_ind(r2, r_baseline2))\n"
   ]
  },
  {
   "cell_type": "code",
   "execution_count": 108,
   "metadata": {},
   "outputs": [
    {
     "name": "stdout",
     "output_type": "stream",
     "text": [
      "Ttest_indResult(statistic=1.1512724961299121, pvalue=0.24965140613841263)\n",
      "Ttest_indResult(statistic=2.911567358609392, pvalue=0.0036052067539429408)\n",
      "Ttest_indResult(statistic=-0.19239801946510451, pvalue=0.847434870136437)\n",
      "Ttest_indResult(statistic=6.657578127071553, pvalue=2.949825832696296e-11)\n"
     ]
    }
   ],
   "source": [
    "print(stats.ttest_ind(acc2, acc2_baseline2))\n",
    "print(stats.ttest_ind(f1_2, f1_2_baseline2))\n",
    "print(stats.ttest_ind(p2, p2_baseline2))\n",
    "print(stats.ttest_ind(r2, r2_baseline2))\n"
   ]
  },
  {
   "cell_type": "code",
   "execution_count": null,
   "metadata": {},
   "outputs": [],
   "source": []
  },
  {
   "cell_type": "code",
   "execution_count": 95,
   "metadata": {},
   "outputs": [
    {
     "name": "stdout",
     "output_type": "stream",
     "text": [
      "Full results on validation set\n",
      "Size: 4414\n",
      "Exact match score=0.6063\n",
      "F1-score=0.7892±0.0068\n",
      "Precision=0.7938±0.0071\n",
      "Recall=0.8282±0.0068\n"
     ]
    }
   ],
   "source": [
    "print('Full results on validation set')\n",
    "print(\"Size: \" + str(len(f1_2)))\n",
    "print(f\"Exact match score={count2 / len(f1_2):.4f}\")\n",
    "print(f\"F1-score={np.mean(f1_2):.4f}±{(1.96 * np.std(f1_2))/np.sqrt(len(test_pred)):.4f}\")\n",
    "print(f\"Precision={np.mean(p2):.4f}±{(1.96 * np.std(p2))/np.sqrt(len(test_pred)):.4f}\")\n",
    "print(f\"Recall={np.mean(r2):.4f}±{(1.96 * np.std(r2))/np.sqrt(len(test_pred)):.4f}\")"
   ]
  },
  {
   "cell_type": "code",
   "execution_count": 96,
   "metadata": {},
   "outputs": [
    {
     "name": "stdout",
     "output_type": "stream",
     "text": [
      "Full results on validation set\n",
      "Size: 4414\n",
      "Exact match score=0.6069\n",
      "F1-score=0.7760±0.0068\n",
      "Precision=0.7937±0.0071\n",
      "Recall=0.8126±0.0068\n"
     ]
    }
   ],
   "source": [
    "print('Full results on validation set')\n",
    "print(\"Size: \" + str(len(f1_baseline2)))\n",
    "print(f\"Exact match score={np.mean(acc_baseline2):.4f}\")\n",
    "print(f\"F1-score={np.mean(f1_baseline2):.4f}±{(1.96 * np.std(f1_2))/np.sqrt(len(test_pred)):.4f}\")\n",
    "print(f\"Precision={np.mean(p_baseline2):.4f}±{(1.96 * np.std(p2))/np.sqrt(len(test_pred)):.4f}\")\n",
    "print(f\"Recall={np.mean(r_baseline2):.4f}±{(1.96 * np.std(r2))/np.sqrt(len(test_pred)):.4f}\")"
   ]
  },
  {
   "cell_type": "code",
   "execution_count": 99,
   "metadata": {},
   "outputs": [],
   "source": [
    "data = pd.DataFrame(columns=['algo','accuracy','f1', 'precision',  'recall'])\n",
    "data_list = list(zip(['MILP']*len(acc2), acc2, f1_2, p2, r2))\n",
    "data = data.append(pd.DataFrame(data_list, columns=['algo','accuracy','f1', 'precision',  'recall']),ignore_index=True)\n",
    "\n",
    "data_list = list(zip(['Baseline 1']*len(acc_baseline2), acc_baseline2, f1_baseline2, p_baseline2, r_baseline2))\n",
    "data = data.append(pd.DataFrame(data_list, columns=['algo','accuracy','f1', 'precision',  'recall']),ignore_index=True)\n",
    "\n",
    "data_list = list(zip(['Baseline 2']*len(acc2_baseline2), acc2_baseline2, f1_2_baseline2, p2_baseline2, r2_baseline2))\n",
    "data = data.append(pd.DataFrame(data_list, columns=['algo','accuracy','f1', 'precision',  'recall']),ignore_index=True)\n",
    "\n",
    "\n"
   ]
  },
  {
   "cell_type": "code",
   "execution_count": 110,
   "metadata": {},
   "outputs": [
    {
     "data": {
      "image/png": "[encoded data removed]",
      "text/plain": [
       "<Figure size 432x288 with 1 Axes>"
      ]
     },
     "metadata": {
      "needs_background": "light"
     },
     "output_type": "display_data"
    }
   ],
   "source": [
    "statistic, pvalue = stats.ttest_ind(acc2, acc_baseline2)\n",
    "ax = sns.barplot(x=\"algo\", y=\"accuracy\", data=data, ci=95, capsize=.2)\n",
    "# ax.text(.5,.87,f\"p-value = {pvalue:.4f} ≮ 0.05\",\n",
    "#         horizontalalignment='center',\n",
    "#         transform=ax.transAxes,\n",
    "#        bbox=dict(facecolor='white', edgecolor='none'))\n",
    "ax.grid(color='black', linestyle='--', linewidth=1)\n",
    "ax.set_axisbelow(True)\n",
    "\n",
    "plt.xlabel(\"\")\n",
    "plt.ylabel(\"Exact Match\")\n",
    "# plt.title(\"Box plot of #candidates per cycle and system\")\n",
    "params = {'legend.fontsize': 18,\n",
    "          'axes.labelsize': 20,\n",
    "          'axes.titlesize': 14,\n",
    "          'xtick.labelsize': 20,\n",
    "          'ytick.labelsize': 18,\n",
    "          'axes.titlepad': 25,\n",
    "          'font.size': 24}\n",
    "plt.rcParams.update(params)\n",
    "plt.ylim(0.54, 0.64)\n",
    "plt.savefig('plots/em.eps', bbox_inches = 'tight')\n",
    "plt.show()\n"
   ]
  },
  {
   "cell_type": "code",
   "execution_count": 111,
   "metadata": {},
   "outputs": [
    {
     "data": {
      "image/png": "[encoded data removed]",
      "text/plain": [
       "<Figure size 432x288 with 1 Axes>"
      ]
     },
     "metadata": {
      "needs_background": "light"
     },
     "output_type": "display_data"
    }
   ],
   "source": [
    "statistic, pvalue = stats.ttest_ind(f1_2, f1_baseline2)\n",
    "ax = sns.barplot(x=\"algo\", y=\"f1\", data=data, ci=95, capsize=.2)\n",
    "# ax.text(.5,.87,f\"p-value = {pvalue:.4f} ≮ 0.05\",\n",
    "#         horizontalalignment='center',\n",
    "#         transform=ax.transAxes,\n",
    "#        bbox=dict(facecolor='white', edgecolor='none'))\n",
    "ax.grid(color='black', linestyle='--', linewidth=1)\n",
    "ax.set_axisbelow(True)\n",
    "\n",
    "plt.xlabel(\"\")\n",
    "plt.ylabel(\"F1-Score\")\n",
    "# plt.title(\"Box plot of #candidates per cycle and system\")\n",
    "params = {'legend.fontsize': 18,\n",
    "          'axes.labelsize': 20,\n",
    "          'axes.titlesize': 14,\n",
    "          'xtick.labelsize': 20,\n",
    "          'ytick.labelsize': 18,\n",
    "          'axes.titlepad': 25,\n",
    "          'font.size': 24}\n",
    "plt.rcParams.update(params)\n",
    "plt.ylim(0.72, 0.82)\n",
    "plt.savefig('plots/f1_score.eps', bbox_inches = 'tight')\n",
    "plt.show()\n"
   ]
  },
  {
   "cell_type": "code",
   "execution_count": 112,
   "metadata": {},
   "outputs": [
    {
     "data": {
      "image/png": "[encoded data removed]",
      "text/plain": [
       "<Figure size 432x288 with 1 Axes>"
      ]
     },
     "metadata": {
      "needs_background": "light"
     },
     "output_type": "display_data"
    }
   ],
   "source": [
    "statistic, pvalue = stats.ttest_ind(p2, p_baseline2)\n",
    "ax = sns.barplot(x=\"algo\", y=\"precision\", data=data, ci=95, capsize=.2)\n",
    "# ax.text(.5,.87,f\"p-value = {pvalue:.4f} ≮ 0.05\",\n",
    "#         horizontalalignment='center',\n",
    "#         transform=ax.transAxes,\n",
    "#        bbox=dict(facecolor='white', edgecolor='none'))\n",
    "ax.grid(color='black', linestyle='--', linewidth=1)\n",
    "ax.set_axisbelow(True)\n",
    "plt.xlabel(\"\")\n",
    "plt.ylabel(\"Precision\")\n",
    "# plt.title(\"Box plot of #candidates per cycle and system\")\n",
    "params = {'legend.fontsize': 18,\n",
    "          'axes.labelsize': 20,\n",
    "          'axes.titlesize': 14,\n",
    "          'xtick.labelsize': 20,\n",
    "          'ytick.labelsize': 18,\n",
    "          'axes.titlepad': 25,\n",
    "          'font.size': 24}\n",
    "plt.rcParams.update(params)\n",
    "plt.ylim(0.74, 0.84)\n",
    "plt.savefig('plots/precision.eps', bbox_inches = 'tight')\n",
    "plt.show()\n"
   ]
  },
  {
   "cell_type": "code",
   "execution_count": 113,
   "metadata": {},
   "outputs": [
    {
     "data": {
      "image/png": "[encoded data removed]",
      "text/plain": [
       "<Figure size 432x288 with 1 Axes>"
      ]
     },
     "metadata": {
      "needs_background": "light"
     },
     "output_type": "display_data"
    }
   ],
   "source": [
    "statistic, pvalue = stats.ttest_ind(r2, r_baseline2)\n",
    "ax = sns.barplot(x=\"algo\", y=\"recall\", data=data, ci=95, capsize=.2)\n",
    "# ax.text(.5,.87,f\"p-value = {pvalue:.4f} < 0.05\",\n",
    "#         horizontalalignment='center',\n",
    "#         transform=ax.transAxes,\n",
    "#        bbox=dict(facecolor='white', edgecolor='none'))\n",
    "ax.grid(color='black', linestyle='--', linewidth=1)\n",
    "ax.set_axisbelow(True)\n",
    "plt.xlabel(\"\")\n",
    "plt.ylabel(\"Recall\")\n",
    "# plt.title(\"Box plot of #candidates per cycle and system\")\n",
    "params = {'legend.fontsize': 18,\n",
    "          'axes.labelsize': 20,\n",
    "          'axes.titlesize': 14,\n",
    "          'xtick.labelsize': 20,\n",
    "          'ytick.labelsize': 18,\n",
    "          'axes.titlepad': 25,\n",
    "          'font.size': 24}\n",
    "plt.rcParams.update(params)\n",
    "plt.ylim(0.76, 0.86)\n",
    "plt.savefig('plots/recall.eps', bbox_inches = 'tight')\n",
    "plt.show()\n"
   ]
  },
  {
   "cell_type": "code",
   "execution_count": 32,
   "metadata": {},
   "outputs": [
    {
     "data": {
      "text/plain": [
       "300"
      ]
     },
     "execution_count": 32,
     "metadata": {},
     "output_type": "execute_result"
    }
   ],
   "source": [
    "len(eval_pred[0])\n"
   ]
  },
  {
   "cell_type": "code",
   "execution_count": 68,
   "metadata": {},
   "outputs": [
    {
     "name": "stdout",
     "output_type": "stream",
     "text": [
      "(-1, -1)\n"
     ]
    }
   ],
   "source": [
    "print(baseline(eval_pred[1]))"
   ]
  },
  {
   "cell_type": "code",
   "execution_count": 65,
   "metadata": {},
   "outputs": [],
   "source": []
  },
  {
   "cell_type": "code",
   "execution_count": null,
   "metadata": {},
   "outputs": [],
   "source": []
  }
 ],
 "metadata": {
  "kernelspec": {
   "display_name": "Python 3",
   "language": "python",
   "name": "python3"
  },
  "language_info": {
   "codemirror_mode": {
    "name": "ipython",
    "version": 3
   },
   "file_extension": ".py",
   "mimetype": "text/x-python",
   "name": "python",
   "nbconvert_exporter": "python",
   "pygments_lexer": "ipython3",
   "version": "3.8.10"
  },
  "latex_envs": {
   "LaTeX_envs_menu_present": true,
   "autoclose": false,
   "autocomplete": true,
   "bibliofile": "biblio.bib",
   "cite_by": "apalike",
   "current_citInitial": 1,
   "eqLabelWithNumbers": true,
   "eqNumInitial": 1,
   "hotkeys": {
    "equation": "Ctrl-E",
    "itemize": "Ctrl-I"
   },
   "labels_anchors": false,
   "latex_user_defs": false,
   "report_style_numbering": false,
   "user_envs_cfg": false
  },
  "toc": {
   "base_numbering": 1,
   "nav_menu": {},
   "number_sections": true,
   "sideBar": true,
   "skip_h1_title": false,
   "title_cell": "Table of Contents",
   "title_sidebar": "Contents",
   "toc_cell": false,
   "toc_position": {},
   "toc_section_display": true,
   "toc_window_display": false
  }
 },
 "nbformat": 4,
 "nbformat_minor": 2
}
