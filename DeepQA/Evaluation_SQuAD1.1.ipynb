{
 "cells": [
  {
   "cell_type": "code",
   "execution_count": 1,
   "id": "yellow-illinois",
   "metadata": {},
   "outputs": [],
   "source": [
    "import json\n",
    "import os\n",
    "import string\n",
    "import re\n",
    "from tokenizers import BertWordPieceTokenizer\n",
    "from transformers import BertTokenizer\n",
    "from preprocessing.MILP_Algorithm import select_LP_optimal_subsequence\n",
    "import numpy as np\n",
    "from sklearn import tree\n",
    "from tqdm import tqdm\n",
    "import math\n",
    "import pandas as pd\n",
    "import seaborn as sns\n",
    "import matplotlib.pyplot as plt\n",
    "import itertools, operator\n",
    "from sklearn.metrics import accuracy_score\n",
    "from sklearn.linear_model import LogisticRegression\n",
    "from scipy import stats\n"
   ]
  },
  {
   "cell_type": "markdown",
   "id": "qualified-appliance",
   "metadata": {},
   "source": [
    "# Read the data"
   ]
  },
  {
   "cell_type": "code",
   "execution_count": 2,
   "id": "french-transportation",
   "metadata": {},
   "outputs": [],
   "source": [
    "eval_pred = open(\"data/milp_SQuAD1.1_eval_pred.txt\", \"r\")\n",
    "test_pred = open(\"data/milp_SQuAD1.1_test_pred.txt\", \"r\")\n",
    "y2_eval = open(\"data/milp_SQuAD1.1_y2_eval.txt\", \"r\")\n",
    "y3_eval = open(\"data/milp_SQuAD1.1_y3_eval.txt\", \"r\")\n",
    "y2_test = open(\"data/milp_SQuAD1.1_y2_test.txt\", \"r\")\n",
    "y3_test = open(\"data/milp_SQuAD1.1_y3_test.txt\", \"r\")\n",
    "token_type_eval = open(\"data/milp_SQuAD1.1_token_type_eval.txt\", \"r\")\n",
    "token_type_test = open(\"data/milp_SQuAD1.1_token_type_test.txt\", \"r\")\n",
    "input_ids_test = open(\"data/milp_SQuAD1.1_input_ids_test.txt\", \"r\")\n",
    "\n",
    "eval_pred  = json.loads(eval_pred.read())\n",
    "test_pred  = json.loads(test_pred.read())\n",
    "y2_eval  = json.loads(y2_eval.read())\n",
    "y3_eval  = json.loads(y3_eval.read())\n",
    "y2_test  = json.loads(y2_test.read())\n",
    "y3_test  = json.loads(y3_test.read())\n",
    "token_type_eval  = json.loads(token_type_eval.read())\n",
    "token_type_test  = json.loads(token_type_test.read())\n",
    "input_ids_test  = json.loads(input_ids_test.read())\n",
    "\n",
    "eval_pred = [[0 if math.isnan(y) else y for y in x] for x in eval_pred]\n",
    "test_pred = [[0 if math.isnan(y) else y for y in x] for x in test_pred]\n"
   ]
  },
  {
   "cell_type": "code",
   "execution_count": 3,
   "id": "renewable-float",
   "metadata": {},
   "outputs": [],
   "source": [
    "# set max length value\n",
    "max_len = 300\n",
    "# Create the tokenizer\n",
    "save_path = os.path.expanduser(\"~\") + \"/.bert_base_uncased/\"\n",
    "if not os.path.exists(save_path):\n",
    "    slow_tokenizer = BertTokenizer.from_pretrained(\"bert-base-uncased\")\n",
    "    os.makedirs(save_path)\n",
    "    slow_tokenizer.save_pretrained(save_path)\n",
    "tokenizer = BertWordPieceTokenizer(save_path + \"vocab.txt\", lowercase=True)\n"
   ]
  },
  {
   "cell_type": "code",
   "execution_count": 60,
   "id": "strange-summary",
   "metadata": {},
   "outputs": [],
   "source": [
    "def normalize_text(text):\n",
    "    text = text.lower()\n",
    "\n",
    "    # Remove punctuations\n",
    "    exclude = set(string.punctuation)\n",
    "    text = \"\".join(ch for ch in text if ch not in exclude)\n",
    "\n",
    "    # Remove articles\n",
    "    regex = re.compile(r\"\\b(a|an|the)\\b\", re.UNICODE)\n",
    "    text = re.sub(regex, \" \", text)\n",
    "\n",
    "    # Remove extra white space\n",
    "    text = \" \".join(text.split())\n",
    "    return text\n",
    "\n"
   ]
  },
  {
   "cell_type": "code",
   "execution_count": 59,
   "id": "nominated-heavy",
   "metadata": {},
   "outputs": [],
   "source": [
    "def get_performance(s_pred, e_pred, s_ans, e_ans):       \n",
    "    prediction = input_ids_test[idx][s_pred:e_pred+1]\n",
    "    ans = input_ids_test[idx][s_ans:e_ans+1]\n",
    "    normalized_pred_ans = normalize_text(tokenizer.decode(prediction))\n",
    "    normalized_true_ans = normalize_text(tokenizer.decode(ans))\n",
    "    correct = 0\n",
    "    if normalized_pred_ans == normalized_true_ans:\n",
    "        correct = 1\n",
    "    prediction = set(normalized_pred_ans.split(' '))\n",
    "    true = set(normalized_true_ans.split(' '))\n",
    "    inter = set(prediction & true)\n",
    "    p = len(inter) / len(prediction)\n",
    "    r = len(inter) / len(true)  \n",
    "    f1 = 0\n",
    "    if (p+r) !=0:\n",
    "        f1 = 2*p*r / (p+r)        \n",
    "    return correct, f1, p, r\n",
    "            \n",
    "        "
   ]
  },
  {
   "cell_type": "markdown",
   "id": "afraid-massage",
   "metadata": {},
   "source": [
    "# MILP\n",
    "## Using a Decision tree to find the answerability threshold"
   ]
  },
  {
   "cell_type": "code",
   "execution_count": 4,
   "id": "controlled-server",
   "metadata": {},
   "outputs": [
    {
     "name": "stderr",
     "output_type": "stream",
     "text": [
      "\r",
      "  0%|          | 0/4517 [00:00<?, ?it/s]"
     ]
    },
    {
     "name": "stdout",
     "output_type": "stream",
     "text": [
      "Academic license - for non-commercial use only - expires 2021-07-22\n",
      "Using license file /home/reda/gurobi.lic\n"
     ]
    },
    {
     "name": "stderr",
     "output_type": "stream",
     "text": [
      "100%|██████████| 4517/4517 [21:34<00:00,  3.49it/s] \n"
     ]
    }
   ],
   "source": [
    "eval_pred_start_end = []\n",
    "with tqdm(total=len(eval_pred)) as pbar:\n",
    "    for idx, probabilities in enumerate(eval_pred):\n",
    "        start_context_idx = token_type_eval[idx].index(1)\n",
    "        end_context_idx = len(token_type_eval[idx]) - 1 - token_type_eval[idx][::-1].index(1)\n",
    "        s_pred,e_pred,_ = select_LP_optimal_subsequence(probabilities[start_context_idx:end_context_idx+1]) # do not consider element at index 0        \n",
    "        eval_pred_start_end.append([s_pred+start_context_idx, e_pred+start_context_idx])  \n",
    "        pbar.update(1)\n"
   ]
  },
  {
   "cell_type": "code",
   "execution_count": 5,
   "id": "moral-praise",
   "metadata": {},
   "outputs": [
    {
     "name": "stderr",
     "output_type": "stream",
     "text": [
      "100%|██████████| 10400/10400 [54:50<00:00,  3.16it/s] \n"
     ]
    }
   ],
   "source": [
    "test_pred_start_end = []\n",
    "with tqdm(total=len(test_pred)) as pbar:\n",
    "    for idx, probabilities in enumerate(test_pred):\n",
    "        start_context_idx = token_type_test[idx].index(1)\n",
    "        end_context_idx = len(token_type_test[idx]) - 1 - token_type_test[idx][::-1].index(1)\n",
    "        s_pred, e_pred,_ = select_LP_optimal_subsequence(probabilities[start_context_idx:end_context_idx+1]) # do not consider element at index 0        \n",
    "        test_pred_start_end.append([s_pred+start_context_idx, e_pred+start_context_idx])  \n",
    "        pbar.update(1)\n"
   ]
  },
  {
   "cell_type": "markdown",
   "id": "precious-security",
   "metadata": {},
   "source": [
    "## Compute performance"
   ]
  },
  {
   "cell_type": "code",
   "execution_count": 8,
   "id": "qualified-bones",
   "metadata": {},
   "outputs": [],
   "source": []
  },
  {
   "cell_type": "markdown",
   "id": "powerful-percentage",
   "metadata": {},
   "source": [
    "# MILP"
   ]
  },
  {
   "cell_type": "code",
   "execution_count": 10,
   "id": "rubber-rally",
   "metadata": {},
   "outputs": [
    {
     "name": "stderr",
     "output_type": "stream",
     "text": [
      "[EM=0.638±0.009|F1=0.805±0.006|P=0.814±0.007|R=0.849±0.006]: 100%|██████████| 10400/10400 [00:49<00:00, 211.70it/s]\n"
     ]
    }
   ],
   "source": [
    "count_MILP = []\n",
    "p_MILP = []\n",
    "r_MILP = []\n",
    "f1_MILP = []\n",
    "\n",
    "with tqdm(total=len(test_pred_start_end)) as pbar:\n",
    "    for idx, s_pred_e_pred in enumerate(test_pred_start_end):\n",
    "        # Prediction\n",
    "        s_pred = s_pred_e_pred[0]\n",
    "        e_pred = s_pred_e_pred[1]  \n",
    "        # True answer\n",
    "        s_ans = y3_test[idx][0]\n",
    "        e_ans = y3_test[idx][-1]        \n",
    "        correct, f1, p, r = get_performance(s_pred, e_pred, s_ans, e_ans)\n",
    "        count_MILP.append(correct)\n",
    "        f1_MILP.append(f1)\n",
    "        p_MILP.append(p)\n",
    "        r_MILP.append(r)        \n",
    "        pbar.set_description(f\"[EM={np.mean(count_MILP):.3f}±{(1.96 * np.std(count_MILP))/np.sqrt(len(count_MILP)):.3f}|F1={np.mean(f1_MILP):.3f}±{(1.96 * np.std(f1_MILP))/np.sqrt(len(f1_MILP)):.3f}|P={np.mean(p_MILP):.3f}±{(1.96 * np.std(p_MILP))/np.sqrt(len(p_MILP)):.3f}|R={np.mean(r_MILP):.3f}±{(1.96 * np.std(r_MILP))/np.sqrt(len(r_MILP)):.3f}]\")    \n",
    "        pbar.update(1)\n",
    "        "
   ]
  },
  {
   "cell_type": "markdown",
   "id": "selective-fifty",
   "metadata": {},
   "source": [
    "# Baseline 1\n",
    "## Using a Decision tree to find the answerability threshold"
   ]
  },
  {
   "cell_type": "code",
   "execution_count": 11,
   "id": "technological-drilling",
   "metadata": {},
   "outputs": [],
   "source": [
    "eval_pred_start_baseline1 = open(\"data/Baseline1_SQuAD1.1_eval_pred_start.txt\", \"r\")\n",
    "eval_pred_end_baseline1 = open(\"data/Baseline1_SQuAD1.1_eval_pred_end.txt\", \"r\")\n",
    "test_pred_start_baseline1 = open(\"data/Baseline1_SQuAD1.1_test_pred_start.txt\", \"r\")\n",
    "test_pred_end_baseline1 = open(\"data/Baseline1_SQuAD1.1_test_pred_end.txt\", \"r\")\n",
    "y2_eval_baseline1 = open(\"data/Baseline1_SQuAD1.1_y2_eval.txt\", \"r\")\n",
    "y3_eval_baseline1 = open(\"data/Baseline1_SQuAD1.1_y3_eval.txt\", \"r\")\n",
    "y2_test_baseline1 = open(\"data/Baseline1_SQuAD1.1_y2_test.txt\", \"r\")\n",
    "y3_test_baseline1 = open(\"data/Baseline1_SQuAD1.1_y3_test.txt\", \"r\")\n",
    "token_type_eval_baseline1 = open(\"data/Baseline1_SQuAD1.1_token_type_eval.txt\", \"r\")\n",
    "token_type_test_baseline1 = open(\"data/Baseline1_SQuAD1.1_token_type_test.txt\", \"r\")\n",
    "input_ids_test_baseline1 = open(\"data/Baseline1_SQuAD1.1_input_ids_test.txt\", \"r\")\n",
    "\n",
    "eval_pred_start_baseline1  = json.loads(eval_pred_start_baseline1.read())\n",
    "eval_pred_end_baseline1  = json.loads(eval_pred_end_baseline1.read())\n",
    "test_pred_start_baseline1  = json.loads(test_pred_start_baseline1.read())\n",
    "test_pred_end_baseline1  = json.loads(test_pred_end_baseline1.read())\n",
    "y2_eval_baseline1  = json.loads(y2_eval_baseline1.read())\n",
    "y3_eval_baseline1  = json.loads(y3_eval_baseline1.read())\n",
    "y2_test_baseline1  = json.loads(y2_test_baseline1.read())\n",
    "y3_test_baseline1  = json.loads(y3_test_baseline1.read())\n",
    "\n",
    "\n",
    "token_type_eval_baseline1  = json.loads(token_type_eval_baseline1.read())\n",
    "token_type_test_baseline1  = json.loads(token_type_test_baseline1.read())\n",
    "input_ids_test_baseline1  = json.loads(input_ids_test_baseline1.read())\n",
    "\n",
    "eval_pred_start_baseline1 = [[0 if math.isnan(y) else y for y in x] for x in eval_pred_start_baseline1]\n",
    "eval_pred_end_baseline1 = [[0 if math.isnan(y) else y for y in x] for x in eval_pred_end_baseline1]\n",
    "test_pred_start_baseline1 = [[0 if math.isnan(y) else y for y in x] for x in test_pred_start_baseline1]\n",
    "test_pred_end_baseline1 = [[0 if math.isnan(y) else y for y in x] for x in test_pred_end_baseline1]\n"
   ]
  },
  {
   "cell_type": "code",
   "execution_count": null,
   "id": "varied-criticism",
   "metadata": {},
   "outputs": [],
   "source": [
    "count_Baseline1 = []\n",
    "p_Baseline1 = []\n",
    "r_Baseline1 = []\n",
    "f1_Baseline1 = []\n",
    "\n",
    "with tqdm(total=len(test_pred_start_baseline1)) as pbar:\n",
    "    for idx, (start, end) in enumerate(zip(test_pred_start_baseline1, test_pred_end_baseline1)): \n",
    "        start_context_idx = token_type_test_baseline1[idx].index(1)\n",
    "        end_context_idx = len(token_type_test_baseline1[idx]) - 1 - token_type_test_baseline1[idx][::-1].index(1)\n",
    "        # Prediction\n",
    "        s_pred = np.argmax(start[start_context_idx:end_context_idx+1]) + start_context_idx\n",
    "        e_pred = np.argmax(end[start_context_idx:end_context_idx+1]) + start_context_idx  \n",
    "        # True answer\n",
    "        s_ans = y3_test[idx][0]\n",
    "        e_ans = y3_test[idx][-1]\n",
    "        correct, f1, p, r = get_performance(s_pred, e_pred, s_ans, e_ans)        \n",
    "        count_Baseline1.append(correct)\n",
    "        f1_Baseline1.append(f1)\n",
    "        p_Baseline1.append(p)\n",
    "        r_Baseline1.append(r)        \n",
    "        pbar.set_description(f\"[EM={np.mean(count_Baseline1):.3f}±{(1.96 * np.std(count_Baseline1))/np.sqrt(len(count_Baseline1)):.3f}|F1={np.mean(f1_Baseline1):.3f}±{(1.96 * np.std(f1_Baseline1))/np.sqrt(len(f1_Baseline1)):.3f}|P={np.mean(p_Baseline1):.3f}±{(1.96 * np.std(p_Baseline1))/np.sqrt(len(p_Baseline1)):.3f}|R={np.mean(r_Baseline1):.3f}±{(1.96 * np.std(r_Baseline1))/np.sqrt(len(r_Baseline1)):.3f}]\")\n",
    "        pbar.update(1)\n",
    "    \n"
   ]
  },
  {
   "cell_type": "code",
   "execution_count": 57,
   "id": "governmental-crisis",
   "metadata": {},
   "outputs": [
    {
     "name": "stderr",
     "output_type": "stream",
     "text": [
      "[EM=0.332±0.009|F1=0.691±0.006|P=0.822±0.007|R=0.665±0.007]: 100%|██████████| 10400/10400 [00:49<00:00, 209.20it/s]\n"
     ]
    }
   ],
   "source": [
    "count_Baseline1 = []\n",
    "p_Baseline1 = []\n",
    "r_Baseline1 = []\n",
    "f1_Baseline1 = []\n",
    "\n",
    "with tqdm(total=len(test_pred_start_baseline1)) as pbar:\n",
    "    for idx, (start, end) in enumerate(zip(test_pred_start_baseline1, test_pred_end_baseline1)): \n",
    "        start_context_idx = token_type_test_baseline1[idx].index(1)\n",
    "        end_context_idx = len(token_type_test_baseline1[idx]) - 1 - token_type_test_baseline1[idx][::-1].index(1)        \n",
    "        s_pred = np.argmax(start[start_context_idx:end_context_idx+1]) + start_context_idx\n",
    "        e_pred = np.argmax(end[start_context_idx:end_context_idx+1]) + start_context_idx         \n",
    "        prediction = input_ids_test_baseline1[idx][s_pred:e_pred+1]            \n",
    "        ans = input_ids_test_baseline1[idx][y3_test[idx][0]:y3_test[idx][-1]+1]            \n",
    "        normalized_pred_ans = normalize_text(tokenizer.decode(prediction))\n",
    "        normalized_true_ans = normalize_text(tokenizer.decode(ans))            \n",
    "        prediction = set(normalized_pred_ans.split(' '))\n",
    "        true = set(normalized_true_ans.split(' '))\n",
    "        inter = list(prediction & true)\n",
    "        if len(prediction) == 0:\n",
    "            p_Baseline1.append(0)\n",
    "            r_Baseline1.append(0)\n",
    "            f1_Baseline1.append(0)\n",
    "            count_Baseline1.append(0)\n",
    "            pbar.update(1)\n",
    "            continue\n",
    "        p_ = len(inter) / len(prediction)\n",
    "        r_ = len(inter) / len(ans)\n",
    "        f1_ = 0\n",
    "        if (p_+r_) !=0:\n",
    "            f1_ = 2*p_*r_ / (p_+r_)\n",
    "        if f1_ == 1:\n",
    "            count_Baseline1.append(1)\n",
    "        else:\n",
    "            count_Baseline1.append(0)\n",
    "        p_Baseline1.append(p_)\n",
    "        r_Baseline1.append(r_)\n",
    "        f1_Baseline1.append(f1_)\n",
    "        pbar.set_description(f\"[EM={np.mean(count_Baseline1):.3f}±{(1.96 * np.std(count_Baseline1))/np.sqrt(len(count_Baseline1)):.3f}|F1={np.mean(f1_Baseline1):.3f}±{(1.96 * np.std(f1_Baseline1))/np.sqrt(len(f1_Baseline1)):.3f}|P={np.mean(p_Baseline1):.3f}±{(1.96 * np.std(p_Baseline1))/np.sqrt(len(p_Baseline1)):.3f}|R={np.mean(r_Baseline1):.3f}±{(1.96 * np.std(r_Baseline1))/np.sqrt(len(r_Baseline1)):.3f}]\")\n",
    "        pbar.update(1)\n",
    "    \n"
   ]
  },
  {
   "cell_type": "markdown",
   "id": "stable-butterfly",
   "metadata": {},
   "source": [
    "# Baseline 2"
   ]
  },
  {
   "cell_type": "code",
   "execution_count": 13,
   "id": "combined-headset",
   "metadata": {},
   "outputs": [],
   "source": [
    "def baseline2(A):\n",
    "    B = np.where(np.array(A) > 0.5, 1, 0)\n",
    "    if np.sum(B) == 0:\n",
    "        return -1, -1\n",
    "    else:\n",
    "        r = max((list(y) for (x,y) in itertools.groupby((enumerate(B)),operator.itemgetter(1)) if x == 1), key=len)\n",
    "        return r[0][0], r[-1][0]\n",
    "    \n",
    "    "
   ]
  },
  {
   "cell_type": "code",
   "execution_count": null,
   "id": "working-inquiry",
   "metadata": {},
   "outputs": [],
   "source": [
    "count_Baseline2 = []\n",
    "p_Baseline2 = []\n",
    "r_Baseline2 = []\n",
    "f1_Baseline2 = []\n",
    "\n",
    "\n",
    "with tqdm(total=len(test_pred_start_end)) as pbar:\n",
    "    for idx, s_pred_e_pred in enumerate(test_pred_start_end):\n",
    "        start_context_idx = token_type_test_baseline1[idx].index(1)\n",
    "        end_context_idx = len(token_type_test_baseline1[idx]) - 1 - token_type_test_baseline1[idx][::-1].index(1)\n",
    "        probabilities = test_pred[idx][start_context_idx:end_context_idx+1]   \n",
    "        s_pred, e_pred = baseline2(probabilities)\n",
    "        # Prediction\n",
    "        s_pred = s_pred + start_context_idx\n",
    "        e_pred = e_pred + start_context_idx\n",
    "        # True answer\n",
    "        s_ans = y3_test[idx][0]\n",
    "        e_ans = y3_test[idx][-1]        \n",
    "        correct, f1, p, r = get_performance(s_pred, e_pred, s_ans, e_ans)    \n",
    "        \n",
    "        count_Baseline2.append(correct)\n",
    "        p_Baseline2.append(p)\n",
    "        r_Baseline2.append(r)\n",
    "        f1_Baseline2.append(f1)\n",
    "        pbar.set_description(f\"[EM={np.mean(count_Baseline2):.3f}±{(1.96 * np.std(count_Baseline2))/np.sqrt(len(count_Baseline2)):.3f}|F1={np.mean(f1_Baseline2):.3f}±{(1.96 * np.std(f1_Baseline2))/np.sqrt(len(f1_Baseline2)):.3f}|P={np.mean(p_Baseline2):.3f}±{(1.96 * np.std(p_Baseline2))/np.sqrt(len(p_Baseline2)):.3f}|R={np.mean(r_Baseline2):.3f}±{(1.96 * np.std(r_Baseline2))/np.sqrt(len(r_Baseline2)):.3f}]\")\n",
    "        pbar.update(1)\n",
    "\n"
   ]
  },
  {
   "cell_type": "code",
   "execution_count": 56,
   "id": "ordinary-sender",
   "metadata": {},
   "outputs": [
    {
     "name": "stderr",
     "output_type": "stream",
     "text": [
      "[EM=0.317±0.009|F1=0.664±0.007|P=0.807±0.007|R=0.618±0.007]: 100%|██████████| 10400/10400 [00:48<00:00, 212.45it/s]\n"
     ]
    }
   ],
   "source": [
    "count_Baseline2 = []\n",
    "p_Baseline2 = []\n",
    "r_Baseline2 = []\n",
    "f1_Baseline2 = []\n",
    "\n",
    "\n",
    "with tqdm(total=len(test_pred_start_end)) as pbar:\n",
    "    for idx, s_pred_e_pred in enumerate(test_pred_start_end):\n",
    "        start_context_idx = token_type_test_baseline1[idx].index(1)\n",
    "        end_context_idx = len(token_type_test_baseline1[idx]) - 1 - token_type_test_baseline1[idx][::-1].index(1)\n",
    "        probabilities = test_pred[idx][start_context_idx:end_context_idx+1]   \n",
    "        s_pred, e_pred = baseline2(probabilities)\n",
    "            \n",
    "        s_pred = s_pred + start_context_idx\n",
    "        e_pred = e_pred + start_context_idx\n",
    "\n",
    "        prediction = input_ids_test_baseline1[idx][s_pred:e_pred+1]            \n",
    "        ans = input_ids_test_baseline1[idx][y3_test[idx][0]:y3_test[idx][-1]+1]            \n",
    "        normalized_pred_ans = normalize_text(tokenizer.decode(prediction))\n",
    "        normalized_true_ans = normalize_text(tokenizer.decode(ans))            \n",
    "        prediction = set(normalized_pred_ans.split(' '))\n",
    "        true = set(normalized_true_ans.split(' '))\n",
    "        inter = list(prediction & true)\n",
    "        if len(prediction) == 0:\n",
    "            p_Baseline2.append(0)\n",
    "            r_Baseline2.append(0)\n",
    "            f1_Baseline2.append(0)\n",
    "            count_Baseline2.append(0)\n",
    "            pbar.update(1)\n",
    "            continue\n",
    "        p_ = len(inter) / len(prediction)\n",
    "        r_ = len(inter) / len(ans)\n",
    "        f1_ = 0\n",
    "        if (p_+r_) !=0:\n",
    "            f1_ = 2*p_*r_ / (p_+r_)\n",
    "        if f1_ == 1:\n",
    "            count_Baseline2.append(1)\n",
    "        else:\n",
    "            count_Baseline2.append(0)\n",
    "        p_Baseline2.append(p_)\n",
    "        r_Baseline2.append(r_)\n",
    "        f1_Baseline2.append(f1_)\n",
    "        pbar.set_description(f\"[EM={np.mean(count_Baseline2):.3f}±{(1.96 * np.std(count_Baseline2))/np.sqrt(len(count_Baseline2)):.3f}|F1={np.mean(f1_Baseline2):.3f}±{(1.96 * np.std(f1_Baseline2))/np.sqrt(len(f1_Baseline2)):.3f}|P={np.mean(p_Baseline2):.3f}±{(1.96 * np.std(p_Baseline2))/np.sqrt(len(p_Baseline2)):.3f}|R={np.mean(r_Baseline2):.3f}±{(1.96 * np.std(r_Baseline2))/np.sqrt(len(r_Baseline2)):.3f}]\")\n",
    "        pbar.update(1)\n",
    "\n"
   ]
  },
  {
   "cell_type": "markdown",
   "id": "decent-unemployment",
   "metadata": {},
   "source": [
    "# Answer Pointer BM"
   ]
  },
  {
   "cell_type": "code",
   "execution_count": 31,
   "id": "jewish-development",
   "metadata": {},
   "outputs": [],
   "source": [
    "eval_pred_answer_pointer_BM = open(\"data/Answer_Pointer_BM_SQuAD1.1_eval_pred.txt\", \"r\")\n",
    "test_pred_answer_pointer_BM = open(\"data/Answer_Pointer_BM_SQuAD1.1_test_pred.txt\", \"r\")\n",
    "y2_eval_answer_pointer_BM = open(\"data/Answer_Pointer_BM_SQuAD1.1_y2_eval.txt\", \"r\")\n",
    "y3_eval_answer_pointer_BM = open(\"data/Answer_Pointer_BM_SQuAD1.1_y3_eval.txt\", \"r\")\n",
    "y2_test_answer_pointer_BM = open(\"data/Answer_Pointer_BM_SQuAD1.1_y2_test.txt\", \"r\")\n",
    "y3_test_answer_pointer_BM = open(\"data/Answer_Pointer_BM_SQuAD1.1_y3_test.txt\", \"r\")\n",
    "token_type_eval_answer_pointer_BM = open(\"data/Answer_Pointer_BM_SQuAD1.1_token_type_eval.txt\", \"r\")\n",
    "token_type_test_answer_pointer_BM = open(\"data/Answer_Pointer_BM_SQuAD1.1_token_type_test.txt\", \"r\")\n",
    "input_ids_test_answer_pointer_BM = open(\"data/Answer_Pointer_BM_SQuAD1.1_input_ids_test.txt\", \"r\")\n",
    "\n",
    "eval_pred_answer_pointer_BM  = json.loads(eval_pred_answer_pointer_BM.read())\n",
    "test_pred_answer_pointer_BM  = json.loads(test_pred_answer_pointer_BM.read())\n",
    "y2_eval_answer_pointer_BM  = json.loads(y2_eval_answer_pointer_BM.read())\n",
    "y3_eval_answer_pointer_BM  = json.loads(y3_eval_answer_pointer_BM.read())\n",
    "y2_test_answer_pointer_BM  = json.loads(y2_test_answer_pointer_BM.read())\n",
    "y3_test_answer_pointer_BM  = json.loads(y3_test_answer_pointer_BM.read())\n",
    "\n",
    "\n",
    "token_type_eval_answer_pointer_BM  = json.loads(token_type_eval_answer_pointer_BM.read())\n",
    "token_type_test_answer_pointer_BM  = json.loads(token_type_test_answer_pointer_BM.read())\n",
    "input_ids_test_answer_pointer_BM  = json.loads(input_ids_test_answer_pointer_BM.read())\n",
    "\n",
    "eval_pred_answer_pointer_BM = [[[0 if math.isnan(z) else z for z in y] for y in x] for x in eval_pred_answer_pointer_BM]\n",
    "test_pred_answer_pointer_BM = [[[0 if math.isnan(z) else z for z in y] for y in x] for x in test_pred_answer_pointer_BM]\n"
   ]
  },
  {
   "cell_type": "code",
   "execution_count": 55,
   "id": "frozen-editing",
   "metadata": {},
   "outputs": [
    {
     "name": "stderr",
     "output_type": "stream",
     "text": [
      "[EM=0.001±0.000|F1=0.011±0.001|P=0.008±0.001|R=0.055±0.004]: 100%|██████████| 10400/10400 [00:53<00:00, 194.84it/s]\n"
     ]
    }
   ],
   "source": [
    "count_Ans_Pt_BM = []\n",
    "p_Ans_Pt_BM = []\n",
    "r_Ans_Pt_BM = []\n",
    "f1_Ans_Pt_BM = []\n",
    "\n",
    "with tqdm(total=len(test_pred_start_end)) as pbar:\n",
    "    for idx, (start, end) in enumerate(test_pred_answer_pointer_BM):\n",
    "        start_context_idx = token_type_test_answer_pointer_BM[idx].index(1)\n",
    "        end_context_idx = len(token_type_test_answer_pointer_BM[idx]) - 1 - token_type_test_answer_pointer_BM[idx][::-1].index(1)\n",
    "        # Prediction\n",
    "        s_pred = np.argmax(start[start_context_idx:end_context_idx+1]) + start_context_idx\n",
    "        e_pred = np.argmax(end[start_context_idx:end_context_idx+1]) + start_context_idx\n",
    "        # True answer\n",
    "        s_ans = y3_test[idx][0]\n",
    "        e_ans = y3_test[idx][-1]\n",
    "        \n",
    "        correct, f1, p, r = get_performance(s_pred, e_pred, s_ans, e_ans)\n",
    "        \n",
    "        count_Ans_Pt_BM.append(correct)\n",
    "        p_Ans_Pt_BM.append(p)\n",
    "        r_Ans_Pt_BM.append(r)\n",
    "        f1_Ans_Pt_BM.append(f1)\n",
    "        pbar.set_description(f\"[EM={np.mean(count_Ans_Pt_BM):.3f}±{(1.96 * np.std(count_Ans_Pt_BM))/np.sqrt(len(count_Ans_Pt_BM)):.3f}|F1={np.mean(f1_Ans_Pt_BM):.3f}±{(1.96 * np.std(f1_Ans_Pt_BM))/np.sqrt(len(f1_Ans_Pt_BM)):.3f}|P={np.mean(p_Ans_Pt_BM):.3f}±{(1.96 * np.std(p_Ans_Pt_BM))/np.sqrt(len(p_Ans_Pt_BM)):.3f}|R={np.mean(r_Ans_Pt_BM):.3f}±{(1.96 * np.std(r_Ans_Pt_BM))/np.sqrt(len(r_Ans_Pt_BM)):.3f}]\")\n",
    "        pbar.update(1)\n"
   ]
  },
  {
   "cell_type": "markdown",
   "id": "attached-cedar",
   "metadata": {},
   "source": [
    "# Answer Pointer SM"
   ]
  },
  {
   "cell_type": "code",
   "execution_count": 22,
   "id": "incident-minnesota",
   "metadata": {},
   "outputs": [],
   "source": [
    "eval_pred_answer_pointer_SM = open(\"data/Answer_Pointer_SM_SQuAD1.1_eval_pred.txt\", \"r\")\n",
    "test_pred_answer_pointer_SM = open(\"data/Answer_Pointer_SM_SQuAD1.1_test_pred.txt\", \"r\")\n",
    "y2_eval_answer_pointer_SM = open(\"data/Answer_Pointer_SM_SQuAD1.1_y2_eval.txt\", \"r\")\n",
    "y3_eval_answer_pointer_SM = open(\"data/Answer_Pointer_SM_SQuAD1.1_y3_eval.txt\", \"r\")\n",
    "y2_test_answer_pointer_SM = open(\"data/Answer_Pointer_SM_SQuAD1.1_y2_test.txt\", \"r\")\n",
    "y3_test_answer_pointer_SM = open(\"data/Answer_Pointer_SM_SQuAD1.1_y3_test.txt\", \"r\")\n",
    "token_type_eval_answer_pointer_SM = open(\"data/Answer_Pointer_SM_SQuAD1.1_token_type_eval.txt\", \"r\")\n",
    "token_type_test_answer_pointer_SM = open(\"data/Answer_Pointer_SM_SQuAD1.1_token_type_test.txt\", \"r\")\n",
    "input_ids_test_answer_pointer_SM = open(\"data/Answer_Pointer_SM_SQuAD1.1_input_ids_test.txt\", \"r\")\n",
    "\n",
    "eval_pred_answer_pointer_SM  = json.loads(eval_pred_answer_pointer_SM.read())\n",
    "test_pred_answer_pointer_SM  = json.loads(test_pred_answer_pointer_SM.read())\n",
    "y2_eval_answer_pointer_SM  = json.loads(y2_eval_answer_pointer_SM.read())\n",
    "y3_eval_answer_pointer_SM  = json.loads(y3_eval_answer_pointer_SM.read())\n",
    "y2_test_answer_pointer_SM  = json.loads(y2_test_answer_pointer_SM.read())\n",
    "y3_test_answer_pointer_SM  = json.loads(y3_test_answer_pointer_SM.read())\n",
    "\n",
    "\n",
    "token_type_eval_answer_pointer_SM  = json.loads(token_type_eval_answer_pointer_SM.read())\n",
    "token_type_test_answer_pointer_SM  = json.loads(token_type_test_answer_pointer_SM.read())\n",
    "input_ids_test_answer_pointer_SM  = json.loads(input_ids_test_answer_pointer_SM.read())\n",
    "\n",
    "eval_pred_answer_pointer_SM = [[[0 if math.isnan(z) else z for z in y] for y in x] for x in eval_pred_answer_pointer_SM]\n",
    "test_pred_answer_pointer_SM = [[[0 if math.isnan(z) else z for z in y] for y in x] for x in test_pred_answer_pointer_SM]\n"
   ]
  },
  {
   "cell_type": "code",
   "execution_count": null,
   "id": "b3e03d08",
   "metadata": {},
   "outputs": [],
   "source": [
    "count_Ans_Pt_SM = []\n",
    "p_Ans_Pt_SM = []\n",
    "r_Ans_Pt_SM = []\n",
    "f1_Ans_Pt_SM = []\n",
    "\n",
    "with tqdm(total=len(test_pred_start_end)) as pbar:\n",
    "    for idx, (start, end) in enumerate(test_pred_answer_pointer_SM):\n",
    "        start_context_idx = token_type_test_answer_pointer_SM[idx].index(1)\n",
    "        end_context_idx = len(token_type_test_answer_pointer_SM[idx]) - 1 - token_type_test_answer_pointer_SM[idx][::-1].index(1)\n",
    "        # Prediction\n",
    "        s_pred = np.argmax(start[start_context_idx:end_context_idx+1]) + start_context_idx\n",
    "        e_pred = np.argmax(end[start_context_idx:end_context_idx+1]) + start_context_idx\n",
    "        # True answer\n",
    "        s_ans = y3_test[idx][0]\n",
    "        e_ans = y3_test[idx][-1]\n",
    "        \n",
    "        correct, f1, p, r = get_performance(s_pred, e_pred, s_ans, e_ans)\n",
    "        \n",
    "        count_Ans_Pt_SM.append(correct)\n",
    "        p_Ans_Pt_SM.append(p)\n",
    "        r_Ans_Pt_SM.append(r)\n",
    "        f1_Ans_Pt_SM.append(f1)\n",
    "        pbar.set_description(f\"[EM={np.mean(count_Ans_Pt_SM):.3f}±{(1.96 * np.std(count_Ans_Pt_SM))/np.sqrt(len(count_Ans_Pt_SM)):.3f}|F1={np.mean(f1_Ans_Pt_SM):.3f}±{(1.96 * np.std(f1_Ans_Pt_SM))/np.sqrt(len(f1_Ans_Pt_SM)):.3f}|P={np.mean(p_Ans_Pt_SM):.3f}±{(1.96 * np.std(p_Ans_Pt_SM))/np.sqrt(len(p_Ans_Pt_SM)):.3f}|R={np.mean(r_Ans_Pt_SM):.3f}±{(1.96 * np.std(r_Ans_Pt_SM))/np.sqrt(len(r_Ans_Pt_SM)):.3f}]\")\n",
    "        pbar.update(1)\n"
   ]
  },
  {
   "cell_type": "markdown",
   "id": "distinct-update",
   "metadata": {},
   "source": [
    "# Plots"
   ]
  },
  {
   "cell_type": "code",
   "execution_count": 66,
   "id": "atlantic-webmaster",
   "metadata": {},
   "outputs": [],
   "source": [
    "data = pd.DataFrame(columns=['algo','accuracy','f1', 'precision',  'recall'])\n",
    "data_list = list(zip(['MILP']*len(count_MILP), count_MILP, f1_MILP, p_MILP, r_MILP))\n",
    "data = data.append(pd.DataFrame(data_list, columns=['algo','accuracy','f1', 'precision',  'recall']),ignore_index=True)\n",
    "\n",
    "data_list = list(zip(['BERT-Devlin']*len(count_Baseline1), count_Baseline1, f1_Baseline1, p_Baseline1, r_Baseline1))\n",
    "data = data.append(pd.DataFrame(data_list, columns=['algo','accuracy','f1', 'precision',  'recall']),ignore_index=True)\n",
    "\n",
    "data_list = list(zip(['Max len']*len(count_Baseline2), count_Baseline2, f1_Baseline2, p_Baseline2, r_Baseline2))\n",
    "data = data.append(pd.DataFrame(data_list, columns=['algo','accuracy','f1', 'precision',  'recall']),ignore_index=True)\n",
    "\n",
    "data_list = list(zip(['Ans Ptr BM']*len(count_Ans_Pt_BM), count_Ans_Pt_BM, f1_Ans_Pt_BM, p_Ans_Pt_BM, r_Ans_Pt_BM))\n",
    "data = data.append(pd.DataFrame(data_list, columns=['algo','accuracy','f1', 'precision',  'recall']),ignore_index=True)\n",
    "\n",
    "data_list = list(zip(['Ans Ptr SM']*len(count_Ans_Pt_SM), count_Ans_Pt_SM, f1_Ans_Pt_SM, p_Ans_Pt_SM, r_Ans_Pt_SM))\n",
    "data = data.append(pd.DataFrame(data_list, columns=['algo','accuracy','f1', 'precision',  'recall']),ignore_index=True)\n",
    "\n",
    "\n",
    "\n"
   ]
  },
  {
   "cell_type": "code",
   "execution_count": 67,
   "id": "integral-shipping",
   "metadata": {},
   "outputs": [
    {
     "data": {
      "image/png": "[encoded data removed]",
      "text/plain": [
       "<Figure size 460.8x273.6 with 1 Axes>"
      ]
     },
     "metadata": {
      "needs_background": "light"
     },
     "output_type": "display_data"
    }
   ],
   "source": [
    "# statistic, pvalue = stats.ttest_ind(acc2, acc_baseline2)\n",
    "plt.figure(figsize=(6.4, 3.8))\n",
    "ax = sns.barplot(x=\"algo\", y=\"accuracy\", data=data, ci=95, capsize=.2)\n",
    "# ax.text(.5,.87,f\"p-value = {pvalue:.4f} ≮ 0.05\",\n",
    "#         horizontalalignment='center',\n",
    "#         transform=ax.transAxes,\n",
    "#        bbox=dict(facecolor='white', edgecolor='none'))\n",
    "ax.grid(color='black', linestyle='--', linewidth=1)\n",
    "ax.set_axisbelow(True)\n",
    "\n",
    "plt.xlabel(\"\")\n",
    "plt.ylabel(\"Exact Match\")\n",
    "# plt.title(\"Box plot of #candidates per cycle and system\")\n",
    "params = {'legend.fontsize': 18,\n",
    "          'axes.labelsize': 20,\n",
    "          'axes.titlesize': 14,\n",
    "          'xtick.labelsize': 20,\n",
    "          'ytick.labelsize': 18,\n",
    "          'axes.titlepad': 25,\n",
    "          'font.size': 24}\n",
    "plt.rcParams.update(params)\n",
    "plt.ylim(0.25, 0.70)\n",
    "plt.xticks(rotation=30)\n",
    "plt.savefig('plots/em_SQuAD1.1.eps', bbox_inches = 'tight')\n",
    "plt.show()\n"
   ]
  },
  {
   "cell_type": "code",
   "execution_count": 68,
   "id": "suitable-cliff",
   "metadata": {},
   "outputs": [
    {
     "data": {
      "image/png": "[encoded data removed]",
      "text/plain": [
       "<Figure size 460.8x273.6 with 1 Axes>"
      ]
     },
     "metadata": {
      "needs_background": "light"
     },
     "output_type": "display_data"
    }
   ],
   "source": [
    "# statistic, pvalue = stats.ttest_ind(f1_2, f1_baseline2)\n",
    "plt.figure(figsize=(6.4, 3.8))\n",
    "ax = sns.barplot(x=\"algo\", y=\"f1\", data=data, ci=95, capsize=.2)\n",
    "# ax.text(.5,.87,f\"p-value = {pvalue:.4f} ≮ 0.05\",\n",
    "#         horizontalalignment='center',\n",
    "#         transform=ax.transAxes,\n",
    "#        bbox=dict(facecolor='white', edgecolor='none'))\n",
    "ax.grid(color='black', linestyle='--', linewidth=1)\n",
    "ax.set_axisbelow(True)\n",
    "\n",
    "plt.xlabel(\"\")\n",
    "plt.ylabel(\"F1-Score\")\n",
    "# plt.title(\"Box plot of #candidates per cycle and system\")\n",
    "params = {'legend.fontsize': 18,\n",
    "          'axes.labelsize': 20,\n",
    "          'axes.titlesize': 14,\n",
    "          'xtick.labelsize': 20,\n",
    "          'ytick.labelsize': 18,\n",
    "          'axes.titlepad': 25,\n",
    "          'font.size': 24}\n",
    "plt.rcParams.update(params)\n",
    "plt.ylim(0.65, 0.85)\n",
    "plt.xticks(rotation=30)\n",
    "plt.savefig('plots/f1_score_SQuAD1.1.eps', bbox_inches = 'tight')\n",
    "plt.show()\n"
   ]
  },
  {
   "cell_type": "code",
   "execution_count": 69,
   "id": "minimal-kernel",
   "metadata": {},
   "outputs": [
    {
     "data": {
      "image/png": "[encoded data removed]",
      "text/plain": [
       "<Figure size 460.8x273.6 with 1 Axes>"
      ]
     },
     "metadata": {
      "needs_background": "light"
     },
     "output_type": "display_data"
    }
   ],
   "source": [
    "# statistic, pvalue = stats.ttest_ind(p2, p_baseline2)\n",
    "plt.figure(figsize=(6.4, 3.8))\n",
    "ax = sns.barplot(x=\"algo\", y=\"precision\", data=data, ci=95, capsize=.2)\n",
    "# ax.text(.5,.87,f\"p-value = {pvalue:.4f} ≮ 0.05\",\n",
    "#         horizontalalignment='center',\n",
    "#         transform=ax.transAxes,\n",
    "#        bbox=dict(facecolor='white', edgecolor='none'))\n",
    "ax.grid(color='black', linestyle='--', linewidth=1)\n",
    "ax.set_axisbelow(True)\n",
    "plt.xlabel(\"\")\n",
    "plt.ylabel(\"Precision\")\n",
    "# plt.title(\"Box plot of #candidates per cycle and system\")\n",
    "params = {'legend.fontsize': 18,\n",
    "          'axes.labelsize': 20,\n",
    "          'axes.titlesize': 14,\n",
    "          'xtick.labelsize': 20,\n",
    "          'ytick.labelsize': 18,\n",
    "          'axes.titlepad': 25,\n",
    "          'font.size': 24}\n",
    "plt.rcParams.update(params)\n",
    "plt.ylim(0.65, 0.85)\n",
    "plt.xticks(rotation=30)\n",
    "plt.savefig('plots/precision_SQuAD1.1.eps', bbox_inches = 'tight')\n",
    "plt.show()\n"
   ]
  },
  {
   "cell_type": "code",
   "execution_count": 70,
   "id": "alleged-gauge",
   "metadata": {},
   "outputs": [
    {
     "data": {
      "image/png": "[encoded data removed]",
      "text/plain": [
       "<Figure size 460.8x273.6 with 1 Axes>"
      ]
     },
     "metadata": {
      "needs_background": "light"
     },
     "output_type": "display_data"
    }
   ],
   "source": [
    "# statistic, pvalue = stats.ttest_ind(r2, r_baseline2)\n",
    "plt.figure(figsize=(6.4, 3.8))\n",
    "\n",
    "ax = sns.barplot(x=\"algo\", y=\"recall\", data=data, ci=95, capsize=.2)\n",
    "# ax.text(.5,.87,f\"p-value = {pvalue:.4f} < 0.05\",\n",
    "#         horizontalalignment='center',\n",
    "#         transform=ax.transAxes,\n",
    "#        bbox=dict(facecolor='white', edgecolor='none'))\n",
    "ax.grid(color='black', linestyle='--', linewidth=1)\n",
    "ax.set_axisbelow(True)\n",
    "plt.xlabel(\"\")\n",
    "plt.ylabel(\"Recall\")\n",
    "# plt.title(\"Box plot of #candidates per cycle and system\")\n",
    "params = {'legend.fontsize': 18,\n",
    "          'axes.labelsize': 20,\n",
    "          'axes.titlesize': 14,\n",
    "          'xtick.labelsize': 20,\n",
    "          'ytick.labelsize': 18,\n",
    "          'axes.titlepad': 25,\n",
    "          'font.size': 24}\n",
    "plt.rcParams.update(params)\n",
    "plt.ylim(0.6, 0.90)\n",
    "plt.xticks(rotation=30)\n",
    "\n",
    "plt.savefig('plots/recall_SQuAD1.1.eps', bbox_inches = 'tight')\n",
    "plt.show()\n"
   ]
  },
  {
   "cell_type": "code",
   "execution_count": 71,
   "id": "brazilian-quebec",
   "metadata": {},
   "outputs": [
    {
     "name": "stdout",
     "output_type": "stream",
     "text": [
      "\\textbf{MILP vs. BERT-Devlin} & 0.0000 & 0.0000 & 0.0750 & 0.0000 \\\\\n",
      "\\textbf{MILP vs. Baseline 2} & nan & nan & nan & nan  \\\\\n",
      "\\textbf{MILP vs. Ans Pt BM} & nan & nan & nan & nan  \\\\\n",
      "\\textbf{MILP vs. Ans Pt SM} & nan & nan & nan & nan  \\\\\n"
     ]
    }
   ],
   "source": [
    "# This part is for the statistical tests\n",
    "p_value_em = stats.ttest_ind(data[data['algo']=='MILP']['accuracy'], data[data['algo']=='BERT-Devlin']['accuracy'])[1]\n",
    "p_value_f1 = stats.ttest_ind(data[data['algo']=='MILP']['f1'], data[data['algo']=='BERT-Devlin']['f1'])[1]\n",
    "p_value_precision = stats.ttest_ind(data[data['algo']=='MILP']['precision'], data[data['algo']=='BERT-Devlin']['precision'])[1]\n",
    "p_value_recall = stats.ttest_ind(data[data['algo']=='MILP']['recall'], data[data['algo']=='BERT-Devlin']['recall'])[1]\n",
    "print('\\\\textbf{MILP vs. BERT-Devlin} &', f'{p_value_em:.4f} & {p_value_f1:.4f} & {p_value_precision:.4f} & {p_value_recall:.4f} \\\\\\\\' )\n",
    "\n",
    "p_value_em = stats.ttest_ind(data[data['algo']=='MILP']['accuracy'], data[data['algo']=='Baseline 2']['accuracy'])[1]\n",
    "p_value_f1 = stats.ttest_ind(data[data['algo']=='MILP']['f1'], data[data['algo']=='Baseline 2']['f1'])[1]\n",
    "p_value_precision = stats.ttest_ind(data[data['algo']=='MILP']['precision'], data[data['algo']=='Baseline 2']['precision'])[1]\n",
    "p_value_recall = stats.ttest_ind(data[data['algo']=='MILP']['recall'], data[data['algo']=='Baseline 2']['recall'])[1]\n",
    "print('\\\\textbf{MILP vs. Baseline 2} &', f'{p_value_em:.4f} & {p_value_f1:.4f} & {p_value_precision:.4f} & {p_value_recall:.4f}  \\\\\\\\' )\n",
    "\n",
    "\n",
    "p_value_em = stats.ttest_ind(data[data['algo']=='MILP']['accuracy'], data[data['algo']=='Ans Pt BM']['accuracy'])[1]\n",
    "p_value_f1 = stats.ttest_ind(data[data['algo']=='MILP']['f1'], data[data['algo']=='Ans Pt BM']['f1'])[1]\n",
    "p_value_precision = stats.ttest_ind(data[data['algo']=='MILP']['precision'], data[data['algo']=='Ans Pt BM']['precision'])[1]\n",
    "p_value_recall = stats.ttest_ind(data[data['algo']=='MILP']['recall'], data[data['algo']=='Ans Pt BM']['recall'])[1]\n",
    "print('\\\\textbf{MILP vs. Ans Pt BM} &', f'{p_value_em:.4f} & {p_value_f1:.4f} & {p_value_precision:.4f} & {p_value_recall:.4f}  \\\\\\\\' )\n",
    "\n",
    "\n",
    "p_value_em = stats.ttest_ind(data[data['algo']=='MILP']['accuracy'], data[data['algo']=='Ans Pt SM']['accuracy'])[1]\n",
    "p_value_f1 = stats.ttest_ind(data[data['algo']=='MILP']['f1'], data[data['algo']=='Baseline 2']['f1'])[1]\n",
    "p_value_precision = stats.ttest_ind(data[data['algo']=='MILP']['precision'], data[data['algo']=='Ans Pt SM']['precision'])[1]\n",
    "p_value_recall = stats.ttest_ind(data[data['algo']=='MILP']['recall'], data[data['algo']=='Ans Pt SM']['recall'])[1]\n",
    "print('\\\\textbf{MILP vs. Ans Pt SM} &', f'{p_value_em:.4f} & {p_value_f1:.4f} & {p_value_precision:.4f} & {p_value_recall:.4f}  \\\\\\\\' )\n",
    "\n"
   ]
  }
 ],
 "metadata": {
  "kernelspec": {
   "display_name": "Python 3",
   "language": "python",
   "name": "python3"
  },
  "language_info": {
   "codemirror_mode": {
    "name": "ipython",
    "version": 3
   },
   "file_extension": ".py",
   "mimetype": "text/x-python",
   "name": "python",
   "nbconvert_exporter": "python",
   "pygments_lexer": "ipython3",
   "version": "3.8.10"
  }
 },
 "nbformat": 4,
 "nbformat_minor": 5
}
