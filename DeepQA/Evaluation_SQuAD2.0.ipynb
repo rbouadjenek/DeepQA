{
 "cells": [
  {
   "cell_type": "code",
   "execution_count": 97,
   "id": "yellow-illinois",
   "metadata": {},
   "outputs": [],
   "source": [
    "import json\n",
    "import os\n",
    "import string\n",
    "import re\n",
    "from tokenizers import BertWordPieceTokenizer\n",
    "from transformers import BertTokenizer\n",
    "from preprocessing.MILP_Algorithm import select_LP_optimal_subsequence\n",
    "import numpy as np\n",
    "from sklearn import tree\n",
    "from tqdm import tqdm\n",
    "import math\n",
    "import pandas as pd\n",
    "import seaborn as sns\n",
    "import matplotlib.pyplot as plt\n",
    "import itertools, operator\n",
    "from sklearn.metrics import accuracy_score\n",
    "from sklearn.linear_model import LogisticRegression\n",
    "from scipy import stats\n"
   ]
  },
  {
   "cell_type": "markdown",
   "id": "qualified-appliance",
   "metadata": {},
   "source": [
    "# Read the data"
   ]
  },
  {
   "cell_type": "code",
   "execution_count": 2,
   "id": "french-transportation",
   "metadata": {},
   "outputs": [],
   "source": [
    "eval_pred = open(\"data/milp_SQuAD2.0_eval_pred.txt\", \"r\")\n",
    "test_pred = open(\"data/milp_SQuAD2.0_test_pred.txt\", \"r\")\n",
    "y2_eval = open(\"data/milp_SQuAD2.0_y2_eval.txt\", \"r\")\n",
    "y3_eval = open(\"data/milp_SQuAD2.0_y3_eval.txt\", \"r\")\n",
    "y2_test = open(\"data/milp_SQuAD2.0_y2_test.txt\", \"r\")\n",
    "y3_test = open(\"data/milp_SQuAD2.0_y3_test.txt\", \"r\")\n",
    "token_type_eval = open(\"data/milp_SQuAD2.0_token_type_eval.txt\", \"r\")\n",
    "token_type_test = open(\"data/milp_SQuAD2.0_token_type_test.txt\", \"r\")\n",
    "input_ids_test = open(\"data/milp_SQuAD2.0_input_ids_test.txt\", \"r\")\n",
    "\n",
    "eval_pred  = json.loads(eval_pred.read())\n",
    "test_pred  = json.loads(test_pred.read())\n",
    "y2_eval  = json.loads(y2_eval.read())\n",
    "y3_eval  = json.loads(y3_eval.read())\n",
    "y2_test  = json.loads(y2_test.read())\n",
    "y3_test  = json.loads(y3_test.read())\n",
    "token_type_eval  = json.loads(token_type_eval.read())\n",
    "token_type_test  = json.loads(token_type_test.read())\n",
    "input_ids_test  = json.loads(input_ids_test.read())\n",
    "\n",
    "eval_pred = [[0 if math.isnan(y) else y for y in x] for x in eval_pred]\n",
    "test_pred = [[0 if math.isnan(y) else y for y in x] for x in test_pred]\n"
   ]
  },
  {
   "cell_type": "code",
   "execution_count": 3,
   "id": "renewable-float",
   "metadata": {},
   "outputs": [],
   "source": [
    "# set max length value\n",
    "max_len = 300\n",
    "# Create the tokenizer\n",
    "save_path = os.path.expanduser(\"~\") + \"/.bert_base_uncased/\"\n",
    "if not os.path.exists(save_path):\n",
    "    slow_tokenizer = BertTokenizer.from_pretrained(\"bert-base-uncased\")\n",
    "    os.makedirs(save_path)\n",
    "    slow_tokenizer.save_pretrained(save_path)\n",
    "tokenizer = BertWordPieceTokenizer(save_path + \"vocab.txt\", lowercase=True)\n"
   ]
  },
  {
   "cell_type": "markdown",
   "id": "afraid-massage",
   "metadata": {},
   "source": [
    "# MILP\n",
    "## Using a Decision tree to find the answerability threshold"
   ]
  },
  {
   "cell_type": "code",
   "execution_count": 4,
   "id": "controlled-server",
   "metadata": {},
   "outputs": [
    {
     "name": "stderr",
     "output_type": "stream",
     "text": [
      "\r",
      "  0%|          | 0/7031 [00:00<?, ?it/s]"
     ]
    },
    {
     "name": "stdout",
     "output_type": "stream",
     "text": [
      "Academic license - for non-commercial use only - expires 2021-07-22\n",
      "Using license file /home/reda/gurobi.lic\n"
     ]
    },
    {
     "name": "stderr",
     "output_type": "stream",
     "text": [
      "100%|██████████| 7031/7031 [28:24<00:00,  4.13it/s]  \n"
     ]
    }
   ],
   "source": [
    "# eval_pred_start_end = []\n",
    "# with tqdm(total=len(eval_pred)) as pbar:\n",
    "#     for idx, probabilities in enumerate(eval_pred):\n",
    "#         start_context_idx = token_type_eval[idx].index(1)\n",
    "#         end_context_idx = len(token_type_eval[idx]) - 1 - token_type_eval[idx][::-1].index(1)\n",
    "#         s_pred,e_pred,_ = select_LP_optimal_subsequence(probabilities[start_context_idx:end_context_idx+1]) # do not consider element at index 0        \n",
    "#         eval_pred_start_end.append([s_pred+start_context_idx, e_pred+start_context_idx])  \n",
    "#         pbar.update(1)\n"
   ]
  },
  {
   "cell_type": "code",
   "execution_count": 141,
   "id": "collaborative-rouge",
   "metadata": {},
   "outputs": [
    {
     "name": "stdout",
     "output_type": "stream",
     "text": [
      "Accuracy:  0.8051486275067558\n"
     ]
    },
    {
     "data": {
      "image/png": "[encoded data removed]",
      "text/plain": [
       "<Figure size 432x288 with 1 Axes>"
      ]
     },
     "metadata": {
      "needs_background": "light"
     },
     "output_type": "display_data"
    }
   ],
   "source": [
    "X = []\n",
    "y = []\n",
    "for idx, s_pred_e_pred in enumerate(eval_pred_start_end):\n",
    "    s_pred = s_pred_e_pred[0]\n",
    "    e_pred = s_pred_e_pred[1]\n",
    "    prediction = list(range(s_pred, e_pred+1))    \n",
    "    expected_p = np.sum(eval_pred[idx][s_pred:e_pred+1]) / len(prediction)\n",
    "    X.append([expected_p])\n",
    "#     X.append([eval_pred[idx][0]])\n",
    "    if np.sum(y2_eval[idx]) == 0:\n",
    "        y.append(0)\n",
    "    else:\n",
    "        y.append(1)\n",
    "\n",
    "clf_MILP = tree.DecisionTreeClassifier(max_depth=1)\n",
    "clf_MILP.fit(X, y)\n",
    "tree.plot_tree(clf_MILP)\n",
    "print('Accuracy: ', accuracy_score(clf_MILP.predict(X), y))\n"
   ]
  },
  {
   "cell_type": "code",
   "execution_count": 6,
   "id": "moral-praise",
   "metadata": {},
   "outputs": [
    {
     "name": "stderr",
     "output_type": "stream",
     "text": [
      "100%|██████████| 11792/11792 [50:27<00:00,  3.89it/s] \n"
     ]
    }
   ],
   "source": [
    "# test_pred_start_end = []\n",
    "# with tqdm(total=len(test_pred)) as pbar:\n",
    "#     for idx, probabilities in enumerate(test_pred):\n",
    "#         start_context_idx = token_type_test[idx].index(1)\n",
    "#         end_context_idx = len(token_type_test[idx]) - 1 - token_type_test[idx][::-1].index(1)\n",
    "#         s_pred, e_pred,_ = select_LP_optimal_subsequence(probabilities[start_context_idx:end_context_idx+1]) # do not consider element at index 0        \n",
    "#         test_pred_start_end.append([s_pred+start_context_idx, e_pred+start_context_idx])  \n",
    "#         pbar.update(1)\n"
   ]
  },
  {
   "cell_type": "markdown",
   "id": "precious-security",
   "metadata": {},
   "source": [
    "## Compute performance"
   ]
  },
  {
   "cell_type": "code",
   "execution_count": 142,
   "id": "qualified-bones",
   "metadata": {},
   "outputs": [],
   "source": [
    "def normalize_text(text):\n",
    "    text = text.lower()\n",
    "\n",
    "    # Remove punctuations\n",
    "    exclude = set(string.punctuation)\n",
    "    text = \"\".join(ch for ch in text if ch not in exclude)\n",
    "\n",
    "    # Remove articles\n",
    "    regex = re.compile(r\"\\b(a|an|the)\\b\", re.UNICODE)\n",
    "    text = re.sub(regex, \" \", text)\n",
    "\n",
    "    # Remove extra white space\n",
    "    text = \" \".join(text.split())\n",
    "    return text\n",
    "\n"
   ]
  },
  {
   "cell_type": "code",
   "execution_count": 178,
   "id": "rubber-rally",
   "metadata": {},
   "outputs": [
    {
     "name": "stderr",
     "output_type": "stream",
     "text": [
      "[EM=0.620±0.009|F1=0.700±0.008|P=0.700±0.008|R=0.725±0.008]: 100%|██████████| 11792/11792 [01:09<00:00, 170.47it/s]"
     ]
    },
    {
     "name": "stdout",
     "output_type": "stream",
     "text": [
      "[TP=0.418±0.009|TN=0.352|FP=0.153|FN=0.078]\n"
     ]
    },
    {
     "name": "stderr",
     "output_type": "stream",
     "text": [
      "\n"
     ]
    }
   ],
   "source": [
    "count_MILP = []\n",
    "p_MILP = []\n",
    "r_MILP = []\n",
    "f1_MILP = []\n",
    "\n",
    "TN_MILP = 0\n",
    "FN_MILP = 0\n",
    "TP_MILP = 0\n",
    "FP_MILP = 0\n",
    "TAG_MILP = []\n",
    "with tqdm(total=len(test_pred_start_end)) as pbar:\n",
    "    for idx, s_pred_e_pred in enumerate(test_pred_start_end):\n",
    "        s_pred = s_pred_e_pred[0]\n",
    "        e_pred = s_pred_e_pred[1]        \n",
    "        prediction = input_ids_test[idx][s_pred:e_pred+1]\n",
    "        expected_p = np.sum(test_pred[idx][s_pred:e_pred+1]) / len(prediction) \n",
    "#         answerability = clf_MILP.predict([[test_pred[idx][0]]])[0]\n",
    "        answerability = clf_MILP.predict([[expected_p]])[0]\n",
    "        if  answerability == 0 and np.sum(y2_test[idx]) == 0: # Correct predicion of unanswerability\n",
    "            TN_MILP += 1\n",
    "            TAG_MILP.append('TN')\n",
    "            p_MILP.append(1)\n",
    "            r_MILP.append(1)\n",
    "            f1_MILP.append(1)\n",
    "            count_MILP.append(1)\n",
    "            pbar.set_description(f\"[EM={np.mean(count_MILP):.3f}±{(1.96 * np.std(count_MILP))/np.sqrt(len(count_MILP)):.3f}|F1={np.mean(f1_MILP):.3f}±{(1.96 * np.std(f1_MILP))/np.sqrt(len(f1_MILP)):.3f}|P={np.mean(p_MILP):.3f}±{(1.96 * np.std(p_MILP))/np.sqrt(len(p_MILP)):.3f}|R={np.mean(r_MILP):.3f}±{(1.96 * np.std(r_MILP))/np.sqrt(len(r_MILP)):.3f}]\")\n",
    "            pbar.update(1)\n",
    "            continue\n",
    "        elif (answerability == 1 and np.sum(y2_test[idx]) == 0) or (answerability == 0 and np.sum(y2_test[idx]) > 0):\n",
    "             # Incorrect predicion of answerability\n",
    "            if answerability == 1:\n",
    "                FP_MILP += 1\n",
    "                TAG_MILP.append('FP')\n",
    "            else:\n",
    "                FN_MILP += 1\n",
    "                TAG_MILP.append('FN')\n",
    "            p_MILP.append(0)\n",
    "            r_MILP.append(0)\n",
    "            f1_MILP.append(0)\n",
    "            count_MILP.append(0)            \n",
    "            pbar.set_description(f\"[EM={np.mean(count_MILP):.3f}±{(1.96 * np.std(count_MILP))/np.sqrt(len(count_MILP)):.3f}|F1={np.mean(f1_MILP):.3f}±{(1.96 * np.std(f1_MILP))/np.sqrt(len(f1_MILP)):.3f}|P={np.mean(p_MILP):.3f}±{(1.96 * np.std(p_MILP))/np.sqrt(len(p_MILP)):.3f}|R={np.mean(r_MILP):.3f}±{(1.96 * np.std(r_MILP))/np.sqrt(len(r_MILP)):.3f}]\")\n",
    "            pbar.update(1)\n",
    "            continue\n",
    "        else:   # Correct predicion of answerability      \n",
    "            TP_MILP += 1\n",
    "            TAG_MILP.append('TP')            \n",
    "            ans = input_ids_test[idx][y3_test[idx][0]:y3_test[idx][-1]+1]\n",
    "            normalized_pred_ans = normalize_text(tokenizer.decode(prediction))\n",
    "            normalized_true_ans = normalize_text(tokenizer.decode(ans))\n",
    "            if normalized_pred_ans == normalized_true_ans:\n",
    "                count_MILP.append(1)\n",
    "            else:\n",
    "                count_MILP.append(0)\n",
    "            prediction = set(normalized_pred_ans.split(' '))\n",
    "            true = set(normalized_true_ans.split(' '))\n",
    "            inter = set(prediction & true)\n",
    "            p_ = len(inter) / len(prediction)\n",
    "            r_ = len(inter) / len(true)  \n",
    "            f1_ = 0\n",
    "            if (p_+r_) !=0:\n",
    "                f1_ = 2*p_*r_ / (p_+r_)\n",
    "            p_MILP.append(p_)\n",
    "            r_MILP.append(r_)\n",
    "            f1_MILP.append(f1_)\n",
    "            pbar.set_description(f\"[EM={np.mean(count_MILP):.3f}±{(1.96 * np.std(count_MILP))/np.sqrt(len(count_MILP)):.3f}|F1={np.mean(f1_MILP):.3f}±{(1.96 * np.std(f1_MILP))/np.sqrt(len(f1_MILP)):.3f}|P={np.mean(p_MILP):.3f}±{(1.96 * np.std(p_MILP))/np.sqrt(len(p_MILP)):.3f}|R={np.mean(r_MILP):.3f}±{(1.96 * np.std(r_MILP))/np.sqrt(len(r_MILP)):.3f}]\")    \n",
    "            pbar.update(1)\n",
    "        \n",
    "print(f\"[TP={TP_MILP/len(TAG_MILP):.3f}±{(1.96 * np.std(count_MILP))/np.sqrt(len(count_MILP)):.3f}|TN={TN_MILP/len(TAG_MILP):.3f}|FP={FP_MILP/len(TAG_MILP):.3f}|FN={FN_MILP/len(TAG_MILP):.3f}]\")\n",
    "\n",
    "\n"
   ]
  },
  {
   "cell_type": "markdown",
   "id": "selective-fifty",
   "metadata": {},
   "source": [
    "# Baseline 1\n",
    "## Using a Decision tree to find the answerability threshold"
   ]
  },
  {
   "cell_type": "code",
   "execution_count": 179,
   "id": "technological-drilling",
   "metadata": {},
   "outputs": [],
   "source": [
    "eval_pred_start_baseline1 = open(\"data/Baseline1_SQuAD2.0_eval_pred_start.txt\", \"r\")\n",
    "eval_pred_end_baseline1 = open(\"data/Baseline1_SQuAD2.0_eval_pred_end.txt\", \"r\")\n",
    "test_pred_start_baseline1 = open(\"data/Baseline1_SQuAD2.0_test_pred_start.txt\", \"r\")\n",
    "test_pred_end_baseline1 = open(\"data/Baseline1_SQuAD2.0_test_pred_end.txt\", \"r\")\n",
    "y2_eval_baseline1 = open(\"data/Baseline1_SQuAD2.0_y2_eval.txt\", \"r\")\n",
    "y3_eval_baseline1 = open(\"data/Baseline1_SQuAD2.0_y3_eval.txt\", \"r\")\n",
    "y2_test_baseline1 = open(\"data/Baseline1_SQuAD2.0_y2_test.txt\", \"r\")\n",
    "y3_test_baseline1 = open(\"data/Baseline1_SQuAD2.0_y3_test.txt\", \"r\")\n",
    "token_type_eval_baseline1 = open(\"data/Baseline1_SQuAD2.0_token_type_eval.txt\", \"r\")\n",
    "token_type_test_baseline1 = open(\"data/Baseline1_SQuAD2.0_token_type_test.txt\", \"r\")\n",
    "input_ids_test_baseline1 = open(\"data/Baseline1_SQuAD2.0_input_ids_test.txt\", \"r\")\n",
    "\n",
    "eval_pred_start_baseline1  = json.loads(eval_pred_start_baseline1.read())\n",
    "eval_pred_end_baseline1  = json.loads(eval_pred_end_baseline1.read())\n",
    "test_pred_start_baseline1  = json.loads(test_pred_start_baseline1.read())\n",
    "test_pred_end_baseline1  = json.loads(test_pred_end_baseline1.read())\n",
    "y2_eval_baseline1  = json.loads(y2_eval_baseline1.read())\n",
    "y3_eval_baseline1  = json.loads(y3_eval_baseline1.read())\n",
    "y2_test_baseline1  = json.loads(y2_test_baseline1.read())\n",
    "y3_test_baseline1  = json.loads(y3_test_baseline1.read())\n",
    "\n",
    "\n",
    "token_type_eval_baseline1  = json.loads(token_type_eval_baseline1.read())\n",
    "token_type_test_baseline1  = json.loads(token_type_test_baseline1.read())\n",
    "input_ids_test_baseline1  = json.loads(input_ids_test_baseline1.read())\n",
    "\n",
    "eval_pred_start_baseline1 = [[0 if math.isnan(y) else y for y in x] for x in eval_pred_start_baseline1]\n",
    "eval_pred_end_baseline1 = [[0 if math.isnan(y) else y for y in x] for x in eval_pred_end_baseline1]\n",
    "test_pred_start_baseline1 = [[0 if math.isnan(y) else y for y in x] for x in test_pred_start_baseline1]\n",
    "test_pred_end_baseline1 = [[0 if math.isnan(y) else y for y in x] for x in test_pred_end_baseline1]\n"
   ]
  },
  {
   "cell_type": "code",
   "execution_count": 180,
   "id": "competent-bobby",
   "metadata": {},
   "outputs": [
    {
     "name": "stdout",
     "output_type": "stream",
     "text": [
      "Accuracy:  0.8176646280756649\n"
     ]
    },
    {
     "data": {
      "image/png": "[encoded data removed]",
      "text/plain": [
       "<Figure size 432x288 with 1 Axes>"
      ]
     },
     "metadata": {
      "needs_background": "light"
     },
     "output_type": "display_data"
    }
   ],
   "source": [
    "X_baseline1 = []\n",
    "y_baseline1 = []\n",
    "for idx, (start, end) in enumerate(zip(eval_pred_start_baseline1, eval_pred_end_baseline1)):\n",
    "    start_context_idx = token_type_eval_baseline1[idx].index(1)\n",
    "    end_context_idx = len(token_type_eval_baseline1[idx]) - 1 - token_type_eval_baseline1[idx][::-1].index(1)\n",
    "    s_pred = np.max(start[start_context_idx:end_context_idx+1]) + np.max(end[start_context_idx:end_context_idx+1])\n",
    "    s_null = start[0] + end[0]\n",
    "    X_baseline1.append([s_null-s_pred])\n",
    "    if np.sum(y2_eval_baseline1[idx]) == 0:\n",
    "        y_baseline1.append(0)\n",
    "    else:\n",
    "        y_baseline1.append(1)  \n",
    "\n",
    "clf_Baseline1 = tree.DecisionTreeClassifier(max_depth=1)\n",
    "clf_Baseline1.fit(X_baseline1, y_baseline1)\n",
    "tree.plot_tree(clf_Baseline1)         \n",
    "print('Accuracy: ', accuracy_score(clf_Baseline1.predict(X_baseline1), y_baseline1))\n"
   ]
  },
  {
   "cell_type": "code",
   "execution_count": 181,
   "id": "governmental-crisis",
   "metadata": {},
   "outputs": [
    {
     "name": "stderr",
     "output_type": "stream",
     "text": [
      "[EM=0.455±0.009|F1=0.628±0.008|P=0.693±0.008|R=0.614±0.008]: 100%|██████████| 11792/11792 [01:09<00:00, 170.73it/s]"
     ]
    },
    {
     "name": "stdout",
     "output_type": "stream",
     "text": [
      "[TP=0.458|TN=0.312|FP=0.192|FN=0.038]\n"
     ]
    },
    {
     "name": "stderr",
     "output_type": "stream",
     "text": [
      "\n"
     ]
    }
   ],
   "source": [
    "count_Baseline1 = []\n",
    "p_Baseline1 = []\n",
    "r_Baseline1 = []\n",
    "f1_Baseline1 = []\n",
    "\n",
    "TN_Baseline1 = 0\n",
    "FN_Baseline1 = 0\n",
    "TP_Baseline1 = 0\n",
    "FP_Baseline1 = 0\n",
    "TAG_Baseline1 = []\n",
    "\n",
    "with tqdm(total=len(test_pred_start_baseline1)) as pbar:\n",
    "    for idx, (start, end) in enumerate(zip(test_pred_start_baseline1, test_pred_end_baseline1)): \n",
    "        start_context_idx = token_type_test_baseline1[idx].index(1)\n",
    "        end_context_idx = len(token_type_test_baseline1[idx]) - 1 - token_type_test_baseline1[idx][::-1].index(1)\n",
    "        s_pred = np.max(start[start_context_idx:end_context_idx+1]) + np.max(end[start_context_idx:end_context_idx+1])\n",
    "        s_null = start[0] + end[0]\n",
    "        answerability = clf_Baseline1.predict([[s_null-s_pred]])[0]        \n",
    "        if  answerability == 0 and np.sum(y2_test_baseline1[idx]) == 0: # Correct predicion of unanswerability\n",
    "            TN_Baseline1 += 1\n",
    "            TAG_Baseline1.append('TN')\n",
    "            p_Baseline1.append(1)\n",
    "            r_Baseline1.append(1)\n",
    "            f1_Baseline1.append(1)\n",
    "            count_Baseline1.append(1)\n",
    "            pbar.set_description(f\"[EM={np.mean(count_Baseline1):.3f}±{(1.96 * np.std(count_Baseline1))/np.sqrt(len(count_Baseline1)):.3f}|F1={np.mean(f1_Baseline1):.3f}±{(1.96 * np.std(f1_Baseline1))/np.sqrt(len(f1_Baseline1)):.3f}|P={np.mean(p_Baseline1):.3f}±{(1.96 * np.std(p_Baseline1))/np.sqrt(len(p_Baseline1)):.3f}|R={np.mean(r_Baseline1):.3f}±{(1.96 * np.std(r_Baseline1))/np.sqrt(len(r_Baseline1)):.3f}]\")\n",
    "            pbar.update(1)\n",
    "            continue\n",
    "        elif (answerability == 1 and np.sum(y2_test_baseline1[idx]) == 0) or (answerability == 0 and np.sum(y2_test_baseline1[idx]) > 0):\n",
    "             # Incorrect predicion of answerability\n",
    "            if answerability == 1:\n",
    "                FP_Baseline1 += 1\n",
    "                TAG_Baseline1.append('FP')\n",
    "            else:\n",
    "                FN_Baseline1 += 1\n",
    "                TAG_Baseline1.append('FN')\n",
    "            p_Baseline1.append(0)\n",
    "            r_Baseline1.append(0)\n",
    "            f1_Baseline1.append(0)\n",
    "            count_Baseline1.append(0)            \n",
    "            pbar.set_description(f\"[EM={np.mean(count_Baseline1):.3f}±{(1.96 * np.std(count_Baseline1))/np.sqrt(len(count_Baseline1)):.3f}|F1={np.mean(f1_Baseline1):.3f}±{(1.96 * np.std(f1_Baseline1))/np.sqrt(len(f1_Baseline1)):.3f}|P={np.mean(p_Baseline1):.3f}±{(1.96 * np.std(p_Baseline1))/np.sqrt(len(p_Baseline1)):.3f}|R={np.mean(r_Baseline1):.3f}±{(1.96 * np.std(r_Baseline1))/np.sqrt(len(r_Baseline1)):.3f}]\")\n",
    "            pbar.update(1)\n",
    "            continue\n",
    "        else:   # Correct predicion of answerability   \n",
    "            TP_Baseline1 += 1\n",
    "            TAG_Baseline1.append('TP')\n",
    "            s_pred = np.argmax(start[start_context_idx:end_context_idx+1]) + start_context_idx\n",
    "            e_pred = np.argmax(end[start_context_idx:end_context_idx+1]) + start_context_idx         \n",
    "            prediction = input_ids_test_baseline1[idx][s_pred:e_pred+1]            \n",
    "            ans = input_ids_test_baseline1[idx][y3_test[idx][0]:y3_test[idx][-1]+1]            \n",
    "            normalized_pred_ans = normalize_text(tokenizer.decode(prediction))\n",
    "            normalized_true_ans = normalize_text(tokenizer.decode(ans))            \n",
    "            prediction = set(normalized_pred_ans.split(' '))\n",
    "            true = set(normalized_true_ans.split(' '))\n",
    "            inter = list(prediction & true)\n",
    "            if len(prediction) == 0:\n",
    "                p_Baseline1.append(0)\n",
    "                r_Baseline1.append(0)\n",
    "                f1_Baseline1.append(0)\n",
    "                count_Baseline1.append(0)\n",
    "                pbar.update(1)\n",
    "                continue\n",
    "            p_ = len(inter) / len(prediction)\n",
    "            r_ = len(inter) / len(ans)\n",
    "            f1_ = 0\n",
    "            if (p_+r_) !=0:\n",
    "                f1_ = 2*p_*r_ / (p_+r_)\n",
    "            if f1_ == 1:\n",
    "                count_Baseline1.append(1)\n",
    "            else:\n",
    "                count_Baseline1.append(0)\n",
    "            p_Baseline1.append(p_)\n",
    "            r_Baseline1.append(r_)\n",
    "            f1_Baseline1.append(f1_)\n",
    "            pbar.set_description(f\"[EM={np.mean(count_Baseline1):.3f}±{(1.96 * np.std(count_Baseline1))/np.sqrt(len(count_Baseline1)):.3f}|F1={np.mean(f1_Baseline1):.3f}±{(1.96 * np.std(f1_Baseline1))/np.sqrt(len(f1_Baseline1)):.3f}|P={np.mean(p_Baseline1):.3f}±{(1.96 * np.std(p_Baseline1))/np.sqrt(len(p_Baseline1)):.3f}|R={np.mean(r_Baseline1):.3f}±{(1.96 * np.std(r_Baseline1))/np.sqrt(len(r_Baseline1)):.3f}]\")\n",
    "            pbar.update(1)\n",
    "    \n",
    "print(f\"[TP={TP_Baseline1/len(TAG_Baseline1):.3f}|TN={TN_Baseline1/len(TAG_Baseline1):.3f}|FP={FP_Baseline1/len(TAG_Baseline1):.3f}|FN={FN_Baseline1/len(TAG_Baseline1):.3f}]\")\n"
   ]
  },
  {
   "cell_type": "markdown",
   "id": "stable-butterfly",
   "metadata": {},
   "source": [
    "# Baseline 2"
   ]
  },
  {
   "cell_type": "code",
   "execution_count": 182,
   "id": "combined-headset",
   "metadata": {},
   "outputs": [],
   "source": [
    "def baseline2(A):\n",
    "    B = np.where(np.array(A) > 0.5, 1, 0)\n",
    "    if np.sum(B) == 0:\n",
    "        return -1, -1\n",
    "    else:\n",
    "        r = max((list(y) for (x,y) in itertools.groupby((enumerate(B)),operator.itemgetter(1)) if x == 1), key=len)\n",
    "        return r[0][0], r[-1][0]\n",
    "    \n",
    "    "
   ]
  },
  {
   "cell_type": "code",
   "execution_count": 183,
   "id": "ordinary-sender",
   "metadata": {},
   "outputs": [
    {
     "name": "stderr",
     "output_type": "stream",
     "text": [
      "[EM=0.489±0.009|F1=0.652±0.008|P=0.712±0.008|R=0.636±0.008]: 100%|██████████| 11792/11792 [01:10<00:00, 167.87it/s]"
     ]
    },
    {
     "name": "stdout",
     "output_type": "stream",
     "text": [
      "[TP=0.414|TN=0.361|FP=0.143|FN=0.082]\n"
     ]
    },
    {
     "name": "stderr",
     "output_type": "stream",
     "text": [
      "\n"
     ]
    }
   ],
   "source": [
    "count_Baseline2 = []\n",
    "p_Baseline2 = []\n",
    "r_Baseline2 = []\n",
    "f1_Baseline2 = []\n",
    "\n",
    "TN_Baseline2 = 0\n",
    "FN_Baseline2 = 0\n",
    "TP_Baseline2 = 0\n",
    "FP_Baseline2 = 0\n",
    "TAG_Baseline2 = []\n",
    "\n",
    "with tqdm(total=len(test_pred_start_end)) as pbar:\n",
    "    for idx, s_pred_e_pred in enumerate(test_pred_start_end):\n",
    "        start_context_idx = token_type_test_baseline1[idx].index(1)\n",
    "        end_context_idx = len(token_type_test_baseline1[idx]) - 1 - token_type_test_baseline1[idx][::-1].index(1)\n",
    "        probabilities = test_pred[idx][start_context_idx:end_context_idx+1]   \n",
    "        s_pred, e_pred = baseline2(probabilities)                \n",
    "        answerability = 1\n",
    "        if s_pred == -1 or e_pred == -1:\n",
    "            answerability = 0       \n",
    "        \n",
    "        if  answerability == 0 and np.sum(y2_test[idx]) == 0: # Correct predicion of unanswerability\n",
    "            TN_Baseline2 += 1\n",
    "            TAG_Baseline2.append('TN')\n",
    "            p_Baseline2.append(1)\n",
    "            r_Baseline2.append(1)\n",
    "            f1_Baseline2.append(1)\n",
    "            count_Baseline2.append(1)\n",
    "            pbar.set_description(f\"[EM={np.mean(count_Baseline2):.3f}±{(1.96 * np.std(count_Baseline2))/np.sqrt(len(count_Baseline2)):.3f}|F1={np.mean(f1_Baseline2):.3f}±{(1.96 * np.std(f1_Baseline2))/np.sqrt(len(f1_Baseline2)):.3f}|P={np.mean(p_Baseline2):.3f}±{(1.96 * np.std(p_Baseline2))/np.sqrt(len(p_Baseline2)):.3f}|R={np.mean(r_Baseline2):.3f}±{(1.96 * np.std(r_Baseline2))/np.sqrt(len(r_Baseline2)):.3f}]\")\n",
    "            pbar.update(1)\n",
    "            continue\n",
    "        elif (answerability == 1 and np.sum(y2_test[idx]) == 0) or (answerability == 0 and np.sum(y2_test[idx]) > 0):\n",
    "             # Incorrect predicion of answerability\n",
    "            if answerability == 1:\n",
    "                FP_Baseline2 += 1\n",
    "                TAG_Baseline2.append('FP')\n",
    "            else:\n",
    "                FN_Baseline2 += 1\n",
    "                TAG_Baseline2.append('FN')\n",
    "            p_Baseline2.append(0)\n",
    "            r_Baseline2.append(0)\n",
    "            f1_Baseline2.append(0)\n",
    "            count_Baseline2.append(0)            \n",
    "            pbar.set_description(f\"[EM={np.mean(count_Baseline2):.3f}±{(1.96 * np.std(count_Baseline2))/np.sqrt(len(count_Baseline2)):.3f}|F1={np.mean(f1_Baseline2):.3f}±{(1.96 * np.std(f1_Baseline2))/np.sqrt(len(f1_Baseline2)):.3f}|P={np.mean(p_Baseline2):.3f}±{(1.96 * np.std(p_Baseline2))/np.sqrt(len(p_Baseline2)):.3f}|R={np.mean(r_Baseline2):.3f}±{(1.96 * np.std(r_Baseline2))/np.sqrt(len(r_Baseline2)):.3f}]\")\n",
    "            pbar.update(1)\n",
    "            continue\n",
    "        else:   # Correct predicion of answerability\n",
    "            TP_Baseline2 += 1\n",
    "            TAG_Baseline2.append('TP')\n",
    "            \n",
    "            s_pred = s_pred + start_context_idx\n",
    "            e_pred = e_pred + start_context_idx\n",
    "            \n",
    "            prediction = input_ids_test_baseline1[idx][s_pred:e_pred+1]            \n",
    "            ans = input_ids_test_baseline1[idx][y3_test[idx][0]:y3_test[idx][-1]+1]            \n",
    "            normalized_pred_ans = normalize_text(tokenizer.decode(prediction))\n",
    "            normalized_true_ans = normalize_text(tokenizer.decode(ans))            \n",
    "            prediction = set(normalized_pred_ans.split(' '))\n",
    "            true = set(normalized_true_ans.split(' '))\n",
    "            inter = list(prediction & true)\n",
    "            if len(prediction) == 0:\n",
    "                p_Baseline2.append(0)\n",
    "                r_Baseline2.append(0)\n",
    "                f1_Baseline2.append(0)\n",
    "                count_Baseline2.append(0)\n",
    "                pbar.update(1)\n",
    "                continue\n",
    "            p_ = len(inter) / len(prediction)\n",
    "            r_ = len(inter) / len(ans)\n",
    "            f1_ = 0\n",
    "            if (p_+r_) !=0:\n",
    "                f1_ = 2*p_*r_ / (p_+r_)\n",
    "            if f1_ == 1:\n",
    "                count_Baseline2.append(1)\n",
    "            else:\n",
    "                count_Baseline2.append(0)\n",
    "            p_Baseline2.append(p_)\n",
    "            r_Baseline2.append(r_)\n",
    "            f1_Baseline2.append(f1_)\n",
    "            pbar.set_description(f\"[EM={np.mean(count_Baseline2):.3f}±{(1.96 * np.std(count_Baseline2))/np.sqrt(len(count_Baseline2)):.3f}|F1={np.mean(f1_Baseline2):.3f}±{(1.96 * np.std(f1_Baseline2))/np.sqrt(len(f1_Baseline2)):.3f}|P={np.mean(p_Baseline2):.3f}±{(1.96 * np.std(p_Baseline2))/np.sqrt(len(p_Baseline2)):.3f}|R={np.mean(r_Baseline2):.3f}±{(1.96 * np.std(r_Baseline2))/np.sqrt(len(r_Baseline2)):.3f}]\")\n",
    "            pbar.update(1)\n",
    "\n",
    "print(f\"[TP={TP_Baseline2/len(TAG_Baseline2):.3f}|TN={TN_Baseline2/len(TAG_Baseline2):.3f}|FP={FP_Baseline2/len(TAG_Baseline2):.3f}|FN={FN_Baseline2/len(TAG_Baseline2):.3f}]\")\n"
   ]
  },
  {
   "cell_type": "markdown",
   "id": "distinct-update",
   "metadata": {},
   "source": [
    "# Plots"
   ]
  },
  {
   "cell_type": "code",
   "execution_count": 184,
   "id": "atlantic-webmaster",
   "metadata": {},
   "outputs": [],
   "source": [
    "data = pd.DataFrame(columns=['algo','accuracy','f1', 'precision',  'recall', 'clf_accuracy'])\n",
    "data_list = list(zip(['MILP']*len(count_MILP), count_MILP, f1_MILP, p_MILP, r_MILP, TAG_MILP))\n",
    "data = data.append(pd.DataFrame(data_list, columns=['algo','accuracy','f1', 'precision',  'recall', 'clf_accuracy']),ignore_index=True)\n",
    "\n",
    "data_list = list(zip(['Baseline 1']*len(count_Baseline2), count_Baseline1, f1_Baseline1, p_Baseline1, r_Baseline1, TAG_Baseline1))\n",
    "data = data.append(pd.DataFrame(data_list, columns=['algo','accuracy','f1', 'precision',  'recall', 'clf_accuracy']),ignore_index=True)\n",
    "\n",
    "data_list = list(zip(['Baseline 2']*len(count_Baseline2), count_Baseline2, f1_Baseline2, p_Baseline2, r_Baseline2, TAG_Baseline2))\n",
    "data = data.append(pd.DataFrame(data_list, columns=['algo','accuracy','f1', 'precision',  'recall', 'clf_accuracy']),ignore_index=True)\n",
    "\n",
    "data[\"clf_accuracy\"].replace({\"TP\": 1, \"TN\": 1,\"FP\": 0, \"FN\": 0}, inplace=True)\n",
    "\n"
   ]
  },
  {
   "cell_type": "code",
   "execution_count": 185,
   "id": "integral-shipping",
   "metadata": {},
   "outputs": [
    {
     "data": {
      "image/png": "[encoded data removed]",
      "text/plain": [
       "<Figure size 432x288 with 1 Axes>"
      ]
     },
     "metadata": {
      "needs_background": "light"
     },
     "output_type": "display_data"
    }
   ],
   "source": [
    "# statistic, pvalue = stats.ttest_ind(acc2, acc_baseline2)\n",
    "ax = sns.barplot(x=\"algo\", y=\"accuracy\", data=data, ci=95, capsize=.2)\n",
    "# ax.text(.5,.87,f\"p-value = {pvalue:.4f} ≮ 0.05\",\n",
    "#         horizontalalignment='center',\n",
    "#         transform=ax.transAxes,\n",
    "#        bbox=dict(facecolor='white', edgecolor='none'))\n",
    "ax.grid(color='black', linestyle='--', linewidth=1)\n",
    "ax.set_axisbelow(True)\n",
    "\n",
    "plt.xlabel(\"\")\n",
    "plt.ylabel(\"Exact Match\")\n",
    "# plt.title(\"Box plot of #candidates per cycle and system\")\n",
    "params = {'legend.fontsize': 18,\n",
    "          'axes.labelsize': 20,\n",
    "          'axes.titlesize': 14,\n",
    "          'xtick.labelsize': 20,\n",
    "          'ytick.labelsize': 18,\n",
    "          'axes.titlepad': 25,\n",
    "          'font.size': 24}\n",
    "plt.rcParams.update(params)\n",
    "plt.ylim(0.40, 0.65)\n",
    "plt.savefig('plots/em_SQuAD2.0.eps', bbox_inches = 'tight')\n",
    "plt.show()\n"
   ]
  },
  {
   "cell_type": "code",
   "execution_count": 192,
   "id": "suitable-cliff",
   "metadata": {},
   "outputs": [
    {
     "data": {
      "image/png": "[encoded data removed]",
      "text/plain": [
       "<Figure size 432x288 with 1 Axes>"
      ]
     },
     "metadata": {
      "needs_background": "light"
     },
     "output_type": "display_data"
    }
   ],
   "source": [
    "# statistic, pvalue = stats.ttest_ind(f1_2, f1_baseline2)\n",
    "ax = sns.barplot(x=\"algo\", y=\"f1\", data=data, ci=95, capsize=.2)\n",
    "# ax.text(.5,.87,f\"p-value = {pvalue:.4f} ≮ 0.05\",\n",
    "#         horizontalalignment='center',\n",
    "#         transform=ax.transAxes,\n",
    "#        bbox=dict(facecolor='white', edgecolor='none'))\n",
    "ax.grid(color='black', linestyle='--', linewidth=1)\n",
    "ax.set_axisbelow(True)\n",
    "\n",
    "plt.xlabel(\"\")\n",
    "plt.ylabel(\"F1-Score\")\n",
    "# plt.title(\"Box plot of #candidates per cycle and system\")\n",
    "params = {'legend.fontsize': 18,\n",
    "          'axes.labelsize': 20,\n",
    "          'axes.titlesize': 14,\n",
    "          'xtick.labelsize': 20,\n",
    "          'ytick.labelsize': 18,\n",
    "          'axes.titlepad': 25,\n",
    "          'font.size': 24}\n",
    "plt.rcParams.update(params)\n",
    "plt.ylim(0.55, 0.75)\n",
    "plt.savefig('plots/f1_score_SQuAD2.0.eps', bbox_inches = 'tight')\n",
    "plt.show()\n"
   ]
  },
  {
   "cell_type": "code",
   "execution_count": 193,
   "id": "minimal-kernel",
   "metadata": {},
   "outputs": [
    {
     "data": {
      "image/png": "[encoded data removed]",
      "text/plain": [
       "<Figure size 432x288 with 1 Axes>"
      ]
     },
     "metadata": {
      "needs_background": "light"
     },
     "output_type": "display_data"
    }
   ],
   "source": [
    "# statistic, pvalue = stats.ttest_ind(p2, p_baseline2)\n",
    "ax = sns.barplot(x=\"algo\", y=\"precision\", data=data, ci=95, capsize=.2)\n",
    "# ax.text(.5,.87,f\"p-value = {pvalue:.4f} ≮ 0.05\",\n",
    "#         horizontalalignment='center',\n",
    "#         transform=ax.transAxes,\n",
    "#        bbox=dict(facecolor='white', edgecolor='none'))\n",
    "ax.grid(color='black', linestyle='--', linewidth=1)\n",
    "ax.set_axisbelow(True)\n",
    "plt.xlabel(\"\")\n",
    "plt.ylabel(\"Precision\")\n",
    "# plt.title(\"Box plot of #candidates per cycle and system\")\n",
    "params = {'legend.fontsize': 18,\n",
    "          'axes.labelsize': 20,\n",
    "          'axes.titlesize': 14,\n",
    "          'xtick.labelsize': 20,\n",
    "          'ytick.labelsize': 18,\n",
    "          'axes.titlepad': 25,\n",
    "          'font.size': 24}\n",
    "plt.rcParams.update(params)\n",
    "plt.ylim(0.55, 0.75)\n",
    "plt.savefig('plots/precision_SQuAD2.0.eps', bbox_inches = 'tight')\n",
    "plt.show()\n"
   ]
  },
  {
   "cell_type": "code",
   "execution_count": 194,
   "id": "alleged-gauge",
   "metadata": {},
   "outputs": [
    {
     "data": {
      "image/png": "[encoded data removed]",
      "text/plain": [
       "<Figure size 432x288 with 1 Axes>"
      ]
     },
     "metadata": {
      "needs_background": "light"
     },
     "output_type": "display_data"
    }
   ],
   "source": [
    "# statistic, pvalue = stats.ttest_ind(r2, r_baseline2)\n",
    "ax = sns.barplot(x=\"algo\", y=\"recall\", data=data, ci=95, capsize=.2)\n",
    "# ax.text(.5,.87,f\"p-value = {pvalue:.4f} < 0.05\",\n",
    "#         horizontalalignment='center',\n",
    "#         transform=ax.transAxes,\n",
    "#        bbox=dict(facecolor='white', edgecolor='none'))\n",
    "ax.grid(color='black', linestyle='--', linewidth=1)\n",
    "ax.set_axisbelow(True)\n",
    "plt.xlabel(\"\")\n",
    "plt.ylabel(\"Recall\")\n",
    "# plt.title(\"Box plot of #candidates per cycle and system\")\n",
    "params = {'legend.fontsize': 18,\n",
    "          'axes.labelsize': 20,\n",
    "          'axes.titlesize': 14,\n",
    "          'xtick.labelsize': 20,\n",
    "          'ytick.labelsize': 18,\n",
    "          'axes.titlepad': 25,\n",
    "          'font.size': 24}\n",
    "plt.rcParams.update(params)\n",
    "plt.ylim(0.55, 0.75)\n",
    "plt.savefig('plots/recall_SQuAD2.0.eps', bbox_inches = 'tight')\n",
    "plt.show()\n"
   ]
  },
  {
   "cell_type": "code",
   "execution_count": 195,
   "id": "equivalent-athens",
   "metadata": {},
   "outputs": [
    {
     "data": {
      "image/png": "[encoded data removed]",
      "text/plain": [
       "<Figure size 432x288 with 1 Axes>"
      ]
     },
     "metadata": {
      "needs_background": "light"
     },
     "output_type": "display_data"
    }
   ],
   "source": [
    "# statistic, pvalue = stats.ttest_ind(r2, r_baseline2)\n",
    "ax = sns.barplot(x=\"algo\", y=\"clf_accuracy\", data=data, ci=95, capsize=.2)\n",
    "# ax.text(.5,.87,f\"p-value = {pvalue:.4f} < 0.05\",\n",
    "#         horizontalalignment='center',\n",
    "#         transform=ax.transAxes,\n",
    "#        bbox=dict(facecolor='white', edgecolor='none'))\n",
    "ax.grid(color='black', linestyle='--', linewidth=1)\n",
    "ax.set_axisbelow(True)\n",
    "plt.xlabel(\"\")\n",
    "plt.ylabel(\"Accuracy\")\n",
    "# plt.title(\"Box plot of #candidates per cycle and system\")\n",
    "params = {'legend.fontsize': 18,\n",
    "          'axes.labelsize': 20,\n",
    "          'axes.titlesize': 14,\n",
    "          'xtick.labelsize': 20,\n",
    "          'ytick.labelsize': 18,\n",
    "          'axes.titlepad': 25,\n",
    "          'font.size': 24}\n",
    "plt.rcParams.update(params)\n",
    "plt.ylim(0.70, 0.90)\n",
    "plt.savefig('plots/clf_accuracy_SQuAD2.0.eps', bbox_inches = 'tight')\n",
    "plt.show()\n"
   ]
  },
  {
   "cell_type": "code",
   "execution_count": 197,
   "id": "brazilian-quebec",
   "metadata": {},
   "outputs": [
    {
     "name": "stdout",
     "output_type": "stream",
     "text": [
      "\\textbf{MILP vs. Baseline 2} & 0.0000 & 0.0000 & 0.2018 & 0.0000  \\\\\n",
      "\\textbf{MILP vs. Baseline 2} & 0.0000 & 0.0000 & 0.0318 & 0.0000 \\\\\n"
     ]
    }
   ],
   "source": [
    "# This part is for the statistical tests\n",
    "p_value_em = stats.ttest_ind(data[data['algo']=='MILP']['accuracy'], data[data['algo']=='Baseline 1']['accuracy'])[1]\n",
    "p_value_f1 = stats.ttest_ind(data[data['algo']=='MILP']['f1'], data[data['algo']=='Baseline 1']['f1'])[1]\n",
    "p_value_precision = stats.ttest_ind(data[data['algo']=='MILP']['precision'], data[data['algo']=='Baseline 1']['precision'])[1]\n",
    "p_value_recall = stats.ttest_ind(data[data['algo']=='MILP']['recall'], data[data['algo']=='Baseline 1']['recall'])[1]\n",
    "p_value_clf_accuracy = stats.ttest_ind(data[data['algo']=='MILP']['clf_accuracy'], data[data['algo']=='Baseline 1']['clf_accuracy'])[1]\n",
    "print('\\\\textbf{MILP vs. Baseline 1} &', f'{p_value_em:.4f} & {p_value_f1:.4f} & {p_value_precision:.4f} & {p_value_recall:.4f}  \\\\\\\\' )\n",
    "\n",
    "p_value_em = stats.ttest_ind(data[data['algo']=='MILP']['accuracy'], data[data['algo']=='Baseline 2']['accuracy'])[1]\n",
    "p_value_f1 = stats.ttest_ind(data[data['algo']=='MILP']['f1'], data[data['algo']=='Baseline 2']['f1'])[1]\n",
    "p_value_precision = stats.ttest_ind(data[data['algo']=='MILP']['precision'], data[data['algo']=='Baseline 2']['precision'])[1]\n",
    "p_value_recall = stats.ttest_ind(data[data['algo']=='MILP']['recall'], data[data['algo']=='Baseline 2']['recall'])[1]\n",
    "p_value_clf_accuracy = stats.ttest_ind(data[data['algo']=='MILP']['clf_accuracy'], data[data['algo']=='Baseline 2']['clf_accuracy'])[1]\n",
    "print('\\\\textbf{MILP vs. Baseline 2} &', f'{p_value_em:.4f} & {p_value_f1:.4f} & {p_value_precision:.4f} & {p_value_recall:.4f} \\\\\\\\' )\n",
    "\n"
   ]
  },
  {
   "cell_type": "code",
   "execution_count": null,
   "id": "outdoor-delay",
   "metadata": {},
   "outputs": [],
   "source": []
  }
 ],
 "metadata": {
  "kernelspec": {
   "display_name": "Python 3",
   "language": "python",
   "name": "python3"
  },
  "language_info": {
   "codemirror_mode": {
    "name": "ipython",
    "version": 3
   },
   "file_extension": ".py",
   "mimetype": "text/x-python",
   "name": "python",
   "nbconvert_exporter": "python",
   "pygments_lexer": "ipython3",
   "version": "3.8.5"
  }
 },
 "nbformat": 4,
 "nbformat_minor": 5
}
