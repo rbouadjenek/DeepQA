{
 "cells": [
  {
   "cell_type": "code",
   "execution_count": 205,
   "id": "yellow-illinois",
   "metadata": {},
   "outputs": [],
   "source": [
    "import json\n",
    "import os\n",
    "import string\n",
    "import re\n",
    "from tokenizers import BertWordPieceTokenizer\n",
    "from transformers import BertTokenizer\n",
    "from preprocessing.MILP_Algorithm import select_LP_optimal_subsequence\n",
    "import numpy as np\n",
    "from sklearn import tree\n",
    "from tqdm import tqdm\n",
    "import math\n",
    "import pandas as pd\n",
    "import seaborn as sns\n",
    "import matplotlib.pyplot as plt\n",
    "import itertools, operator\n"
   ]
  },
  {
   "cell_type": "markdown",
   "id": "qualified-appliance",
   "metadata": {},
   "source": [
    "# Read the data"
   ]
  },
  {
   "cell_type": "code",
   "execution_count": 57,
   "id": "french-transportation",
   "metadata": {},
   "outputs": [],
   "source": [
    "eval_pred = open(\"data/milp_SQuAD2.0_eval_pred.txt\", \"r\")\n",
    "test_pred = open(\"data/milp_SQuAD2.0_test_pred.txt\", \"r\")\n",
    "y2_eval = open(\"data/milp_SQuAD2.0_y2_eval.txt\", \"r\")\n",
    "y3_eval = open(\"data/milp_SQuAD2.0_y3_eval.txt\", \"r\")\n",
    "y2_test = open(\"data/milp_SQuAD2.0_y2_test.txt\", \"r\")\n",
    "y3_test = open(\"data/milp_SQuAD2.0_y3_test.txt\", \"r\")\n",
    "\n",
    "eval_pred  = json.loads(eval_pred.read())\n",
    "test_pred  = json.loads(test_pred.read())\n",
    "y2_eval  = json.loads(y2_eval.read())\n",
    "y3_eval  = json.loads(y3_eval.read())\n",
    "y2_test  = json.loads(y2_test.read())\n",
    "y3_test  = json.loads(y3_test.read())\n",
    "\n",
    "eval_pred = [[0 if math.isnan(y) else y for y in x] for x in eval_pred]\n",
    "test_pred = [[0 if math.isnan(y) else y for y in x] for x in test_pred]\n"
   ]
  },
  {
   "cell_type": "code",
   "execution_count": 58,
   "id": "renewable-float",
   "metadata": {},
   "outputs": [],
   "source": [
    "# set max length value\n",
    "max_len = 300\n",
    "# Create the tokenizer\n",
    "save_path = os.path.expanduser(\"~\") + \"/.bert_base_uncased/\"\n",
    "if not os.path.exists(save_path):\n",
    "    slow_tokenizer = BertTokenizer.from_pretrained(\"bert-base-uncased\")\n",
    "    os.makedirs(save_path)\n",
    "    slow_tokenizer.save_pretrained(save_path)\n",
    "tokenizer = BertWordPieceTokenizer(save_path + \"vocab.txt\", lowercase=True)\n"
   ]
  },
  {
   "cell_type": "markdown",
   "id": "afraid-massage",
   "metadata": {},
   "source": [
    "# MILP\n",
    "## Using a Decision tree to find the answerability threshold"
   ]
  },
  {
   "cell_type": "code",
   "execution_count": 77,
   "id": "controlled-server",
   "metadata": {},
   "outputs": [
    {
     "name": "stderr",
     "output_type": "stream",
     "text": [
      "100%|██████████| 7031/7031 [59:58<00:00,  1.95it/s]  \n"
     ]
    }
   ],
   "source": [
    "# eval_pred_start_end = []\n",
    "# with tqdm(total=len(eval_pred)) as pbar:\n",
    "#     for idx, probabilities in enumerate(eval_pred):\n",
    "#         s_pred,e_pred,_ = select_LP_optimal_subsequence(probabilities)\n",
    "#         eval_pred_start_end.append([s_pred, e_pred])  \n",
    "#         pbar.update(1)\n",
    "\n"
   ]
  },
  {
   "cell_type": "code",
   "execution_count": 118,
   "id": "collaborative-rouge",
   "metadata": {},
   "outputs": [
    {
     "name": "stderr",
     "output_type": "stream",
     "text": [
      "100%|██████████| 7031/7031 [00:00<00:00, 41081.10it/s]\n"
     ]
    }
   ],
   "source": [
    "X = []\n",
    "y = []\n",
    "with tqdm(total=len(eval_pred_start_end)) as pbar:\n",
    "    for idx, s_pred_e_pred in enumerate(eval_pred_start_end):\n",
    "        s_pred = s_pred_e_pred[0]\n",
    "        e_pred = s_pred_e_pred[1]\n",
    "        prediction = list(range(s_pred, e_pred+1))          \n",
    "        expected_p = np.sum(eval_pred[idx][s_pred:e_pred+1]) / len(prediction)\n",
    "        X.append([expected_p])\n",
    "        if np.sum(y2_eval[idx]) == 0:\n",
    "            y.append(0)\n",
    "        else:\n",
    "            y.append(1)            \n",
    "        pbar.update(1)\n",
    "\n",
    "        \n"
   ]
  },
  {
   "cell_type": "code",
   "execution_count": 159,
   "id": "optical-convention",
   "metadata": {},
   "outputs": [
    {
     "data": {
      "text/plain": [
       "[Text(167.4, 163.07999999999998, 'X[0] <= 0.385\\ngini = 0.472\\nsamples = 7031\\nvalue = [2689, 4342]'),\n",
       " Text(83.7, 54.360000000000014, 'gini = 0.355\\nsamples = 2346\\nvalue = [1805, 541]'),\n",
       " Text(251.10000000000002, 54.360000000000014, 'gini = 0.306\\nsamples = 4685\\nvalue = [884, 3801]')]"
      ]
     },
     "execution_count": 159,
     "metadata": {},
     "output_type": "execute_result"
    },
    {
     "data": {
      "image/png": "[encoded data removed]",
      "text/plain": [
       "<Figure size 432x288 with 1 Axes>"
      ]
     },
     "metadata": {
      "needs_background": "light"
     },
     "output_type": "display_data"
    }
   ],
   "source": [
    "clf_MILP = tree.DecisionTreeClassifier(max_depth=1)\n",
    "clf_MILP.fit(X, y)\n",
    "tree.plot_tree(clf_MILP) \n"
   ]
  },
  {
   "cell_type": "code",
   "execution_count": 80,
   "id": "moral-praise",
   "metadata": {},
   "outputs": [
    {
     "name": "stderr",
     "output_type": "stream",
     "text": [
      "100%|██████████| 11792/11792 [1:42:52<00:00,  1.91it/s] \n"
     ]
    }
   ],
   "source": [
    "# test_pred_start_end = []\n",
    "# with tqdm(total=len(test_pred)) as pbar:\n",
    "#     for idx, probabilities in enumerate(test_pred):\n",
    "#         s_pred,e_pred,_ = select_LP_optimal_subsequence(probabilities)\n",
    "#         test_pred_start_end.append([s_pred, e_pred])  \n",
    "#         pbar.update(1)\n",
    "\n"
   ]
  },
  {
   "cell_type": "markdown",
   "id": "precious-security",
   "metadata": {},
   "source": [
    "## Compute performance"
   ]
  },
  {
   "cell_type": "code",
   "execution_count": 122,
   "id": "qualified-bones",
   "metadata": {},
   "outputs": [],
   "source": [
    "def normalize_text(text):\n",
    "    text = text.lower()\n",
    "\n",
    "    # Remove punctuations\n",
    "    exclude = set(string.punctuation)\n",
    "    text = \"\".join(ch for ch in text if ch not in exclude)\n",
    "\n",
    "    # Remove articles\n",
    "    regex = re.compile(r\"\\b(a|an|the)\\b\", re.UNICODE)\n",
    "    text = re.sub(regex, \" \", text)\n",
    "\n",
    "    # Remove extra white space\n",
    "    text = \" \".join(text.split())\n",
    "    return text\n",
    "\n"
   ]
  },
  {
   "cell_type": "code",
   "execution_count": 194,
   "id": "rubber-rally",
   "metadata": {},
   "outputs": [
    {
     "name": "stderr",
     "output_type": "stream",
     "text": [
      "[EM=0.542|F1=0.655±0.008|P=0.646±0.008|R=0.696±0.008]: 100%|██████████| 11792/11792 [01:05<00:00, 178.80it/s]\n"
     ]
    },
    {
     "name": "stdout",
     "output_type": "stream",
     "text": [
      "[EM=0.542|F1=0.655±0.008|P=0.646±0.008|R=0.696±0.008]\n",
      "[TP=0.432|TN=0.318|TP=0.186|TP=0.064]\n"
     ]
    }
   ],
   "source": [
    "count_MILP = []\n",
    "p_MILP = []\n",
    "r_MILP = []\n",
    "f1_MILP = []\n",
    "\n",
    "TN_MILP = 0\n",
    "FN_MILP = 0\n",
    "TP_MILP = 0\n",
    "FP_MILP = 0\n",
    "TAG_MILP = []\n",
    "\n",
    "with tqdm(total=len(test_pred_start_end)) as pbar:\n",
    "    for idx, s_pred_e_pred in enumerate(test_pred_start_end):\n",
    "        s_pred = s_pred_e_pred[0]\n",
    "        e_pred = s_pred_e_pred[1]\n",
    "        prediction = list(range(s_pred, e_pred+1))        \n",
    "        expected_p = np.sum(test_pred[idx][s_pred:e_pred+1]) / len(prediction)        \n",
    "        answerability = clf_MILP.predict([[expected_p]])[0]\n",
    "        if  answerability == 0 and np.sum(y2_test[idx]) == 0: # Correct predicion of unanswerability\n",
    "            TN_MILP += 1\n",
    "            TAG_MILP.append('TN')\n",
    "            p_MILP.append(1)\n",
    "            r_MILP.append(1)\n",
    "            f1_MILP.append(1)\n",
    "            count_MILP.append(1)\n",
    "            pbar.set_description(f\"[EM={np.mean(count_MILP):.3f}|F1={np.mean(f1_MILP):.3f}±{(1.96 * np.std(f1_MILP))/np.sqrt(len(f1_MILP)):.3f}|P={np.mean(p_MILP):.3f}±{(1.96 * np.std(p_MILP))/np.sqrt(len(p_MILP)):.3f}|R={np.mean(r_MILP):.3f}±{(1.96 * np.std(r_MILP))/np.sqrt(len(r_MILP)):.3f}]\")    \n",
    "            pbar.update(1)\n",
    "            continue\n",
    "        elif answerability == 1 and np.sum(y2_test[idx]) == 0 or answerability == 0 and np.sum(y2_test[idx]) > 0:\n",
    "             # Incorrect predicion of answerability\n",
    "            if answerability == 1:\n",
    "                FP_MILP += 1\n",
    "                TAG_MILP.append('FP')\n",
    "            else:\n",
    "                FN_MILP += 1\n",
    "                TAG_MILP.append('FN')\n",
    "            p_MILP.append(0)\n",
    "            r_MILP.append(0)\n",
    "            f1_MILP.append(0)\n",
    "            count_MILP.append(0)            \n",
    "            pbar.set_description(f\"[EM={np.mean(count_MILP):.3f}|F1={np.mean(f1_MILP):.3f}±{(1.96 * np.std(f1_MILP))/np.sqrt(len(f1_MILP)):.3f}|P={np.mean(p_MILP):.3f}±{(1.96 * np.std(p_MILP))/np.sqrt(len(p_MILP)):.3f}|R={np.mean(r_MILP):.3f}±{(1.96 * np.std(r_MILP))/np.sqrt(len(r_MILP)):.3f}]\")    \n",
    "            pbar.update(1)\n",
    "            continue\n",
    "        else:   # Correct predicion of answerability      \n",
    "            TP_MILP += 1\n",
    "            TAG_MILP.append('TP')\n",
    "            ans = list(y3_test[idx])\n",
    "\n",
    "            normalized_pred_ans = normalize_text(tokenizer.decode(prediction))\n",
    "            normalized_true_ans = normalize_text(tokenizer.decode(ans))\n",
    "\n",
    "            if normalized_pred_ans == normalized_true_ans:\n",
    "                count_MILP.append(1)\n",
    "            else:\n",
    "                count_MILP.append(0)\n",
    "            prediction = set(normalized_pred_ans.split(' '))\n",
    "            true = set(normalized_true_ans.split(' '))\n",
    "            inter = set(prediction & true)\n",
    "            p_ = len(inter) / len(prediction)\n",
    "            r_ = len(inter) / len(true)  \n",
    "            f1_ = 0\n",
    "            if (p_+r_) !=0:\n",
    "                f1_ = 2*p_*r_ / (p_+r_)\n",
    "            p_MILP.append(p_)\n",
    "            r_MILP.append(r_)\n",
    "            f1_MILP.append(f1_)\n",
    "            pbar.set_description(f\"[EM={np.mean(count_MILP):.3f}|F1={np.mean(f1_MILP):.3f}±{(1.96 * np.std(f1_MILP))/np.sqrt(len(f1_MILP)):.3f}|P={np.mean(p_MILP):.3f}±{(1.96 * np.std(p_MILP))/np.sqrt(len(p_MILP)):.3f}|R={np.mean(r_MILP):.3f}±{(1.96 * np.std(r_MILP))/np.sqrt(len(r_MILP)):.3f}]\")    \n",
    "            pbar.update(1)\n",
    "        \n",
    "print(f\"[EM={np.mean(count_MILP):.3f}|F1={np.mean(f1_MILP):.3f}±{(1.96 * np.std(f1_MILP))/np.sqrt(len(f1_MILP)):.3f}|P={np.mean(p_MILP):.3f}±{(1.96 * np.std(p_MILP))/np.sqrt(len(p_MILP)):.3f}|R={np.mean(r_MILP):.3f}±{(1.96 * np.std(r_MILP))/np.sqrt(len(r_MILP)):.3f}]\")        \n",
    "print(f\"[TP={TP_MILP/len(TAG_MILP):.3f}|TN={TN_MILP/len(TAG_MILP):.3f}|TP={FP_MILP/len(TAG_MILP):.3f}|TP={FN_MILP/len(TAG_MILP):.3f}]\")\n",
    "\n",
    "\n"
   ]
  },
  {
   "cell_type": "markdown",
   "id": "selective-fifty",
   "metadata": {},
   "source": [
    "# Baseline 1\n",
    "## Using a Decision tree to find the answerability threshold"
   ]
  },
  {
   "cell_type": "code",
   "execution_count": 173,
   "id": "technological-drilling",
   "metadata": {},
   "outputs": [],
   "source": [
    "eval_pred_start_baseline1 = open(\"data/Baseline1_SQuAD2.0_eval_pred_start.txt\", \"r\")\n",
    "eval_pred_end_baseline1 = open(\"data/Baseline1_SQuAD2.0_eval_pred_end.txt\", \"r\")\n",
    "test_pred_start_baseline1 = open(\"data/Baseline1_SQuAD2.0_test_pred_start.txt\", \"r\")\n",
    "test_pred_end_baseline1 = open(\"data/Baseline1_SQuAD2.0_test_pred_end.txt\", \"r\")\n",
    "y2_eval_baseline1 = open(\"data/Baseline1_SQuAD2.0_y2_eval.txt\", \"r\")\n",
    "y3_eval_baseline1 = open(\"data/Baseline1_SQuAD2.0_y3_eval.txt\", \"r\")\n",
    "y2_test_baseline1 = open(\"data/Baseline1_SQuAD2.0_y2_test.txt\", \"r\")\n",
    "y3_test_baseline1 = open(\"data/Baseline1_SQuAD2.0_y3_test.txt\", \"r\")\n",
    "\n",
    "eval_pred_start_baseline1  = json.loads(eval_pred_start_baseline1.read())\n",
    "eval_pred_end_baseline1  = json.loads(eval_pred_end_baseline1.read())\n",
    "test_pred_start_baseline1  = json.loads(test_pred_start_baseline1.read())\n",
    "test_pred_end_baseline1  = json.loads(test_pred_end_baseline1.read())\n",
    "y2_eval_baseline1  = json.loads(y2_eval_baseline1.read())\n",
    "y3_eval_baseline1  = json.loads(y3_eval_baseline1.read())\n",
    "y2_test_baseline1  = json.loads(y2_test_baseline1.read())\n",
    "y3_test_baseline1  = json.loads(y3_test_baseline1.read())\n",
    "\n",
    "eval_pred_start_baseline1 = [[0 if math.isnan(y) else y for y in x] for x in eval_pred_start_baseline1]\n",
    "eval_pred_end_baseline1 = [[0 if math.isnan(y) else y for y in x] for x in eval_pred_end_baseline1]\n",
    "test_pred_start_baseline1 = [[0 if math.isnan(y) else y for y in x] for x in test_pred_start_baseline1]\n",
    "test_pred_end_baseline1 = [[0 if math.isnan(y) else y for y in x] for x in test_pred_end_baseline1]\n"
   ]
  },
  {
   "cell_type": "code",
   "execution_count": 182,
   "id": "competent-bobby",
   "metadata": {},
   "outputs": [
    {
     "name": "stderr",
     "output_type": "stream",
     "text": [
      "100%|██████████| 7031/7031 [00:00<00:00, 18257.66it/s]\n"
     ]
    },
    {
     "data": {
      "text/plain": [
       "[Text(167.4, 163.07999999999998, 'X[0] <= 0.507\\ngini = 0.472\\nsamples = 7031\\nvalue = [2689, 4342]'),\n",
       " Text(83.7, 54.360000000000014, 'gini = 0.297\\nsamples = 4799\\nvalue = [869, 3930]'),\n",
       " Text(251.10000000000002, 54.360000000000014, 'gini = 0.301\\nsamples = 2232\\nvalue = [1820, 412]')]"
      ]
     },
     "execution_count": 182,
     "metadata": {},
     "output_type": "execute_result"
    },
    {
     "data": {
      "image/png": "[encoded data removed]",
      "text/plain": [
       "<Figure size 432x288 with 1 Axes>"
      ]
     },
     "metadata": {
      "needs_background": "light"
     },
     "output_type": "display_data"
    }
   ],
   "source": [
    "X_baseline1 = []\n",
    "y_baseline1 = []\n",
    "with tqdm(total=len(eval_pred_start_baseline1)) as pbar:\n",
    "    for idx, (start, end) in enumerate(zip(eval_pred_start_baseline1, eval_pred_end_baseline1)):\n",
    "        s_pred = np.max(start[1:]) + np.max(end[1:])\n",
    "        s_null = start[0] + end[0]\n",
    "        X_baseline1.append([s_null-s_pred])\n",
    "        if np.sum(y2_eval_baseline1[idx]) == 0:\n",
    "            y_baseline1.append(0)\n",
    "        else:\n",
    "            y_baseline1.append(1)  \n",
    "        pbar.update(1)       \n",
    "\n",
    "clf_Baseline1 = tree.DecisionTreeClassifier(max_depth=1)\n",
    "clf_Baseline1.fit(X_baseline1, y_baseline1)\n",
    "tree.plot_tree(clf_Baseline1)         \n"
   ]
  },
  {
   "cell_type": "code",
   "execution_count": 193,
   "id": "governmental-crisis",
   "metadata": {},
   "outputs": [
    {
     "name": "stderr",
     "output_type": "stream",
     "text": [
      "[EM=0.601|F1=0.682±0.008|P=0.696±0.008|R=0.700±0.008]: 100%|██████████| 11792/11792 [01:09<00:00, 169.68it/s]"
     ]
    },
    {
     "name": "stdout",
     "output_type": "stream",
     "text": [
      "[EM=0.601|F1=0.682±0.008|P=0.696±0.008|R=0.700±0.008]\n",
      "[TP=0.439|TN=0.347|TP=0.157|TP=0.057]\n"
     ]
    },
    {
     "name": "stderr",
     "output_type": "stream",
     "text": [
      "\n"
     ]
    }
   ],
   "source": [
    "count_Baseline1 = []\n",
    "p_Baseline1 = []\n",
    "r_Baseline1 = []\n",
    "f1_Baseline1 = []\n",
    "\n",
    "TN_Baseline1 = 0\n",
    "FN_Baseline1 = 0\n",
    "TP_Baseline1 = 0\n",
    "FP_Baseline1 = 0\n",
    "TAG_Baseline1 = []\n",
    "\n",
    "with tqdm(total=len(test_pred_start_baseline1)) as pbar:\n",
    "    for idx, (start, end) in enumerate(zip(test_pred_start_baseline1, test_pred_end_baseline1)):  \n",
    "        s_pred = np.max(start[1:]) + np.max(end[1:])\n",
    "        s_null = start[0] + end[0]\n",
    "        answerability = clf_Baseline1.predict([[s_null-s_pred]])[0]        \n",
    "        if  answerability == 0 and np.sum(y2_test_baseline1[idx]) == 0: # Correct predicion of unanswerability\n",
    "            TN_Baseline1 += 1\n",
    "            TAG_Baseline1.append('TN')\n",
    "            p_Baseline1.append(1)\n",
    "            r_Baseline1.append(1)\n",
    "            f1_Baseline1.append(1)\n",
    "            count_Baseline1.append(1)\n",
    "            pbar.set_description(f\"[EM={np.mean(count_Baseline1):.3f}|F1={np.mean(f1_Baseline1):.3f}±{(1.96 * np.std(f1_Baseline1))/np.sqrt(len(f1_Baseline1)):.3f}|P={np.mean(p_Baseline1):.3f}±{(1.96 * np.std(p_Baseline1))/np.sqrt(len(p_Baseline1)):.3f}|R={np.mean(r_Baseline1):.3f}±{(1.96 * np.std(r_Baseline1))/np.sqrt(len(r_Baseline1)):.3f}]\")\n",
    "            pbar.update(1)\n",
    "            continue\n",
    "        elif answerability == 1 and np.sum(y2_test_baseline1[idx]) == 0 or answerability == 0 and np.sum(y2_test_baseline1[idx]) > 0:\n",
    "             # Incorrect predicion of answerability\n",
    "            if answerability == 1:\n",
    "                FP_Baseline1 += 1\n",
    "                TAG_Baseline1.append('FP')\n",
    "            else:\n",
    "                FN_Baseline1 += 1\n",
    "                TAG_Baseline1.append('FN')\n",
    "            p_Baseline1.append(0)\n",
    "            r_Baseline1.append(0)\n",
    "            f1_Baseline1.append(0)\n",
    "            count_Baseline1.append(0)            \n",
    "            pbar.set_description(f\"[EM={np.mean(count_Baseline1):.3f}|F1={np.mean(f1_Baseline1):.3f}±{(1.96 * np.std(f1_Baseline1))/np.sqrt(len(f1_Baseline1)):.3f}|P={np.mean(p_Baseline1):.3f}±{(1.96 * np.std(p_Baseline1))/np.sqrt(len(p_Baseline1)):.3f}|R={np.mean(r_Baseline1):.3f}±{(1.96 * np.std(r_Baseline1))/np.sqrt(len(r_Baseline1)):.3f}]\")\n",
    "            pbar.update(1)\n",
    "            continue\n",
    "        else:   # Correct predicion of answerability   \n",
    "            TP_Baseline1 += 1\n",
    "            TAG_Baseline1.append('TP')\n",
    "            s_pred = np.argmax(start)\n",
    "            e_pred = np.argmax(end)\n",
    "            prediction = set(range(s_pred, e_pred+1))  \n",
    "            ans = set(y3_test_baseline1[idx])  \n",
    "            inter = list(prediction & ans)\n",
    "            if len(prediction) == 0:\n",
    "                p_Baseline1.append(0)\n",
    "                r_Baseline1.append(0)\n",
    "                f1_Baseline1.append(0)\n",
    "                count_Baseline1.append(0)\n",
    "                pbar.update(1)\n",
    "                continue\n",
    "            p_ = len(inter) / len(prediction)\n",
    "            r_ = len(inter) / len(ans)\n",
    "            f1_ = 0\n",
    "            if (p_+r_) !=0:\n",
    "                f1_ = 2*p_*r_ / (p_+r_)\n",
    "            if f1_ == 1:\n",
    "                count_Baseline1.append(1)\n",
    "            else:\n",
    "                count_Baseline1.append(0)\n",
    "            p_Baseline1.append(p_)\n",
    "            r_Baseline1.append(r_)\n",
    "            f1_Baseline1.append(f1_)\n",
    "            pbar.set_description(f\"[EM={np.mean(count_Baseline1):.3f}|F1={np.mean(f1_Baseline1):.3f}±{(1.96 * np.std(f1_Baseline1))/np.sqrt(len(f1_Baseline1)):.3f}|P={np.mean(p_Baseline1):.3f}±{(1.96 * np.std(p_Baseline1))/np.sqrt(len(p_Baseline1)):.3f}|R={np.mean(r_Baseline1):.3f}±{(1.96 * np.std(r_Baseline1))/np.sqrt(len(r_Baseline1)):.3f}]\")\n",
    "            pbar.update(1)\n",
    "    \n",
    "print(f\"[EM={np.mean(count_Baseline1):.3f}|F1={np.mean(f1_Baseline1):.3f}±{(1.96 * np.std(f1_Baseline1))/np.sqrt(len(f1_Baseline1)):.3f}|P={np.mean(p_Baseline1):.3f}±{(1.96 * np.std(p_Baseline1))/np.sqrt(len(p_Baseline1)):.3f}|R={np.mean(r_Baseline1):.3f}±{(1.96 * np.std(r_Baseline1))/np.sqrt(len(r_Baseline1)):.3f}]\")\n",
    "print(f\"[TP={TP_Baseline1/len(TAG_Baseline1):.3f}|TN={TN_Baseline1/len(TAG_Baseline1):.3f}|TP={FP_Baseline1/len(TAG_Baseline1):.3f}|TP={FN_Baseline1/len(TAG_Baseline1):.3f}]\")\n"
   ]
  },
  {
   "cell_type": "markdown",
   "id": "stable-butterfly",
   "metadata": {},
   "source": [
    "# Baseline 2"
   ]
  },
  {
   "cell_type": "code",
   "execution_count": 225,
   "id": "combined-headset",
   "metadata": {},
   "outputs": [],
   "source": [
    "def baseline2(A):\n",
    "    B = np.where(np.array(A) > 0.5, 1, 0)\n",
    "    if np.sum(B) == 0:\n",
    "        return -1, -1\n",
    "    else:\n",
    "        r = max((list(y) for (x,y) in itertools.groupby((enumerate(B)),operator.itemgetter(1)) if x == 1), key=len)\n",
    "        return r[0][0], r[-1][0]\n",
    "    \n",
    "    "
   ]
  },
  {
   "cell_type": "code",
   "execution_count": 226,
   "id": "ordinary-sender",
   "metadata": {},
   "outputs": [
    {
     "name": "stderr",
     "output_type": "stream",
     "text": [
      "[EM=0.504|F1=0.504±0.009|P=0.504±0.009|R=0.504±0.009]: 100%|██████████| 11792/11792 [00:49<00:00, 237.19it/s]\n"
     ]
    },
    {
     "name": "stdout",
     "output_type": "stream",
     "text": [
      "[EM=0.504|F1=0.504±0.009|P=0.504±0.009|R=0.504±0.009]\n",
      "[TP=0.000|TN=0.504|TP=0.000|TP=0.496]\n"
     ]
    }
   ],
   "source": [
    "count_Baseline2 = []\n",
    "p_Baseline2 = []\n",
    "r_Baseline2 = []\n",
    "f1_Baseline2 = []\n",
    "\n",
    "TN_Baseline2 = 0\n",
    "FN_Baseline2 = 0\n",
    "TP_Baseline2 = 0\n",
    "FP_Baseline2 = 0\n",
    "TAG_Baseline2 = []\n",
    "\n",
    "with tqdm(total=len(test_pred_start_end)) as pbar:\n",
    "    for idx, s_pred_e_pred in enumerate(test_pred_start_end):\n",
    "        s_pred, e_pred = baseline2(probabilities)\n",
    "        if s_pred == -1 or e_pred == 1:\n",
    "            answerability = 0       \n",
    "        \n",
    "        if  answerability == 0 and np.sum(y2_test[idx]) == 0: # Correct predicion of unanswerability\n",
    "            TN_Baseline2 += 1\n",
    "            TAG_Baseline2.append('TN')\n",
    "            p_Baseline2.append(1)\n",
    "            r_Baseline2.append(1)\n",
    "            f1_Baseline2.append(1)\n",
    "            count_Baseline2.append(1)\n",
    "            pbar.set_description(f\"[EM={np.mean(count_Baseline2):.3f}|F1={np.mean(f1_Baseline2):.3f}±{(1.96 * np.std(f1_Baseline2))/np.sqrt(len(f1_Baseline2)):.3f}|P={np.mean(p_Baseline2):.3f}±{(1.96 * np.std(p_Baseline2))/np.sqrt(len(p_Baseline2)):.3f}|R={np.mean(r_Baseline2):.3f}±{(1.96 * np.std(r_Baseline2))/np.sqrt(len(r_Baseline2)):.3f}]\")    \n",
    "            pbar.update(1)\n",
    "            continue\n",
    "        elif answerability == 1 and np.sum(y2_test[idx]) == 0 or answerability == 0 and np.sum(y2_test[idx]) > 0:\n",
    "             # Incorrect predicion of answerability\n",
    "            if answerability == 1:\n",
    "                FP_Baseline2 += 1\n",
    "                TAG_Baseline2.append('FP')\n",
    "            else:\n",
    "                FN_Baseline2 += 1\n",
    "                TAG_Baseline2.append('FN')\n",
    "            p_Baseline2.append(0)\n",
    "            r_Baseline2.append(0)\n",
    "            f1_Baseline2.append(0)\n",
    "            count_Baseline2.append(0)            \n",
    "            pbar.set_description(f\"[EM={np.mean(count_Baseline2):.3f}|F1={np.mean(f1_Baseline2):.3f}±{(1.96 * np.std(f1_Baseline2))/np.sqrt(len(f1_Baseline2)):.3f}|P={np.mean(p_Baseline2):.3f}±{(1.96 * np.std(p_Baseline2))/np.sqrt(len(p_Baseline2)):.3f}|R={np.mean(r_Baseline2):.3f}±{(1.96 * np.std(r_Baseline2))/np.sqrt(len(r_Baseline2)):.3f}]\")    \n",
    "            pbar.update(1)\n",
    "            continue\n",
    "        else:   # Correct predicion of answerability\n",
    "            TP_Baseline2 += 1\n",
    "            TAG_Baseline2.append('TP')        \n",
    "            prediction = list(range(s_pred, e_pred + 1))\n",
    "            ans = list(y3_test[idx])\n",
    "            normalized_pred_ans = normalize_text(tokenizer.decode(prediction))\n",
    "            normalized_true_ans = normalize_text(tokenizer.decode(ans))\n",
    "            if normalized_pred_ans == normalized_true_ans:                \n",
    "                count_Baseline2.append(1)\n",
    "            else:\n",
    "                count_Baseline2.append(0)\n",
    "            prediction = set(normalized_pred_ans.split(' '))\n",
    "            true = set(normalized_true_ans.split(' '))\n",
    "            inter = set(prediction & true)\n",
    "            p_ = len(inter) / len(prediction)\n",
    "            r_ = len(inter) / len(true)\n",
    "            f1_ = 0\n",
    "            if (p_ + r_) != 0:\n",
    "                f1_ = 2 * p_ * r_ / (p_ + r_)\n",
    "            p_Baseline2.append(p_)\n",
    "            r_Baseline2.append(r_)\n",
    "            f1_Baseline2.append(f1_)\n",
    "            pbar.set_description(f\"[EM={np.mean(count_Baseline2):.3f}|F1={np.mean(f1_Baseline2):.3f}±{(1.96 * np.std(f1_Baseline2))/np.sqrt(len(f1_Baseline2)):.3f}|P={np.mean(p_Baseline2):.3f}±{(1.96 * np.std(p_Baseline2))/np.sqrt(len(p_Baseline2)):.3f}|R={np.mean(r_Baseline2):.3f}±{(1.96 * np.std(r_Baseline2))/np.sqrt(len(r_Baseline2)):.3f}]\")\n",
    "            pbar.update(1)\n",
    "\n",
    "print(f\"[EM={np.mean(count_Baseline2):.3f}|F1={np.mean(f1_Baseline2):.3f}±{(1.96 * np.std(f1_Baseline2))/np.sqrt(len(f1_Baseline2)):.3f}|P={np.mean(p_Baseline2):.3f}±{(1.96 * np.std(p_Baseline2))/np.sqrt(len(p_Baseline2)):.3f}|R={np.mean(r_Baseline2):.3f}±{(1.96 * np.std(r_Baseline2))/np.sqrt(len(r_Baseline2)):.3f}]\")\n",
    "print(f\"[TP={TP_Baseline2/len(TAG_Baseline2):.3f}|TN={TN_Baseline2/len(TAG_Baseline2):.3f}|TP={FP_Baseline2/len(TAG_Baseline2):.3f}|TP={FN_Baseline2/len(TAG_Baseline2):.3f}]\")\n"
   ]
  },
  {
   "cell_type": "markdown",
   "id": "distinct-update",
   "metadata": {},
   "source": [
    "# Plots"
   ]
  },
  {
   "cell_type": "code",
   "execution_count": 227,
   "id": "atlantic-webmaster",
   "metadata": {},
   "outputs": [],
   "source": [
    "data = pd.DataFrame(columns=['algo','accuracy','f1', 'precision',  'recall'])\n",
    "data_list = list(zip(['MILP']*len(count_MILP), count_MILP, f1_MILP, p_MILP, r_MILP))\n",
    "data = data.append(pd.DataFrame(data_list, columns=['algo','accuracy','f1', 'precision',  'recall']),ignore_index=True)\n",
    "\n",
    "data_list = list(zip(['Baseline 1']*len(count_Baseline2), count_Baseline1, f1_Baseline1, p_Baseline1, r_Baseline1))\n",
    "data = data.append(pd.DataFrame(data_list, columns=['algo','accuracy','f1', 'precision',  'recall']),ignore_index=True)\n",
    "\n",
    "data_list = list(zip(['Baseline 2']*len(count_Baseline2), count_Baseline2, f1_Baseline2, p_Baseline2, r_Baseline2))\n",
    "data = data.append(pd.DataFrame(data_list, columns=['algo','accuracy','f1', 'precision',  'recall']),ignore_index=True)\n",
    "\n",
    "\n"
   ]
  },
  {
   "cell_type": "code",
   "execution_count": 228,
   "id": "integral-shipping",
   "metadata": {},
   "outputs": [
    {
     "data": {
      "image/png": "[encoded data removed]",
      "text/plain": [
       "<Figure size 432x288 with 1 Axes>"
      ]
     },
     "metadata": {
      "needs_background": "light"
     },
     "output_type": "display_data"
    }
   ],
   "source": [
    "# statistic, pvalue = stats.ttest_ind(acc2, acc_baseline2)\n",
    "ax = sns.barplot(x=\"algo\", y=\"accuracy\", data=data, ci=95, capsize=.2)\n",
    "# ax.text(.5,.87,f\"p-value = {pvalue:.4f} ≮ 0.05\",\n",
    "#         horizontalalignment='center',\n",
    "#         transform=ax.transAxes,\n",
    "#        bbox=dict(facecolor='white', edgecolor='none'))\n",
    "ax.grid(color='black', linestyle='--', linewidth=1)\n",
    "ax.set_axisbelow(True)\n",
    "\n",
    "plt.xlabel(\"\")\n",
    "plt.ylabel(\"Exact Match\")\n",
    "# plt.title(\"Box plot of #candidates per cycle and system\")\n",
    "params = {'legend.fontsize': 18,\n",
    "          'axes.labelsize': 20,\n",
    "          'axes.titlesize': 14,\n",
    "          'xtick.labelsize': 20,\n",
    "          'ytick.labelsize': 18,\n",
    "          'axes.titlepad': 25,\n",
    "          'font.size': 24}\n",
    "plt.rcParams.update(params)\n",
    "plt.ylim(0.48, 0.63)\n",
    "plt.savefig('plots/em_SQuAD2.0.eps', bbox_inches = 'tight')\n",
    "plt.show()\n"
   ]
  },
  {
   "cell_type": "code",
   "execution_count": 229,
   "id": "suitable-cliff",
   "metadata": {},
   "outputs": [
    {
     "data": {
      "image/png": "[encoded data removed]",
      "text/plain": [
       "<Figure size 432x288 with 1 Axes>"
      ]
     },
     "metadata": {
      "needs_background": "light"
     },
     "output_type": "display_data"
    }
   ],
   "source": [
    "# statistic, pvalue = stats.ttest_ind(f1_2, f1_baseline2)\n",
    "ax = sns.barplot(x=\"algo\", y=\"f1\", data=data, ci=95, capsize=.2)\n",
    "# ax.text(.5,.87,f\"p-value = {pvalue:.4f} ≮ 0.05\",\n",
    "#         horizontalalignment='center',\n",
    "#         transform=ax.transAxes,\n",
    "#        bbox=dict(facecolor='white', edgecolor='none'))\n",
    "ax.grid(color='black', linestyle='--', linewidth=1)\n",
    "ax.set_axisbelow(True)\n",
    "\n",
    "plt.xlabel(\"\")\n",
    "plt.ylabel(\"F1-Score\")\n",
    "# plt.title(\"Box plot of #candidates per cycle and system\")\n",
    "params = {'legend.fontsize': 18,\n",
    "          'axes.labelsize': 20,\n",
    "          'axes.titlesize': 14,\n",
    "          'xtick.labelsize': 20,\n",
    "          'ytick.labelsize': 18,\n",
    "          'axes.titlepad': 25,\n",
    "          'font.size': 24}\n",
    "plt.rcParams.update(params)\n",
    "plt.ylim(0.45, 0.7)\n",
    "plt.savefig('plots/f1_score_SQuAD2.0.eps', bbox_inches = 'tight')\n",
    "plt.show()\n"
   ]
  },
  {
   "cell_type": "code",
   "execution_count": 230,
   "id": "minimal-kernel",
   "metadata": {},
   "outputs": [
    {
     "data": {
      "image/png": "[encoded data removed]",
      "text/plain": [
       "<Figure size 432x288 with 1 Axes>"
      ]
     },
     "metadata": {
      "needs_background": "light"
     },
     "output_type": "display_data"
    }
   ],
   "source": [
    "# statistic, pvalue = stats.ttest_ind(p2, p_baseline2)\n",
    "ax = sns.barplot(x=\"algo\", y=\"precision\", data=data, ci=95, capsize=.2)\n",
    "# ax.text(.5,.87,f\"p-value = {pvalue:.4f} ≮ 0.05\",\n",
    "#         horizontalalignment='center',\n",
    "#         transform=ax.transAxes,\n",
    "#        bbox=dict(facecolor='white', edgecolor='none'))\n",
    "ax.grid(color='black', linestyle='--', linewidth=1)\n",
    "ax.set_axisbelow(True)\n",
    "plt.xlabel(\"\")\n",
    "plt.ylabel(\"Precision\")\n",
    "# plt.title(\"Box plot of #candidates per cycle and system\")\n",
    "params = {'legend.fontsize': 18,\n",
    "          'axes.labelsize': 20,\n",
    "          'axes.titlesize': 14,\n",
    "          'xtick.labelsize': 20,\n",
    "          'ytick.labelsize': 18,\n",
    "          'axes.titlepad': 25,\n",
    "          'font.size': 24}\n",
    "plt.rcParams.update(params)\n",
    "plt.ylim(0.45, 0.72)\n",
    "plt.savefig('plots/precision_SQuAD2.0.eps', bbox_inches = 'tight')\n",
    "plt.show()\n"
   ]
  },
  {
   "cell_type": "code",
   "execution_count": 231,
   "id": "alleged-gauge",
   "metadata": {},
   "outputs": [
    {
     "data": {
      "image/png": "[encoded data removed]",
      "text/plain": [
       "<Figure size 432x288 with 1 Axes>"
      ]
     },
     "metadata": {
      "needs_background": "light"
     },
     "output_type": "display_data"
    }
   ],
   "source": [
    "# statistic, pvalue = stats.ttest_ind(r2, r_baseline2)\n",
    "ax = sns.barplot(x=\"algo\", y=\"recall\", data=data, ci=95, capsize=.2)\n",
    "# ax.text(.5,.87,f\"p-value = {pvalue:.4f} < 0.05\",\n",
    "#         horizontalalignment='center',\n",
    "#         transform=ax.transAxes,\n",
    "#        bbox=dict(facecolor='white', edgecolor='none'))\n",
    "ax.grid(color='black', linestyle='--', linewidth=1)\n",
    "ax.set_axisbelow(True)\n",
    "plt.xlabel(\"\")\n",
    "plt.ylabel(\"Recall\")\n",
    "# plt.title(\"Box plot of #candidates per cycle and system\")\n",
    "params = {'legend.fontsize': 18,\n",
    "          'axes.labelsize': 20,\n",
    "          'axes.titlesize': 14,\n",
    "          'xtick.labelsize': 20,\n",
    "          'ytick.labelsize': 18,\n",
    "          'axes.titlepad': 25,\n",
    "          'font.size': 24}\n",
    "plt.rcParams.update(params)\n",
    "plt.ylim(0.476, 0.72)\n",
    "plt.savefig('plots/recall_SQuAD2.0.eps', bbox_inches = 'tight')\n",
    "plt.show()\n"
   ]
  }
 ],
 "metadata": {
  "kernelspec": {
   "display_name": "Python 3",
   "language": "python",
   "name": "python3"
  },
  "language_info": {
   "codemirror_mode": {
    "name": "ipython",
    "version": 3
   },
   "file_extension": ".py",
   "mimetype": "text/x-python",
   "name": "python",
   "nbconvert_exporter": "python",
   "pygments_lexer": "ipython3",
   "version": "3.8.5"
  }
 },
 "nbformat": 4,
 "nbformat_minor": 5
}
