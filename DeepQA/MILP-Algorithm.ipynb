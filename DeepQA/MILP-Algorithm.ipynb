{
 "cells": [
  {
   "cell_type": "code",
   "execution_count": 1,
   "metadata": {},
   "outputs": [],
   "source": [
    "# ++++++++++++++++++++++++++++++++++++++++++++++++++++++++++++++++++++++++++++++\n",
    "#  Copyright (c) 2020. Reda Bouadjenek, Deakin University                      +\n",
    "#     Email:  reda.bouadjenek@deakin.edu.au                                    +\n",
    "#                                                                              +\n",
    "#  Licensed under the Apache License, Version 2.0 (the \"License\");             +\n",
    "#   you may not use this file except in compliance with the License.           +\n",
    "#    You may obtain a copy of the License at:                                  +\n",
    "#                                                                              +\n",
    "#                 http://www.apache.org/licenses/LICENSE-2.0                   +\n",
    "#                                                                              +\n",
    "#    Unless required by applicable law or agreed to in writing, software       +\n",
    "#    distributed under the License is distributed on an \"AS IS\" BASIS,         +\n",
    "#    WITHOUT WARRANTIES OR CONDITIONS OF ANY KIND, either express or implied.  +\n",
    "#    See the License for the specific language governing permissions and       +\n",
    "#    limitations under the License.                                            +\n",
    "#                                                                              +\n",
    "# ++++++++++++++++++++++++++++++++++++++++++++++++++++++++++++++++++++++++++++++\n",
    "from gurobipy import *\n",
    "import matplotlib.pyplot as plt\n"
   ]
  },
  {
   "cell_type": "markdown",
   "metadata": {
    "collapsed": true
   },
   "source": [
    "# Optimizing <i>expected</i> F1-Score using Linear Programming"
   ]
  },
  {
   "cell_type": "markdown",
   "metadata": {},
   "source": [
    "## Installation\n",
    "\n",
    "The algorithm described in this Notebook requires [Gurobi](https://www.gurobi.com/) to be installed in your Python environement. Please follow [these instructions](https://www.gurobi.com/documentation/9.1/quickstart_mac/software_installation_guid.html).\n",
    "Once Gurobi is installed, you need to add it to your own Python environment. Doing so requires you to install the gurobipy module. The steps for doing this depend on your\n",
    "platform. On Linux, you will need to open a terminal window, change your current directory to\n",
    "the Gurobi <installdir> (the directory that contains the file setup.py), and issue the following\n",
    "command:\n",
    "```\n",
    "python setup.py install\n",
    "```\n",
    "\n",
    "\n",
    "## 1- Motivation\n",
    "We will argue that (expected) F1-Score of a substring is the only standard criteria that balances all of substring desiderata and is hence objective we should optimize.\n",
    "\n",
    "To proceed with the formal derivation, we adopt the Boolean relevance framework in information retrieval and thus assume that a token $j$ has a ground truth relevance assessment $B(j)$ available at <i>evaluation time</i>.\n",
    "\n",
    "\n",
    "Because selecting a substring implies a Boolean selection model (a substring either contains or do not contain tokens) and we have a probabilistic estimate of relevance $P(j)$ for each token, we propose to evaluate\n",
    "<i>expected</i> variants of standard precision, recall, and F1-score of these substrings.\n",
    "\n",
    "\n",
    "However, as standard for both precision and recall, we note that precision and recall alone can be trivially optimized by undesired solutions.  That is, the substring that selects all tokens would trivially maximize (expected) recall.  Similarly, the substring that selects the highest probability singleton token would maximize expected precision.  <i>This leaves expected F1-score as the only of these three objectives commonly used in Boolean information retrieval that does not have an undesired solution</i>.\n"
   ]
  },
  {
   "cell_type": "markdown",
   "metadata": {},
   "source": [
    "## 2- Deriving Expected F1-Score (EF1)\n",
    "\n",
    "\n",
    "To formally define expected F1-Score, we first begin with definitions of expected precision and recall.  Given a substring $S_{sub}$  of a string $S$ ($|S|=m$), the precision of $S_{sub}$ is defined as follows:\n",
    "\\begin{equation}\n",
    "   P(S_{sub}) = \\dfrac{\\sum_{j \\in S_{sub}} B(j)}{|S_{sub}|} = \\dfrac{\\sum_{j=1}^m B(j)I(j)}{\\sum_{j=1}^m I(j)} \n",
    "\\end{equation}\n",
    "\n",
    "where the two variables  $I(j) \\in \\{0,1\\}$ and $B(j) \\in \\{0,1\\}$ are associated with each token $j$ of $S$: \n",
    "\n",
    "- $I(j)$ is an indicator referring to whether a token $j$ is part of $S_{sub}$ ($\\textrm{true}\\!=\\!1$); \n",
    "- $B(j)$ is a Boolean random variable indicating the (ground truth) relevance of a tokan $j$ ($\\textrm{relevant}\\!=\\!1$).\n",
    "\n",
    "\n",
    "Given that $B(j)$ is a Boolean random variable, we can take the expectation of $P(S_{sub})$ leading to the following definition of <i>expected precision</i> $EP(S_{sub})$: \n",
    "\n",
    "\\begin{equation}\n",
    "EP(S_{sub})=\\mathbb{E_{P}}\\left[\\dfrac{{ \\sum_{j=1}^{m}}B(j)I(j)}{{ \\sum_{j=1}^{m}}I(j)}\\right]=\\dfrac{{ \\sum_{j=1}^{m}}\\mathbb{E_{S}}[B(j)]I(j)}{{ \\sum_{j=1}^{m}}I(j)}=\\dfrac{{ \\sum_{j=1}^{m}}P(j)I(j)}{{ \\sum_{j=1}^{m}}I(j)}\n",
    "\\end{equation}\n",
    "\n",
    "where the variable $P(j) \\in [0,1]$ is the <i>probability</i> relevance of a token $j$.\n",
    "\n",
    "\n",
    "Similarly the recall of a substring $R(S_{sub})$ is defined as:\n",
    "\n",
    "\\begin{equation}\n",
    "   R(S_{sub}) = \\dfrac{\\sum_{j \\in S_{sub}} B(j)}{\\sum_{j \\in S} B(j)} = \\dfrac{\\sum_{j=1}^m B(j)I(j)}{ \\sum_{j=1}^m B(j)} \n",
    "\\end{equation}\n",
    "\n",
    "\n",
    "Taking a 1st order Taylor expansion, we have the following expectation approximation \n",
    "$\\mathbb{E}(X/Y)\\approx \\mathbb{E}(X)/ \\mathbb{E}(Y)$ for two dependent random variables $X$ and $Y$. Hence, we can now define an <i>approximated expected recall</i> as follows: \n",
    "\n",
    "\\begin{equation}\n",
    "   ER(S_{sub})=\\mathbb{E_{P}}\\left[\\dfrac{{ \\sum_{j=1}^{m}}B(j)I(j)}{\\sum_{j=1}^m B(j)}\\right]\\approx\\dfrac{{ \\sum_{j=1}^{m}}\\mathbb{E_{P}}[B(j)]I(j)}{{ \\sum_{j=1}^{m}}\\mathbb{E_{P}}[B(j)]}=\\dfrac{{ \\sum_{j=1}^{m}}P(j)I(j)}{{ \\sum_{j=1}^{m}}P(j)}\n",
    "\\end{equation}\n",
    "\n",
    "\n",
    "Finally, we define the <i>approximated expected F1-Scor</i> (EF1) using the <i>expected precision</i> and the <i>approximated expected recall</i> as follows: \n",
    "\\begin{align}\n",
    "    EF1(E)  \\approx \\dfrac{2\\times EP\\times ER}{EP+ER} = \\dfrac{2\\times\\sum_{j=1}^m P(j)I(j)}{\\sum_{j=1}^m I(j) + \\sum_{j=1}^m P(j)}\n",
    "    \\label{eq:EF1}\n",
    "\\end{align}\n"
   ]
  },
  {
   "cell_type": "markdown",
   "metadata": {},
   "source": [
    "## 3- Fractional MILP Formulation\n"
   ]
  },
  {
   "cell_type": "markdown",
   "metadata": {},
   "source": [
    "We begin by reformulating the <b><i>Expected</i> F1-score (EF1)</b> objective to prepare for further optimization steps by replacing the global sum of scores of all tokens with a constant $C = \\sum_{j=1}^m P(j)$:\n",
    "\\begin{equation}\n",
    "\\begin{aligned}\n",
    "    EF1 &= \\dfrac{2\\times \\sum_{j=1}^m P(j)I(j)}{\\sum_{j=1}^m I(j) + \\sum_{j=1}^m P(j)} = \\dfrac{2 \\times \\sum_{j=1}^m P(j)I(j)}{\\sum_{j=1}^m I(j) + C}\n",
    "\\end{aligned}\n",
    "\\end{equation}\n",
    "\n",
    "\n",
    "\n",
    "\n",
    "\n",
    "In order to obtain the substring with the obtimal <b><i>Expected</i> F1-score</b>, we define the following fractional MILP:\n",
    "\n",
    "\\begin{equation}\n",
    "\\begin{aligned}\n",
    "& \\underset{I(j)}{\\text{maximize}}\n",
    "& & \\dfrac{\\sum_{j=1}^m P(j)I(j)}{\\sum_{j=1}^m I(j) + C} \\\\\n",
    "& s.t\n",
    "& & \\text{# Interval selection contraints.} \\\\\n",
    "& & & 1 <=  s <= e <= m \\\\\n",
    "& & & I(j) =\n",
    "   \\begin{cases}\n",
    "     1, & \\text{if $(s \\leqslant j \\leqslant e)$}  \\\\\n",
    "     0, & \\text{otherwise}\n",
    "  \\end{cases}\n",
    "\\end{aligned} \n",
    "\\end{equation}"
   ]
  },
  {
   "cell_type": "markdown",
   "metadata": {},
   "source": [
    "## 4- Transformation to a MILP"
   ]
  },
  {
   "cell_type": "markdown",
   "metadata": {},
   "source": [
    "While there are no direct solvers for fractional MILPs, we can transform the former equation into a pure MILP form for which we have efficient and optimal solvers.  To do this, we use the Charnes-Cooper method and Glover linearization method with big-M constraints, where auxiliary variables $w(j)$ and $u$ are  introduced*. Here, $w(j)$ is defined as $w(j)=I(j)\\times u$ with $u$ defined as follows:\n",
    "\\begin{equation}\n",
    "u = \\dfrac{1}{\\sum_{j=1}^m I(j) + C}\n",
    "\\end{equation}\n",
    "\n",
    "Then, the EF1 optimization problem is able to be transformed into the following MILP problem:\n",
    "\\begin{equation}\n",
    "\\begin{aligned}\n",
    "& \\underset{w,u,I,s,e}{\\text{maximize}}\n",
    "& & \\sum_{j=1}^m P(j)w(j) \\\\\n",
    "& s.t\n",
    "& & \\sum_{j=1}^m w(j) + uC = 1 \\\\\n",
    "& & & w(j) \\leqslant u, \\quad w(j) \\leqslant M\\times I(j)  \\\\\n",
    "& & & w(j) \\geqslant u - M\\times [1-I(j)] \\\\\n",
    "& & & u > 0,  \\quad I(j) \\in \\{0, 1\\}, \\quad w(j) \\geqslant 0 \\\\\n",
    "& & & \\text{# Interval selection contraints.} \\\\\n",
    "& & & 1 <=  s <= e <= m \\\\\n",
    "& & & I(j) =\n",
    "   \\begin{cases}\n",
    "     1, & \\text{if $(s \\leqslant j \\leqslant e)$}  \\\\\n",
    "     0, & \\text{otherwise}\n",
    "  \\end{cases} \\label{eq:cons1} \n",
    "\\end{aligned}\n",
    "\\end{equation}\n",
    "\n",
    "*https://optimization.mccormick.northwestern.edu/index.php/Mixed-integer_linear_fractional_programming_(MILFP)"
   ]
  },
  {
   "cell_type": "markdown",
   "metadata": {},
   "source": [
    "## 5- Algorithm implementation"
   ]
  },
  {
   "cell_type": "code",
   "execution_count": 2,
   "metadata": {},
   "outputs": [],
   "source": [
    "def select_LP_optimal_subsequence(probabilities):\n",
    "    \"\"\"\n",
    "    This function optimizes the expected f1-score to choose the optimal subsequence \n",
    "    of probabilities.\n",
    "    :param probabilities: the sequence of probabilities.\n",
    "    :return: the start index and the end index of the optimal subsequence.\n",
    "    \"\"\"\n",
    "    C = sum(probabilities)\n",
    "    M = 1e4  # Value for Big M.\n",
    "    dict_probabilities = dict({j: probabilities[j] for j in range(len(probabilities))})\n",
    "    ###################\n",
    "    # Define the model.\n",
    "    ###################\n",
    "    model = Model('EF1-Score')\n",
    "    model.setParam( 'OutputFlag', False) # make Gurobi silent.\n",
    "    # element variable\n",
    "    w = model.addVars(dict_probabilities.keys(), lb=0.0, ub=1.0, vtype='C', name='w')\n",
    "    I = model.addVars(dict_probabilities.keys(), lb=0.0, ub=1.0, vtype='B', name='I')\n",
    "    u = model.addVar(lb=0, vtype='C', name='u')\n",
    "\n",
    "    # Index variables\n",
    "    Is = model.addVars(dict_probabilities.keys(), vtype='B', name='Is')\n",
    "    Ie = model.addVars(dict_probabilities.keys(), vtype='B', name='Ie')\n",
    "\n",
    "    s = model.addVar(lb=0, ub=len(dict_probabilities) - 1, vtype='I', name='s')\n",
    "    e = model.addVar(lb=0, ub=len(dict_probabilities) - 1, vtype='I', name='e')\n",
    "\n",
    "    # Objective function\n",
    "    model.setObjective(w.prod(dict_probabilities), GRB.MAXIMIZE)\n",
    "\n",
    "    # Constraints\n",
    "\n",
    "    model.addConstr(quicksum(w[j] for j in range(len(dict_probabilities))) + u * C == 1.0, 'sum(w)+uC=1')\n",
    "    model.addConstr(s <= e, 's<=e')\n",
    "    for j in dict_probabilities:\n",
    "        model.addConstr(w[j] <= u, f\"w[{j}]<=u\")\n",
    "        model.addConstr(w[j] <= M * I[j], f\"w[{j}]<=M*I({j})\")\n",
    "        model.addConstr(w[j] >= u - M * (1 - I[j]), f\"w[{j}]>=u-M*[1-I({j})]\")\n",
    "        model.addConstr(w[j] >= 0.0, f\"w[{j}]>=0.0\")\n",
    "\n",
    "        # Interval selection constraints\n",
    "        model.addGenConstrAnd(I[j], [Is[j], Ie[j]], f\"selection_constraint-{j}\")\n",
    "\n",
    "        model.addGenConstrIndicator(Is[j], True, s <= j)\n",
    "        model.addGenConstrIndicator(Ie[j], True, e >= j)\n",
    "\n",
    "        model.addGenConstrIndicator(Is[j], False, s >= j + 1)\n",
    "        model.addGenConstrIndicator(Ie[j], False, e <= j - 1)\n",
    "\n",
    "    model.optimize()\n",
    "    # model.write(\"out.lp\")\n",
    "    optimal_value = 2 * model.getObjective().getValue() # optimal ef1 score\n",
    "    return int(round(s.X)), int(round(e.X)), optimal_value\n"
   ]
  },
  {
   "cell_type": "markdown",
   "metadata": {},
   "source": [
    "## 6- Example"
   ]
  },
  {
   "cell_type": "code",
   "execution_count": 3,
   "metadata": {},
   "outputs": [],
   "source": [
    "text = ['A', 'Research', 'Fellow', 'position', 'is', 'available', 'in', 'Machine', 'Learning',\n",
    "        'at', 'the', 'School', 'of', 'Computer', 'Science', 'of',\n",
    "        'the', 'University', 'of', 'Birmingham', 'UK', '.',\n",
    "        'The', 'appointment', 'is', 'in', 'connection', 'with', 'the', 'EPSRC', 'Fellowship', '.'\n",
    "        ]\n",
    "\n",
    "# question: in which university is the research position available?\n",
    "\n",
    "\n",
    "probabilities = [0.5, 0.001, 0.001, 0.8, 0.005, 0.01, 0.005, 0.01, 0.005,\n",
    "                 0.001, 0.91, 0.5, 0.01, 0.099, 0.099, 0.05,\n",
    "                 0.0001, 0.5, 0.9, 0.99, 0.8, 0.7,\n",
    "                 0.03, 0.1, 0.01, 0.001, 0.1, 0.01, 0.001, 0.1, 0.99, 0.0099]\n"
   ]
  },
  {
   "cell_type": "code",
   "execution_count": 4,
   "metadata": {},
   "outputs": [
    {
     "data": {
      "image/png": "[encoded data removed]",
      "text/plain": [
       "<Figure size 1440x216 with 1 Axes>"
      ]
     },
     "metadata": {
      "needs_background": "light"
     },
     "output_type": "display_data"
    }
   ],
   "source": [
    "x = list(j for j in range(len(probabilities)))\n",
    "plt.figure(figsize=(20, 3))\n",
    "plt.bar(x, probabilities)  # A bar chart\n",
    "plt.xlabel('tokens')\n",
    "plt.ylabel('Probability')\n",
    "plt.xticks(x, text, rotation='45')\n",
    "plt.show()\n"
   ]
  },
  {
   "cell_type": "code",
   "execution_count": 5,
   "metadata": {
    "scrolled": false
   },
   "outputs": [
    {
     "name": "stdout",
     "output_type": "stream",
     "text": [
      "Academic license - for non-commercial use only - expires 2021-12-16\n",
      "Using license file /home/reda/gurobi.lic\n"
     ]
    }
   ],
   "source": [
    "s,e,_ = select_LP_optimal_subsequence(probabilities)"
   ]
  },
  {
   "cell_type": "code",
   "execution_count": 6,
   "metadata": {},
   "outputs": [
    {
     "name": "stdout",
     "output_type": "stream",
     "text": [
      "University of Birmingham UK . "
     ]
    }
   ],
   "source": [
    "for i in range(s,e+1):\n",
    "    print(text[i], end =\" \")"
   ]
  },
  {
   "cell_type": "markdown",
   "metadata": {},
   "source": [
    "## 7- Brute force search"
   ]
  },
  {
   "cell_type": "code",
   "execution_count": 7,
   "metadata": {},
   "outputs": [],
   "source": [
    "def get_EF1_score():\n",
    "    pass"
   ]
  },
  {
   "cell_type": "code",
   "execution_count": 8,
   "metadata": {},
   "outputs": [],
   "source": [
    "def select_brute_force_optimal_subsequence(probabilities):\n",
    "    pass"
   ]
  }
 ],
 "metadata": {
  "kernelspec": {
   "display_name": "Python 3",
   "language": "python",
   "name": "python3"
  },
  "language_info": {
   "codemirror_mode": {
    "name": "ipython",
    "version": 3
   },
   "file_extension": ".py",
   "mimetype": "text/x-python",
   "name": "python",
   "nbconvert_exporter": "python",
   "pygments_lexer": "ipython3",
   "version": "3.8.10"
  }
 },
 "nbformat": 4,
 "nbformat_minor": 2
}
